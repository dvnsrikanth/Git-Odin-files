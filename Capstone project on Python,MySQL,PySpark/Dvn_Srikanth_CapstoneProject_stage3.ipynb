{
  "nbformat": 4,
  "nbformat_minor": 0,
  "metadata": {
    "colab": {
      "name": "Dvn_Srikanth_CapstoneProject_stage2.ipynb",
      "provenance": [],
      "collapsed_sections": []
    },
    "kernelspec": {
      "name": "python3",
      "display_name": "Python 3"
    },
    "language_info": {
      "name": "python"
    }
  },
  "cells": [
    {
      "cell_type": "markdown",
      "source": [
        "**Introduction to the Data set :  OLYMPICS GAMES**\n",
        "\n",
        "\n",
        "We are going to see the Athelets who participated and won different medals in Olympics which are happened in different years and its  analysis using Python. \n",
        "1. The modern Olympic Games or Olympics are leading international sports events featuring summer and winter sports competitions in which thousands of athletes from around the world participate in a variety of competitions. \n",
        "2. The Olympic Games are considered the world’s top sports competition with more than 200 nations participating.\n",
        "\n",
        "3. The total number of sports conducted in the different Olympic seasons are  49 . \n",
        "\n",
        "4. 110 countries athelets data we have in this data set\n",
        "\n",
        "And for every event there are winners. Therefore various data is generated. So, by using Python we are going to  analyze the data."
      ],
      "metadata": {
        "id": "5nRZE50Gl6a8"
      }
    },
    {
      "cell_type": "code",
      "execution_count": 1,
      "metadata": {
        "id": "XuFpi6DVkVhe"
      },
      "outputs": [],
      "source": [
        "import pandas as pd\n",
        "import numpy as np\n",
        "import matplotlib.pyplot as plt\n",
        "import seaborn as sns\n",
        "%matplotlib inline"
      ]
    },
    {
      "cell_type": "markdown",
      "source": [
        "**Modules Used**\n",
        "\n",
        "1) **Pandas**: It is used for analyzing the data.\n",
        "\n",
        "2) **NumPy**: NumPy is a general-purpose array-processing package.\n",
        "\n",
        "3) **Matplotlib**: It is a numerical mathematics extension NumPy.\n",
        "\n",
        "4) **Seaborn**: It is used for visualization statistical graphics plotting in Python"
      ],
      "metadata": {
        "id": "X5o7veVOKqVX"
      }
    },
    {
      "cell_type": "markdown",
      "source": [
        "## 1)\tPlease do the basic exploration of the data. Remember the dataset contains information from different years. So whatever steps you perform should make logical sense."
      ],
      "metadata": {
        "id": "RryBzxrq6GXz"
      }
    },
    {
      "cell_type": "markdown",
      "source": [
        "Reading the uploaded Olympics data which is in CSV file format with \"pd.read_\" function."
      ],
      "metadata": {
        "id": "S8HIU7ZrMmlc"
      }
    },
    {
      "cell_type": "code",
      "source": [
        "df=pd.read_csv('/content/olympics_data_22-05-2022.csv')"
      ],
      "metadata": {
        "id": "-MjlXDlgo9up"
      },
      "execution_count": 2,
      "outputs": []
    },
    {
      "cell_type": "markdown",
      "source": [
        "To understand the no.of records and no.of attributes in the given data set, we can use shape function."
      ],
      "metadata": {
        "id": "i-PAvRE-MtIK"
      }
    },
    {
      "cell_type": "code",
      "source": [
        "df.shape"
      ],
      "metadata": {
        "colab": {
          "base_uri": "https://localhost:8080/"
        },
        "id": "a9GrC2tMo97y",
        "outputId": "8ab2df05-2b56-4aab-b7cf-f5a5469380b1"
      },
      "execution_count": 3,
      "outputs": [
        {
          "output_type": "execute_result",
          "data": {
            "text/plain": [
              "(8618, 10)"
            ]
          },
          "metadata": {},
          "execution_count": 3
        }
      ]
    },
    {
      "cell_type": "markdown",
      "source": [
        "**Observations** :- By using \"shape\" function, in the given data set we have **8618 records and 10 attributes**"
      ],
      "metadata": {
        "id": "akQU6CMqNZh4"
      }
    },
    {
      "cell_type": "code",
      "source": [
        "df.head()"
      ],
      "metadata": {
        "colab": {
          "base_uri": "https://localhost:8080/",
          "height": 206
        },
        "id": "BYUw2N--o9xY",
        "outputId": "71727df0-9aca-47dd-80b0-89d523e998e5"
      },
      "execution_count": 4,
      "outputs": [
        {
          "output_type": "execute_result",
          "data": {
            "text/plain": [
              "               name   age        country  year  Date_Given      sports  \\\n",
              "0    Michael Phelps  23.0  United States  2008   8/24/2008    Swimming   \n",
              "1    Michael Phelps  19.0  United States  2004   8/29/2004    Swimming   \n",
              "2    Michael Phelps  27.0  United States  2012  08-12-2012    Swimming   \n",
              "3  Natalie Coughlin  25.0  United States  2008   8/24/2008    Swimming   \n",
              "4     Aleksey Nemov  24.0         Russia  2000  10-01-2000  Gymnastics   \n",
              "\n",
              "   gold_medal  silver_medal  brone_medal  total_medal  \n",
              "0           8             0            0            8  \n",
              "1           6             0            2            8  \n",
              "2           4             2            0            6  \n",
              "3           1             2            3            6  \n",
              "4           2             1            3            6  "
            ],
            "text/html": [
              "\n",
              "  <div id=\"df-94822ded-d075-45cf-a1b2-de14e748bbf3\">\n",
              "    <div class=\"colab-df-container\">\n",
              "      <div>\n",
              "<style scoped>\n",
              "    .dataframe tbody tr th:only-of-type {\n",
              "        vertical-align: middle;\n",
              "    }\n",
              "\n",
              "    .dataframe tbody tr th {\n",
              "        vertical-align: top;\n",
              "    }\n",
              "\n",
              "    .dataframe thead th {\n",
              "        text-align: right;\n",
              "    }\n",
              "</style>\n",
              "<table border=\"1\" class=\"dataframe\">\n",
              "  <thead>\n",
              "    <tr style=\"text-align: right;\">\n",
              "      <th></th>\n",
              "      <th>name</th>\n",
              "      <th>age</th>\n",
              "      <th>country</th>\n",
              "      <th>year</th>\n",
              "      <th>Date_Given</th>\n",
              "      <th>sports</th>\n",
              "      <th>gold_medal</th>\n",
              "      <th>silver_medal</th>\n",
              "      <th>brone_medal</th>\n",
              "      <th>total_medal</th>\n",
              "    </tr>\n",
              "  </thead>\n",
              "  <tbody>\n",
              "    <tr>\n",
              "      <th>0</th>\n",
              "      <td>Michael Phelps</td>\n",
              "      <td>23.0</td>\n",
              "      <td>United States</td>\n",
              "      <td>2008</td>\n",
              "      <td>8/24/2008</td>\n",
              "      <td>Swimming</td>\n",
              "      <td>8</td>\n",
              "      <td>0</td>\n",
              "      <td>0</td>\n",
              "      <td>8</td>\n",
              "    </tr>\n",
              "    <tr>\n",
              "      <th>1</th>\n",
              "      <td>Michael Phelps</td>\n",
              "      <td>19.0</td>\n",
              "      <td>United States</td>\n",
              "      <td>2004</td>\n",
              "      <td>8/29/2004</td>\n",
              "      <td>Swimming</td>\n",
              "      <td>6</td>\n",
              "      <td>0</td>\n",
              "      <td>2</td>\n",
              "      <td>8</td>\n",
              "    </tr>\n",
              "    <tr>\n",
              "      <th>2</th>\n",
              "      <td>Michael Phelps</td>\n",
              "      <td>27.0</td>\n",
              "      <td>United States</td>\n",
              "      <td>2012</td>\n",
              "      <td>08-12-2012</td>\n",
              "      <td>Swimming</td>\n",
              "      <td>4</td>\n",
              "      <td>2</td>\n",
              "      <td>0</td>\n",
              "      <td>6</td>\n",
              "    </tr>\n",
              "    <tr>\n",
              "      <th>3</th>\n",
              "      <td>Natalie Coughlin</td>\n",
              "      <td>25.0</td>\n",
              "      <td>United States</td>\n",
              "      <td>2008</td>\n",
              "      <td>8/24/2008</td>\n",
              "      <td>Swimming</td>\n",
              "      <td>1</td>\n",
              "      <td>2</td>\n",
              "      <td>3</td>\n",
              "      <td>6</td>\n",
              "    </tr>\n",
              "    <tr>\n",
              "      <th>4</th>\n",
              "      <td>Aleksey Nemov</td>\n",
              "      <td>24.0</td>\n",
              "      <td>Russia</td>\n",
              "      <td>2000</td>\n",
              "      <td>10-01-2000</td>\n",
              "      <td>Gymnastics</td>\n",
              "      <td>2</td>\n",
              "      <td>1</td>\n",
              "      <td>3</td>\n",
              "      <td>6</td>\n",
              "    </tr>\n",
              "  </tbody>\n",
              "</table>\n",
              "</div>\n",
              "      <button class=\"colab-df-convert\" onclick=\"convertToInteractive('df-94822ded-d075-45cf-a1b2-de14e748bbf3')\"\n",
              "              title=\"Convert this dataframe to an interactive table.\"\n",
              "              style=\"display:none;\">\n",
              "        \n",
              "  <svg xmlns=\"http://www.w3.org/2000/svg\" height=\"24px\"viewBox=\"0 0 24 24\"\n",
              "       width=\"24px\">\n",
              "    <path d=\"M0 0h24v24H0V0z\" fill=\"none\"/>\n",
              "    <path d=\"M18.56 5.44l.94 2.06.94-2.06 2.06-.94-2.06-.94-.94-2.06-.94 2.06-2.06.94zm-11 1L8.5 8.5l.94-2.06 2.06-.94-2.06-.94L8.5 2.5l-.94 2.06-2.06.94zm10 10l.94 2.06.94-2.06 2.06-.94-2.06-.94-.94-2.06-.94 2.06-2.06.94z\"/><path d=\"M17.41 7.96l-1.37-1.37c-.4-.4-.92-.59-1.43-.59-.52 0-1.04.2-1.43.59L10.3 9.45l-7.72 7.72c-.78.78-.78 2.05 0 2.83L4 21.41c.39.39.9.59 1.41.59.51 0 1.02-.2 1.41-.59l7.78-7.78 2.81-2.81c.8-.78.8-2.07 0-2.86zM5.41 20L4 18.59l7.72-7.72 1.47 1.35L5.41 20z\"/>\n",
              "  </svg>\n",
              "      </button>\n",
              "      \n",
              "  <style>\n",
              "    .colab-df-container {\n",
              "      display:flex;\n",
              "      flex-wrap:wrap;\n",
              "      gap: 12px;\n",
              "    }\n",
              "\n",
              "    .colab-df-convert {\n",
              "      background-color: #E8F0FE;\n",
              "      border: none;\n",
              "      border-radius: 50%;\n",
              "      cursor: pointer;\n",
              "      display: none;\n",
              "      fill: #1967D2;\n",
              "      height: 32px;\n",
              "      padding: 0 0 0 0;\n",
              "      width: 32px;\n",
              "    }\n",
              "\n",
              "    .colab-df-convert:hover {\n",
              "      background-color: #E2EBFA;\n",
              "      box-shadow: 0px 1px 2px rgba(60, 64, 67, 0.3), 0px 1px 3px 1px rgba(60, 64, 67, 0.15);\n",
              "      fill: #174EA6;\n",
              "    }\n",
              "\n",
              "    [theme=dark] .colab-df-convert {\n",
              "      background-color: #3B4455;\n",
              "      fill: #D2E3FC;\n",
              "    }\n",
              "\n",
              "    [theme=dark] .colab-df-convert:hover {\n",
              "      background-color: #434B5C;\n",
              "      box-shadow: 0px 1px 3px 1px rgba(0, 0, 0, 0.15);\n",
              "      filter: drop-shadow(0px 1px 2px rgba(0, 0, 0, 0.3));\n",
              "      fill: #FFFFFF;\n",
              "    }\n",
              "  </style>\n",
              "\n",
              "      <script>\n",
              "        const buttonEl =\n",
              "          document.querySelector('#df-94822ded-d075-45cf-a1b2-de14e748bbf3 button.colab-df-convert');\n",
              "        buttonEl.style.display =\n",
              "          google.colab.kernel.accessAllowed ? 'block' : 'none';\n",
              "\n",
              "        async function convertToInteractive(key) {\n",
              "          const element = document.querySelector('#df-94822ded-d075-45cf-a1b2-de14e748bbf3');\n",
              "          const dataTable =\n",
              "            await google.colab.kernel.invokeFunction('convertToInteractive',\n",
              "                                                     [key], {});\n",
              "          if (!dataTable) return;\n",
              "\n",
              "          const docLinkHtml = 'Like what you see? Visit the ' +\n",
              "            '<a target=\"_blank\" href=https://colab.research.google.com/notebooks/data_table.ipynb>data table notebook</a>'\n",
              "            + ' to learn more about interactive tables.';\n",
              "          element.innerHTML = '';\n",
              "          dataTable['output_type'] = 'display_data';\n",
              "          await google.colab.output.renderOutput(dataTable, element);\n",
              "          const docLink = document.createElement('div');\n",
              "          docLink.innerHTML = docLinkHtml;\n",
              "          element.appendChild(docLink);\n",
              "        }\n",
              "      </script>\n",
              "    </div>\n",
              "  </div>\n",
              "  "
            ]
          },
          "metadata": {},
          "execution_count": 4
        }
      ]
    },
    {
      "cell_type": "markdown",
      "source": [
        "**Observations** :- We have 8600 + records, to view all the records it is waste of time and not required. To just have a look on what data we have, we can use head and tail functions to view the 1st 5 records and last 5 records simply to understand the data."
      ],
      "metadata": {
        "id": "aKvuKHw8Nvd_"
      }
    },
    {
      "cell_type": "code",
      "source": [
        "df.columns"
      ],
      "metadata": {
        "colab": {
          "base_uri": "https://localhost:8080/"
        },
        "id": "Xdsaz4K1o9z-",
        "outputId": "8640f477-f095-47a7-b5cd-fc1fdb0d7971"
      },
      "execution_count": 5,
      "outputs": [
        {
          "output_type": "execute_result",
          "data": {
            "text/plain": [
              "Index(['name', 'age', 'country', 'year', 'Date_Given', 'sports', 'gold_medal',\n",
              "       'silver_medal', 'brone_medal', 'total_medal'],\n",
              "      dtype='object')"
            ]
          },
          "metadata": {},
          "execution_count": 5
        }
      ]
    },
    {
      "cell_type": "markdown",
      "source": [
        "**Observations** :- We can use the above code to view the attributes(columns) of the given data set to have a glance on it. Sometimes, data set will have more than 10 attributes which is difficult to see all the columns.\n",
        "So, it is easier way to understand the column names."
      ],
      "metadata": {
        "id": "Dh2dnJ-nONvo"
      }
    },
    {
      "cell_type": "markdown",
      "source": [
        "**Observations** :- \n",
        "I observed that the column name on \"bronze_medal\" is mistakenly written as \"brone_medal\".\n",
        "\n",
        "So, we have to correct it for easy identification in feature process."
      ],
      "metadata": {
        "id": "22X9HwlXF1O_"
      }
    },
    {
      "cell_type": "code",
      "source": [
        "df.rename(columns = {'brone_medal':'bronze_medal'}, inplace = True)"
      ],
      "metadata": {
        "id": "C1YKisHCFrDg"
      },
      "execution_count": 6,
      "outputs": []
    },
    {
      "cell_type": "markdown",
      "source": [
        "### By using \"rename\" function we can rename the column names by passing it into a (Dictionary data structure) key and value type, and use \"inplace = true\" to reflect the change name Permanently in dataframe"
      ],
      "metadata": {
        "id": "_jaOi1xmGLyJ"
      }
    },
    {
      "cell_type": "markdown",
      "source": [
        "**We confirm the column name changed by using df.columns function as below showed.**"
      ],
      "metadata": {
        "id": "IfIxHzLgGuXz"
      }
    },
    {
      "cell_type": "code",
      "source": [
        "df.columns"
      ],
      "metadata": {
        "colab": {
          "base_uri": "https://localhost:8080/"
        },
        "id": "Jdt0f8XYFzWx",
        "outputId": "bec72d3d-833e-4a42-d0c6-c7185574d38b"
      },
      "execution_count": 7,
      "outputs": [
        {
          "output_type": "execute_result",
          "data": {
            "text/plain": [
              "Index(['name', 'age', 'country', 'year', 'Date_Given', 'sports', 'gold_medal',\n",
              "       'silver_medal', 'bronze_medal', 'total_medal'],\n",
              "      dtype='object')"
            ]
          },
          "metadata": {},
          "execution_count": 7
        }
      ]
    },
    {
      "cell_type": "code",
      "source": [
        "df.dtypes"
      ],
      "metadata": {
        "colab": {
          "base_uri": "https://localhost:8080/"
        },
        "id": "Z73zUSQwo-Go",
        "outputId": "fc11c39a-a4b7-4582-876a-7f6fca34013d"
      },
      "execution_count": 8,
      "outputs": [
        {
          "output_type": "execute_result",
          "data": {
            "text/plain": [
              "name             object\n",
              "age             float64\n",
              "country          object\n",
              "year              int64\n",
              "Date_Given       object\n",
              "sports           object\n",
              "gold_medal        int64\n",
              "silver_medal      int64\n",
              "bronze_medal      int64\n",
              "total_medal       int64\n",
              "dtype: object"
            ]
          },
          "metadata": {},
          "execution_count": 8
        }
      ]
    },
    {
      "cell_type": "markdown",
      "source": [
        "**Observations** :- **Data type summary**\n",
        "\n",
        "5 integers (int64)\n",
        "\n",
        "1 floating (float64)\n",
        "\n",
        "4 objects (object)"
      ],
      "metadata": {
        "id": "a2Jf15DrxLzY"
      }
    },
    {
      "cell_type": "markdown",
      "source": [
        "**Observations** :- It is very important to us to understand the data in the given data set by seeing data types of the columns. By this, we can easily understand what type of data we got and what should be it is in real world to bring the better outputs out of it."
      ],
      "metadata": {
        "id": "JLq3f9_dOtsW"
      }
    },
    {
      "cell_type": "code",
      "source": [
        "df.info()"
      ],
      "metadata": {
        "colab": {
          "base_uri": "https://localhost:8080/"
        },
        "id": "tdCDrnBbo92c",
        "outputId": "60089141-bbeb-4eec-f867-9eb298a3eeb7"
      },
      "execution_count": 9,
      "outputs": [
        {
          "output_type": "stream",
          "name": "stdout",
          "text": [
            "<class 'pandas.core.frame.DataFrame'>\n",
            "RangeIndex: 8618 entries, 0 to 8617\n",
            "Data columns (total 10 columns):\n",
            " #   Column        Non-Null Count  Dtype  \n",
            "---  ------        --------------  -----  \n",
            " 0   name          8613 non-null   object \n",
            " 1   age           8613 non-null   float64\n",
            " 2   country       8618 non-null   object \n",
            " 3   year          8618 non-null   int64  \n",
            " 4   Date_Given    8618 non-null   object \n",
            " 5   sports        8618 non-null   object \n",
            " 6   gold_medal    8618 non-null   int64  \n",
            " 7   silver_medal  8618 non-null   int64  \n",
            " 8   bronze_medal  8618 non-null   int64  \n",
            " 9   total_medal   8618 non-null   int64  \n",
            "dtypes: float64(1), int64(5), object(4)\n",
            "memory usage: 673.4+ KB\n"
          ]
        }
      ]
    },
    {
      "cell_type": "markdown",
      "source": [
        "**Observations** :- \"info\" function gives us a view about null values, data types and the attributes we have in the given data set."
      ],
      "metadata": {
        "id": "OuH1wpAGPRKX"
      }
    },
    {
      "cell_type": "code",
      "source": [
        "round(df.describe())"
      ],
      "metadata": {
        "colab": {
          "base_uri": "https://localhost:8080/",
          "height": 300
        },
        "id": "AIj31MFvo95B",
        "outputId": "8a7b2720-69c6-4211-aa11-da50323db1f1"
      },
      "execution_count": 15,
      "outputs": [
        {
          "output_type": "execute_result",
          "data": {
            "text/plain": [
              "          age    year  gold_medal  silver_medal  bronze_medal  total_medal\n",
              "count  8613.0  8618.0      8618.0        8618.0        8618.0       8618.0\n",
              "mean     26.0  2006.0         0.0           0.0           0.0          1.0\n",
              "std       5.0     4.0         1.0           1.0           1.0          0.0\n",
              "min      15.0  2000.0         0.0           0.0           0.0          1.0\n",
              "25%      23.0  2002.0         0.0           0.0           0.0          1.0\n",
              "50%      26.0  2006.0         0.0           0.0           0.0          1.0\n",
              "75%      29.0  2010.0         1.0           1.0           1.0          1.0\n",
              "max      61.0  2012.0         8.0           3.0           3.0          8.0"
            ],
            "text/html": [
              "\n",
              "  <div id=\"df-4ae9094a-a0d3-4ffc-bb65-f9af769a2925\">\n",
              "    <div class=\"colab-df-container\">\n",
              "      <div>\n",
              "<style scoped>\n",
              "    .dataframe tbody tr th:only-of-type {\n",
              "        vertical-align: middle;\n",
              "    }\n",
              "\n",
              "    .dataframe tbody tr th {\n",
              "        vertical-align: top;\n",
              "    }\n",
              "\n",
              "    .dataframe thead th {\n",
              "        text-align: right;\n",
              "    }\n",
              "</style>\n",
              "<table border=\"1\" class=\"dataframe\">\n",
              "  <thead>\n",
              "    <tr style=\"text-align: right;\">\n",
              "      <th></th>\n",
              "      <th>age</th>\n",
              "      <th>year</th>\n",
              "      <th>gold_medal</th>\n",
              "      <th>silver_medal</th>\n",
              "      <th>bronze_medal</th>\n",
              "      <th>total_medal</th>\n",
              "    </tr>\n",
              "  </thead>\n",
              "  <tbody>\n",
              "    <tr>\n",
              "      <th>count</th>\n",
              "      <td>8613.0</td>\n",
              "      <td>8618.0</td>\n",
              "      <td>8618.0</td>\n",
              "      <td>8618.0</td>\n",
              "      <td>8618.0</td>\n",
              "      <td>8618.0</td>\n",
              "    </tr>\n",
              "    <tr>\n",
              "      <th>mean</th>\n",
              "      <td>26.0</td>\n",
              "      <td>2006.0</td>\n",
              "      <td>0.0</td>\n",
              "      <td>0.0</td>\n",
              "      <td>0.0</td>\n",
              "      <td>1.0</td>\n",
              "    </tr>\n",
              "    <tr>\n",
              "      <th>std</th>\n",
              "      <td>5.0</td>\n",
              "      <td>4.0</td>\n",
              "      <td>1.0</td>\n",
              "      <td>1.0</td>\n",
              "      <td>1.0</td>\n",
              "      <td>0.0</td>\n",
              "    </tr>\n",
              "    <tr>\n",
              "      <th>min</th>\n",
              "      <td>15.0</td>\n",
              "      <td>2000.0</td>\n",
              "      <td>0.0</td>\n",
              "      <td>0.0</td>\n",
              "      <td>0.0</td>\n",
              "      <td>1.0</td>\n",
              "    </tr>\n",
              "    <tr>\n",
              "      <th>25%</th>\n",
              "      <td>23.0</td>\n",
              "      <td>2002.0</td>\n",
              "      <td>0.0</td>\n",
              "      <td>0.0</td>\n",
              "      <td>0.0</td>\n",
              "      <td>1.0</td>\n",
              "    </tr>\n",
              "    <tr>\n",
              "      <th>50%</th>\n",
              "      <td>26.0</td>\n",
              "      <td>2006.0</td>\n",
              "      <td>0.0</td>\n",
              "      <td>0.0</td>\n",
              "      <td>0.0</td>\n",
              "      <td>1.0</td>\n",
              "    </tr>\n",
              "    <tr>\n",
              "      <th>75%</th>\n",
              "      <td>29.0</td>\n",
              "      <td>2010.0</td>\n",
              "      <td>1.0</td>\n",
              "      <td>1.0</td>\n",
              "      <td>1.0</td>\n",
              "      <td>1.0</td>\n",
              "    </tr>\n",
              "    <tr>\n",
              "      <th>max</th>\n",
              "      <td>61.0</td>\n",
              "      <td>2012.0</td>\n",
              "      <td>8.0</td>\n",
              "      <td>3.0</td>\n",
              "      <td>3.0</td>\n",
              "      <td>8.0</td>\n",
              "    </tr>\n",
              "  </tbody>\n",
              "</table>\n",
              "</div>\n",
              "      <button class=\"colab-df-convert\" onclick=\"convertToInteractive('df-4ae9094a-a0d3-4ffc-bb65-f9af769a2925')\"\n",
              "              title=\"Convert this dataframe to an interactive table.\"\n",
              "              style=\"display:none;\">\n",
              "        \n",
              "  <svg xmlns=\"http://www.w3.org/2000/svg\" height=\"24px\"viewBox=\"0 0 24 24\"\n",
              "       width=\"24px\">\n",
              "    <path d=\"M0 0h24v24H0V0z\" fill=\"none\"/>\n",
              "    <path d=\"M18.56 5.44l.94 2.06.94-2.06 2.06-.94-2.06-.94-.94-2.06-.94 2.06-2.06.94zm-11 1L8.5 8.5l.94-2.06 2.06-.94-2.06-.94L8.5 2.5l-.94 2.06-2.06.94zm10 10l.94 2.06.94-2.06 2.06-.94-2.06-.94-.94-2.06-.94 2.06-2.06.94z\"/><path d=\"M17.41 7.96l-1.37-1.37c-.4-.4-.92-.59-1.43-.59-.52 0-1.04.2-1.43.59L10.3 9.45l-7.72 7.72c-.78.78-.78 2.05 0 2.83L4 21.41c.39.39.9.59 1.41.59.51 0 1.02-.2 1.41-.59l7.78-7.78 2.81-2.81c.8-.78.8-2.07 0-2.86zM5.41 20L4 18.59l7.72-7.72 1.47 1.35L5.41 20z\"/>\n",
              "  </svg>\n",
              "      </button>\n",
              "      \n",
              "  <style>\n",
              "    .colab-df-container {\n",
              "      display:flex;\n",
              "      flex-wrap:wrap;\n",
              "      gap: 12px;\n",
              "    }\n",
              "\n",
              "    .colab-df-convert {\n",
              "      background-color: #E8F0FE;\n",
              "      border: none;\n",
              "      border-radius: 50%;\n",
              "      cursor: pointer;\n",
              "      display: none;\n",
              "      fill: #1967D2;\n",
              "      height: 32px;\n",
              "      padding: 0 0 0 0;\n",
              "      width: 32px;\n",
              "    }\n",
              "\n",
              "    .colab-df-convert:hover {\n",
              "      background-color: #E2EBFA;\n",
              "      box-shadow: 0px 1px 2px rgba(60, 64, 67, 0.3), 0px 1px 3px 1px rgba(60, 64, 67, 0.15);\n",
              "      fill: #174EA6;\n",
              "    }\n",
              "\n",
              "    [theme=dark] .colab-df-convert {\n",
              "      background-color: #3B4455;\n",
              "      fill: #D2E3FC;\n",
              "    }\n",
              "\n",
              "    [theme=dark] .colab-df-convert:hover {\n",
              "      background-color: #434B5C;\n",
              "      box-shadow: 0px 1px 3px 1px rgba(0, 0, 0, 0.15);\n",
              "      filter: drop-shadow(0px 1px 2px rgba(0, 0, 0, 0.3));\n",
              "      fill: #FFFFFF;\n",
              "    }\n",
              "  </style>\n",
              "\n",
              "      <script>\n",
              "        const buttonEl =\n",
              "          document.querySelector('#df-4ae9094a-a0d3-4ffc-bb65-f9af769a2925 button.colab-df-convert');\n",
              "        buttonEl.style.display =\n",
              "          google.colab.kernel.accessAllowed ? 'block' : 'none';\n",
              "\n",
              "        async function convertToInteractive(key) {\n",
              "          const element = document.querySelector('#df-4ae9094a-a0d3-4ffc-bb65-f9af769a2925');\n",
              "          const dataTable =\n",
              "            await google.colab.kernel.invokeFunction('convertToInteractive',\n",
              "                                                     [key], {});\n",
              "          if (!dataTable) return;\n",
              "\n",
              "          const docLinkHtml = 'Like what you see? Visit the ' +\n",
              "            '<a target=\"_blank\" href=https://colab.research.google.com/notebooks/data_table.ipynb>data table notebook</a>'\n",
              "            + ' to learn more about interactive tables.';\n",
              "          element.innerHTML = '';\n",
              "          dataTable['output_type'] = 'display_data';\n",
              "          await google.colab.output.renderOutput(dataTable, element);\n",
              "          const docLink = document.createElement('div');\n",
              "          docLink.innerHTML = docLinkHtml;\n",
              "          element.appendChild(docLink);\n",
              "        }\n",
              "      </script>\n",
              "    </div>\n",
              "  </div>\n",
              "  "
            ]
          },
          "metadata": {},
          "execution_count": 15
        }
      ]
    },
    {
      "cell_type": "markdown",
      "source": [
        "**Observations** :- We have a flexibility to understand and to describe the whole data set by using simple function called \"describe\".\n",
        "\n",
        " It will gives us mean,standard deviation, percentiles like  25th,50th,75th and max values, where we can able to know only on numerical data columns."
      ],
      "metadata": {
        "id": "eZNk7PvtPgLz"
      }
    },
    {
      "cell_type": "code",
      "source": [
        "df['Date_Given'] = pd.to_datetime(df['Date_Given'])"
      ],
      "metadata": {
        "id": "U3xMwlREpDd-"
      },
      "execution_count": 21,
      "outputs": []
    },
    {
      "cell_type": "markdown",
      "source": [
        "**Observations** :-\n",
        "\n",
        "1)  After basic exploration of the data, we came to know that \"Date_Given\" column which have dates as data in different formats and the data type calling by the pandas in object. \n",
        "\n",
        "2) So, we have to set the data present in the Date_given column into a standard format. It means all the data in a column should have the same format and the column should be in a correct data type.\n",
        "\n",
        "3) That's why using \"to_datetime\" function we changed the data format and data type to the \"Date_Given\" column to \"datetime\" format and data to a unique format."
      ],
      "metadata": {
        "id": "kKujv0AQQJiM"
      }
    },
    {
      "cell_type": "code",
      "source": [
        "df.dtypes"
      ],
      "metadata": {
        "colab": {
          "base_uri": "https://localhost:8080/"
        },
        "id": "6JgsGxA_pDgs",
        "outputId": "f1202048-5f80-4c71-efcc-9eb2cd6e5deb"
      },
      "execution_count": 22,
      "outputs": [
        {
          "output_type": "execute_result",
          "data": {
            "text/plain": [
              "name                    object\n",
              "age                    float64\n",
              "country                 object\n",
              "year                     int64\n",
              "Date_Given      datetime64[ns]\n",
              "sports                  object\n",
              "gold_medal               int64\n",
              "silver_medal             int64\n",
              "bronze_medal             int64\n",
              "total_medal              int64\n",
              "dtype: object"
            ]
          },
          "metadata": {},
          "execution_count": 22
        }
      ]
    },
    {
      "cell_type": "markdown",
      "source": [
        "\n",
        "**Observations** :- So,we can see the \"Date_Given\" column data type is changed to \"datetime\" data type.\n"
      ],
      "metadata": {
        "id": "zIclidW5RWiG"
      }
    },
    {
      "cell_type": "code",
      "source": [
        "df['Date_Given'] = df['Date_Given'].astype(str)"
      ],
      "metadata": {
        "id": "41TwjJ_wvwLL"
      },
      "execution_count": 23,
      "outputs": []
    },
    {
      "cell_type": "markdown",
      "source": [
        "**Observations** :- It is upto us according to the analysis requirements we can chnage the data types to \"string or date\" data type.\n",
        "\n",
        "We can check the datatypes also whether it is converted correctly or not by using \"dtypes\" function."
      ],
      "metadata": {
        "id": "63okVqZ3v1kP"
      }
    },
    {
      "cell_type": "code",
      "source": [
        "df.dtypes"
      ],
      "metadata": {
        "colab": {
          "base_uri": "https://localhost:8080/"
        },
        "id": "s-P3ESV0wL20",
        "outputId": "b8fa8f66-5b2d-4d48-d070-f532aae20a83"
      },
      "execution_count": 24,
      "outputs": [
        {
          "output_type": "execute_result",
          "data": {
            "text/plain": [
              "name             object\n",
              "age             float64\n",
              "country          object\n",
              "year              int64\n",
              "Date_Given       object\n",
              "sports           object\n",
              "gold_medal        int64\n",
              "silver_medal      int64\n",
              "bronze_medal      int64\n",
              "total_medal       int64\n",
              "dtype: object"
            ]
          },
          "metadata": {},
          "execution_count": 24
        }
      ]
    },
    {
      "cell_type": "markdown",
      "source": [
        "## 2)\tDeal with missing values appropriately. You can either remove them or fill them, but a proper justification is required.\n"
      ],
      "metadata": {
        "id": "dRmZiNRU6OqE"
      }
    },
    {
      "cell_type": "code",
      "source": [
        "df.isnull().sum()"
      ],
      "metadata": {
        "colab": {
          "base_uri": "https://localhost:8080/"
        },
        "id": "Po_7raT7o9-Z",
        "outputId": "f898cefd-9481-46e4-bd2b-971730148d00"
      },
      "execution_count": 25,
      "outputs": [
        {
          "output_type": "execute_result",
          "data": {
            "text/plain": [
              "name            5\n",
              "age             5\n",
              "country         0\n",
              "year            0\n",
              "Date_Given      0\n",
              "sports          0\n",
              "gold_medal      0\n",
              "silver_medal    0\n",
              "bronze_medal    0\n",
              "total_medal     0\n",
              "dtype: int64"
            ]
          },
          "metadata": {},
          "execution_count": 25
        }
      ]
    },
    {
      "cell_type": "markdown",
      "source": [
        "**Observations** :- Sometimes, in the data sets we have null values. It means some times we dont have data or empty records.\n",
        "\n",
        "We can check the data set whether we have any missed data or not, by using \"isnull\" function.\n",
        "\n",
        "If, the data is not available we can fill it up with mean values or if the missed data is very small when compared to given data set records, we can delete or remove the null values also by using \" dropna\" function."
      ],
      "metadata": {
        "id": "IrFvzC5vYCBL"
      }
    },
    {
      "cell_type": "code",
      "source": [
        "import matplotlib\n",
        "matplotlib.rcParams['figure.figsize'] = (12, 6)\n",
        "sns.heatmap(df.isnull(), cmap='viridis')\n",
        "sns.heatmap(df.isnull(),yticklabels=False,cbar=False,cmap='viridis')"
      ],
      "metadata": {
        "colab": {
          "base_uri": "https://localhost:8080/",
          "height": 455
        },
        "id": "p8HQA6HSxKAf",
        "outputId": "47fb18d5-5a5d-47b7-a9a0-48febeddcdd5"
      },
      "execution_count": 29,
      "outputs": [
        {
          "output_type": "execute_result",
          "data": {
            "text/plain": [
              "<matplotlib.axes._subplots.AxesSubplot at 0x7faf1aba86d0>"
            ]
          },
          "metadata": {},
          "execution_count": 29
        },
        {
          "output_type": "display_data",
          "data": {
            "text/plain": [
              "<Figure size 864x432 with 2 Axes>"
            ],
            "image/png": "[encoded data removed]"
          },
          "metadata": {
            "needs_background": "light"
          }
        }
      ]
    },
    {
      "cell_type": "markdown",
      "source": [
        "**Observations** :- By using this heat map also we can easily view the whole data whethere we have any missing values present or not.\n",
        "\n",
        "**The Yellow color line indicates in the heatmap depicts that, we have some missing values in the data set.**\n",
        "\n",
        "So, we have to treat them accordingly."
      ],
      "metadata": {
        "id": "E9vJwBnqxQXN"
      }
    },
    {
      "cell_type": "code",
      "source": [
        "[features for features in df.columns if df[features].isnull().sum()>0]"
      ],
      "metadata": {
        "colab": {
          "base_uri": "https://localhost:8080/"
        },
        "id": "YrDEFrkGo-BB",
        "outputId": "a36a9d13-e226-49e8-d4da-b847dd1c400e"
      },
      "execution_count": null,
      "outputs": [
        {
          "output_type": "execute_result",
          "data": {
            "text/plain": [
              "['name', 'age']"
            ]
          },
          "metadata": {},
          "execution_count": 212
        }
      ]
    },
    {
      "cell_type": "markdown",
      "source": [
        "**Observations** :- If we have many no.of attributes, we can use a simple python code and check the columns have any missed values or not as like above.\n",
        "\n",
        "So, as per above output 'name' and 'age' columns have missing values."
      ],
      "metadata": {
        "id": "XjBAM-g8Y6d0"
      }
    },
    {
      "cell_type": "code",
      "source": [
        "df.dropna(inplace = True)"
      ],
      "metadata": {
        "id": "zngsW6q8pDr8"
      },
      "execution_count": null,
      "outputs": []
    },
    {
      "cell_type": "markdown",
      "source": [
        "**Observations** :- If we have very few data which is not available we can fill it up with mean values or if the missed data is very small when compared to given data set, we can delete or remove the null values also by using \" dropna\" function.\n",
        "\n",
        "So, we came to know that only 5 records are missing out of 8000+ records. By deleting fron the data set it didn't alter anything during our analysing."
      ],
      "metadata": {
        "id": "cpFVLFg8Yzmg"
      }
    },
    {
      "cell_type": "code",
      "source": [
        "df.shape"
      ],
      "metadata": {
        "colab": {
          "base_uri": "https://localhost:8080/"
        },
        "id": "IQMgfedOlQCn",
        "outputId": "f812245e-792b-4a5f-f16b-0d7c7d8ad2ba"
      },
      "execution_count": null,
      "outputs": [
        {
          "output_type": "execute_result",
          "data": {
            "text/plain": [
              "(8613, 10)"
            ]
          },
          "metadata": {},
          "execution_count": 214
        }
      ]
    },
    {
      "cell_type": "markdown",
      "source": [
        "**Observations** :- After removing null value records, we have **8613 records and 10 columns.**"
      ],
      "metadata": {
        "id": "7QGTOsLsZtcG"
      }
    },
    {
      "cell_type": "code",
      "source": [
        "import matplotlib\n",
        "matplotlib.rcParams['figure.figsize'] = (12, 6)\n",
        "sns.heatmap(df.isnull(), cmap='viridis')\n",
        "sns.heatmap(df.isnull(),yticklabels=False,cbar=False,cmap='viridis')\n"
      ],
      "metadata": {
        "colab": {
          "base_uri": "https://localhost:8080/",
          "height": 455
        },
        "id": "8gMz5E81WiV8",
        "outputId": "cbee48c8-2380-4c5b-e224-1b026ff11385"
      },
      "execution_count": null,
      "outputs": [
        {
          "output_type": "execute_result",
          "data": {
            "text/plain": [
              "<matplotlib.axes._subplots.AxesSubplot at 0x7f47a001e5d0>"
            ]
          },
          "metadata": {},
          "execution_count": 215
        },
        {
          "output_type": "display_data",
          "data": {
            "text/plain": [
              "<Figure size 864x432 with 2 Axes>"
            ],
            "image/png": "[encoded data removed]"
          },
          "metadata": {
            "needs_background": "light"
          }
        }
      ]
    },
    {
      "cell_type": "markdown",
      "source": [
        "**Observations** :- By using this heat map also we can easily view the whole data whethere we have any missing values present or not."
      ],
      "metadata": {
        "id": "d0jYyyUZZ7L6"
      }
    },
    {
      "cell_type": "markdown",
      "source": [
        "## 3)\tDuplicates in the dataset introduces bias in the study. Please check and perform appropriate steps.\n"
      ],
      "metadata": {
        "id": "GaTh8-TN6OiU"
      }
    },
    {
      "cell_type": "code",
      "source": [
        "duplicate = df[df.duplicated('name')]\n",
        "duplicate.head()"
      ],
      "metadata": {
        "colab": {
          "base_uri": "https://localhost:8080/",
          "height": 206
        },
        "id": "bBjJbnci64De",
        "outputId": "f4a36fe6-04ca-4bf9-f0f3-c918e4a7970f"
      },
      "execution_count": 42,
      "outputs": [
        {
          "output_type": "execute_result",
          "data": {
            "text/plain": [
              "                name   age        country  year  Date_Given    sports  \\\n",
              "1     Michael Phelps  19.0  United States  2004  2004-08-29  Swimming   \n",
              "2     Michael Phelps  27.0  United States  2012  2012-08-12  Swimming   \n",
              "9   Natalie Coughlin  21.0  United States  2004  2004-08-29  Swimming   \n",
              "18       Ryan Lochte  24.0  United States  2008  2008-08-24  Swimming   \n",
              "21        Ian Thorpe  21.0      Australia  2004  2004-08-29  Swimming   \n",
              "\n",
              "    gold_medal  silver_medal  bronze_medal  total_medal  \n",
              "1            6             0             2            8  \n",
              "2            4             2             0            6  \n",
              "9            2             2             1            5  \n",
              "18           2             0             2            4  \n",
              "21           2             1             1            4  "
            ],
            "text/html": [
              "\n",
              "  <div id=\"df-bbf36098-dd30-4fae-8c3d-5786f8b90e62\">\n",
              "    <div class=\"colab-df-container\">\n",
              "      <div>\n",
              "<style scoped>\n",
              "    .dataframe tbody tr th:only-of-type {\n",
              "        vertical-align: middle;\n",
              "    }\n",
              "\n",
              "    .dataframe tbody tr th {\n",
              "        vertical-align: top;\n",
              "    }\n",
              "\n",
              "    .dataframe thead th {\n",
              "        text-align: right;\n",
              "    }\n",
              "</style>\n",
              "<table border=\"1\" class=\"dataframe\">\n",
              "  <thead>\n",
              "    <tr style=\"text-align: right;\">\n",
              "      <th></th>\n",
              "      <th>name</th>\n",
              "      <th>age</th>\n",
              "      <th>country</th>\n",
              "      <th>year</th>\n",
              "      <th>Date_Given</th>\n",
              "      <th>sports</th>\n",
              "      <th>gold_medal</th>\n",
              "      <th>silver_medal</th>\n",
              "      <th>bronze_medal</th>\n",
              "      <th>total_medal</th>\n",
              "    </tr>\n",
              "  </thead>\n",
              "  <tbody>\n",
              "    <tr>\n",
              "      <th>1</th>\n",
              "      <td>Michael Phelps</td>\n",
              "      <td>19.0</td>\n",
              "      <td>United States</td>\n",
              "      <td>2004</td>\n",
              "      <td>2004-08-29</td>\n",
              "      <td>Swimming</td>\n",
              "      <td>6</td>\n",
              "      <td>0</td>\n",
              "      <td>2</td>\n",
              "      <td>8</td>\n",
              "    </tr>\n",
              "    <tr>\n",
              "      <th>2</th>\n",
              "      <td>Michael Phelps</td>\n",
              "      <td>27.0</td>\n",
              "      <td>United States</td>\n",
              "      <td>2012</td>\n",
              "      <td>2012-08-12</td>\n",
              "      <td>Swimming</td>\n",
              "      <td>4</td>\n",
              "      <td>2</td>\n",
              "      <td>0</td>\n",
              "      <td>6</td>\n",
              "    </tr>\n",
              "    <tr>\n",
              "      <th>9</th>\n",
              "      <td>Natalie Coughlin</td>\n",
              "      <td>21.0</td>\n",
              "      <td>United States</td>\n",
              "      <td>2004</td>\n",
              "      <td>2004-08-29</td>\n",
              "      <td>Swimming</td>\n",
              "      <td>2</td>\n",
              "      <td>2</td>\n",
              "      <td>1</td>\n",
              "      <td>5</td>\n",
              "    </tr>\n",
              "    <tr>\n",
              "      <th>18</th>\n",
              "      <td>Ryan Lochte</td>\n",
              "      <td>24.0</td>\n",
              "      <td>United States</td>\n",
              "      <td>2008</td>\n",
              "      <td>2008-08-24</td>\n",
              "      <td>Swimming</td>\n",
              "      <td>2</td>\n",
              "      <td>0</td>\n",
              "      <td>2</td>\n",
              "      <td>4</td>\n",
              "    </tr>\n",
              "    <tr>\n",
              "      <th>21</th>\n",
              "      <td>Ian Thorpe</td>\n",
              "      <td>21.0</td>\n",
              "      <td>Australia</td>\n",
              "      <td>2004</td>\n",
              "      <td>2004-08-29</td>\n",
              "      <td>Swimming</td>\n",
              "      <td>2</td>\n",
              "      <td>1</td>\n",
              "      <td>1</td>\n",
              "      <td>4</td>\n",
              "    </tr>\n",
              "  </tbody>\n",
              "</table>\n",
              "</div>\n",
              "      <button class=\"colab-df-convert\" onclick=\"convertToInteractive('df-bbf36098-dd30-4fae-8c3d-5786f8b90e62')\"\n",
              "              title=\"Convert this dataframe to an interactive table.\"\n",
              "              style=\"display:none;\">\n",
              "        \n",
              "  <svg xmlns=\"http://www.w3.org/2000/svg\" height=\"24px\"viewBox=\"0 0 24 24\"\n",
              "       width=\"24px\">\n",
              "    <path d=\"M0 0h24v24H0V0z\" fill=\"none\"/>\n",
              "    <path d=\"M18.56 5.44l.94 2.06.94-2.06 2.06-.94-2.06-.94-.94-2.06-.94 2.06-2.06.94zm-11 1L8.5 8.5l.94-2.06 2.06-.94-2.06-.94L8.5 2.5l-.94 2.06-2.06.94zm10 10l.94 2.06.94-2.06 2.06-.94-2.06-.94-.94-2.06-.94 2.06-2.06.94z\"/><path d=\"M17.41 7.96l-1.37-1.37c-.4-.4-.92-.59-1.43-.59-.52 0-1.04.2-1.43.59L10.3 9.45l-7.72 7.72c-.78.78-.78 2.05 0 2.83L4 21.41c.39.39.9.59 1.41.59.51 0 1.02-.2 1.41-.59l7.78-7.78 2.81-2.81c.8-.78.8-2.07 0-2.86zM5.41 20L4 18.59l7.72-7.72 1.47 1.35L5.41 20z\"/>\n",
              "  </svg>\n",
              "      </button>\n",
              "      \n",
              "  <style>\n",
              "    .colab-df-container {\n",
              "      display:flex;\n",
              "      flex-wrap:wrap;\n",
              "      gap: 12px;\n",
              "    }\n",
              "\n",
              "    .colab-df-convert {\n",
              "      background-color: #E8F0FE;\n",
              "      border: none;\n",
              "      border-radius: 50%;\n",
              "      cursor: pointer;\n",
              "      display: none;\n",
              "      fill: #1967D2;\n",
              "      height: 32px;\n",
              "      padding: 0 0 0 0;\n",
              "      width: 32px;\n",
              "    }\n",
              "\n",
              "    .colab-df-convert:hover {\n",
              "      background-color: #E2EBFA;\n",
              "      box-shadow: 0px 1px 2px rgba(60, 64, 67, 0.3), 0px 1px 3px 1px rgba(60, 64, 67, 0.15);\n",
              "      fill: #174EA6;\n",
              "    }\n",
              "\n",
              "    [theme=dark] .colab-df-convert {\n",
              "      background-color: #3B4455;\n",
              "      fill: #D2E3FC;\n",
              "    }\n",
              "\n",
              "    [theme=dark] .colab-df-convert:hover {\n",
              "      background-color: #434B5C;\n",
              "      box-shadow: 0px 1px 3px 1px rgba(0, 0, 0, 0.15);\n",
              "      filter: drop-shadow(0px 1px 2px rgba(0, 0, 0, 0.3));\n",
              "      fill: #FFFFFF;\n",
              "    }\n",
              "  </style>\n",
              "\n",
              "      <script>\n",
              "        const buttonEl =\n",
              "          document.querySelector('#df-bbf36098-dd30-4fae-8c3d-5786f8b90e62 button.colab-df-convert');\n",
              "        buttonEl.style.display =\n",
              "          google.colab.kernel.accessAllowed ? 'block' : 'none';\n",
              "\n",
              "        async function convertToInteractive(key) {\n",
              "          const element = document.querySelector('#df-bbf36098-dd30-4fae-8c3d-5786f8b90e62');\n",
              "          const dataTable =\n",
              "            await google.colab.kernel.invokeFunction('convertToInteractive',\n",
              "                                                     [key], {});\n",
              "          if (!dataTable) return;\n",
              "\n",
              "          const docLinkHtml = 'Like what you see? Visit the ' +\n",
              "            '<a target=\"_blank\" href=https://colab.research.google.com/notebooks/data_table.ipynb>data table notebook</a>'\n",
              "            + ' to learn more about interactive tables.';\n",
              "          element.innerHTML = '';\n",
              "          dataTable['output_type'] = 'display_data';\n",
              "          await google.colab.output.renderOutput(dataTable, element);\n",
              "          const docLink = document.createElement('div');\n",
              "          docLink.innerHTML = docLinkHtml;\n",
              "          element.appendChild(docLink);\n",
              "        }\n",
              "      </script>\n",
              "    </div>\n",
              "  </div>\n",
              "  "
            ]
          },
          "metadata": {},
          "execution_count": 42
        }
      ]
    },
    {
      "cell_type": "code",
      "source": [
        "duplicate.tail()"
      ],
      "metadata": {
        "colab": {
          "base_uri": "https://localhost:8080/",
          "height": 206
        },
        "id": "HwQZwjZxCtMy",
        "outputId": "11a8ab57-757c-4191-d5b2-fc7b82d7b9e7"
      },
      "execution_count": null,
      "outputs": [
        {
          "output_type": "execute_result",
          "data": {
            "text/plain": [
              "                   name   age      country  year  Date_Given   sports  \\\n",
              "8600         Yun Mi-Jin  21.0  South Korea  2004  2004-08-29  Archery   \n",
              "8601     Zhang Juanjuan  23.0        China  2004  2004-08-29  Archery   \n",
              "8604      Ilario Di Buò  43.0        Italy  2000  2000-10-01  Archery   \n",
              "8606  Michele Frangilli  24.0        Italy  2000  2000-10-01  Archery   \n",
              "8607       Jang Yong-Ho  24.0  South Korea  2000  2000-10-01  Archery   \n",
              "\n",
              "      gold_medal  silver_medal  bronze_medal  total_medal  \n",
              "8600           1             0             0            1  \n",
              "8601           0             1             0            1  \n",
              "8604           0             1             0            1  \n",
              "8606           0             1             0            1  \n",
              "8607           1             0             0            1  "
            ],
            "text/html": [
              "\n",
              "  <div id=\"df-0eeb3ec0-15eb-40de-9049-58a1f220fe94\">\n",
              "    <div class=\"colab-df-container\">\n",
              "      <div>\n",
              "<style scoped>\n",
              "    .dataframe tbody tr th:only-of-type {\n",
              "        vertical-align: middle;\n",
              "    }\n",
              "\n",
              "    .dataframe tbody tr th {\n",
              "        vertical-align: top;\n",
              "    }\n",
              "\n",
              "    .dataframe thead th {\n",
              "        text-align: right;\n",
              "    }\n",
              "</style>\n",
              "<table border=\"1\" class=\"dataframe\">\n",
              "  <thead>\n",
              "    <tr style=\"text-align: right;\">\n",
              "      <th></th>\n",
              "      <th>name</th>\n",
              "      <th>age</th>\n",
              "      <th>country</th>\n",
              "      <th>year</th>\n",
              "      <th>Date_Given</th>\n",
              "      <th>sports</th>\n",
              "      <th>gold_medal</th>\n",
              "      <th>silver_medal</th>\n",
              "      <th>bronze_medal</th>\n",
              "      <th>total_medal</th>\n",
              "    </tr>\n",
              "  </thead>\n",
              "  <tbody>\n",
              "    <tr>\n",
              "      <th>8600</th>\n",
              "      <td>Yun Mi-Jin</td>\n",
              "      <td>21.0</td>\n",
              "      <td>South Korea</td>\n",
              "      <td>2004</td>\n",
              "      <td>2004-08-29</td>\n",
              "      <td>Archery</td>\n",
              "      <td>1</td>\n",
              "      <td>0</td>\n",
              "      <td>0</td>\n",
              "      <td>1</td>\n",
              "    </tr>\n",
              "    <tr>\n",
              "      <th>8601</th>\n",
              "      <td>Zhang Juanjuan</td>\n",
              "      <td>23.0</td>\n",
              "      <td>China</td>\n",
              "      <td>2004</td>\n",
              "      <td>2004-08-29</td>\n",
              "      <td>Archery</td>\n",
              "      <td>0</td>\n",
              "      <td>1</td>\n",
              "      <td>0</td>\n",
              "      <td>1</td>\n",
              "    </tr>\n",
              "    <tr>\n",
              "      <th>8604</th>\n",
              "      <td>Ilario Di Buò</td>\n",
              "      <td>43.0</td>\n",
              "      <td>Italy</td>\n",
              "      <td>2000</td>\n",
              "      <td>2000-10-01</td>\n",
              "      <td>Archery</td>\n",
              "      <td>0</td>\n",
              "      <td>1</td>\n",
              "      <td>0</td>\n",
              "      <td>1</td>\n",
              "    </tr>\n",
              "    <tr>\n",
              "      <th>8606</th>\n",
              "      <td>Michele Frangilli</td>\n",
              "      <td>24.0</td>\n",
              "      <td>Italy</td>\n",
              "      <td>2000</td>\n",
              "      <td>2000-10-01</td>\n",
              "      <td>Archery</td>\n",
              "      <td>0</td>\n",
              "      <td>1</td>\n",
              "      <td>0</td>\n",
              "      <td>1</td>\n",
              "    </tr>\n",
              "    <tr>\n",
              "      <th>8607</th>\n",
              "      <td>Jang Yong-Ho</td>\n",
              "      <td>24.0</td>\n",
              "      <td>South Korea</td>\n",
              "      <td>2000</td>\n",
              "      <td>2000-10-01</td>\n",
              "      <td>Archery</td>\n",
              "      <td>1</td>\n",
              "      <td>0</td>\n",
              "      <td>0</td>\n",
              "      <td>1</td>\n",
              "    </tr>\n",
              "  </tbody>\n",
              "</table>\n",
              "</div>\n",
              "      <button class=\"colab-df-convert\" onclick=\"convertToInteractive('df-0eeb3ec0-15eb-40de-9049-58a1f220fe94')\"\n",
              "              title=\"Convert this dataframe to an interactive table.\"\n",
              "              style=\"display:none;\">\n",
              "        \n",
              "  <svg xmlns=\"http://www.w3.org/2000/svg\" height=\"24px\"viewBox=\"0 0 24 24\"\n",
              "       width=\"24px\">\n",
              "    <path d=\"M0 0h24v24H0V0z\" fill=\"none\"/>\n",
              "    <path d=\"M18.56 5.44l.94 2.06.94-2.06 2.06-.94-2.06-.94-.94-2.06-.94 2.06-2.06.94zm-11 1L8.5 8.5l.94-2.06 2.06-.94-2.06-.94L8.5 2.5l-.94 2.06-2.06.94zm10 10l.94 2.06.94-2.06 2.06-.94-2.06-.94-.94-2.06-.94 2.06-2.06.94z\"/><path d=\"M17.41 7.96l-1.37-1.37c-.4-.4-.92-.59-1.43-.59-.52 0-1.04.2-1.43.59L10.3 9.45l-7.72 7.72c-.78.78-.78 2.05 0 2.83L4 21.41c.39.39.9.59 1.41.59.51 0 1.02-.2 1.41-.59l7.78-7.78 2.81-2.81c.8-.78.8-2.07 0-2.86zM5.41 20L4 18.59l7.72-7.72 1.47 1.35L5.41 20z\"/>\n",
              "  </svg>\n",
              "      </button>\n",
              "      \n",
              "  <style>\n",
              "    .colab-df-container {\n",
              "      display:flex;\n",
              "      flex-wrap:wrap;\n",
              "      gap: 12px;\n",
              "    }\n",
              "\n",
              "    .colab-df-convert {\n",
              "      background-color: #E8F0FE;\n",
              "      border: none;\n",
              "      border-radius: 50%;\n",
              "      cursor: pointer;\n",
              "      display: none;\n",
              "      fill: #1967D2;\n",
              "      height: 32px;\n",
              "      padding: 0 0 0 0;\n",
              "      width: 32px;\n",
              "    }\n",
              "\n",
              "    .colab-df-convert:hover {\n",
              "      background-color: #E2EBFA;\n",
              "      box-shadow: 0px 1px 2px rgba(60, 64, 67, 0.3), 0px 1px 3px 1px rgba(60, 64, 67, 0.15);\n",
              "      fill: #174EA6;\n",
              "    }\n",
              "\n",
              "    [theme=dark] .colab-df-convert {\n",
              "      background-color: #3B4455;\n",
              "      fill: #D2E3FC;\n",
              "    }\n",
              "\n",
              "    [theme=dark] .colab-df-convert:hover {\n",
              "      background-color: #434B5C;\n",
              "      box-shadow: 0px 1px 3px 1px rgba(0, 0, 0, 0.15);\n",
              "      filter: drop-shadow(0px 1px 2px rgba(0, 0, 0, 0.3));\n",
              "      fill: #FFFFFF;\n",
              "    }\n",
              "  </style>\n",
              "\n",
              "      <script>\n",
              "        const buttonEl =\n",
              "          document.querySelector('#df-0eeb3ec0-15eb-40de-9049-58a1f220fe94 button.colab-df-convert');\n",
              "        buttonEl.style.display =\n",
              "          google.colab.kernel.accessAllowed ? 'block' : 'none';\n",
              "\n",
              "        async function convertToInteractive(key) {\n",
              "          const element = document.querySelector('#df-0eeb3ec0-15eb-40de-9049-58a1f220fe94');\n",
              "          const dataTable =\n",
              "            await google.colab.kernel.invokeFunction('convertToInteractive',\n",
              "                                                     [key], {});\n",
              "          if (!dataTable) return;\n",
              "\n",
              "          const docLinkHtml = 'Like what you see? Visit the ' +\n",
              "            '<a target=\"_blank\" href=https://colab.research.google.com/notebooks/data_table.ipynb>data table notebook</a>'\n",
              "            + ' to learn more about interactive tables.';\n",
              "          element.innerHTML = '';\n",
              "          dataTable['output_type'] = 'display_data';\n",
              "          await google.colab.output.renderOutput(dataTable, element);\n",
              "          const docLink = document.createElement('div');\n",
              "          docLink.innerHTML = docLinkHtml;\n",
              "          element.appendChild(docLink);\n",
              "        }\n",
              "      </script>\n",
              "    </div>\n",
              "  </div>\n",
              "  "
            ]
          },
          "metadata": {},
          "execution_count": 217
        }
      ]
    },
    {
      "cell_type": "code",
      "source": [
        "df.duplicated(\"name\")"
      ],
      "metadata": {
        "colab": {
          "base_uri": "https://localhost:8080/"
        },
        "id": "brwZhIYZ64me",
        "outputId": "c5bf8367-6718-4740-b83c-780117f223f0"
      },
      "execution_count": null,
      "outputs": [
        {
          "output_type": "execute_result",
          "data": {
            "text/plain": [
              "0       False\n",
              "1        True\n",
              "2        True\n",
              "3       False\n",
              "4       False\n",
              "        ...  \n",
              "8613    False\n",
              "8614    False\n",
              "8615    False\n",
              "8616    False\n",
              "8617    False\n",
              "Length: 8613, dtype: bool"
            ]
          },
          "metadata": {},
          "execution_count": 218
        }
      ]
    },
    {
      "cell_type": "markdown",
      "source": [
        "**Observations** :-  By using \"duplicated\" function we can check the data where the data is duplicated or repeated.\n",
        "\n",
        "\"True\" means we have an athelete with the same name is repeated in the record.\n",
        "So, before going to take action we must check the whole record like along all the columns to know the record clearly."
      ],
      "metadata": {
        "id": "qLMQofLraYvw"
      }
    },
    {
      "cell_type": "code",
      "source": [
        "athelets_names=df.name.value_counts()\n",
        "athelets_names.head(50)"
      ],
      "metadata": {
        "colab": {
          "base_uri": "https://localhost:8080/"
        },
        "id": "LdaML9PnustY",
        "outputId": "fe390d5f-79d2-45d1-cd1b-b4ab5ce4f987"
      },
      "execution_count": 48,
      "outputs": [
        {
          "output_type": "execute_result",
          "data": {
            "text/plain": [
              "Matt Wells                        4\n",
              "Jason Lezak                       4\n",
              "Sergey Tetyukhin                  4\n",
              "Leisel Jones                      4\n",
              "Artur Taymazov                    4\n",
              "Katalin Kovács                    4\n",
              "Veronica Campbell-Brown           4\n",
              "Lucha Aymar                       4\n",
              "Pavol Hochschorner                4\n",
              "Peter Hochschorner                4\n",
              "Wang Hao                          4\n",
              "Lauren Jackson                    4\n",
              "Michal Martikán                   4\n",
              "Kristi Harrower                   4\n",
              "Anky van Grunsven                 4\n",
              "Valentina Vezzali                 4\n",
              "Katrin Wagner-Augustin            4\n",
              "Christie Pearce-Rampone           4\n",
              "Kim Rhode                         4\n",
              "Ben Ainslie                       4\n",
              "Bradley Wiggins                   4\n",
              "Yang Wei                          4\n",
              "Chris Hoy                         4\n",
              "Emilie Heymans                    4\n",
              "Heather Petri                     4\n",
              "Robert Scheidt                    4\n",
              "Brenda Villa                      4\n",
              "Eskild Ebbesen                    4\n",
              "Katherine Grainger                4\n",
              "Elena Georgescu                   3\n",
              "Evi Sachenbacher-Stehle           3\n",
              "Inna Osypenko-Radomska            3\n",
              "Constanta Pipota-Burcica          3\n",
              "Manuela Lutze                     3\n",
              "Tobias Angerer                    3\n",
              "Vadim Makhnyov                    3\n",
              "Yekaterina Khodatovich-Karsten    3\n",
              "Pietro Piller Cottrer             3\n",
              "Natasa Douchev-Janics             3\n",
              "Rossano Galtarossa                3\n",
              "David Cal                         3\n",
              "Eirik Verås Larsen                3\n",
              "Roman Petrushenko                 3\n",
              "André Lange                       3\n",
              "Sanya Richards-Ross               3\n",
              "Tirunesh Dibaba                   3\n",
              "Andrea Henkel                     3\n",
              "Britta Oppelt                     3\n",
              "Halvard Hanevold                  3\n",
              "Alessio Sartori                   3\n",
              "Name: name, dtype: int64"
            ]
          },
          "metadata": {},
          "execution_count": 48
        }
      ]
    },
    {
      "cell_type": "markdown",
      "source": [
        "**Observations** :- Out of 8613 records we have 6955 unique names athelets\n",
        "And 1658 athelets are again participated in the different olympic events or seasons."
      ],
      "metadata": {
        "id": "ftxr32vquu_E"
      }
    },
    {
      "cell_type": "markdown",
      "source": [
        "## 4)\tPlease remove special characters from the name column.\n"
      ],
      "metadata": {
        "id": "GGq-O5lG6OLg"
      }
    },
    {
      "cell_type": "code",
      "source": [
        "spec_chars = [\"!\",'\"',\"#\",\"%\",\"&\",\"'\",\"(\",\")\",\n",
        "              \"*\",\"+\",\",\",\"-\",\".\",\"/\",\":\",\";\",\"<\",\n",
        "              \"=\",\">\",\"?\",\"@\",\"[\",\"\\\\\",\"]\",\"^\",\"_\",\n",
        "              \"`\",\"{\",\"|\",\"}\",\"~\",\"–\"]\n",
        "for char in spec_chars:\n",
        "    df['name'] = df['name'].str.replace(char, '')"
      ],
      "metadata": {
        "colab": {
          "base_uri": "https://localhost:8080/"
        },
        "id": "ZbaVaov0QroH",
        "outputId": "19af67ad-fd1f-4b69-c8df-021df7259125"
      },
      "execution_count": 51,
      "outputs": [
        {
          "output_type": "stream",
          "name": "stderr",
          "text": [
            "/usr/local/lib/python3.7/dist-packages/ipykernel_launcher.py:6: FutureWarning: The default value of regex will change from True to False in a future version. In addition, single character regular expressions will *not* be treated as literal strings when regex=True.\n",
            "  \n"
          ]
        }
      ]
    },
    {
      "cell_type": "markdown",
      "source": [
        "**Observations** :- It is always a good practice that the data present in each and every column should be same data type and should be in same data format as well according to the columns present in the data set.\n",
        "\n",
        "So, I found there are special characters in the \"name\" column, it creates noise in our analysation process.\n",
        "\n",
        "By using a simple code we can able to remove the special characters with whatever we have to replace with in the place of special character. As used above is none, we can use underscore symbol or any space, should be meaningful.\n",
        "\n",
        "**So, in the above I used string & replace functions, char operator, and foor loop to take each and every name individually and checked for the special characters to change into normal one with no space.**"
      ],
      "metadata": {
        "id": "owx92vebbYHY"
      }
    },
    {
      "cell_type": "code",
      "source": [
        "df.head()"
      ],
      "metadata": {
        "colab": {
          "base_uri": "https://localhost:8080/",
          "height": 206
        },
        "id": "pynVljHhRYXG",
        "outputId": "1986979b-1809-48d9-c030-7804886c1a37"
      },
      "execution_count": 52,
      "outputs": [
        {
          "output_type": "execute_result",
          "data": {
            "text/plain": [
              "               name   age        country  year  Date_Given      sports  \\\n",
              "0    Michael Phelps  23.0  United States  2008  2008-08-24    Swimming   \n",
              "1    Michael Phelps  19.0  United States  2004  2004-08-29    Swimming   \n",
              "2    Michael Phelps  27.0  United States  2012  2012-08-12    Swimming   \n",
              "3  Natalie Coughlin  25.0  United States  2008  2008-08-24    Swimming   \n",
              "4     Aleksey Nemov  24.0         Russia  2000  2000-10-01  Gymnastics   \n",
              "\n",
              "   gold_medal  silver_medal  bronze_medal  total_medal  \n",
              "0           8             0             0            8  \n",
              "1           6             0             2            8  \n",
              "2           4             2             0            6  \n",
              "3           1             2             3            6  \n",
              "4           2             1             3            6  "
            ],
            "text/html": [
              "\n",
              "  <div id=\"df-dae7652a-a437-47a9-a5ca-d15f69d6e23e\">\n",
              "    <div class=\"colab-df-container\">\n",
              "      <div>\n",
              "<style scoped>\n",
              "    .dataframe tbody tr th:only-of-type {\n",
              "        vertical-align: middle;\n",
              "    }\n",
              "\n",
              "    .dataframe tbody tr th {\n",
              "        vertical-align: top;\n",
              "    }\n",
              "\n",
              "    .dataframe thead th {\n",
              "        text-align: right;\n",
              "    }\n",
              "</style>\n",
              "<table border=\"1\" class=\"dataframe\">\n",
              "  <thead>\n",
              "    <tr style=\"text-align: right;\">\n",
              "      <th></th>\n",
              "      <th>name</th>\n",
              "      <th>age</th>\n",
              "      <th>country</th>\n",
              "      <th>year</th>\n",
              "      <th>Date_Given</th>\n",
              "      <th>sports</th>\n",
              "      <th>gold_medal</th>\n",
              "      <th>silver_medal</th>\n",
              "      <th>bronze_medal</th>\n",
              "      <th>total_medal</th>\n",
              "    </tr>\n",
              "  </thead>\n",
              "  <tbody>\n",
              "    <tr>\n",
              "      <th>0</th>\n",
              "      <td>Michael Phelps</td>\n",
              "      <td>23.0</td>\n",
              "      <td>United States</td>\n",
              "      <td>2008</td>\n",
              "      <td>2008-08-24</td>\n",
              "      <td>Swimming</td>\n",
              "      <td>8</td>\n",
              "      <td>0</td>\n",
              "      <td>0</td>\n",
              "      <td>8</td>\n",
              "    </tr>\n",
              "    <tr>\n",
              "      <th>1</th>\n",
              "      <td>Michael Phelps</td>\n",
              "      <td>19.0</td>\n",
              "      <td>United States</td>\n",
              "      <td>2004</td>\n",
              "      <td>2004-08-29</td>\n",
              "      <td>Swimming</td>\n",
              "      <td>6</td>\n",
              "      <td>0</td>\n",
              "      <td>2</td>\n",
              "      <td>8</td>\n",
              "    </tr>\n",
              "    <tr>\n",
              "      <th>2</th>\n",
              "      <td>Michael Phelps</td>\n",
              "      <td>27.0</td>\n",
              "      <td>United States</td>\n",
              "      <td>2012</td>\n",
              "      <td>2012-08-12</td>\n",
              "      <td>Swimming</td>\n",
              "      <td>4</td>\n",
              "      <td>2</td>\n",
              "      <td>0</td>\n",
              "      <td>6</td>\n",
              "    </tr>\n",
              "    <tr>\n",
              "      <th>3</th>\n",
              "      <td>Natalie Coughlin</td>\n",
              "      <td>25.0</td>\n",
              "      <td>United States</td>\n",
              "      <td>2008</td>\n",
              "      <td>2008-08-24</td>\n",
              "      <td>Swimming</td>\n",
              "      <td>1</td>\n",
              "      <td>2</td>\n",
              "      <td>3</td>\n",
              "      <td>6</td>\n",
              "    </tr>\n",
              "    <tr>\n",
              "      <th>4</th>\n",
              "      <td>Aleksey Nemov</td>\n",
              "      <td>24.0</td>\n",
              "      <td>Russia</td>\n",
              "      <td>2000</td>\n",
              "      <td>2000-10-01</td>\n",
              "      <td>Gymnastics</td>\n",
              "      <td>2</td>\n",
              "      <td>1</td>\n",
              "      <td>3</td>\n",
              "      <td>6</td>\n",
              "    </tr>\n",
              "  </tbody>\n",
              "</table>\n",
              "</div>\n",
              "      <button class=\"colab-df-convert\" onclick=\"convertToInteractive('df-dae7652a-a437-47a9-a5ca-d15f69d6e23e')\"\n",
              "              title=\"Convert this dataframe to an interactive table.\"\n",
              "              style=\"display:none;\">\n",
              "        \n",
              "  <svg xmlns=\"http://www.w3.org/2000/svg\" height=\"24px\"viewBox=\"0 0 24 24\"\n",
              "       width=\"24px\">\n",
              "    <path d=\"M0 0h24v24H0V0z\" fill=\"none\"/>\n",
              "    <path d=\"M18.56 5.44l.94 2.06.94-2.06 2.06-.94-2.06-.94-.94-2.06-.94 2.06-2.06.94zm-11 1L8.5 8.5l.94-2.06 2.06-.94-2.06-.94L8.5 2.5l-.94 2.06-2.06.94zm10 10l.94 2.06.94-2.06 2.06-.94-2.06-.94-.94-2.06-.94 2.06-2.06.94z\"/><path d=\"M17.41 7.96l-1.37-1.37c-.4-.4-.92-.59-1.43-.59-.52 0-1.04.2-1.43.59L10.3 9.45l-7.72 7.72c-.78.78-.78 2.05 0 2.83L4 21.41c.39.39.9.59 1.41.59.51 0 1.02-.2 1.41-.59l7.78-7.78 2.81-2.81c.8-.78.8-2.07 0-2.86zM5.41 20L4 18.59l7.72-7.72 1.47 1.35L5.41 20z\"/>\n",
              "  </svg>\n",
              "      </button>\n",
              "      \n",
              "  <style>\n",
              "    .colab-df-container {\n",
              "      display:flex;\n",
              "      flex-wrap:wrap;\n",
              "      gap: 12px;\n",
              "    }\n",
              "\n",
              "    .colab-df-convert {\n",
              "      background-color: #E8F0FE;\n",
              "      border: none;\n",
              "      border-radius: 50%;\n",
              "      cursor: pointer;\n",
              "      display: none;\n",
              "      fill: #1967D2;\n",
              "      height: 32px;\n",
              "      padding: 0 0 0 0;\n",
              "      width: 32px;\n",
              "    }\n",
              "\n",
              "    .colab-df-convert:hover {\n",
              "      background-color: #E2EBFA;\n",
              "      box-shadow: 0px 1px 2px rgba(60, 64, 67, 0.3), 0px 1px 3px 1px rgba(60, 64, 67, 0.15);\n",
              "      fill: #174EA6;\n",
              "    }\n",
              "\n",
              "    [theme=dark] .colab-df-convert {\n",
              "      background-color: #3B4455;\n",
              "      fill: #D2E3FC;\n",
              "    }\n",
              "\n",
              "    [theme=dark] .colab-df-convert:hover {\n",
              "      background-color: #434B5C;\n",
              "      box-shadow: 0px 1px 3px 1px rgba(0, 0, 0, 0.15);\n",
              "      filter: drop-shadow(0px 1px 2px rgba(0, 0, 0, 0.3));\n",
              "      fill: #FFFFFF;\n",
              "    }\n",
              "  </style>\n",
              "\n",
              "      <script>\n",
              "        const buttonEl =\n",
              "          document.querySelector('#df-dae7652a-a437-47a9-a5ca-d15f69d6e23e button.colab-df-convert');\n",
              "        buttonEl.style.display =\n",
              "          google.colab.kernel.accessAllowed ? 'block' : 'none';\n",
              "\n",
              "        async function convertToInteractive(key) {\n",
              "          const element = document.querySelector('#df-dae7652a-a437-47a9-a5ca-d15f69d6e23e');\n",
              "          const dataTable =\n",
              "            await google.colab.kernel.invokeFunction('convertToInteractive',\n",
              "                                                     [key], {});\n",
              "          if (!dataTable) return;\n",
              "\n",
              "          const docLinkHtml = 'Like what you see? Visit the ' +\n",
              "            '<a target=\"_blank\" href=https://colab.research.google.com/notebooks/data_table.ipynb>data table notebook</a>'\n",
              "            + ' to learn more about interactive tables.';\n",
              "          element.innerHTML = '';\n",
              "          dataTable['output_type'] = 'display_data';\n",
              "          await google.colab.output.renderOutput(dataTable, element);\n",
              "          const docLink = document.createElement('div');\n",
              "          docLink.innerHTML = docLinkHtml;\n",
              "          element.appendChild(docLink);\n",
              "        }\n",
              "      </script>\n",
              "    </div>\n",
              "  </div>\n",
              "  "
            ]
          },
          "metadata": {},
          "execution_count": 52
        }
      ]
    },
    {
      "cell_type": "code",
      "source": [
        "df.tail()"
      ],
      "metadata": {
        "colab": {
          "base_uri": "https://localhost:8080/",
          "height": 206
        },
        "id": "0zuxsj-MT60o",
        "outputId": "89cf2227-2dc2-4dae-cb82-9b8f7a1b159c"
      },
      "execution_count": 53,
      "outputs": [
        {
          "output_type": "execute_result",
          "data": {
            "text/plain": [
              "                     name   age        country  year  Date_Given   sports  \\\n",
              "8613     Olena Sadovnycha  32.0        Ukraine  2000  2000-10-01  Archery   \n",
              "8614     Kateryna Serdiuk  17.0        Ukraine  2000  2000-10-01  Archery   \n",
              "8615     Wietse van Alten  21.0    Netherlands  2000  2000-10-01  Archery   \n",
              "8616  Sandra WagnerSachse  31.0        Germany  2000  2000-10-01  Archery   \n",
              "8617            Rod White  23.0  United States  2000  2000-10-01  Archery   \n",
              "\n",
              "      gold_medal  silver_medal  bronze_medal  total_medal  \n",
              "8613           0             1             0            1  \n",
              "8614           0             1             0            1  \n",
              "8615           0             0             1            1  \n",
              "8616           0             0             1            1  \n",
              "8617           0             0             1            1  "
            ],
            "text/html": [
              "\n",
              "  <div id=\"df-d00ec6e3-18be-4f6e-abf0-a085814800bd\">\n",
              "    <div class=\"colab-df-container\">\n",
              "      <div>\n",
              "<style scoped>\n",
              "    .dataframe tbody tr th:only-of-type {\n",
              "        vertical-align: middle;\n",
              "    }\n",
              "\n",
              "    .dataframe tbody tr th {\n",
              "        vertical-align: top;\n",
              "    }\n",
              "\n",
              "    .dataframe thead th {\n",
              "        text-align: right;\n",
              "    }\n",
              "</style>\n",
              "<table border=\"1\" class=\"dataframe\">\n",
              "  <thead>\n",
              "    <tr style=\"text-align: right;\">\n",
              "      <th></th>\n",
              "      <th>name</th>\n",
              "      <th>age</th>\n",
              "      <th>country</th>\n",
              "      <th>year</th>\n",
              "      <th>Date_Given</th>\n",
              "      <th>sports</th>\n",
              "      <th>gold_medal</th>\n",
              "      <th>silver_medal</th>\n",
              "      <th>bronze_medal</th>\n",
              "      <th>total_medal</th>\n",
              "    </tr>\n",
              "  </thead>\n",
              "  <tbody>\n",
              "    <tr>\n",
              "      <th>8613</th>\n",
              "      <td>Olena Sadovnycha</td>\n",
              "      <td>32.0</td>\n",
              "      <td>Ukraine</td>\n",
              "      <td>2000</td>\n",
              "      <td>2000-10-01</td>\n",
              "      <td>Archery</td>\n",
              "      <td>0</td>\n",
              "      <td>1</td>\n",
              "      <td>0</td>\n",
              "      <td>1</td>\n",
              "    </tr>\n",
              "    <tr>\n",
              "      <th>8614</th>\n",
              "      <td>Kateryna Serdiuk</td>\n",
              "      <td>17.0</td>\n",
              "      <td>Ukraine</td>\n",
              "      <td>2000</td>\n",
              "      <td>2000-10-01</td>\n",
              "      <td>Archery</td>\n",
              "      <td>0</td>\n",
              "      <td>1</td>\n",
              "      <td>0</td>\n",
              "      <td>1</td>\n",
              "    </tr>\n",
              "    <tr>\n",
              "      <th>8615</th>\n",
              "      <td>Wietse van Alten</td>\n",
              "      <td>21.0</td>\n",
              "      <td>Netherlands</td>\n",
              "      <td>2000</td>\n",
              "      <td>2000-10-01</td>\n",
              "      <td>Archery</td>\n",
              "      <td>0</td>\n",
              "      <td>0</td>\n",
              "      <td>1</td>\n",
              "      <td>1</td>\n",
              "    </tr>\n",
              "    <tr>\n",
              "      <th>8616</th>\n",
              "      <td>Sandra WagnerSachse</td>\n",
              "      <td>31.0</td>\n",
              "      <td>Germany</td>\n",
              "      <td>2000</td>\n",
              "      <td>2000-10-01</td>\n",
              "      <td>Archery</td>\n",
              "      <td>0</td>\n",
              "      <td>0</td>\n",
              "      <td>1</td>\n",
              "      <td>1</td>\n",
              "    </tr>\n",
              "    <tr>\n",
              "      <th>8617</th>\n",
              "      <td>Rod White</td>\n",
              "      <td>23.0</td>\n",
              "      <td>United States</td>\n",
              "      <td>2000</td>\n",
              "      <td>2000-10-01</td>\n",
              "      <td>Archery</td>\n",
              "      <td>0</td>\n",
              "      <td>0</td>\n",
              "      <td>1</td>\n",
              "      <td>1</td>\n",
              "    </tr>\n",
              "  </tbody>\n",
              "</table>\n",
              "</div>\n",
              "      <button class=\"colab-df-convert\" onclick=\"convertToInteractive('df-d00ec6e3-18be-4f6e-abf0-a085814800bd')\"\n",
              "              title=\"Convert this dataframe to an interactive table.\"\n",
              "              style=\"display:none;\">\n",
              "        \n",
              "  <svg xmlns=\"http://www.w3.org/2000/svg\" height=\"24px\"viewBox=\"0 0 24 24\"\n",
              "       width=\"24px\">\n",
              "    <path d=\"M0 0h24v24H0V0z\" fill=\"none\"/>\n",
              "    <path d=\"M18.56 5.44l.94 2.06.94-2.06 2.06-.94-2.06-.94-.94-2.06-.94 2.06-2.06.94zm-11 1L8.5 8.5l.94-2.06 2.06-.94-2.06-.94L8.5 2.5l-.94 2.06-2.06.94zm10 10l.94 2.06.94-2.06 2.06-.94-2.06-.94-.94-2.06-.94 2.06-2.06.94z\"/><path d=\"M17.41 7.96l-1.37-1.37c-.4-.4-.92-.59-1.43-.59-.52 0-1.04.2-1.43.59L10.3 9.45l-7.72 7.72c-.78.78-.78 2.05 0 2.83L4 21.41c.39.39.9.59 1.41.59.51 0 1.02-.2 1.41-.59l7.78-7.78 2.81-2.81c.8-.78.8-2.07 0-2.86zM5.41 20L4 18.59l7.72-7.72 1.47 1.35L5.41 20z\"/>\n",
              "  </svg>\n",
              "      </button>\n",
              "      \n",
              "  <style>\n",
              "    .colab-df-container {\n",
              "      display:flex;\n",
              "      flex-wrap:wrap;\n",
              "      gap: 12px;\n",
              "    }\n",
              "\n",
              "    .colab-df-convert {\n",
              "      background-color: #E8F0FE;\n",
              "      border: none;\n",
              "      border-radius: 50%;\n",
              "      cursor: pointer;\n",
              "      display: none;\n",
              "      fill: #1967D2;\n",
              "      height: 32px;\n",
              "      padding: 0 0 0 0;\n",
              "      width: 32px;\n",
              "    }\n",
              "\n",
              "    .colab-df-convert:hover {\n",
              "      background-color: #E2EBFA;\n",
              "      box-shadow: 0px 1px 2px rgba(60, 64, 67, 0.3), 0px 1px 3px 1px rgba(60, 64, 67, 0.15);\n",
              "      fill: #174EA6;\n",
              "    }\n",
              "\n",
              "    [theme=dark] .colab-df-convert {\n",
              "      background-color: #3B4455;\n",
              "      fill: #D2E3FC;\n",
              "    }\n",
              "\n",
              "    [theme=dark] .colab-df-convert:hover {\n",
              "      background-color: #434B5C;\n",
              "      box-shadow: 0px 1px 3px 1px rgba(0, 0, 0, 0.15);\n",
              "      filter: drop-shadow(0px 1px 2px rgba(0, 0, 0, 0.3));\n",
              "      fill: #FFFFFF;\n",
              "    }\n",
              "  </style>\n",
              "\n",
              "      <script>\n",
              "        const buttonEl =\n",
              "          document.querySelector('#df-d00ec6e3-18be-4f6e-abf0-a085814800bd button.colab-df-convert');\n",
              "        buttonEl.style.display =\n",
              "          google.colab.kernel.accessAllowed ? 'block' : 'none';\n",
              "\n",
              "        async function convertToInteractive(key) {\n",
              "          const element = document.querySelector('#df-d00ec6e3-18be-4f6e-abf0-a085814800bd');\n",
              "          const dataTable =\n",
              "            await google.colab.kernel.invokeFunction('convertToInteractive',\n",
              "                                                     [key], {});\n",
              "          if (!dataTable) return;\n",
              "\n",
              "          const docLinkHtml = 'Like what you see? Visit the ' +\n",
              "            '<a target=\"_blank\" href=https://colab.research.google.com/notebooks/data_table.ipynb>data table notebook</a>'\n",
              "            + ' to learn more about interactive tables.';\n",
              "          element.innerHTML = '';\n",
              "          dataTable['output_type'] = 'display_data';\n",
              "          await google.colab.output.renderOutput(dataTable, element);\n",
              "          const docLink = document.createElement('div');\n",
              "          docLink.innerHTML = docLinkHtml;\n",
              "          element.appendChild(docLink);\n",
              "        }\n",
              "      </script>\n",
              "    </div>\n",
              "  </div>\n",
              "  "
            ]
          },
          "metadata": {},
          "execution_count": 53
        }
      ]
    },
    {
      "cell_type": "markdown",
      "source": [
        "**Observations** :-  We can check the data set after removing the special characters in the columns \"name\" by seeing head and tail of the data set."
      ],
      "metadata": {
        "id": "r1CQ0qHNc-PV"
      }
    },
    {
      "cell_type": "markdown",
      "source": [
        "## 5)\tPerform data visualization techniques to appropriate columns and explain them.  \n"
      ],
      "metadata": {
        "id": "71lneWFQ6Nxo"
      }
    },
    {
      "cell_type": "code",
      "source": [
        "df.columns"
      ],
      "metadata": {
        "colab": {
          "base_uri": "https://localhost:8080/"
        },
        "id": "d77lWvzW67NA",
        "outputId": "fe381b7e-4f1a-499b-fd51-25ee9d40dd52"
      },
      "execution_count": 54,
      "outputs": [
        {
          "output_type": "execute_result",
          "data": {
            "text/plain": [
              "Index(['name', 'age', 'country', 'year', 'Date_Given', 'sports', 'gold_medal',\n",
              "       'silver_medal', 'bronze_medal', 'total_medal'],\n",
              "      dtype='object')"
            ]
          },
          "metadata": {},
          "execution_count": 54
        }
      ]
    },
    {
      "cell_type": "code",
      "source": [
        "country_names=df.country.value_counts().index\n",
        "country_names"
      ],
      "metadata": {
        "colab": {
          "base_uri": "https://localhost:8080/"
        },
        "id": "ONpEEB--YFPg",
        "outputId": "f2e6e5ee-b2c3-4081-d12a-233ef880be19"
      },
      "execution_count": 55,
      "outputs": [
        {
          "output_type": "execute_result",
          "data": {
            "text/plain": [
              "Index(['United States', 'Russia', 'Germany', 'Australia', 'China', 'Canada',\n",
              "       'Italy', 'Great Britain', 'France', 'Netherlands',\n",
              "       ...\n",
              "       'Guatemala', 'Costa Rica', 'Syria', 'Mauritius', 'Togo', 'Uruguay',\n",
              "       'Macedonia', 'Gabon', 'United Arab Emirates', 'Barbados'],\n",
              "      dtype='object', length=110)"
            ]
          },
          "metadata": {},
          "execution_count": 55
        }
      ]
    },
    {
      "cell_type": "code",
      "source": [
        "athelets_names=df.name.value_counts().index\n",
        "athelets_names"
      ],
      "metadata": {
        "colab": {
          "base_uri": "https://localhost:8080/"
        },
        "id": "4ogg2EJknlmI",
        "outputId": "e31fa3a0-4f93-4c8e-c505-b1288de05b75"
      },
      "execution_count": 56,
      "outputs": [
        {
          "output_type": "execute_result",
          "data": {
            "text/plain": [
              "Index(['Matt Wells', 'Jason Lezak', 'Sergey Tetyukhin', 'Leisel Jones',\n",
              "       'Artur Taymazov', 'Katalin Kovács', 'Veronica CampbellBrown',\n",
              "       'Lucha Aymar', 'Pavol Hochschorner', 'Peter Hochschorner',\n",
              "       ...\n",
              "       'Kevin Light', 'Mike Lewis', 'Adam Kreek', 'Adam Korol',\n",
              "       'Marek Kolbowicz', 'Melanie Kok', 'Jin Ziwei', 'Michal Jelinski',\n",
              "       'Josh Inman', 'Rod White'],\n",
              "      dtype='object', length=6955)"
            ]
          },
          "metadata": {},
          "execution_count": 56
        }
      ]
    },
    {
      "cell_type": "code",
      "source": [
        "sports_names=df.sports.value_counts()\n",
        "print(\"Total no.of sports conducted in different olympics seasons are:- \"   , len(sports_names),'\\n')\n",
        "print(sports_names)\n"
      ],
      "metadata": {
        "colab": {
          "base_uri": "https://localhost:8080/"
        },
        "id": "4ybu7Q5VnlTK",
        "outputId": "08ce8af3-1bcc-4783-96f6-edf8309499e6"
      },
      "execution_count": 57,
      "outputs": [
        {
          "output_type": "stream",
          "name": "stdout",
          "text": [
            "Total no.of sports conducted in different olympics seasons are:-  49 \n",
            "\n",
            "Athletics                    687\n",
            "Rowing                       567\n",
            "Swimming                     487\n",
            "Football                     407\n",
            "Hockey                       388\n",
            "Ice Hockey                   384\n",
            "Handball                     351\n",
            "Waterpolo                    306\n",
            "Canoeing                     295\n",
            "Basketball                   287\n",
            "Volleyball                   281\n",
            "Cycling                      261\n",
            "Wrestling                    245\n",
            "Fencing                      230\n",
            "Judo                         224\n",
            "Baseball                     216\n",
            "Sailing                      210\n",
            "Gymnastics                   194\n",
            "Boxing                       188\n",
            "Shooting                     181\n",
            "Weightlifting                180\n",
            "Equestrian                   157\n",
            "Softball                     134\n",
            "Cross Country Skiing         128\n",
            "Diving                       113\n",
            "Taekwondo                    112\n",
            "Synchronized Swimming        109\n",
            "Speed Skating                103\n",
            "Short-Track Speed Skating     96\n",
            "Biathlon                      94\n",
            "Badminton                     91\n",
            "Rhythmic Gymnastics           84\n",
            "Archery                       84\n",
            "Curling                       82\n",
            "Tennis                        71\n",
            "Table Tennis                  67\n",
            "Bobsleigh                     66\n",
            "Alpine Skiing                 61\n",
            "Figure Skating                54\n",
            "Snowboarding                  48\n",
            "Beach Volleyball              48\n",
            "Freestyle Skiing              42\n",
            "Ski Jumping                   40\n",
            "Nordic Combined               39\n",
            "Luge                          36\n",
            "Modern Pentathlon             24\n",
            "Triathlon                     24\n",
            "Trampoline                    24\n",
            "Skeleton                      18\n",
            "Name: sports, dtype: int64\n"
          ]
        }
      ]
    },
    {
      "cell_type": "code",
      "source": [
        "country_medals_records=df.country.value_counts().values\n",
        "print(\"No.of Countries they recorded medals are :-  \", len(country_medals_records),'\\n')\n",
        "country_medals_records"
      ],
      "metadata": {
        "id": "QOulzc9AYFGz",
        "colab": {
          "base_uri": "https://localhost:8080/"
        },
        "outputId": "9705dad0-80f0-4e55-8603-1743b05983eb"
      },
      "execution_count": 58,
      "outputs": [
        {
          "output_type": "stream",
          "name": "stdout",
          "text": [
            "No.of Countries they recorded medals are :-   110 \n",
            "\n"
          ]
        },
        {
          "output_type": "execute_result",
          "data": {
            "text/plain": [
              "array([1109,  706,  552,  524,  450,  351,  307,  296,  287,  286,  274,\n",
              "        259,  220,  195,  188,  167,  158,  141,  137,  132,  112,   97,\n",
              "         92,   89,   87,   76,   75,   73,   70,   61,   59,   51,   42,\n",
              "         39,   38,   38,   38,   36,   33,   31,   30,   27,   25,   24,\n",
              "         24,   24,   23,   23,   22,   22,   21,   20,   20,   20,   19,\n",
              "         18,   18,   17,   17,   16,   16,   15,   14,   13,   11,   10,\n",
              "         10,   10,    9,    9,    8,    8,    6,    6,    5,    5,    4,\n",
              "          4,    3,    3,    3,    3,    3,    3,    2,    2,    2,    2,\n",
              "          2,    1,    1,    1,    1,    1,    1,    1,    1,    1,    1,\n",
              "          1,    1,    1,    1,    1,    1,    1,    1,    1,    1,    1])"
            ]
          },
          "metadata": {},
          "execution_count": 58
        }
      ]
    },
    {
      "cell_type": "code",
      "source": [
        "plt.pie(country_medals_records[:5],labels=country_names[:5],autopct='%1.2f%%')\n",
        "plt.legend()"
      ],
      "metadata": {
        "colab": {
          "base_uri": "https://localhost:8080/",
          "height": 374
        },
        "id": "B0J2YIMxX6wZ",
        "outputId": "f4f3866e-6c15-4879-83a6-c8e1bebccc32"
      },
      "execution_count": 59,
      "outputs": [
        {
          "output_type": "execute_result",
          "data": {
            "text/plain": [
              "<matplotlib.legend.Legend at 0x7faf18a06810>"
            ]
          },
          "metadata": {},
          "execution_count": 59
        },
        {
          "output_type": "display_data",
          "data": {
            "text/plain": [
              "<Figure size 864x432 with 1 Axes>"
            ],
            "image/png": "[encoded data removed]"
          },
          "metadata": {}
        }
      ]
    },
    {
      "cell_type": "markdown",
      "source": [
        "**Observations** :- By ploting the above pie chart using \"country\" column, we can able to see which country have recorded,the no.of medalists in different olympic seasons.\n",
        "\n",
        "As per as pie chart, we can say that\n",
        "\n",
        "1) **America** recorded **highest** percentage(number of ) athelets with medals which have **33.19 %** as share out of 100 % . \n",
        "\n",
        "2) **Russia** recorded **Second highest** with **23.13 %** as share.\n",
        "\n",
        "3) **Germany** recorded **Third highest** with **16.52 %** as share.\n",
        "\n",
        "4) **Australia** recorded **Fourth highest** with **15.68 %** as share.\n",
        "\n",
        "5) **China** recorded **Fifth highest** with **13.47 %** as share.\n"
      ],
      "metadata": {
        "id": "20lhBf7zfuJG"
      }
    },
    {
      "cell_type": "markdown",
      "source": [
        "## Plotting a chart \"(count plot)\" on gold medals feature, indirectly it will tells us how many athelets got how many gold medals."
      ],
      "metadata": {
        "id": "WjaDMWbq5gEC"
      }
    },
    {
      "cell_type": "code",
      "source": [
        "hfig = plt.figure(figsize =(10, 7))\n",
        "ax=sns.countplot(x=\"gold_medal\",data=df)\n",
        "for p in ax.patches:\n",
        "   ax.annotate('{:.0f}'.format(p.get_height()), (p.get_x()+0.25, p.get_height()+0.01))\n",
        "plt.show()"
      ],
      "metadata": {
        "colab": {
          "base_uri": "https://localhost:8080/",
          "height": 443
        },
        "id": "1MCa6PV2X6t6",
        "outputId": "284beb1f-ab1d-4798-f08e-71719c267d06"
      },
      "execution_count": 161,
      "outputs": [
        {
          "output_type": "display_data",
          "data": {
            "text/plain": [
              "<Figure size 720x504 with 1 Axes>"
            ],
            "image/png": "[encoded data removed]"
          },
          "metadata": {
            "needs_background": "light"
          }
        }
      ]
    },
    {
      "cell_type": "markdown",
      "source": [
        "**Observations** 🇱\n",
        "As per above chart, we can see that athelets with \"0\" Gold-medal are more in the given data set of number \"5689\".\n",
        "\n",
        "Where as 2745 athelets got 1 Gold-medal\n",
        "\n",
        "150 athelets got 2 gold-mdeals\n",
        "\n",
        "24 athelets got 3 gold-medals\n",
        "\n",
        "3 atheelets got 4 gold-medals\n",
        "\n",
        "1 athelete got 6 gold-medals\n",
        "\n",
        "1 athelete got 8 gold-medals"
      ],
      "metadata": {
        "id": "VpF19GSTiAlj"
      }
    },
    {
      "cell_type": "markdown",
      "source": [
        "## Plotting a chart \"(count plot)\" on Silver medals feature, indirectly it will tells us how many athelets got how many gold medals."
      ],
      "metadata": {
        "id": "S4m5GAN89snw"
      }
    },
    {
      "cell_type": "code",
      "source": [
        "hfig = plt.figure(figsize =(10, 7))\n",
        "ax=sns.countplot(x=\"silver_medal\",data=df)\n",
        "for p in ax.patches:\n",
        "   ax.annotate('{:.0f}'.format(p.get_height()), (p.get_x()+0.25, p.get_height()+0.01))\n",
        "plt.show()"
      ],
      "metadata": {
        "colab": {
          "base_uri": "https://localhost:8080/",
          "height": 443
        },
        "id": "l96Dzvi6X6rX",
        "outputId": "337137ea-b6b7-42c3-cf23-e88b5cd4243d"
      },
      "execution_count": null,
      "outputs": [
        {
          "output_type": "display_data",
          "data": {
            "text/plain": [
              "<Figure size 720x504 with 1 Axes>"
            ],
            "image/png": "[encoded data removed]"
          },
          "metadata": {
            "needs_background": "light"
          }
        }
      ]
    },
    {
      "cell_type": "markdown",
      "source": [
        "**Observations** \n",
        "\n",
        "As per above chart, we can see that athelets with,\n",
        "\n",
        " \"0\" Silver-medal are more in the given data set of number \"5609\".\n",
        "\n",
        "Where as 2891 athelets got 1 Silver-medal\n",
        "\n",
        "104 athelets got 2 Silver-mdeals\n",
        "\n",
        "9 athelets got 3 Silver-medals"
      ],
      "metadata": {
        "id": "SHppfU7QjDSZ"
      }
    },
    {
      "cell_type": "markdown",
      "source": [
        "## Plotting a chart \"(count plot)\" on Bronze medals feature, indirectly it will tells us how many athelets got how many gold medals."
      ],
      "metadata": {
        "id": "9OHSlaVl99HT"
      }
    },
    {
      "cell_type": "code",
      "source": [
        "hfig = plt.figure(figsize =(10, 7))\n",
        "ax=sns.countplot(x=\"bronze_medal\",data=df)\n",
        "for p in ax.patches:\n",
        "   ax.annotate('{:.0f}'.format(p.get_height()), (p.get_x()+0.25, p.get_height()+0.01))\n",
        "plt.show()"
      ],
      "metadata": {
        "colab": {
          "base_uri": "https://localhost:8080/",
          "height": 443
        },
        "id": "hjNX--VFX6oo",
        "outputId": "7938a368-74f4-4688-cc24-16a97d67680b"
      },
      "execution_count": null,
      "outputs": [
        {
          "output_type": "display_data",
          "data": {
            "text/plain": [
              "<Figure size 720x504 with 1 Axes>"
            ],
            "image/png": "[encoded data removed]"
          },
          "metadata": {
            "needs_background": "light"
          }
        }
      ]
    },
    {
      "cell_type": "markdown",
      "source": [
        "**Observations** \n",
        "\n",
        "As per above chart, we can see that athelets with \"0\" Bronze-medal are more in the given data set of number \"5439\".\n",
        "\n",
        "Where as 3098 athelets got 1 Bronze-medal\n",
        "\n",
        "71 athelets got 2 Bronze-mdeals\n",
        "\n",
        "5 athelets got 3 Bronze-medals"
      ],
      "metadata": {
        "id": "6apZR2ZljWZm"
      }
    },
    {
      "cell_type": "markdown",
      "source": [
        "## Plotting a chart \"(count plot)\" on Total medals feature, indirectly it will tells us how many athelets got how many gold medals."
      ],
      "metadata": {
        "id": "uoRsDIjg-Eun"
      }
    },
    {
      "cell_type": "code",
      "source": [
        "hfig = plt.figure(figsize =(10, 7))\n",
        "ax=sns.countplot(x=\"total_medal\",data=df)\n",
        "for p in ax.patches:\n",
        "   ax.annotate('{:.0f}'.format(p.get_height()), (p.get_x()+0.25, p.get_height()+0.01))\n",
        "plt.show()"
      ],
      "metadata": {
        "colab": {
          "base_uri": "https://localhost:8080/",
          "height": 443
        },
        "id": "2PqnubflX6l1",
        "outputId": "168e422a-00ef-4dd0-af98-f384f11be8c5"
      },
      "execution_count": null,
      "outputs": [
        {
          "output_type": "display_data",
          "data": {
            "text/plain": [
              "<Figure size 720x504 with 1 Axes>"
            ],
            "image/png": "[encoded data removed]"
          },
          "metadata": {
            "needs_background": "light"
          }
        }
      ]
    },
    {
      "cell_type": "markdown",
      "source": [
        "**Observations** :-   \n",
        "\n",
        "As per above chart, we can see that athelets with atleast \"1\" Medal are more in the given data set of number \"7916\".\n",
        "\n",
        "543 athelets got 2 Medals\n",
        "\n",
        "118 athelets got 3 Medals\n",
        "\n",
        "21 athelets got 4 Medals\n",
        "\n",
        "10 athelets got 5 Medals\n",
        "\n",
        "3 atheletes got 6 Medals\n",
        "\n",
        "2 athelete got 8 Medals"
      ],
      "metadata": {
        "id": "6-ZFUbS4jsxs"
      }
    },
    {
      "cell_type": "code",
      "source": [
        "df.columns"
      ],
      "metadata": {
        "colab": {
          "base_uri": "https://localhost:8080/"
        },
        "id": "SXHbS0kt0GoT",
        "outputId": "799341b0-6f4b-49d5-97c5-36406de2dcb3"
      },
      "execution_count": null,
      "outputs": [
        {
          "output_type": "execute_result",
          "data": {
            "text/plain": [
              "Index(['name', 'age', 'country', 'year', 'Date_Given', 'sports', 'gold_medal',\n",
              "       'silver_medal', 'bronze_medal', 'total_medal'],\n",
              "      dtype='object')"
            ]
          },
          "metadata": {},
          "execution_count": 233
        }
      ]
    },
    {
      "cell_type": "markdown",
      "source": [
        "## We can able to plot a chart on sports with age column with condition on age's like below."
      ],
      "metadata": {
        "id": "MjjBBTix_Py7"
      }
    },
    {
      "cell_type": "code",
      "source": [
        "Medals_for_Athletes_lessthan_29 = df['sports'][df['age'] < 29]\n",
        "plt.figure(figsize=(20, 10))\n",
        "plt.tight_layout()\n",
        "sns.countplot(y=Medals_for_Athletes_lessthan_29)\n",
        "plt.title('Medals for Athletes Lessthan 29')\n",
        "plt.grid()\n",
        "plt.show()"
      ],
      "metadata": {
        "colab": {
          "base_uri": "https://localhost:8080/",
          "height": 621
        },
        "id": "ZLfmH7RG0agQ",
        "outputId": "3a574e4e-4dd7-4f72-bb00-678f79c023d5"
      },
      "execution_count": 76,
      "outputs": [
        {
          "output_type": "display_data",
          "data": {
            "text/plain": [
              "<Figure size 1440x720 with 1 Axes>"
            ],
            "image/png": "[encoded data removed]"
          },
          "metadata": {
            "needs_background": "light"
          }
        }
      ]
    },
    {
      "cell_type": "markdown",
      "source": [
        "**Observations** :-   \n",
        "\n",
        "1) As per above chart, we can see that in \"Athletics\" sport game has the highest no.of \"Athelets\" i.e., above 500 members under the age of 29 who won medals irresepctive of gold or silver or bronze.\n",
        "\n",
        "2) Followed by \"Athletics\", \"Swimming\" sport has the 2nd highest athelets around 470 to 480.\n",
        "\n",
        "3) \"Skelton\" has the least athelets around 20 to 30 members."
      ],
      "metadata": {
        "id": "ewKbvHx-4WIU"
      }
    },
    {
      "cell_type": "code",
      "source": [
        "Medals_for_Athletes_Over_29 = df['sports'][df['age'] > 29]\n",
        "plt.figure(figsize=(20, 10))\n",
        "plt.tight_layout()\n",
        "sns.countplot(y=Medals_for_Athletes_Over_29)\n",
        "plt.title('Medals for Athletes Over 29')\n",
        "plt.grid()\n",
        "plt.show()"
      ],
      "metadata": {
        "colab": {
          "base_uri": "https://localhost:8080/",
          "height": 621
        },
        "id": "Ww8utHoIzyDZ",
        "outputId": "554ee70e-cb97-4e72-b7a8-238ca5d9da69"
      },
      "execution_count": 69,
      "outputs": [
        {
          "output_type": "display_data",
          "data": {
            "text/plain": [
              "<Figure size 1440x720 with 1 Axes>"
            ],
            "image/png": "[encoded data removed]"
          },
          "metadata": {
            "needs_background": "light"
          }
        }
      ]
    },
    {
      "cell_type": "markdown",
      "source": [
        "**Observations** :-   \n",
        "\n",
        "1) As per above chart, we can see that in \"Rowing\" sport game has the highest no.of \"Athelets\" i.e., above 160 members are above the age of 29 who won medals irresepctive of gold or silver or bronze.\n",
        "\n",
        "2) Followed by \"Rowing\", \"Athletics\" sport has the 2nd highest athelets around 130.\n",
        "\n",
        "3) \"Trampoline\" has the least athelets around 10 members."
      ],
      "metadata": {
        "id": "C7MWaR5S6UE_"
      }
    },
    {
      "cell_type": "code",
      "source": [
        "print(df.country.value_counts().reset_index(name='Number of Athelets Who Won Medals').head())\n",
        " \n",
        "totalGoldMedals = df.country.value_counts().reset_index(name='Number of Athelets Who Won Medals').head(5)\n",
        "g = sns.catplot(x=\"index\", y=\"Number of Athelets Who Won Medals\", data=totalGoldMedals,\n",
        "                height=6, kind=\"bar\", palette=\"Set2\")\n",
        "g.set_xlabels(\"Top 5 countries\")\n",
        "g.set_ylabels(\"Number of Athelets Who Won Medals\")\n",
        "plt.title('Top 5 countries with Number of Athelets Who Won Medals')\n",
        "plt.grid()\n",
        "plt.show()"
      ],
      "metadata": {
        "colab": {
          "base_uri": "https://localhost:8080/",
          "height": 561
        },
        "id": "GqRqAQFm2cEK",
        "outputId": "84547dba-ed1e-4d4e-f726-2513605e725f"
      },
      "execution_count": 178,
      "outputs": [
        {
          "output_type": "stream",
          "name": "stdout",
          "text": [
            "           index  Number of Athelets Who Won Medals\n",
            "0  United States                               1109\n",
            "1         Russia                                706\n",
            "2        Germany                                552\n",
            "3      Australia                                524\n",
            "4          China                                450\n"
          ]
        },
        {
          "output_type": "display_data",
          "data": {
            "text/plain": [
              "<Figure size 432x432 with 1 Axes>"
            ],
            "image/png": "[encoded data removed]"
          },
          "metadata": {
            "needs_background": "light"
          }
        }
      ]
    },
    {
      "cell_type": "markdown",
      "source": [
        "**Observations** :-   \n",
        "\n",
        " \n",
        "*   United states has the highest athelets who won medals of a number 1100 by seeing the plot.\n",
        "\n",
        "*   Russia above 700 athelets who won medals stood at 2nd place \n",
        "*   Germany nearer to 600 athelets who won medals stood at 3rd place\n",
        "*   Australia 500+ athelets who won medals stood at 4th place\n",
        "*   China 400+ athelets who won medals stood at 5th place\n",
        "\n",
        "\n",
        "\n",
        "\n",
        "\n",
        "\n",
        "\n",
        "\n",
        "\n",
        "\n"
      ],
      "metadata": {
        "id": "_Ok7fh1vDTfX"
      }
    },
    {
      "cell_type": "markdown",
      "source": [
        "## Age Distribution of the Athelets who participated and won the medals"
      ],
      "metadata": {
        "id": "uVHHaz8uFDJ7"
      }
    },
    {
      "cell_type": "code",
      "source": [
        "plt.figure(figsize=(20, 10))\n",
        "sns.countplot(df['age'])\n",
        "plt.title('Age Distribution of the Athelets who participated and won the medals')\n",
        "plt.xlabel(\"Age\")\n",
        "plt.ylabel(\"No.of Participants\")\n",
        "plt.show()\n"
      ],
      "metadata": {
        "colab": {
          "base_uri": "https://localhost:8080/",
          "height": 676
        },
        "id": "ZBS4VAZR4ZVl",
        "outputId": "dbeff2fc-92c0-47c4-be48-a052a844ea1c"
      },
      "execution_count": 184,
      "outputs": [
        {
          "output_type": "stream",
          "name": "stderr",
          "text": [
            "/usr/local/lib/python3.7/dist-packages/seaborn/_decorators.py:43: FutureWarning: Pass the following variable as a keyword arg: x. From version 0.12, the only valid positional argument will be `data`, and passing other arguments without an explicit keyword will result in an error or misinterpretation.\n",
            "  FutureWarning\n"
          ]
        },
        {
          "output_type": "display_data",
          "data": {
            "text/plain": [
              "<Figure size 1440x720 with 1 Axes>"
            ],
            "image/png": "[encoded data removed]"
          },
          "metadata": {
            "needs_background": "light"
          }
        }
      ]
    },
    {
      "cell_type": "markdown",
      "source": [
        "**Observations** :-  It's always good to see how the data is distributed against the features where we have to do some analysis.\n",
        "\n",
        "Here, if we see the age's of the Athelets, there is a huge variety of athelet records are here according to their age. **And it is skewed towards right.**"
      ],
      "metadata": {
        "id": "HMe8HflNHmzZ"
      }
    },
    {
      "cell_type": "code",
      "source": [
        "x = df['age']\n",
        "y = df['gold_medal']\n",
        "plt.title('No.of Gold_Medals According to the Age of the Athelets')\n",
        "plt.ylabel(\"No.of Gold_Medals\")\n",
        "plt.xlabel(\"Age of the Athelets\")\n",
        "plt.bar(x, y)\n",
        "plt.show()"
      ],
      "metadata": {
        "id": "PuO6AHLkD_oY",
        "colab": {
          "base_uri": "https://localhost:8080/",
          "height": 404
        },
        "outputId": "9384ba40-0d87-4cd2-dad3-bd56a8916830"
      },
      "execution_count": 128,
      "outputs": [
        {
          "output_type": "display_data",
          "data": {
            "text/plain": [
              "<Figure size 864x432 with 1 Axes>"
            ],
            "image/png": "[encoded data removed]"
          },
          "metadata": {
            "needs_background": "light"
          }
        }
      ]
    },
    {
      "cell_type": "markdown",
      "source": [
        "**Observations** :- \n",
        "\n",
        "1.  We can say that, in between the age of 18 to 25 athelets are recorded highest no.of gold medals.\n",
        "2.  Where as above 50 age recorded lowest no.of gold medals\n",
        "\n"
      ],
      "metadata": {
        "id": "9hg6aZYNIbjf"
      }
    },
    {
      "cell_type": "code",
      "source": [
        "x = df['age']\n",
        "y = df['total_medal']\n",
        "plt.title('No.of Total_Medals According to the Age of the Athelets')\n",
        "plt.ylabel(\"No.of Total_Medals\")\n",
        "plt.xlabel(\"Age of the Athelets\")\n",
        "plt.bar(x, y)\n",
        "plt.show()"
      ],
      "metadata": {
        "colab": {
          "base_uri": "https://localhost:8080/",
          "height": 404
        },
        "id": "g5Ae6Z0F2mWP",
        "outputId": "8611a979-568d-49a0-bfc1-0867b5222c0a"
      },
      "execution_count": 152,
      "outputs": [
        {
          "output_type": "display_data",
          "data": {
            "text/plain": [
              "<Figure size 864x432 with 1 Axes>"
            ],
            "image/png": "[encoded data removed]"
          },
          "metadata": {
            "needs_background": "light"
          }
        }
      ]
    },
    {
      "cell_type": "markdown",
      "source": [
        "**Observations** :- \n",
        "\n",
        "1.  We can say that, in between the age of 16 to 35 athelets are recorded highest no.of Total medals.\n",
        "2.  Where as above 50 age recorded lowest no.of Total medals\n",
        "\n"
      ],
      "metadata": {
        "id": "ADOZBzhgI1SR"
      }
    },
    {
      "cell_type": "code",
      "source": [
        "df.columns"
      ],
      "metadata": {
        "colab": {
          "base_uri": "https://localhost:8080/"
        },
        "id": "UAHXKIZ7jJdE",
        "outputId": "ddaeae6b-192b-4acf-ad42-57a885b08b24"
      },
      "execution_count": 116,
      "outputs": [
        {
          "output_type": "execute_result",
          "data": {
            "text/plain": [
              "Index(['name', 'age', 'country', 'year', 'Date_Given', 'sports', 'gold_medal',\n",
              "       'silver_medal', 'bronze_medal', 'total_medal'],\n",
              "      dtype='object')"
            ]
          },
          "metadata": {},
          "execution_count": 116
        }
      ]
    },
    {
      "cell_type": "code",
      "source": [
        "country_wise_medals = df.drop_duplicates(['country','year','total_medal'])"
      ],
      "metadata": {
        "id": "Ll70sy7gzgLY"
      },
      "execution_count": 142,
      "outputs": []
    },
    {
      "cell_type": "code",
      "source": [
        "plt.figure(figsize=(15,15))\n",
        "sns.heatmap(country_wise_medals.pivot_table(index='country',columns=\"year\",values=\"total_medal\",aggfunc=\"count\").fillna(0).astype('int'),annot=True)"
      ],
      "metadata": {
        "colab": {
          "base_uri": "https://localhost:8080/",
          "height": 898
        },
        "id": "WoPbBoMRty8H",
        "outputId": "96185ae3-9c30-4915-a21f-eba94b3c4b61"
      },
      "execution_count": 145,
      "outputs": [
        {
          "output_type": "execute_result",
          "data": {
            "text/plain": [
              "<matplotlib.axes._subplots.AxesSubplot at 0x7faf141533d0>"
            ]
          },
          "metadata": {},
          "execution_count": 145
        },
        {
          "output_type": "display_data",
          "data": {
            "text/plain": [
              "<Figure size 1080x1080 with 2 Axes>"
            ],
            "image/png": "[encoded data removed]"
          },
          "metadata": {
            "needs_background": "light"
          }
        }
      ]
    },
    {
      "cell_type": "markdown",
      "source": [
        "**Observations** :- \n",
        "\n",
        "1.  We can see the total no.of medals won with respect to the Country in the particular year.\n",
        "2.  Light Orange color cell shows highest no.of total medals recorded by a country and black color shows \"0\" total medals in that particular year.\n",
        "3. Russia recorded the highest no.of total medals in the year 2000 and 2004 and United states recorded the highest no.of total medals in the year 2004.\n",
        "\n",
        "\n",
        "\n",
        "\n"
      ],
      "metadata": {
        "id": "EHRE86d5JBtJ"
      }
    },
    {
      "cell_type": "code",
      "source": [
        "Sports_wise_totalMedals = df.drop_duplicates(['sports','year','total_medal'])\n"
      ],
      "metadata": {
        "id": "ozbiBs731TBm"
      },
      "execution_count": 147,
      "outputs": []
    },
    {
      "cell_type": "code",
      "source": [
        "plt.figure(figsize=(15,15))\n",
        "sns.heatmap(Sports_wise_totalMedals.pivot_table(index='sports',columns=\"year\",values=\"total_medal\",aggfunc=\"count\").fillna(0).astype('int'),annot=True)"
      ],
      "metadata": {
        "colab": {
          "base_uri": "https://localhost:8080/",
          "height": 898
        },
        "id": "jP2gT2LH1o9K",
        "outputId": "790461de-6d0d-4512-da06-795da8f6cbd8"
      },
      "execution_count": 148,
      "outputs": [
        {
          "output_type": "execute_result",
          "data": {
            "text/plain": [
              "<matplotlib.axes._subplots.AxesSubplot at 0x7faf0fbd2210>"
            ]
          },
          "metadata": {},
          "execution_count": 148
        },
        {
          "output_type": "display_data",
          "data": {
            "text/plain": [
              "<Figure size 1080x1080 with 2 Axes>"
            ],
            "image/png": "[encoded data removed]"
          },
          "metadata": {
            "needs_background": "light"
          }
        }
      ]
    },
    {
      "cell_type": "markdown",
      "source": [
        "**Observations** :- \n",
        "\n",
        "1.  We can see the total no.of medals won with respect to the Sport in the particular year.\n",
        "2.  Light White color cell shows highest no.of total medals recorded in a sport and black color shows \"0\" total medals in that particular year.\n",
        "3. In swimming athelets recorded the highest no.of total medals in the year 2004,2008 and 2012."
      ],
      "metadata": {
        "id": "2hLjyIAsKF7w"
      }
    },
    {
      "cell_type": "markdown",
      "source": [
        "## 6)\tPlease check if the age dataset is skewed or symmetric. Based on results perform transformation.\n"
      ],
      "metadata": {
        "id": "GmmqGsoE6hRh"
      }
    },
    {
      "cell_type": "code",
      "source": [
        "sns.displot(data=df,x='age',kde=True)"
      ],
      "metadata": {
        "colab": {
          "base_uri": "https://localhost:8080/",
          "height": 386
        },
        "id": "y9_sLVyB675D",
        "outputId": "95bef4b0-f56f-4010-aa22-de8c43489ca8"
      },
      "execution_count": null,
      "outputs": [
        {
          "output_type": "execute_result",
          "data": {
            "text/plain": [
              "<seaborn.axisgrid.FacetGrid at 0x7f479f54a350>"
            ]
          },
          "metadata": {},
          "execution_count": 238
        },
        {
          "output_type": "display_data",
          "data": {
            "text/plain": [
              "<Figure size 360x360 with 1 Axes>"
            ],
            "image/png": "[encoded data removed]"
          },
          "metadata": {
            "needs_background": "light"
          }
        }
      ]
    },
    {
      "cell_type": "code",
      "source": [
        "df[\"age\"].describe()"
      ],
      "metadata": {
        "colab": {
          "base_uri": "https://localhost:8080/"
        },
        "id": "QtjID3TFqL1l",
        "outputId": "e3a0c198-0b38-46d8-e6d9-a3d3ecbeb94e"
      },
      "execution_count": null,
      "outputs": [
        {
          "output_type": "execute_result",
          "data": {
            "text/plain": [
              "count    8613.000000\n",
              "mean       26.405434\n",
              "std         5.102118\n",
              "min        15.000000\n",
              "25%        23.000000\n",
              "50%        26.000000\n",
              "75%        29.000000\n",
              "max        61.000000\n",
              "Name: age, dtype: float64"
            ]
          },
          "metadata": {},
          "execution_count": 239
        }
      ]
    },
    {
      "cell_type": "markdown",
      "source": [
        "**Observations** :- We can see all the statistical measures to the column \"age\". However we didn't see the \"IQR\" and \"Variance\".\n",
        "\n",
        "1) There is no such big diference between mean and median(50th percentile) it is very close to gether.\n",
        "\n",
        "2) And there is a large difference or range between mean age(26.4) and max age(61). This creates skewness in the data and we have to treat outliers accordingly.\n",
        "\n",
        "We will see those seperately with the help of **\"scipy.stats\"** package."
      ],
      "metadata": {
        "id": "3G-jN7WCuwpa"
      }
    },
    {
      "cell_type": "code",
      "source": [
        "from scipy.stats import iqr\n",
        "iqr(df['age'])\n",
        "\n",
        "# IQR is nothing but Q3 - Q1"
      ],
      "metadata": {
        "colab": {
          "base_uri": "https://localhost:8080/"
        },
        "id": "_kpdCJI6tmpu",
        "outputId": "38ef01d5-eb3a-4638-abbc-4d9fc6d5520f"
      },
      "execution_count": null,
      "outputs": [
        {
          "output_type": "execute_result",
          "data": {
            "text/plain": [
              "6.0"
            ]
          },
          "metadata": {},
          "execution_count": 240
        }
      ]
    },
    {
      "cell_type": "code",
      "source": [
        "print(df.loc[:,'age'].var())\n",
        "\n",
        "# Variance is the square of standard deviation we can say, viceversa."
      ],
      "metadata": {
        "colab": {
          "base_uri": "https://localhost:8080/"
        },
        "id": "ag7NRxr3tx_a",
        "outputId": "6514f181-d1eb-40b8-a649-f6c2bac1f060"
      },
      "execution_count": null,
      "outputs": [
        {
          "output_type": "stream",
          "name": "stdout",
          "text": [
            "26.031610044743562\n"
          ]
        }
      ]
    },
    {
      "cell_type": "code",
      "source": [
        "df.skew(axis = 0, skipna = True)[:1]"
      ],
      "metadata": {
        "colab": {
          "base_uri": "https://localhost:8080/"
        },
        "id": "trwMKtKJf5L7",
        "outputId": "e55b8d95-4dc0-486e-af76-f211a71eba91"
      },
      "execution_count": null,
      "outputs": [
        {
          "output_type": "stream",
          "name": "stderr",
          "text": [
            "/usr/local/lib/python3.7/dist-packages/ipykernel_launcher.py:1: FutureWarning:\n",
            "\n",
            "Dropping of nuisance columns in DataFrame reductions (with 'numeric_only=None') is deprecated; in a future version this will raise TypeError.  Select only valid columns before calling the reduction.\n",
            "\n"
          ]
        },
        {
          "output_type": "execute_result",
          "data": {
            "text/plain": [
              "age    0.859007\n",
              "dtype: float64"
            ]
          },
          "metadata": {},
          "execution_count": 242
        }
      ]
    },
    {
      "cell_type": "markdown",
      "source": [
        "**Observations :-**  Skewness value for \"age\" field is **0.859** .\n",
        "\"Age\" column is moderately skewed.\n",
        "Because,\n",
        "\n",
        "1.   A value between -0.5 and 0.5 indicates that the distribution is symmetrical.\n",
        "2.   skewness value greater than 0.5 or less than -0.5 indicates a modearte skewed distribution.\n",
        "3.   skewness value greater than 1 or less than -1 indicates a highly skewed distribution.\n",
        "\n",
        "Note :- But, by plotting the age column, we can clearly see that there is a skew towards right. It means the \"age\" column data is \"Partially Right skewed\".\n",
        "\n",
        "So, by doing appropriate statistical measures, we can remove or avoid the outliers present in the data."
      ],
      "metadata": {
        "id": "mlOnVjk4lmqg"
      }
    },
    {
      "cell_type": "code",
      "source": [
        "import plotly.express as px\n",
        "histfig = px.histogram(df, x=\"age\")\n",
        "histfig.show()"
      ],
      "metadata": {
        "colab": {
          "base_uri": "https://localhost:8080/",
          "height": 542
        },
        "id": "4Uj0MkIN1gNg",
        "outputId": "90dbe96e-f383-4319-dc52-38b3d8017d37"
      },
      "execution_count": null,
      "outputs": [
        {
          "output_type": "display_data",
          "data": {
            "text/html": [
              "<html>\n",
              "<head><meta charset=\"utf-8\" /></head>\n",
              "<body>\n",
              "    <div>            <script src=\"https://cdnjs.cloudflare.com/ajax/libs/mathjax/2.7.5/MathJax.js?config=TeX-AMS-MML_SVG\"></script><script type=\"text/javascript\">if (window.MathJax) {MathJax.Hub.Config({SVG: {font: \"STIX-Web\"}});}</script>                <script type=\"text/javascript\">window.PlotlyConfig = {MathJaxConfig: 'local'};</script>\n",
              "        <script src=\"https://cdn.plot.ly/plotly-2.8.3.min.js\"></script>                <div id=\"6fc31336-7429-4604-80de-885796709f87\" class=\"plotly-graph-div\" style=\"height:525px; width:100%;\"></div>            <script type=\"text/javascript\">                                    window.PLOTLYENV=window.PLOTLYENV || {};                                    if (document.getElementById(\"6fc31336-7429-4604-80de-885796709f87\")) {                    Plotly.newPlot(                        \"6fc31336-7429-4604-80de-885796709f87\",                        [{\"alignmentgroup\":\"True\",\"bingroup\":\"x\",\"hovertemplate\":\"age=%{x}<br>count=%{y}<extra></extra>\",\"legendgroup\":\"\",\"marker\":{\"color\":\"#636efa\",\"pattern\":{\"shape\":\"\"}},\"name\":\"\",\"offsetgroup\":\"\",\"orientation\":\"v\",\"showlegend\":false,\"x\":[23.0,19.0,27.0,25.0,24.0,24.0,17.0,27.0,22.0,21.0,17.0,33.0,26.0,18.0,29.0,20.0,24.0,23.0,24.0,30.0,28.0,21.0,27.0,25.0,23.0,27.0,27.0,22.0,20.0,17.0,16.0,26.0,30.0,24.0,28.0,20.0,23.0,20.0,18.0,27.0,22.0,28.0,21.0,22.0,25.0,20.0,25.0,21.0,24.0,25.0,22.0,23.0,25.0,19.0,22.0,25.0,21.0,32.0,23.0,25.0,20.0,21.0,21.0,22.0,41.0,22.0,25.0,20.0,21.0,24.0,22.0,20.0,20.0,18.0,21.0,17.0,21.0,21.0,24.0,26.0,23.0,18.0,24.0,22.0,25.0,23.0,20.0,27.0,24.0,17.0,19.0,23.0,20.0,26.0,25.0,21.0,22.0,24.0,28.0,25.0,28.0,20.0,27.0,29.0,30.0,27.0,26.0,22.0,18.0,23.0,24.0,20.0,28.0,15.0,20.0,23.0,21.0,16.0,16.0,20.0,21.0,17.0,17.0,26.0,32.0,24.0,26.0,27.0,29.0,33.0,25.0,29.0,29.0,23.0,24.0,29.0,32.0,34.0,26.0,29.0,29.0,25.0,22.0,25.0,26.0,25.0,32.0,21.0,22.0,22.0,32.0,27.0,24.0,32.0,22.0,25.0,24.0,23.0,28.0,24.0,20.0,28.0,24.0,30.0,29.0,26.0,22.0,24.0,24.0,24.0,21.0,22.0,34.0,25.0,30.0,24.0,26.0,20.0,22.0,29.0,22.0,26.0,25.0,22.0,25.0,25.0,31.0,25.0,21.0,21.0,31.0,29.0,27.0,21.0,21.0,25.0,25.0,24.0,23.0,23.0,19.0,21.0,24.0,26.0,30.0,25.0,20.0,24.0,26.0,21.0,28.0,28.0,22.0,26.0,24.0,27.0,26.0,33.0,16.0,19.0,22.0,16.0,21.0,26.0,23.0,28.0,22.0,22.0,22.0,24.0,18.0,25.0,24.0,21.0,20.0,24.0,24.0,22.0,24.0,24.0,23.0,27.0,29.0,26.0,18.0,22.0,22.0,27.0,19.0,28.0,20.0,18.0,19.0,22.0,31.0,26.0,28.0,18.0,26.0,20.0,25.0,28.0,25.0,19.0,23.0,20.0,21.0,15.0,18.0,24.0,16.0,24.0,20.0,18.0,21.0,22.0,24.0,27.0,16.0,17.0,22.0,25.0,22.0,27.0,24.0,19.0,25.0,23.0,17.0,21.0,22.0,19.0,29.0,18.0,21.0,21.0,25.0,17.0,15.0,23.0,26.0,19.0,24.0,25.0,23.0,24.0,27.0,33.0,32.0,23.0,21.0,21.0,27.0,29.0,26.0,23.0,29.0,29.0,33.0,19.0,33.0,30.0,30.0,19.0,31.0,29.0,25.0,28.0,32.0,24.0,21.0,29.0,19.0,20.0,27.0,20.0,24.0,24.0,32.0,27.0,28.0,24.0,31.0,32.0,23.0,35.0,37.0,26.0,26.0,32.0,32.0,28.0,28.0,24.0,31.0,28.0,31.0,29.0,27.0,22.0,24.0,20.0,19.0,27.0,16.0,24.0,22.0,17.0,16.0,24.0,17.0,24.0,23.0,19.0,23.0,23.0,16.0,22.0,18.0,27.0,19.0,23.0,17.0,26.0,18.0,24.0,25.0,18.0,16.0,17.0,16.0,23.0,28.0,26.0,31.0,22.0,22.0,27.0,19.0,21.0,18.0,20.0,16.0,20.0,27.0,29.0,24.0,31.0,19.0,38.0,29.0,28.0,25.0,27.0,27.0,25.0,34.0,18.0,23.0,20.0,32.0,25.0,23.0,28.0,26.0,30.0,23.0,21.0,27.0,30.0,26.0,25.0,27.0,33.0,27.0,29.0,34.0,37.0,46.0,40.0,44.0,45.0,40.0,39.0,38.0,35.0,37.0,29.0,39.0,46.0,30.0,41.0,38.0,42.0,32.0,31.0,23.0,19.0,21.0,26.0,26.0,21.0,15.0,25.0,26.0,30.0,22.0,16.0,22.0,22.0,23.0,16.0,27.0,25.0,26.0,24.0,18.0,22.0,18.0,17.0,16.0,25.0,21.0,26.0,27.0,27.0,28.0,36.0,24.0,25.0,28.0,31.0,20.0,32.0,28.0,27.0,20.0,39.0,27.0,28.0,22.0,25.0,29.0,31.0,28.0,20.0,26.0,35.0,26.0,26.0,34.0,29.0,24.0,30.0,32.0,34.0,30.0,26.0,32.0,23.0,24.0,22.0,32.0,31.0,29.0,30.0,28.0,29.0,23.0,33.0,30.0,28.0,27.0,29.0,32.0,31.0,28.0,30.0,25.0,34.0,28.0,21.0,34.0,31.0,29.0,24.0,30.0,36.0,25.0,29.0,23.0,31.0,25.0,26.0,32.0,32.0,28.0,27.0,30.0,25.0,25.0,28.0,21.0,32.0,22.0,42.0,30.0,28.0,29.0,28.0,19.0,22.0,28.0,38.0,32.0,22.0,24.0,23.0,26.0,22.0,25.0,21.0,22.0,31.0,36.0,32.0,28.0,27.0,32.0,36.0,21.0,23.0,30.0,24.0,25.0,34.0,24.0,31.0,31.0,28.0,36.0,33.0,32.0,31.0,30.0,31.0,24.0,34.0,27.0,26.0,27.0,34.0,25.0,27.0,22.0,25.0,21.0,31.0,30.0,28.0,21.0,27.0,29.0,30.0,23.0,27.0,29.0,25.0,26.0,22.0,23.0,22.0,22.0,25.0,32.0,22.0,24.0,23.0,24.0,23.0,29.0,23.0,24.0,22.0,23.0,22.0,26.0,26.0,29.0,30.0,22.0,34.0,28.0,20.0,26.0,34.0,27.0,26.0,26.0,31.0,32.0,25.0,30.0,40.0,31.0,24.0,25.0,28.0,25.0,30.0,25.0,26.0,25.0,32.0,24.0,33.0,27.0,24.0,28.0,30.0,26.0,31.0,24.0,20.0,23.0,24.0,30.0,32.0,25.0,23.0,27.0,19.0,21.0,20.0,29.0,24.0,17.0,20.0,25.0,25.0,24.0,30.0,29.0,27.0,27.0,32.0,26.0,24.0,32.0,24.0,26.0,31.0,28.0,23.0,24.0,25.0,22.0,26.0,21.0,23.0,23.0,25.0,29.0,24.0,26.0,24.0,30.0,30.0,29.0,25.0,24.0,34.0,21.0,26.0,24.0,25.0,27.0,26.0,31.0,25.0,29.0,27.0,26.0,26.0,26.0,22.0,22.0,26.0,24.0,23.0,25.0,33.0,28.0,28.0,24.0,27.0,35.0,26.0,34.0,21.0,29.0,21.0,23.0,26.0,29.0,27.0,29.0,25.0,19.0,30.0,21.0,19.0,24.0,31.0,25.0,24.0,21.0,24.0,21.0,24.0,28.0,29.0,27.0,23.0,28.0,28.0,29.0,22.0,30.0,27.0,26.0,24.0,29.0,26.0,22.0,28.0,22.0,25.0,25.0,26.0,23.0,28.0,26.0,24.0,32.0,26.0,28.0,28.0,23.0,36.0,28.0,27.0,28.0,25.0,22.0,23.0,25.0,33.0,24.0,21.0,26.0,20.0,29.0,25.0,24.0,24.0,26.0,30.0,22.0,25.0,24.0,31.0,20.0,27.0,25.0,18.0,23.0,25.0,23.0,25.0,26.0,29.0,21.0,20.0,24.0,28.0,28.0,24.0,33.0,21.0,27.0,30.0,26.0,28.0,21.0,22.0,20.0,27.0,21.0,26.0,27.0,25.0,30.0,28.0,30.0,31.0,26.0,23.0,22.0,25.0,25.0,26.0,26.0,29.0,20.0,22.0,30.0,20.0,30.0,27.0,24.0,28.0,24.0,25.0,29.0,24.0,29.0,25.0,29.0,23.0,27.0,18.0,30.0,21.0,29.0,27.0,23.0,25.0,29.0,27.0,32.0,28.0,31.0,23.0,24.0,29.0,23.0,25.0,29.0,26.0,26.0,25.0,28.0,26.0,24.0,29.0,33.0,27.0,30.0,30.0,20.0,29.0,26.0,25.0,26.0,28.0,26.0,26.0,25.0,22.0,23.0,22.0,21.0,22.0,27.0,27.0,24.0,21.0,23.0,27.0,24.0,26.0,24.0,28.0,19.0,27.0,28.0,19.0,23.0,23.0,29.0,27.0,21.0,24.0,19.0,23.0,23.0,23.0,21.0,25.0,23.0,26.0,22.0,23.0,21.0,28.0,26.0,20.0,26.0,23.0,20.0,26.0,19.0,21.0,21.0,22.0,22.0,22.0,26.0,24.0,24.0,26.0,23.0,18.0,26.0,24.0,23.0,23.0,20.0,24.0,26.0,25.0,29.0,29.0,27.0,25.0,23.0,21.0,23.0,20.0,19.0,24.0,24.0,25.0,22.0,26.0,26.0,27.0,20.0,25.0,17.0,23.0,22.0,20.0,25.0,20.0,26.0,24.0,20.0,23.0,26.0,23.0,27.0,33.0,22.0,21.0,25.0,20.0,25.0,20.0,22.0,25.0,19.0,28.0,28.0,22.0,24.0,25.0,22.0,32.0,24.0,29.0,20.0,26.0,17.0,23.0,26.0,24.0,22.0,21.0,35.0,31.0,28.0,34.0,28.0,22.0,31.0,34.0,26.0,25.0,23.0,23.0,22.0,19.0,29.0,24.0,23.0,28.0,25.0,20.0,25.0,26.0,24.0,22.0,24.0,19.0,29.0,25.0,25.0,28.0,23.0,28.0,20.0,17.0,30.0,21.0,23.0,31.0,26.0,18.0,25.0,28.0,25.0,21.0,25.0,22.0,31.0,24.0,27.0,27.0,28.0,28.0,24.0,30.0,26.0,27.0,22.0,21.0,19.0,28.0,21.0,24.0,28.0,22.0,23.0,35.0,31.0,19.0,19.0,22.0,26.0,17.0,26.0,26.0,29.0,19.0,38.0,25.0,20.0,29.0,27.0,24.0,31.0,26.0,25.0,26.0,20.0,19.0,22.0,31.0,28.0,25.0,28.0,27.0,21.0,29.0,24.0,25.0,29.0,30.0,36.0,24.0,26.0,24.0,24.0,18.0,25.0,29.0,24.0,21.0,24.0,27.0,24.0,29.0,26.0,21.0,28.0,32.0,30.0,26.0,36.0,34.0,27.0,28.0,31.0,29.0,25.0,24.0,27.0,31.0,28.0,20.0,22.0,26.0,33.0,19.0,25.0,19.0,22.0,19.0,33.0,29.0,36.0,32.0,24.0,28.0,27.0,22.0,25.0,26.0,32.0,21.0,32.0,36.0,32.0,27.0,22.0,23.0,30.0,21.0,28.0,30.0,21.0,19.0,31.0,25.0,23.0,26.0,23.0,24.0,26.0,22.0,23.0,25.0,26.0,24.0,28.0,23.0,32.0,25.0,30.0,25.0,22.0,30.0,27.0,20.0,28.0,25.0,26.0,33.0,30.0,29.0,30.0,23.0,28.0,21.0,23.0,29.0,27.0,21.0,23.0,30.0,33.0,31.0,26.0,23.0,25.0,29.0,21.0,30.0,25.0,22.0,36.0,25.0,19.0,24.0,23.0,24.0,21.0,33.0,28.0,34.0,24.0,23.0,31.0,34.0,32.0,32.0,27.0,25.0,32.0,28.0,25.0,30.0,26.0,32.0,25.0,24.0,30.0,25.0,23.0,28.0,24.0,30.0,27.0,19.0,23.0,22.0,37.0,31.0,27.0,33.0,21.0,30.0,29.0,28.0,26.0,32.0,30.0,24.0,24.0,23.0,24.0,31.0,33.0,26.0,30.0,29.0,30.0,27.0,29.0,22.0,28.0,20.0,21.0,26.0,26.0,27.0,23.0,21.0,20.0,26.0,29.0,27.0,21.0,24.0,28.0,29.0,26.0,28.0,30.0,21.0,29.0,28.0,24.0,31.0,31.0,21.0,30.0,26.0,35.0,25.0,31.0,23.0,21.0,28.0,24.0,26.0,26.0,22.0,32.0,21.0,24.0,21.0,26.0,33.0,27.0,27.0,22.0,22.0,23.0,29.0,26.0,24.0,23.0,20.0,25.0,32.0,28.0,26.0,25.0,25.0,19.0,27.0,26.0,26.0,23.0,26.0,25.0,27.0,39.0,23.0,24.0,22.0,27.0,21.0,25.0,22.0,25.0,30.0,23.0,26.0,36.0,24.0,25.0,27.0,22.0,24.0,26.0,29.0,27.0,29.0,28.0,24.0,24.0,26.0,20.0,27.0,26.0,34.0,28.0,31.0,25.0,21.0,27.0,26.0,29.0,31.0,24.0,26.0,29.0,27.0,32.0,28.0,32.0,31.0,35.0,26.0,23.0,25.0,31.0,30.0,25.0,22.0,32.0,27.0,33.0,32.0,35.0,28.0,27.0,33.0,25.0,23.0,24.0,25.0,29.0,28.0,24.0,30.0,25.0,25.0,31.0,27.0,36.0,24.0,25.0,31.0,23.0,26.0,29.0,23.0,30.0,39.0,26.0,30.0,23.0,33.0,26.0,26.0,24.0,33.0,30.0,39.0,29.0,22.0,30.0,30.0,34.0,36.0,25.0,27.0,31.0,25.0,27.0,29.0,23.0,32.0,34.0,36.0,24.0,28.0,29.0,22.0,31.0,27.0,26.0,32.0,28.0,23.0,29.0,38.0,32.0,31.0,23.0,23.0,32.0,29.0,26.0,32.0,35.0,24.0,25.0,38.0,27.0,30.0,29.0,33.0,26.0,27.0,27.0,21.0,33.0,24.0,20.0,30.0,27.0,29.0,25.0,22.0,26.0,27.0,30.0,29.0,25.0,32.0,24.0,25.0,35.0,25.0,30.0,31.0,32.0,21.0,27.0,26.0,32.0,26.0,23.0,29.0,20.0,19.0,27.0,21.0,21.0,28.0,28.0,26.0,29.0,25.0,30.0,29.0,23.0,28.0,33.0,19.0,18.0,25.0,28.0,24.0,26.0,24.0,23.0,30.0,28.0,25.0,25.0,31.0,23.0,34.0,27.0,33.0,28.0,28.0,28.0,34.0,22.0,26.0,25.0,24.0,23.0,27.0,28.0,36.0,26.0,24.0,30.0,25.0,32.0,22.0,31.0,32.0,26.0,20.0,28.0,25.0,26.0,31.0,33.0,19.0,27.0,26.0,24.0,25.0,20.0,28.0,29.0,38.0,34.0,22.0,28.0,26.0,24.0,26.0,24.0,22.0,28.0,22.0,25.0,23.0,25.0,31.0,29.0,21.0,30.0,25.0,34.0,26.0,27.0,21.0,21.0,27.0,30.0,25.0,19.0,34.0,25.0,23.0,30.0,22.0,26.0,27.0,30.0,27.0,29.0,27.0,28.0,27.0,24.0,25.0,30.0,20.0,33.0,21.0,28.0,33.0,25.0,27.0,28.0,27.0,21.0,28.0,27.0,31.0,27.0,24.0,22.0,30.0,24.0,22.0,28.0,29.0,29.0,27.0,22.0,24.0,25.0,34.0,25.0,30.0,22.0,29.0,27.0,25.0,21.0,24.0,31.0,23.0,24.0,27.0,19.0,32.0,30.0,23.0,35.0,31.0,32.0,29.0,27.0,27.0,21.0,31.0,27.0,31.0,19.0,26.0,23.0,28.0,25.0,26.0,20.0,16.0,27.0,24.0,28.0,27.0,29.0,24.0,22.0,23.0,27.0,28.0,20.0,26.0,25.0,22.0,31.0,30.0,31.0,25.0,20.0,34.0,22.0,25.0,23.0,24.0,24.0,22.0,27.0,29.0,27.0,30.0,31.0,22.0,27.0,23.0,27.0,33.0,34.0,33.0,27.0,29.0,23.0,35.0,31.0,33.0,29.0,26.0,28.0,25.0,23.0,23.0,26.0,23.0,23.0,23.0,21.0,28.0,19.0,19.0,26.0,19.0,24.0,31.0,18.0,34.0,26.0,23.0,20.0,25.0,30.0,26.0,21.0,23.0,21.0,25.0,18.0,24.0,24.0,25.0,24.0,22.0,26.0,25.0,24.0,26.0,26.0,19.0,20.0,28.0,20.0,21.0,28.0,26.0,21.0,19.0,25.0,23.0,29.0,21.0,19.0,23.0,25.0,25.0,31.0,25.0,24.0,26.0,24.0,24.0,25.0,20.0,24.0,22.0,22.0,21.0,24.0,26.0,29.0,28.0,23.0,28.0,21.0,28.0,17.0,32.0,24.0,25.0,23.0,29.0,20.0,25.0,26.0,22.0,19.0,21.0,23.0,19.0,20.0,23.0,19.0,30.0,25.0,21.0,22.0,31.0,27.0,18.0,24.0,21.0,22.0,25.0,21.0,27.0,27.0,24.0,28.0,22.0,22.0,26.0,20.0,24.0,22.0,22.0,26.0,17.0,17.0,29.0,27.0,28.0,27.0,23.0,23.0,29.0,20.0,25.0,21.0,21.0,23.0,28.0,20.0,29.0,24.0,20.0,26.0,23.0,30.0,34.0,23.0,30.0,26.0,25.0,27.0,25.0,32.0,35.0,30.0,38.0,18.0,25.0,27.0,32.0,34.0,30.0,30.0,26.0,27.0,28.0,33.0,26.0,22.0,34.0,22.0,23.0,26.0,28.0,23.0,25.0,23.0,21.0,20.0,22.0,22.0,27.0,24.0,25.0,32.0,25.0,23.0,30.0,28.0,28.0,22.0,36.0,26.0,30.0,26.0,25.0,18.0,21.0,22.0,26.0,27.0,28.0,28.0,26.0,27.0,18.0,29.0,34.0,21.0,26.0,25.0,20.0,21.0,29.0,28.0,29.0,25.0,25.0,31.0,22.0,23.0,24.0,20.0,23.0,19.0,23.0,22.0,23.0,26.0,22.0,27.0,24.0,27.0,25.0,25.0,18.0,22.0,21.0,21.0,27.0,22.0,21.0,20.0,20.0,26.0,30.0,18.0,25.0,22.0,26.0,28.0,24.0,28.0,31.0,25.0,27.0,21.0,25.0,20.0,21.0,29.0,23.0,23.0,29.0,22.0,20.0,24.0,19.0,29.0,22.0,22.0,24.0,28.0,22.0,25.0,27.0,22.0,23.0,21.0,21.0,20.0,26.0,22.0,22.0,26.0,21.0,25.0,26.0,25.0,18.0,23.0,22.0,21.0,22.0,20.0,24.0,21.0,21.0,20.0,22.0,25.0,29.0,17.0,18.0,20.0,25.0,23.0,23.0,29.0,26.0,21.0,20.0,26.0,23.0,23.0,21.0,21.0,21.0,22.0,23.0,27.0,28.0,24.0,23.0,23.0,17.0,17.0,28.0,24.0,21.0,24.0,20.0,23.0,20.0,22.0,26.0,25.0,29.0,29.0,16.0,26.0,20.0,24.0,15.0,27.0,21.0,36.0,18.0,18.0,23.0,23.0,23.0,32.0,28.0,21.0,24.0,24.0,15.0,20.0,17.0,21.0,22.0,21.0,26.0,28.0,26.0,28.0,28.0,27.0,19.0,26.0,28.0,23.0,24.0,24.0,28.0,20.0,22.0,26.0,20.0,22.0,19.0,18.0,19.0,20.0,27.0,19.0,21.0,22.0,29.0,24.0,19.0,25.0,24.0,23.0,22.0,22.0,21.0,21.0,20.0,23.0,26.0,24.0,27.0,20.0,19.0,20.0,16.0,21.0,22.0,18.0,24.0,22.0,26.0,17.0,22.0,19.0,19.0,28.0,24.0,24.0,22.0,24.0,24.0,22.0,24.0,26.0,25.0,22.0,23.0,21.0,18.0,21.0,20.0,20.0,32.0,19.0,24.0,21.0,18.0,24.0,16.0,22.0,22.0,21.0,20.0,19.0,21.0,21.0,27.0,26.0,24.0,29.0,27.0,20.0,27.0,23.0,17.0,23.0,21.0,17.0,24.0,17.0,20.0,21.0,25.0,23.0,29.0,28.0,25.0,22.0,18.0,25.0,19.0,18.0,21.0,22.0,22.0,25.0,20.0,25.0,23.0,22.0,25.0,16.0,23.0,21.0,15.0,22.0,17.0,18.0,24.0,22.0,22.0,27.0,18.0,27.0,28.0,28.0,24.0,18.0,20.0,22.0,27.0,19.0,22.0,22.0,22.0,23.0,26.0,21.0,19.0,27.0,26.0,16.0,25.0,20.0,21.0,24.0,22.0,21.0,26.0,27.0,27.0,17.0,21.0,22.0,19.0,24.0,22.0,19.0,20.0,26.0,25.0,23.0,16.0,25.0,20.0,19.0,27.0,22.0,23.0,18.0,18.0,27.0,23.0,21.0,27.0,21.0,21.0,24.0,26.0,18.0,21.0,21.0,26.0,27.0,21.0,18.0,17.0,20.0,22.0,19.0,21.0,25.0,21.0,20.0,24.0,19.0,20.0,30.0,25.0,19.0,21.0,25.0,24.0,20.0,24.0,25.0,21.0,23.0,26.0,22.0,20.0,25.0,20.0,17.0,27.0,19.0,28.0,21.0,22.0,23.0,23.0,17.0,25.0,22.0,22.0,20.0,25.0,16.0,19.0,18.0,20.0,23.0,19.0,21.0,22.0,21.0,16.0,24.0,22.0,26.0,22.0,29.0,18.0,19.0,23.0,19.0,24.0,28.0,23.0,23.0,24.0,29.0,18.0,24.0,19.0,19.0,19.0,21.0,20.0,23.0,27.0,25.0,19.0,18.0,25.0,23.0,21.0,34.0,21.0,29.0,18.0,25.0,15.0,18.0,27.0,21.0,22.0,22.0,21.0,28.0,30.0,23.0,24.0,28.0,19.0,22.0,26.0,22.0,29.0,30.0,29.0,24.0,26.0,23.0,25.0,25.0,28.0,26.0,24.0,31.0,19.0,20.0,23.0,24.0,19.0,18.0,18.0,24.0,18.0,18.0,20.0,22.0,23.0,21.0,26.0,35.0,20.0,23.0,33.0,33.0,24.0,24.0,19.0,23.0,37.0,25.0,23.0,19.0,27.0,20.0,22.0,20.0,28.0,24.0,27.0,24.0,35.0,22.0,24.0,30.0,31.0,20.0,23.0,23.0,23.0,21.0,31.0,28.0,34.0,25.0,29.0,29.0,29.0,30.0,29.0,20.0,28.0,20.0,20.0,20.0,28.0,30.0,21.0,22.0,35.0,32.0,31.0,25.0,32.0,33.0,32.0,20.0,23.0,26.0,22.0,22.0,27.0,25.0,33.0,25.0,29.0,22.0,31.0,29.0,27.0,26.0,27.0,30.0,30.0,26.0,23.0,29.0,33.0,26.0,30.0,24.0,24.0,22.0,27.0,27.0,27.0,24.0,38.0,36.0,27.0,24.0,32.0,28.0,23.0,28.0,24.0,23.0,26.0,27.0,20.0,26.0,31.0,34.0,24.0,30.0,25.0,26.0,37.0,29.0,27.0,21.0,25.0,27.0,32.0,26.0,32.0,26.0,27.0,30.0,24.0,25.0,29.0,26.0,26.0,26.0,35.0,33.0,23.0,23.0,24.0,27.0,32.0,33.0,28.0,26.0,24.0,24.0,24.0,23.0,22.0,27.0,30.0,24.0,26.0,29.0,21.0,22.0,33.0,34.0,25.0,19.0,24.0,23.0,27.0,28.0,24.0,22.0,41.0,28.0,22.0,30.0,26.0,20.0,33.0,21.0,23.0,29.0,25.0,28.0,27.0,23.0,38.0,31.0,31.0,26.0,29.0,24.0,28.0,23.0,30.0,28.0,30.0,23.0,24.0,22.0,32.0,28.0,20.0,32.0,35.0,28.0,23.0,20.0,22.0,26.0,38.0,29.0,30.0,33.0,23.0,26.0,24.0,37.0,27.0,24.0,26.0,22.0,24.0,30.0,34.0,31.0,36.0,23.0,26.0,22.0,24.0,28.0,22.0,27.0,22.0,21.0,31.0,24.0,30.0,23.0,33.0,23.0,24.0,24.0,21.0,30.0,30.0,31.0,20.0,23.0,18.0,24.0,25.0,24.0,26.0,27.0,19.0,29.0,19.0,24.0,26.0,18.0,19.0,29.0,23.0,22.0,28.0,24.0,22.0,20.0,28.0,25.0,27.0,24.0,22.0,25.0,25.0,30.0,23.0,31.0,32.0,31.0,22.0,28.0,21.0,28.0,29.0,24.0,24.0,29.0,24.0,28.0,18.0,26.0,20.0,18.0,22.0,24.0,23.0,23.0,25.0,26.0,30.0,32.0,24.0,27.0,39.0,25.0,35.0,33.0,24.0,37.0,28.0,21.0,33.0,28.0,33.0,33.0,41.0,45.0,27.0,28.0,30.0,29.0,34.0,30.0,31.0,46.0,49.0,25.0,31.0,34.0,25.0,28.0,28.0,23.0,19.0,27.0,26.0,22.0,44.0,29.0,40.0,29.0,35.0,38.0,33.0,20.0,28.0,25.0,30.0,24.0,29.0,25.0,23.0,24.0,34.0,35.0,33.0,25.0,27.0,38.0,30.0,30.0,21.0,28.0,39.0,45.0,39.0,26.0,26.0,27.0,35.0,24.0,28.0,19.0,30.0,38.0,33.0,37.0,30.0,32.0,22.0,26.0,38.0,34.0,46.0,33.0,21.0,29.0,39.0,46.0,24.0,40.0,36.0,23.0,33.0,23.0,40.0,45.0,29.0,40.0,46.0,31.0,44.0,22.0,22.0,23.0,41.0,30.0,19.0,39.0,34.0,30.0,24.0,28.0,27.0,19.0,20.0,34.0,31.0,23.0,30.0,36.0,41.0,34.0,29.0,36.0,34.0,34.0,25.0,37.0,42.0,38.0,35.0,33.0,21.0,43.0,25.0,22.0,19.0,33.0,33.0,41.0,35.0,23.0,37.0,28.0,28.0,39.0,33.0,23.0,24.0,22.0,17.0,37.0,24.0,24.0,24.0,37.0,24.0,28.0,34.0,34.0,40.0,35.0,30.0,37.0,38.0,36.0,32.0,31.0,37.0,32.0,36.0,33.0,26.0,26.0,42.0,30.0,26.0,27.0,21.0,34.0,47.0,28.0,39.0,28.0,35.0,26.0,26.0,29.0,31.0,25.0,24.0,21.0,25.0,32.0,24.0,35.0,31.0,28.0,31.0,24.0,27.0,22.0,23.0,26.0,27.0,42.0,32.0,24.0,33.0,26.0,31.0,26.0,40.0,25.0,36.0,28.0,24.0,40.0,19.0,27.0,23.0,39.0,35.0,27.0,21.0,23.0,26.0,23.0,30.0,22.0,22.0,24.0,31.0,30.0,24.0,28.0,26.0,30.0,27.0,30.0,29.0,30.0,37.0,27.0,36.0,27.0,36.0,31.0,34.0,29.0,30.0,36.0,24.0,46.0,38.0,31.0,21.0,27.0,36.0,24.0,21.0,32.0,25.0,27.0,32.0,37.0,24.0,22.0,31.0,33.0,35.0,38.0,25.0,31.0,24.0,25.0,25.0,29.0,31.0,28.0,22.0,23.0,20.0,29.0,32.0,21.0,27.0,24.0,30.0,26.0,47.0,24.0,26.0,32.0,27.0,38.0,40.0,28.0,26.0,25.0,44.0,38.0,31.0,31.0,36.0,35.0,25.0,29.0,42.0,30.0,24.0,36.0,31.0,39.0,27.0,23.0,26.0,36.0,28.0,32.0,36.0,27.0,36.0,31.0,28.0,34.0,29.0,35.0,21.0,33.0,28.0,28.0,28.0,31.0,31.0,27.0,33.0,25.0,26.0,28.0,23.0,26.0,30.0,25.0,43.0,34.0,30.0,29.0,28.0,29.0,25.0,32.0,42.0,24.0,37.0,28.0,34.0,36.0,30.0,35.0,38.0,40.0,34.0,27.0,36.0,28.0,34.0,36.0,31.0,33.0,27.0,46.0,30.0,23.0,23.0,28.0,38.0,40.0,29.0,35.0,24.0,44.0,32.0,27.0,46.0,29.0,30.0,29.0,32.0,32.0,29.0,29.0,26.0,30.0,27.0,29.0,22.0,23.0,28.0,25.0,29.0,27.0,30.0,26.0,27.0,25.0,26.0,29.0,29.0,29.0,29.0,22.0,27.0,32.0,29.0,26.0,26.0,40.0,21.0,25.0,26.0,30.0,26.0,31.0,33.0,27.0,33.0,21.0,33.0,23.0,40.0,33.0,27.0,25.0,32.0,29.0,25.0,29.0,22.0,26.0,37.0,26.0,36.0,28.0,23.0,32.0,29.0,29.0,33.0,30.0,26.0,29.0,21.0,34.0,28.0,24.0,27.0,28.0,30.0,31.0,21.0,26.0,25.0,29.0,29.0,24.0,27.0,24.0,20.0,33.0,24.0,24.0,23.0,21.0,25.0,30.0,27.0,29.0,30.0,28.0,25.0,30.0,29.0,22.0,31.0,32.0,26.0,34.0,29.0,31.0,32.0,36.0,26.0,32.0,26.0,30.0,31.0,23.0,28.0,23.0,23.0,24.0,24.0,35.0,23.0,29.0,24.0,26.0,25.0,21.0,24.0,28.0,40.0,22.0,23.0,22.0,33.0,27.0,25.0,29.0,24.0,28.0,27.0,25.0,52.0,33.0,26.0,27.0,28.0,27.0,32.0,27.0,22.0,27.0,27.0,29.0,28.0,29.0,30.0,22.0,22.0,34.0,25.0,26.0,23.0,25.0,38.0,26.0,34.0,25.0,25.0,25.0,25.0,30.0,33.0,25.0,27.0,24.0,28.0,26.0,27.0,29.0,25.0,29.0,35.0,36.0,35.0,29.0,29.0,29.0,29.0,28.0,25.0,25.0,28.0,35.0,36.0,24.0,30.0,44.0,33.0,25.0,32.0,27.0,30.0,30.0,25.0,27.0,27.0,25.0,30.0,27.0,39.0,28.0,42.0,24.0,28.0,22.0,23.0,36.0,26.0,24.0,37.0,33.0,27.0,25.0,33.0,27.0,29.0,25.0,20.0,20.0,34.0,25.0,27.0,28.0,28.0,24.0,26.0,30.0,31.0,30.0,24.0,31.0,27.0,26.0,25.0,24.0,37.0,32.0,32.0,22.0,28.0,31.0,29.0,26.0,27.0,24.0,24.0,26.0,27.0,24.0,22.0,29.0,26.0,32.0,26.0,24.0,26.0,29.0,31.0,26.0,25.0,22.0,29.0,23.0,29.0,32.0,31.0,32.0,38.0,28.0,23.0,25.0,31.0,29.0,23.0,28.0,31.0,31.0,28.0,32.0,33.0,24.0,26.0,19.0,24.0,28.0,25.0,25.0,28.0,31.0,37.0,29.0,28.0,21.0,22.0,32.0,29.0,34.0,24.0,36.0,30.0,32.0,29.0,33.0,29.0,32.0,25.0,32.0,23.0,22.0,23.0,24.0,30.0,21.0,29.0,29.0,28.0,28.0,31.0,32.0,31.0,31.0,28.0,27.0,25.0,25.0,27.0,24.0,24.0,21.0,25.0,29.0,32.0,26.0,40.0,29.0,28.0,21.0,25.0,31.0,26.0,26.0,27.0,23.0,23.0,23.0,22.0,35.0,38.0,22.0,25.0,29.0,32.0,24.0,34.0,28.0,30.0,24.0,30.0,29.0,31.0,28.0,30.0,31.0,21.0,23.0,39.0,25.0,24.0,33.0,25.0,32.0,39.0,26.0,20.0,33.0,33.0,28.0,22.0,26.0,21.0,25.0,24.0,29.0,27.0,23.0,34.0,22.0,34.0,26.0,30.0,22.0,22.0,25.0,30.0,30.0,30.0,26.0,25.0,30.0,22.0,32.0,25.0,38.0,25.0,31.0,28.0,28.0,34.0,24.0,26.0,23.0,27.0,27.0,24.0,25.0,26.0,27.0,24.0,27.0,28.0,30.0,29.0,28.0,34.0,23.0,33.0,27.0,25.0,27.0,33.0,32.0,35.0,23.0,25.0,22.0,29.0,25.0,29.0,30.0,33.0,26.0,33.0,23.0,23.0,34.0,31.0,28.0,28.0,30.0,26.0,31.0,24.0,28.0,27.0,26.0,23.0,23.0,27.0,28.0,27.0,27.0,23.0,32.0,25.0,29.0,30.0,23.0,29.0,25.0,28.0,29.0,26.0,36.0,23.0,24.0,26.0,23.0,32.0,27.0,28.0,27.0,28.0,26.0,28.0,29.0,24.0,24.0,31.0,26.0,27.0,23.0,26.0,23.0,25.0,21.0,33.0,26.0,24.0,31.0,35.0,30.0,29.0,34.0,28.0,28.0,28.0,35.0,34.0,29.0,20.0,27.0,29.0,29.0,29.0,32.0,28.0,26.0,23.0,38.0,28.0,28.0,32.0,25.0,23.0,31.0,23.0,24.0,25.0,28.0,30.0,22.0,26.0,28.0,23.0,21.0,26.0,26.0,24.0,26.0,28.0,24.0,29.0,30.0,40.0,35.0,27.0,25.0,24.0,28.0,29.0,22.0,24.0,29.0,25.0,25.0,22.0,23.0,26.0,28.0,24.0,18.0,24.0,19.0,19.0,17.0,22.0,20.0,22.0,25.0,17.0,17.0,17.0,19.0,21.0,22.0,24.0,22.0,17.0,18.0,22.0,18.0,19.0,24.0,18.0,20.0,18.0,18.0,16.0,18.0,25.0,19.0,19.0,22.0,18.0,17.0,19.0,21.0,18.0,24.0,21.0,19.0,20.0,20.0,16.0,22.0,19.0,18.0,15.0,19.0,21.0,18.0,18.0,20.0,17.0,19.0,20.0,18.0,19.0,16.0,17.0,17.0,18.0,16.0,17.0,21.0,17.0,19.0,16.0,19.0,20.0,17.0,17.0,17.0,16.0,16.0,17.0,15.0,16.0,17.0,18.0,18.0,19.0,16.0,25.0,24.0,21.0,34.0,26.0,28.0,23.0,33.0,20.0,18.0,32.0,28.0,28.0,27.0,26.0,22.0,17.0,27.0,27.0,28.0,24.0,24.0,22.0,23.0,22.0,18.0,23.0,30.0,24.0,28.0,30.0,28.0,28.0,22.0,27.0,25.0,35.0,29.0,22.0,26.0,33.0,31.0,26.0,25.0,28.0,27.0,29.0,26.0,24.0,28.0,25.0,24.0,28.0,22.0,26.0,32.0,28.0,27.0,20.0,28.0,25.0,30.0,24.0,26.0,36.0,34.0,29.0,34.0,22.0,35.0,24.0,23.0,36.0,34.0,27.0,29.0,32.0,31.0,35.0,29.0,31.0,24.0,28.0,27.0,32.0,37.0,22.0,31.0,28.0,26.0,32.0,25.0,32.0,32.0,33.0,26.0,25.0,25.0,30.0,29.0,22.0,30.0,26.0,23.0,25.0,20.0,22.0,27.0,22.0,27.0,25.0,25.0,23.0,28.0,27.0,23.0,23.0,26.0,24.0,22.0,32.0,28.0,23.0,25.0,27.0,22.0,23.0,28.0,23.0,26.0,20.0,20.0,25.0,33.0,27.0,22.0,25.0,32.0,29.0,29.0,31.0,22.0,21.0,24.0,30.0,28.0,28.0,32.0,26.0,21.0,28.0,25.0,28.0,23.0,26.0,22.0,27.0,27.0,27.0,25.0,33.0,23.0,25.0,23.0,26.0,24.0,29.0,21.0,23.0,23.0,34.0,26.0,20.0,24.0,19.0,18.0,26.0,25.0,22.0,23.0,28.0,20.0,25.0,19.0,21.0,21.0,32.0,27.0,27.0,25.0,26.0,26.0,30.0,29.0,19.0,29.0,21.0,32.0,26.0,24.0,27.0,28.0,24.0,31.0,24.0,23.0,24.0,29.0,23.0,28.0,22.0,28.0,30.0,29.0,21.0,22.0,27.0,20.0,30.0,17.0,22.0,26.0,28.0,25.0,20.0,29.0,26.0,25.0,25.0,23.0,25.0,23.0,25.0,30.0,30.0,28.0,29.0,24.0,33.0,33.0,24.0,30.0,30.0,24.0,28.0,23.0,26.0,27.0,22.0,26.0,25.0,29.0,28.0,23.0,27.0,22.0,23.0,28.0,26.0,26.0,24.0,18.0,24.0,26.0,31.0,28.0,28.0,32.0,26.0,23.0,25.0,27.0,27.0,22.0,22.0,28.0,24.0,28.0,21.0,21.0,21.0,29.0,24.0,21.0,24.0,24.0,29.0,25.0,28.0,28.0,29.0,32.0,26.0,28.0,25.0,27.0,20.0,23.0,28.0,27.0,25.0,25.0,24.0,23.0,34.0,27.0,26.0,26.0,26.0,27.0,24.0,26.0,27.0,23.0,26.0,25.0,32.0,22.0,24.0,24.0,30.0,33.0,37.0,25.0,24.0,24.0,23.0,27.0,22.0,26.0,20.0,33.0,22.0,26.0,25.0,24.0,27.0,30.0,29.0,32.0,23.0,22.0,22.0,32.0,27.0,21.0,21.0,23.0,20.0,31.0,21.0,31.0,19.0,26.0,35.0,25.0,22.0,28.0,33.0,20.0,26.0,35.0,28.0,28.0,27.0,20.0,20.0,34.0,23.0,36.0,25.0,22.0,30.0,32.0,27.0,30.0,30.0,22.0,22.0,28.0,29.0,25.0,29.0,31.0,25.0,36.0,28.0,29.0,30.0,25.0,25.0,36.0,24.0,24.0,28.0,26.0,21.0,18.0,35.0,36.0,20.0,31.0,20.0,25.0,30.0,34.0,27.0,22.0,28.0,35.0,21.0,31.0,24.0,39.0,27.0,30.0,31.0,25.0,22.0,24.0,25.0,23.0,25.0,35.0,30.0,23.0,34.0,21.0,19.0,24.0,24.0,19.0,24.0,28.0,22.0,24.0,29.0,26.0,31.0,23.0,18.0,33.0,23.0,30.0,22.0,17.0,30.0,25.0,28.0,26.0,27.0,20.0,30.0,32.0,23.0,22.0,24.0,31.0,30.0,26.0,29.0,16.0,22.0,24.0,25.0,32.0,40.0,26.0,24.0,26.0,26.0,41.0,32.0,28.0,30.0,22.0,31.0,32.0,33.0,26.0,25.0,34.0,22.0,22.0,27.0,33.0,31.0,32.0,27.0,27.0,26.0,31.0,26.0,30.0,26.0,24.0,22.0,31.0,27.0,25.0,29.0,28.0,24.0,32.0,23.0,35.0,32.0,35.0,29.0,27.0,25.0,20.0,23.0,28.0,23.0,30.0,19.0,31.0,19.0,28.0,28.0,25.0,32.0,33.0,37.0,22.0,29.0,20.0,26.0,28.0,18.0,32.0,24.0,29.0,30.0,20.0,26.0,34.0,26.0,21.0,30.0,31.0,29.0,27.0,25.0,25.0,35.0,24.0,26.0,32.0,27.0,22.0,33.0,35.0,35.0,35.0,26.0,20.0,30.0,29.0,20.0,25.0,29.0,31.0,20.0,22.0,24.0,27.0,16.0,25.0,29.0,22.0,27.0,29.0,31.0,20.0,26.0,24.0,30.0,25.0,36.0,24.0,19.0,38.0,32.0,22.0,22.0,35.0,29.0,30.0,27.0,30.0,28.0,23.0,40.0,19.0,18.0,23.0,26.0,24.0,25.0,29.0,27.0,29.0,26.0,22.0,33.0,30.0,32.0,21.0,27.0,36.0,30.0,31.0,34.0,24.0,22.0,37.0,37.0,24.0,18.0,34.0,25.0,27.0,29.0,27.0,22.0,29.0,21.0,26.0,18.0,28.0,35.0,23.0,41.0,22.0,32.0,33.0,36.0,25.0,28.0,22.0,30.0,38.0,33.0,25.0,15.0,29.0,30.0,29.0,26.0,31.0,23.0,28.0,35.0,28.0,29.0,22.0,27.0,18.0,20.0,24.0,25.0,27.0,28.0,35.0,32.0,28.0,22.0,22.0,17.0,32.0,23.0,17.0,23.0,33.0,24.0,20.0,25.0,25.0,22.0,23.0,31.0,37.0,29.0,25.0,25.0,21.0,16.0,31.0,20.0,23.0,28.0,24.0,34.0,36.0,31.0,33.0,34.0,24.0,23.0,31.0,26.0,28.0,24.0,33.0,24.0,25.0,22.0,26.0,26.0,26.0,27.0,25.0,23.0,36.0,23.0,22.0,30.0,28.0,26.0,25.0,33.0,29.0,28.0,20.0,27.0,28.0,22.0,24.0,18.0,23.0,24.0,25.0,26.0,25.0,27.0,22.0,27.0,22.0,27.0,28.0,31.0,28.0,28.0,28.0,24.0,22.0,25.0,27.0,25.0,26.0,28.0,26.0,27.0,25.0,27.0,30.0,31.0,27.0,23.0,25.0,21.0,24.0,21.0,28.0,34.0,25.0,23.0,31.0,28.0,21.0,24.0,29.0,27.0,23.0,22.0,23.0,24.0,22.0,24.0,32.0,31.0,30.0,22.0,25.0,30.0,27.0,30.0,24.0,30.0,27.0,29.0,21.0,29.0,34.0,23.0,27.0,30.0,25.0,31.0,24.0,26.0,31.0,28.0,24.0,28.0,28.0,33.0,35.0,25.0,19.0,29.0,26.0,24.0,28.0,29.0,20.0,27.0,30.0,23.0,25.0,30.0,23.0,28.0,27.0,28.0,31.0,24.0,32.0,26.0,31.0,27.0,20.0,31.0,22.0,32.0,23.0,23.0,26.0,23.0,24.0,28.0,21.0,30.0,24.0,28.0,33.0,25.0,27.0,24.0,30.0,30.0,21.0,25.0,21.0,19.0,23.0,22.0,24.0,23.0,22.0,32.0,29.0,28.0,27.0,31.0,28.0,29.0,29.0,24.0,22.0,22.0,32.0,27.0,25.0,26.0,33.0,26.0,27.0,30.0,18.0,23.0,26.0,24.0,26.0,23.0,25.0,24.0,19.0,28.0,30.0,29.0,25.0,26.0,27.0,26.0,32.0,22.0,27.0,31.0,28.0,24.0,24.0,25.0,24.0,27.0,26.0,27.0,28.0,28.0,25.0,22.0,31.0,23.0,21.0,28.0,30.0,24.0,25.0,23.0,30.0,27.0,26.0,28.0,30.0,21.0,23.0,27.0,28.0,28.0,27.0,22.0,23.0,27.0,30.0,33.0,27.0,27.0,25.0,32.0,19.0,23.0,32.0,27.0,30.0,24.0,28.0,26.0,29.0,26.0,29.0,26.0,27.0,26.0,25.0,31.0,22.0,31.0,24.0,27.0,27.0,24.0,24.0,24.0,27.0,24.0,28.0,31.0,25.0,26.0,28.0,24.0,32.0,28.0,22.0,26.0,22.0,29.0,29.0,25.0,23.0,26.0,22.0,22.0,19.0,28.0,26.0,26.0,27.0,25.0,22.0,23.0,23.0,27.0,24.0,34.0,28.0,24.0,31.0,24.0,25.0,27.0,29.0,26.0,33.0,27.0,26.0,22.0,29.0,28.0,27.0,28.0,29.0,19.0,25.0,28.0,24.0,31.0,33.0,23.0,26.0,24.0,25.0,22.0,22.0,21.0,36.0,29.0,21.0,27.0,26.0,29.0,28.0,23.0,26.0,26.0,24.0,25.0,28.0,21.0,25.0,29.0,30.0,22.0,27.0,27.0,30.0,28.0,30.0,28.0,23.0,20.0,27.0,19.0,26.0,21.0,28.0,26.0,32.0,28.0,24.0,26.0,28.0,30.0,23.0,26.0,26.0,28.0,24.0,28.0,32.0,26.0,27.0,30.0,25.0,20.0,25.0,26.0,22.0,27.0,26.0,32.0,27.0,24.0,27.0,29.0,26.0,28.0,27.0,29.0,29.0,34.0,33.0,23.0,25.0,32.0,27.0,32.0,25.0,27.0,29.0,39.0,33.0,26.0,35.0,33.0,24.0,23.0,23.0,28.0,27.0,32.0,35.0,26.0,34.0,36.0,26.0,27.0,30.0,34.0,32.0,25.0,26.0,27.0,25.0,36.0,33.0,27.0,26.0,31.0,28.0,36.0,31.0,22.0,26.0,21.0,31.0,30.0,20.0,22.0,36.0,32.0,29.0,29.0,24.0,22.0,24.0,32.0,33.0,22.0,30.0,27.0,35.0,28.0,31.0,32.0,25.0,25.0,27.0,36.0,25.0,27.0,28.0,23.0,28.0,31.0,18.0,28.0,33.0,27.0,23.0,37.0,27.0,22.0,28.0,24.0,20.0,38.0,29.0,21.0,28.0,33.0,27.0,31.0,31.0,25.0,31.0,27.0,31.0,22.0,29.0,30.0,25.0,30.0,32.0,35.0,23.0,26.0,28.0,23.0,26.0,27.0,24.0,28.0,28.0,32.0,36.0,34.0,28.0,31.0,29.0,24.0,32.0,31.0,33.0,27.0,27.0,19.0,33.0,28.0,32.0,28.0,25.0,26.0,25.0,28.0,28.0,23.0,35.0,35.0,31.0,33.0,27.0,28.0,29.0,24.0,23.0,28.0,24.0,26.0,32.0,28.0,28.0,28.0,29.0,33.0,23.0,23.0,35.0,29.0,29.0,23.0,23.0,22.0,28.0,25.0,33.0,22.0,28.0,26.0,27.0,23.0,23.0,26.0,26.0,33.0,27.0,29.0,26.0,32.0,22.0,34.0,24.0,28.0,29.0,29.0,28.0,32.0,28.0,28.0,26.0,27.0,23.0,31.0,27.0,23.0,30.0,29.0,28.0,31.0,31.0,33.0,35.0,30.0,23.0,42.0,24.0,29.0,28.0,28.0,28.0,34.0,27.0,23.0,26.0,24.0,21.0,25.0,22.0,31.0,31.0,35.0,29.0,30.0,31.0,27.0,31.0,26.0,34.0,34.0,25.0,27.0,23.0,35.0,24.0,25.0,31.0,29.0,32.0,24.0,29.0,40.0,26.0,28.0,27.0,23.0,21.0,26.0,26.0,32.0,23.0,36.0,24.0,27.0,34.0,25.0,30.0,23.0,22.0,29.0,28.0,26.0,32.0,29.0,27.0,31.0,31.0,29.0,25.0,22.0,30.0,31.0,30.0,30.0,29.0,29.0,31.0,35.0,23.0,29.0,23.0,32.0,26.0,25.0,25.0,31.0,24.0,32.0,29.0,31.0,23.0,29.0,30.0,25.0,26.0,38.0,27.0,25.0,36.0,29.0,23.0,24.0,31.0,22.0,30.0,25.0,28.0,31.0,28.0,29.0,36.0,29.0,30.0,21.0,26.0,25.0,27.0,26.0,27.0,32.0,22.0,22.0,26.0,24.0,32.0,26.0,35.0,38.0,32.0,22.0,22.0,34.0,27.0,28.0,36.0,24.0,32.0,31.0,24.0,29.0,26.0,36.0,35.0,20.0,27.0,16.0,18.0,20.0,16.0,24.0,24.0,20.0,16.0,18.0,20.0,30.0,19.0,21.0,19.0,15.0,25.0,20.0,27.0,22.0,23.0,27.0,17.0,23.0,19.0,22.0,23.0,26.0,16.0,22.0,27.0,31.0,22.0,28.0,33.0,27.0,16.0,15.0,25.0,17.0,26.0,20.0,19.0,29.0,16.0,28.0,16.0,20.0,25.0,18.0,22.0,16.0,20.0,21.0,16.0,19.0,24.0,17.0,26.0,27.0,22.0,23.0,24.0,18.0,25.0,26.0,34.0,23.0,24.0,21.0,26.0,19.0,16.0,16.0,23.0,23.0,16.0,24.0,16.0,21.0,21.0,26.0,25.0,20.0,22.0,19.0,26.0,27.0,19.0,27.0,30.0,24.0,22.0,27.0,21.0,18.0,18.0,21.0,23.0,16.0,16.0,22.0,30.0,18.0,23.0,19.0,18.0,22.0,21.0,16.0,16.0,21.0,17.0,19.0,19.0,22.0,23.0,28.0,20.0,18.0,15.0,28.0,23.0,24.0,20.0,22.0,21.0,18.0,15.0,22.0,21.0,21.0,22.0,30.0,22.0,20.0,35.0,26.0,29.0,22.0,24.0,31.0,23.0,23.0,21.0,23.0,21.0,23.0,21.0,28.0,19.0,22.0,26.0,23.0,23.0,24.0,22.0,26.0,23.0,19.0,25.0,27.0,22.0,21.0,22.0,21.0,21.0,25.0,26.0,22.0,26.0,23.0,22.0,22.0,28.0,21.0,23.0,32.0,23.0,30.0,22.0,30.0,19.0,24.0,29.0,28.0,29.0,22.0,34.0,27.0,23.0,28.0,25.0,21.0,30.0,23.0,20.0,23.0,27.0,22.0,28.0,20.0,23.0,27.0,31.0,37.0,28.0,23.0,22.0,27.0,19.0,25.0,21.0,24.0,32.0,25.0,23.0,27.0,33.0,24.0,24.0,28.0,27.0,29.0,30.0,22.0,21.0,24.0,30.0,26.0,21.0,23.0,32.0,30.0,28.0,22.0,20.0,22.0,19.0,20.0,23.0,18.0,19.0,20.0,30.0,29.0,20.0,21.0,20.0,20.0,20.0,22.0,31.0,18.0,24.0,22.0,20.0,24.0,20.0,22.0,23.0,24.0,20.0,23.0,20.0,20.0,25.0,19.0,21.0,30.0,18.0,22.0,21.0,28.0,20.0,23.0,29.0,30.0,22.0,20.0,21.0,21.0,25.0,22.0,22.0,23.0,22.0,23.0,32.0,26.0,21.0,20.0,22.0,24.0,22.0,31.0,21.0,23.0,30.0,21.0,23.0,23.0,21.0,27.0,22.0,19.0,21.0,20.0,24.0,33.0,20.0,29.0,33.0,30.0,22.0,21.0,23.0,30.0,21.0,21.0,28.0,24.0,26.0,23.0,23.0,27.0,31.0,23.0,31.0,27.0,23.0,30.0,33.0,24.0,22.0,22.0,27.0,23.0,22.0,26.0,31.0,21.0,22.0,23.0,20.0,23.0,23.0,23.0,21.0,27.0,23.0,33.0,36.0,19.0,22.0,20.0,19.0,23.0,20.0,21.0,23.0,22.0,21.0,22.0,21.0,21.0,30.0,23.0,36.0,24.0,22.0,26.0,33.0,25.0,33.0,24.0,23.0,22.0,23.0,22.0,30.0,23.0,23.0,23.0,21.0,32.0,26.0,25.0,26.0,31.0,22.0,19.0,18.0,33.0,28.0,22.0,23.0,18.0,23.0,20.0,27.0,22.0,22.0,31.0,26.0,26.0,23.0,24.0,19.0,21.0,22.0,22.0,26.0,29.0,23.0,23.0,25.0,25.0,29.0,26.0,22.0,23.0,23.0,22.0,34.0,32.0,22.0,23.0,32.0,27.0,26.0,29.0,20.0,20.0,22.0,24.0,24.0,21.0,29.0,22.0,23.0,20.0,20.0,22.0,23.0,20.0,23.0,19.0,23.0,22.0,20.0,25.0,22.0,32.0,22.0,22.0,27.0,19.0,22.0,32.0,22.0,31.0,29.0,21.0,21.0,21.0,21.0,22.0,21.0,23.0,19.0,28.0,30.0,23.0,21.0,25.0,22.0,25.0,27.0,21.0,23.0,16.0,25.0,28.0,22.0,23.0,23.0,29.0,24.0,22.0,17.0,29.0,25.0,20.0,21.0,27.0,22.0,19.0,27.0,26.0,27.0,26.0,22.0,22.0,20.0,22.0,26.0,23.0,22.0,21.0,22.0,25.0,25.0,21.0,22.0,22.0,23.0,27.0,31.0,22.0,28.0,23.0,28.0,22.0,24.0,22.0,22.0,22.0,33.0,20.0,23.0,26.0,23.0,28.0,21.0,22.0,20.0,33.0,19.0,23.0,25.0,19.0,24.0,22.0,30.0,27.0,24.0,26.0,28.0,31.0,30.0,23.0,30.0,20.0,22.0,36.0,24.0,24.0,21.0,23.0,21.0,33.0,31.0,29.0,20.0,28.0,30.0,23.0,27.0,27.0,24.0,20.0,21.0,32.0,26.0,28.0,24.0,30.0,21.0,16.0,21.0,28.0,27.0,29.0,27.0,19.0,24.0,23.0,25.0,23.0,21.0,28.0,29.0,25.0,33.0,22.0,30.0,33.0,26.0,26.0,28.0,23.0,23.0,27.0,24.0,27.0,26.0,28.0,25.0,21.0,21.0,31.0,28.0,27.0,22.0,22.0,25.0,21.0,29.0,23.0,27.0,32.0,21.0,27.0,27.0,20.0,30.0,22.0,27.0,19.0,23.0,25.0,28.0,29.0,21.0,25.0,23.0,23.0,25.0,26.0,28.0,26.0,30.0,26.0,22.0,22.0,24.0,28.0,24.0,23.0,29.0,21.0,24.0,28.0,31.0,28.0,28.0,29.0,21.0,28.0,24.0,27.0,25.0,25.0,32.0,28.0,31.0,26.0,28.0,21.0,33.0,30.0,29.0,27.0,26.0,25.0,33.0,25.0,22.0,26.0,26.0,25.0,28.0,22.0,39.0,27.0,30.0,30.0,20.0,31.0,30.0,33.0,24.0,36.0,23.0,29.0,30.0,21.0,25.0,22.0,31.0,17.0,21.0,23.0,25.0,29.0,30.0,27.0,26.0,38.0,22.0,23.0,27.0,22.0,32.0,30.0,20.0,25.0,25.0,33.0,29.0,27.0,32.0,22.0,28.0,30.0,24.0,35.0,24.0,38.0,27.0,22.0,26.0,25.0,19.0,29.0,27.0,24.0,30.0,24.0,30.0,29.0,25.0,26.0,26.0,19.0,22.0,23.0,21.0,29.0,21.0,23.0,27.0,33.0,34.0,34.0,33.0,24.0,21.0,33.0,23.0,26.0,31.0,28.0,26.0,30.0,26.0,26.0,30.0,22.0,29.0,20.0,31.0,29.0,30.0,24.0,34.0,25.0,30.0,30.0,23.0,23.0,20.0,34.0,31.0,19.0,25.0,31.0,19.0,30.0,29.0,22.0,30.0,33.0,26.0,26.0,28.0,22.0,18.0,19.0,29.0,30.0,15.0,34.0,34.0,19.0,28.0,20.0,32.0,26.0,36.0,39.0,30.0,21.0,30.0,33.0,22.0,33.0,26.0,36.0,23.0,25.0,23.0,24.0,27.0,26.0,32.0,36.0,25.0,28.0,26.0,22.0,34.0,30.0,24.0,30.0,27.0,24.0,40.0,27.0,37.0,42.0,26.0,52.0,41.0,43.0,42.0,30.0,45.0,41.0,44.0,30.0,29.0,50.0,32.0,28.0,31.0,39.0,31.0,43.0,34.0,29.0,54.0,25.0,51.0,51.0,56.0,24.0,44.0,43.0,35.0,46.0,43.0,55.0,42.0,36.0,39.0,40.0,42.0,26.0,30.0,45.0,30.0,46.0,40.0,31.0,40.0,42.0,29.0,34.0,61.0,34.0,32.0,35.0,31.0,40.0,46.0,49.0,47.0,47.0,32.0,33.0,29.0,29.0,45.0,42.0,33.0,30.0,30.0,39.0,44.0,48.0,44.0,35.0,32.0,45.0,42.0,32.0,40.0,49.0,31.0,40.0,45.0,44.0,43.0,46.0,50.0,43.0,24.0,34.0,36.0,28.0,37.0,39.0,39.0,31.0,41.0,37.0,42.0,42.0,26.0,35.0,47.0,27.0,44.0,27.0,37.0,26.0,41.0,45.0,31.0,37.0,35.0,42.0,30.0,36.0,47.0,37.0,27.0,36.0,40.0,36.0,46.0,29.0,35.0,44.0,43.0,43.0,44.0,25.0,20.0,23.0,16.0,23.0,17.0,18.0,32.0,26.0,25.0,18.0,25.0,30.0,19.0,22.0,22.0,26.0,20.0,15.0,19.0,19.0,20.0,26.0,19.0,18.0,25.0,23.0,24.0,22.0,25.0,19.0,21.0,26.0,18.0,22.0,29.0,18.0,20.0,17.0,20.0,24.0,22.0,21.0,34.0,29.0,16.0,20.0,25.0,29.0,19.0,16.0,22.0,22.0,21.0,30.0,15.0,31.0,17.0,23.0,30.0,25.0,28.0,26.0,25.0,23.0,29.0,21.0,18.0,21.0,29.0,18.0,26.0,26.0,21.0,23.0,21.0,23.0,27.0,27.0,16.0,24.0,21.0,22.0,23.0,27.0,23.0,38.0,36.0,39.0,25.0,23.0,23.0,24.0,22.0,20.0,24.0,22.0,20.0,25.0,27.0,26.0,27.0,21.0,20.0,25.0,24.0,32.0,20.0,20.0,19.0,23.0,21.0,25.0,27.0,25.0,27.0,24.0,31.0,23.0,24.0,20.0,25.0,34.0,23.0,29.0,26.0,24.0,25.0,18.0,40.0,25.0,28.0,26.0,25.0,23.0,38.0,21.0,25.0,24.0,25.0,32.0,32.0,20.0,28.0,35.0,23.0,21.0,20.0,30.0,22.0,23.0,25.0,43.0,23.0,25.0,21.0,32.0,20.0,23.0,22.0,33.0,23.0,24.0,22.0,30.0,20.0,26.0,22.0,27.0,27.0,22.0,34.0,21.0,27.0,33.0,29.0,24.0,23.0,25.0,34.0,30.0,31.0,27.0,31.0,35.0,25.0,24.0,25.0,28.0,25.0,30.0,22.0,20.0,21.0,36.0,35.0,21.0,34.0,22.0,36.0,30.0,21.0,24.0,21.0,24.0,28.0,30.0,21.0,24.0,35.0,35.0,23.0,25.0,23.0,31.0,22.0,31.0,34.0,34.0,34.0,28.0,31.0,30.0,33.0,26.0,28.0,19.0,25.0,30.0,32.0,32.0,24.0,35.0,29.0,26.0,29.0,25.0,32.0,38.0,25.0,30.0,31.0,24.0,26.0,35.0,27.0,32.0,35.0,32.0,29.0,28.0,28.0,26.0,38.0,29.0,29.0,22.0,31.0,29.0,24.0,37.0,36.0,42.0,31.0,29.0,23.0,28.0,30.0,27.0,28.0,31.0,26.0,29.0,24.0,25.0,28.0,25.0,26.0,31.0,41.0,29.0,25.0,21.0,37.0,24.0,25.0,24.0,39.0,30.0,29.0,26.0,22.0,29.0,31.0,26.0,24.0,31.0,31.0,26.0,22.0,31.0,27.0,20.0,28.0,24.0,34.0,24.0,38.0,43.0,46.0,41.0,26.0,25.0,26.0,28.0,39.0,28.0,38.0,43.0,30.0,31.0,35.0,43.0,32.0,26.0,33.0,30.0,27.0,36.0,38.0,25.0,24.0,27.0,24.0,43.0,27.0,37.0,25.0,49.0,44.0,28.0,30.0,37.0,26.0,35.0,34.0,31.0,26.0,26.0,28.0,39.0,34.0,23.0,34.0,32.0,23.0,22.0,32.0,39.0,41.0,33.0,38.0,30.0,33.0,29.0,28.0,33.0,36.0,27.0,35.0,35.0,34.0,43.0,27.0,45.0,30.0,34.0,23.0,30.0,29.0,24.0,31.0,35.0,33.0,45.0,39.0,34.0,38.0,36.0,32.0,30.0,23.0,19.0,38.0,23.0,21.0,25.0,28.0,31.0,24.0,33.0,31.0,32.0,30.0,23.0,28.0,20.0,27.0,26.0,35.0,27.0,29.0,32.0,32.0,28.0,25.0,20.0,30.0,23.0,24.0,30.0,28.0,29.0,25.0,24.0,38.0,30.0,22.0,29.0,22.0,33.0,26.0,28.0,33.0,32.0,23.0,29.0,32.0,25.0,25.0,36.0,41.0,29.0,25.0,27.0,25.0,33.0,31.0,26.0,28.0,31.0,30.0,37.0,34.0,35.0,33.0,31.0,24.0,29.0,21.0,34.0,29.0,24.0,22.0,27.0,28.0,30.0,27.0,26.0,24.0,24.0,30.0,29.0,31.0,32.0,37.0,27.0,22.0,32.0,29.0,27.0,27.0,23.0,33.0,30.0,24.0,24.0,29.0,23.0,26.0,29.0,27.0,27.0,28.0,25.0,19.0,22.0,34.0,32.0,29.0,29.0,18.0,29.0,20.0,27.0,32.0,32.0,29.0,25.0,30.0,25.0,33.0,34.0,20.0,36.0,20.0,20.0,23.0,23.0,36.0,27.0,32.0,33.0,28.0,26.0,27.0,22.0,29.0,25.0,21.0,31.0,22.0,24.0,22.0,23.0,23.0,27.0,26.0,26.0,25.0,30.0,31.0,26.0,33.0,26.0,25.0,22.0,27.0,23.0,30.0,34.0,28.0,26.0,30.0,26.0,20.0,27.0,21.0,22.0,23.0,23.0,27.0,24.0,29.0,21.0,26.0,24.0,28.0,21.0,26.0,28.0,28.0,21.0,43.0,29.0,36.0,21.0,30.0,34.0,21.0,30.0,23.0,22.0,32.0,26.0,26.0,20.0,29.0,29.0,31.0,22.0,30.0,28.0,29.0,25.0,30.0,29.0,19.0,26.0,22.0,31.0,27.0,30.0,28.0,22.0,29.0,30.0,25.0,26.0,27.0,26.0,28.0,25.0,29.0,24.0,27.0,28.0,34.0,29.0,22.0,36.0,27.0,35.0,34.0,26.0,27.0,25.0,26.0,28.0,23.0,24.0,24.0,32.0,39.0,25.0,32.0,26.0,32.0,26.0,22.0,24.0,25.0,27.0,28.0,26.0,25.0,27.0,21.0,26.0,24.0,23.0,23.0,22.0,23.0,27.0,23.0,32.0,28.0,35.0,30.0,24.0,29.0,25.0,30.0,28.0,21.0,26.0,24.0,22.0,24.0,26.0,26.0,25.0,21.0,30.0,20.0,31.0,24.0,25.0,23.0,30.0,26.0,30.0,32.0,31.0,23.0,31.0,29.0,22.0,35.0,28.0,29.0,32.0,21.0,21.0,28.0,36.0,24.0,24.0,22.0,35.0,23.0,25.0,28.0,27.0,27.0,23.0,26.0,21.0,23.0,25.0,24.0,31.0,21.0,23.0,22.0,28.0,32.0,25.0,26.0,18.0,24.0,31.0,25.0,24.0,30.0,26.0,26.0,27.0,30.0,31.0,24.0,25.0,23.0,23.0,20.0,21.0,26.0,27.0,20.0,22.0,27.0,24.0,28.0,26.0,20.0,28.0,31.0,22.0,23.0,25.0,28.0,29.0,22.0,30.0,22.0,24.0,28.0,24.0,24.0,21.0,30.0,25.0,29.0,25.0,24.0,34.0,32.0,20.0,20.0,35.0,32.0,31.0,23.0,23.0,35.0,26.0,28.0,28.0,31.0,28.0,22.0,22.0,30.0,31.0,37.0,28.0,30.0,25.0,26.0,28.0,23.0,37.0,35.0,31.0,22.0,34.0,35.0,21.0,21.0,33.0,24.0,28.0,24.0,20.0,24.0,29.0,27.0,37.0,23.0,22.0,28.0,23.0,26.0,23.0,21.0,22.0,27.0,24.0,25.0,25.0,28.0,26.0,27.0,24.0,35.0,20.0,26.0,23.0,29.0,28.0,28.0,20.0,32.0,31.0,30.0,29.0,31.0,27.0,37.0,30.0,26.0,23.0,25.0,30.0,33.0,19.0,31.0,31.0,34.0,24.0,21.0,30.0,25.0,27.0,33.0,31.0,30.0,22.0,25.0,21.0,29.0,38.0,28.0,24.0,24.0,30.0,29.0,22.0,31.0,20.0,29.0,23.0,28.0,26.0,23.0,29.0,33.0,32.0,23.0,22.0,27.0,32.0,22.0,22.0,35.0,26.0,37.0,20.0,29.0,24.0,28.0,29.0,21.0,28.0,23.0,27.0,21.0,20.0,31.0,24.0,23.0,31.0,24.0,27.0,22.0,27.0,21.0,30.0,23.0,27.0,24.0,31.0,28.0,21.0,29.0,35.0,27.0,30.0,27.0,25.0,19.0,24.0,32.0,31.0,33.0,36.0,29.0,33.0,26.0,30.0,23.0,36.0,28.0,27.0,23.0,27.0,28.0,26.0,33.0,21.0,20.0,26.0,35.0,22.0,22.0,25.0,34.0,36.0,37.0,29.0,23.0,29.0,31.0,26.0,29.0,23.0,21.0,31.0,26.0,28.0,25.0,24.0,32.0,24.0,19.0,20.0,21.0,23.0,21.0,22.0,24.0,27.0,25.0,23.0,22.0,29.0,22.0,24.0,23.0,27.0,26.0,25.0,19.0,23.0,23.0,20.0,25.0,23.0,20.0,32.0,29.0,18.0,24.0,30.0,28.0,26.0,17.0,26.0,26.0,22.0,33.0,30.0,25.0,23.0,25.0,31.0,23.0,28.0,21.0,21.0,28.0,28.0,25.0,22.0,22.0,24.0,24.0,26.0,23.0,25.0,23.0,23.0,23.0,19.0,27.0,24.0,23.0,33.0,30.0,22.0,26.0,30.0,26.0,20.0,24.0,25.0,23.0,26.0,26.0,20.0,22.0,25.0,26.0,24.0,22.0,21.0,22.0,26.0,25.0,27.0,29.0,30.0,26.0,21.0,21.0,24.0,24.0,24.0,21.0,31.0,22.0,22.0,27.0,21.0,20.0,22.0,28.0,24.0,23.0,28.0,17.0,30.0,21.0,22.0,20.0,33.0,27.0,24.0,23.0,24.0,24.0,29.0,23.0,30.0,24.0,19.0,22.0,25.0,20.0,20.0,17.0,23.0,23.0,21.0,26.0,26.0,21.0,19.0,22.0,26.0,24.0,21.0,21.0,26.0,20.0,23.0,23.0,25.0,28.0,25.0,28.0,20.0,20.0,29.0,21.0,22.0,22.0,31.0,30.0,23.0,26.0,25.0,24.0,24.0,19.0,27.0,22.0,26.0,20.0,32.0,23.0,25.0,23.0,20.0,22.0,21.0,26.0,30.0,22.0,19.0,27.0,19.0,27.0,30.0,35.0,29.0,32.0,29.0,24.0,32.0,31.0,25.0,31.0,22.0,29.0,25.0,24.0,29.0,29.0,30.0,29.0,35.0,31.0,29.0,30.0,29.0,28.0,27.0,35.0,31.0,21.0,28.0,27.0,29.0,25.0,37.0,27.0,31.0,31.0,28.0,25.0,33.0,34.0,28.0,32.0,24.0,26.0,32.0,33.0,32.0,29.0,24.0,23.0,28.0,39.0,27.0,34.0,28.0,32.0,39.0,32.0,37.0,30.0,34.0,28.0,30.0,21.0,29.0,27.0,23.0,27.0,22.0,31.0,21.0,30.0,40.0,32.0,32.0,29.0,22.0,33.0,30.0,34.0,22.0,23.0,33.0,32.0,32.0,26.0,30.0,26.0,27.0,39.0,25.0,35.0,35.0,28.0,24.0,24.0,31.0,31.0,22.0,34.0,32.0,28.0,27.0,25.0,28.0,28.0,28.0,24.0,28.0,32.0,29.0,29.0,34.0,33.0,27.0,34.0,27.0,29.0,30.0,22.0,30.0,27.0,39.0,29.0,34.0,30.0,34.0,27.0,33.0,30.0,24.0,33.0,28.0,35.0,29.0,34.0,31.0,33.0,34.0,27.0,29.0,24.0,19.0,23.0,35.0,34.0,31.0,22.0,27.0,30.0,27.0,35.0,29.0,31.0,25.0,34.0,34.0,31.0,28.0,25.0,31.0,31.0,35.0,25.0,34.0,27.0,27.0,29.0,28.0,23.0,28.0,31.0,28.0,31.0,23.0,33.0,30.0,20.0,32.0,33.0,29.0,23.0,23.0,19.0,25.0,30.0,23.0,27.0,26.0,26.0,27.0,32.0,27.0,28.0,25.0,22.0,37.0,22.0,28.0,31.0,27.0,20.0,31.0,18.0,27.0,29.0,22.0,31.0,25.0,33.0,27.0,24.0,23.0,25.0,25.0,24.0,29.0,23.0,26.0,32.0,29.0,25.0,26.0,27.0,26.0,32.0,29.0,26.0,28.0,28.0,30.0,23.0,31.0,28.0,30.0,26.0,23.0,30.0,28.0,26.0,28.0,24.0,24.0,27.0,36.0,27.0,26.0,24.0,29.0,26.0,29.0,27.0,25.0,23.0,22.0,30.0,23.0,28.0,31.0,30.0,24.0,24.0,30.0,31.0,33.0,22.0,27.0,23.0,32.0,28.0,24.0,35.0,28.0,23.0,27.0,36.0,20.0,28.0,33.0,29.0,28.0,28.0,35.0,27.0,22.0,23.0,23.0,25.0,24.0,31.0,28.0,29.0,31.0,23.0,28.0,28.0,28.0,17.0,28.0,26.0,26.0,34.0,27.0,25.0,29.0,24.0,26.0,27.0,33.0,27.0,26.0,24.0,20.0,31.0,21.0,32.0,29.0,23.0,23.0,22.0,35.0,26.0,24.0,25.0,29.0,32.0,21.0,28.0,32.0,27.0,29.0,22.0,27.0,34.0,30.0,26.0,29.0,25.0,29.0,23.0,19.0,24.0,29.0,30.0,24.0,24.0,32.0,27.0,29.0,26.0,31.0,32.0,24.0,31.0,24.0,21.0,23.0,23.0,26.0,31.0,31.0,27.0,27.0,24.0,27.0,27.0,24.0,33.0,22.0,30.0,23.0,28.0,36.0,34.0,25.0,24.0,20.0,33.0,22.0,23.0,29.0,23.0,22.0,30.0,23.0,26.0,29.0,21.0,26.0,25.0,28.0,32.0,33.0,28.0,24.0,27.0,32.0,23.0,25.0,25.0,28.0,36.0,30.0,28.0,26.0,31.0,24.0,27.0,31.0,30.0,34.0,25.0,27.0,27.0,29.0,19.0,31.0,24.0,26.0,20.0,27.0,30.0,28.0,21.0,24.0,24.0,29.0,28.0,26.0,26.0,30.0,30.0,32.0,28.0,28.0,27.0,25.0,22.0,26.0,31.0,36.0,22.0,28.0,32.0,30.0,26.0,29.0,26.0,35.0,23.0,27.0,29.0,25.0,22.0,27.0,32.0,32.0,23.0,28.0,23.0,29.0,23.0,29.0,23.0,21.0,28.0,24.0,29.0,22.0,33.0,26.0,28.0,25.0,25.0,24.0,27.0,22.0,28.0,22.0,24.0,24.0,22.0,24.0,24.0,25.0,28.0,25.0,19.0,24.0,22.0,23.0,26.0,30.0,27.0,23.0,33.0,23.0,27.0,27.0,34.0,29.0,23.0,22.0,28.0,20.0,30.0,24.0,30.0,24.0,27.0,27.0,27.0,24.0,25.0,29.0,23.0,26.0,29.0,25.0,27.0,26.0,23.0,25.0,25.0,25.0,26.0,28.0,23.0,22.0,24.0,26.0,26.0,27.0,32.0,25.0,27.0,21.0,21.0,26.0,25.0,22.0,27.0,28.0,23.0,18.0,24.0,23.0,20.0,24.0,21.0,21.0,21.0,25.0,24.0,33.0,22.0,20.0,29.0,26.0,28.0,24.0,26.0,19.0,24.0,30.0,28.0,25.0,28.0,26.0,22.0,29.0,20.0,35.0,22.0,24.0,26.0,29.0,29.0,30.0,22.0,24.0,23.0,24.0,29.0,27.0,28.0,28.0,27.0,28.0,25.0,23.0,34.0,22.0,28.0,25.0,30.0,27.0,19.0,28.0,27.0,33.0,32.0,30.0,27.0,23.0,30.0,26.0,32.0,30.0,17.0,23.0,22.0,32.0,25.0,21.0,20.0,25.0,19.0,33.0,29.0,30.0,28.0,26.0,30.0,24.0,20.0,27.0,28.0,23.0,25.0,22.0,27.0,27.0,25.0,25.0,37.0,23.0,33.0,23.0,30.0,28.0,34.0,27.0,22.0,30.0,34.0,22.0,29.0,23.0,27.0,21.0,24.0,21.0,25.0,26.0,25.0,23.0,26.0,25.0,28.0,27.0,29.0,34.0,19.0,26.0,28.0,21.0,26.0,28.0,25.0,27.0,26.0,26.0,31.0,26.0,28.0,22.0,30.0,24.0,24.0,27.0,22.0,33.0,22.0,27.0,28.0,26.0,19.0,20.0,24.0,22.0,30.0,25.0,28.0,26.0,30.0,27.0,26.0,22.0,23.0,36.0,20.0,36.0,30.0,36.0,29.0,22.0,25.0,30.0,20.0,21.0,22.0,29.0,28.0,28.0,25.0,24.0,26.0,26.0,27.0,22.0,22.0,20.0,26.0,28.0,30.0,30.0,24.0,32.0,31.0,38.0,26.0,21.0,24.0,19.0,28.0,25.0,27.0,27.0,21.0,25.0,28.0,30.0,36.0,24.0,22.0,30.0,25.0,26.0,23.0,29.0,26.0,23.0,24.0,25.0,18.0,26.0,24.0,25.0,23.0,29.0,28.0,21.0,28.0,26.0,23.0,19.0,23.0,22.0,21.0,26.0,28.0,22.0,26.0,32.0,23.0,25.0,25.0,23.0,32.0,26.0,26.0,25.0,24.0,24.0,25.0,32.0,21.0,23.0,26.0,24.0,32.0,21.0,23.0,29.0,27.0,36.0,28.0,26.0,24.0,19.0,26.0,22.0,19.0,27.0,27.0,26.0,34.0,25.0,25.0,25.0,28.0,21.0,27.0,25.0,30.0,27.0,23.0,25.0,23.0,24.0,22.0,27.0,26.0,20.0,28.0,24.0,27.0,26.0,32.0,27.0,23.0,36.0,26.0,24.0,30.0,25.0,21.0,21.0,19.0,25.0,26.0,25.0,28.0,23.0,21.0,30.0,32.0,29.0,32.0,28.0,22.0,30.0,24.0,19.0,23.0,33.0,26.0,30.0,23.0,27.0,27.0,26.0,30.0,27.0,27.0,24.0,25.0,21.0,29.0,23.0,35.0,27.0,20.0,28.0,28.0,22.0,19.0,31.0,26.0,25.0,27.0,20.0,18.0,26.0,24.0,28.0,27.0,21.0,21.0,28.0,28.0,25.0,27.0,27.0,31.0,21.0,28.0,24.0,28.0,25.0,22.0,23.0,33.0,20.0,23.0,29.0,26.0,31.0,22.0,38.0,25.0,19.0,33.0,19.0,28.0,21.0,22.0,36.0,27.0,25.0,25.0,35.0,31.0,33.0,29.0,28.0,21.0,21.0,31.0,31.0,19.0,27.0,26.0,28.0,34.0,32.0,24.0,27.0,23.0,23.0,33.0,23.0,29.0,25.0,32.0,29.0,32.0,25.0,24.0,26.0,25.0,24.0,27.0,24.0,22.0,21.0,28.0,26.0,26.0,35.0,19.0,23.0,22.0,23.0,32.0,26.0,29.0,29.0,21.0,27.0,22.0,20.0,25.0,22.0,24.0,27.0,21.0,27.0,28.0,26.0,24.0,22.0,31.0,28.0,34.0,22.0,28.0,29.0,25.0,21.0,22.0,32.0,22.0,22.0,34.0,18.0,26.0,20.0,28.0,22.0,21.0,21.0,20.0,38.0,23.0,22.0,23.0,28.0,22.0,23.0,34.0,37.0,19.0,20.0,31.0,31.0,35.0,23.0,31.0,22.0,26.0,31.0,21.0,23.0,27.0,18.0,22.0,29.0,27.0,35.0,24.0,31.0,27.0,29.0,29.0,35.0,32.0,34.0,23.0,26.0,22.0,24.0,24.0,22.0,26.0,27.0,25.0,20.0,30.0,24.0,28.0,26.0,27.0,28.0,29.0,27.0,24.0,23.0,26.0,26.0,24.0,23.0,21.0,30.0,27.0,25.0,30.0,28.0,24.0,26.0,33.0,24.0,29.0,27.0,27.0,29.0,26.0,21.0,24.0,23.0,25.0,30.0,29.0,25.0,32.0,24.0,25.0,28.0,23.0,27.0,23.0,23.0,30.0,22.0,25.0,28.0,27.0,20.0,29.0,26.0,22.0,34.0,21.0,25.0,26.0,29.0,23.0,34.0,28.0,27.0,21.0,25.0,21.0,30.0,30.0,31.0,27.0,36.0,31.0,23.0,27.0,22.0,23.0,27.0,31.0,31.0,25.0,33.0,23.0,22.0,36.0,27.0,22.0,25.0,24.0,31.0,27.0,17.0,34.0,29.0,32.0,26.0,22.0,29.0,28.0,29.0,28.0,21.0,31.0,25.0,24.0,25.0,21.0,28.0,28.0,18.0,24.0,26.0,26.0,24.0,22.0,28.0,21.0,34.0,30.0,34.0,24.0,39.0,19.0,32.0,24.0,23.0,24.0,27.0,28.0,25.0,20.0,28.0,24.0,25.0,28.0,34.0,32.0,29.0,27.0,28.0,22.0,33.0,26.0,21.0,21.0,32.0,29.0,25.0,24.0,30.0,29.0,26.0,28.0,26.0,28.0,29.0,26.0,23.0,27.0,29.0,24.0,18.0,26.0,27.0,21.0,23.0,22.0,36.0,27.0,29.0,24.0,27.0,23.0,23.0,20.0,21.0,27.0,24.0,24.0,26.0,21.0,28.0,32.0,21.0,51.0,34.0,25.0,22.0,23.0,26.0,26.0,26.0,22.0,20.0,27.0,24.0,28.0,23.0,23.0,17.0,21.0,27.0,20.0,19.0,28.0,26.0,19.0,28.0,23.0,26.0,17.0,32.0,21.0,41.0,19.0,21.0,23.0,24.0,26.0,43.0,30.0,24.0,24.0,45.0,20.0,39.0,28.0,29.0,32.0,17.0,21.0,31.0,23.0],\"xaxis\":\"x\",\"yaxis\":\"y\",\"type\":\"histogram\"}],                        {\"template\":{\"data\":{\"bar\":[{\"error_x\":{\"color\":\"#2a3f5f\"},\"error_y\":{\"color\":\"#2a3f5f\"},\"marker\":{\"line\":{\"color\":\"#E5ECF6\",\"width\":0.5},\"pattern\":{\"fillmode\":\"overlay\",\"size\":10,\"solidity\":0.2}},\"type\":\"bar\"}],\"barpolar\":[{\"marker\":{\"line\":{\"color\":\"#E5ECF6\",\"width\":0.5},\"pattern\":{\"fillmode\":\"overlay\",\"size\":10,\"solidity\":0.2}},\"type\":\"barpolar\"}],\"carpet\":[{\"aaxis\":{\"endlinecolor\":\"#2a3f5f\",\"gridcolor\":\"white\",\"linecolor\":\"white\",\"minorgridcolor\":\"white\",\"startlinecolor\":\"#2a3f5f\"},\"baxis\":{\"endlinecolor\":\"#2a3f5f\",\"gridcolor\":\"white\",\"linecolor\":\"white\",\"minorgridcolor\":\"white\",\"startlinecolor\":\"#2a3f5f\"},\"type\":\"carpet\"}],\"choropleth\":[{\"colorbar\":{\"outlinewidth\":0,\"ticks\":\"\"},\"type\":\"choropleth\"}],\"contour\":[{\"colorbar\":{\"outlinewidth\":0,\"ticks\":\"\"},\"colorscale\":[[0.0,\"#0d0887\"],[0.1111111111111111,\"#46039f\"],[0.2222222222222222,\"#7201a8\"],[0.3333333333333333,\"#9c179e\"],[0.4444444444444444,\"#bd3786\"],[0.5555555555555556,\"#d8576b\"],[0.6666666666666666,\"#ed7953\"],[0.7777777777777778,\"#fb9f3a\"],[0.8888888888888888,\"#fdca26\"],[1.0,\"#f0f921\"]],\"type\":\"contour\"}],\"contourcarpet\":[{\"colorbar\":{\"outlinewidth\":0,\"ticks\":\"\"},\"type\":\"contourcarpet\"}],\"heatmap\":[{\"colorbar\":{\"outlinewidth\":0,\"ticks\":\"\"},\"colorscale\":[[0.0,\"#0d0887\"],[0.1111111111111111,\"#46039f\"],[0.2222222222222222,\"#7201a8\"],[0.3333333333333333,\"#9c179e\"],[0.4444444444444444,\"#bd3786\"],[0.5555555555555556,\"#d8576b\"],[0.6666666666666666,\"#ed7953\"],[0.7777777777777778,\"#fb9f3a\"],[0.8888888888888888,\"#fdca26\"],[1.0,\"#f0f921\"]],\"type\":\"heatmap\"}],\"heatmapgl\":[{\"colorbar\":{\"outlinewidth\":0,\"ticks\":\"\"},\"colorscale\":[[0.0,\"#0d0887\"],[0.1111111111111111,\"#46039f\"],[0.2222222222222222,\"#7201a8\"],[0.3333333333333333,\"#9c179e\"],[0.4444444444444444,\"#bd3786\"],[0.5555555555555556,\"#d8576b\"],[0.6666666666666666,\"#ed7953\"],[0.7777777777777778,\"#fb9f3a\"],[0.8888888888888888,\"#fdca26\"],[1.0,\"#f0f921\"]],\"type\":\"heatmapgl\"}],\"histogram\":[{\"marker\":{\"pattern\":{\"fillmode\":\"overlay\",\"size\":10,\"solidity\":0.2}},\"type\":\"histogram\"}],\"histogram2d\":[{\"colorbar\":{\"outlinewidth\":0,\"ticks\":\"\"},\"colorscale\":[[0.0,\"#0d0887\"],[0.1111111111111111,\"#46039f\"],[0.2222222222222222,\"#7201a8\"],[0.3333333333333333,\"#9c179e\"],[0.4444444444444444,\"#bd3786\"],[0.5555555555555556,\"#d8576b\"],[0.6666666666666666,\"#ed7953\"],[0.7777777777777778,\"#fb9f3a\"],[0.8888888888888888,\"#fdca26\"],[1.0,\"#f0f921\"]],\"type\":\"histogram2d\"}],\"histogram2dcontour\":[{\"colorbar\":{\"outlinewidth\":0,\"ticks\":\"\"},\"colorscale\":[[0.0,\"#0d0887\"],[0.1111111111111111,\"#46039f\"],[0.2222222222222222,\"#7201a8\"],[0.3333333333333333,\"#9c179e\"],[0.4444444444444444,\"#bd3786\"],[0.5555555555555556,\"#d8576b\"],[0.6666666666666666,\"#ed7953\"],[0.7777777777777778,\"#fb9f3a\"],[0.8888888888888888,\"#fdca26\"],[1.0,\"#f0f921\"]],\"type\":\"histogram2dcontour\"}],\"mesh3d\":[{\"colorbar\":{\"outlinewidth\":0,\"ticks\":\"\"},\"type\":\"mesh3d\"}],\"parcoords\":[{\"line\":{\"colorbar\":{\"outlinewidth\":0,\"ticks\":\"\"}},\"type\":\"parcoords\"}],\"pie\":[{\"automargin\":true,\"type\":\"pie\"}],\"scatter\":[{\"marker\":{\"colorbar\":{\"outlinewidth\":0,\"ticks\":\"\"}},\"type\":\"scatter\"}],\"scatter3d\":[{\"line\":{\"colorbar\":{\"outlinewidth\":0,\"ticks\":\"\"}},\"marker\":{\"colorbar\":{\"outlinewidth\":0,\"ticks\":\"\"}},\"type\":\"scatter3d\"}],\"scattercarpet\":[{\"marker\":{\"colorbar\":{\"outlinewidth\":0,\"ticks\":\"\"}},\"type\":\"scattercarpet\"}],\"scattergeo\":[{\"marker\":{\"colorbar\":{\"outlinewidth\":0,\"ticks\":\"\"}},\"type\":\"scattergeo\"}],\"scattergl\":[{\"marker\":{\"colorbar\":{\"outlinewidth\":0,\"ticks\":\"\"}},\"type\":\"scattergl\"}],\"scattermapbox\":[{\"marker\":{\"colorbar\":{\"outlinewidth\":0,\"ticks\":\"\"}},\"type\":\"scattermapbox\"}],\"scatterpolar\":[{\"marker\":{\"colorbar\":{\"outlinewidth\":0,\"ticks\":\"\"}},\"type\":\"scatterpolar\"}],\"scatterpolargl\":[{\"marker\":{\"colorbar\":{\"outlinewidth\":0,\"ticks\":\"\"}},\"type\":\"scatterpolargl\"}],\"scatterternary\":[{\"marker\":{\"colorbar\":{\"outlinewidth\":0,\"ticks\":\"\"}},\"type\":\"scatterternary\"}],\"surface\":[{\"colorbar\":{\"outlinewidth\":0,\"ticks\":\"\"},\"colorscale\":[[0.0,\"#0d0887\"],[0.1111111111111111,\"#46039f\"],[0.2222222222222222,\"#7201a8\"],[0.3333333333333333,\"#9c179e\"],[0.4444444444444444,\"#bd3786\"],[0.5555555555555556,\"#d8576b\"],[0.6666666666666666,\"#ed7953\"],[0.7777777777777778,\"#fb9f3a\"],[0.8888888888888888,\"#fdca26\"],[1.0,\"#f0f921\"]],\"type\":\"surface\"}],\"table\":[{\"cells\":{\"fill\":{\"color\":\"#EBF0F8\"},\"line\":{\"color\":\"white\"}},\"header\":{\"fill\":{\"color\":\"#C8D4E3\"},\"line\":{\"color\":\"white\"}},\"type\":\"table\"}]},\"layout\":{\"annotationdefaults\":{\"arrowcolor\":\"#2a3f5f\",\"arrowhead\":0,\"arrowwidth\":1},\"autotypenumbers\":\"strict\",\"coloraxis\":{\"colorbar\":{\"outlinewidth\":0,\"ticks\":\"\"}},\"colorscale\":{\"diverging\":[[0,\"#8e0152\"],[0.1,\"#c51b7d\"],[0.2,\"#de77ae\"],[0.3,\"#f1b6da\"],[0.4,\"#fde0ef\"],[0.5,\"#f7f7f7\"],[0.6,\"#e6f5d0\"],[0.7,\"#b8e186\"],[0.8,\"#7fbc41\"],[0.9,\"#4d9221\"],[1,\"#276419\"]],\"sequential\":[[0.0,\"#0d0887\"],[0.1111111111111111,\"#46039f\"],[0.2222222222222222,\"#7201a8\"],[0.3333333333333333,\"#9c179e\"],[0.4444444444444444,\"#bd3786\"],[0.5555555555555556,\"#d8576b\"],[0.6666666666666666,\"#ed7953\"],[0.7777777777777778,\"#fb9f3a\"],[0.8888888888888888,\"#fdca26\"],[1.0,\"#f0f921\"]],\"sequentialminus\":[[0.0,\"#0d0887\"],[0.1111111111111111,\"#46039f\"],[0.2222222222222222,\"#7201a8\"],[0.3333333333333333,\"#9c179e\"],[0.4444444444444444,\"#bd3786\"],[0.5555555555555556,\"#d8576b\"],[0.6666666666666666,\"#ed7953\"],[0.7777777777777778,\"#fb9f3a\"],[0.8888888888888888,\"#fdca26\"],[1.0,\"#f0f921\"]]},\"colorway\":[\"#636efa\",\"#EF553B\",\"#00cc96\",\"#ab63fa\",\"#FFA15A\",\"#19d3f3\",\"#FF6692\",\"#B6E880\",\"#FF97FF\",\"#FECB52\"],\"font\":{\"color\":\"#2a3f5f\"},\"geo\":{\"bgcolor\":\"white\",\"lakecolor\":\"white\",\"landcolor\":\"#E5ECF6\",\"showlakes\":true,\"showland\":true,\"subunitcolor\":\"white\"},\"hoverlabel\":{\"align\":\"left\"},\"hovermode\":\"closest\",\"mapbox\":{\"style\":\"light\"},\"paper_bgcolor\":\"white\",\"plot_bgcolor\":\"#E5ECF6\",\"polar\":{\"angularaxis\":{\"gridcolor\":\"white\",\"linecolor\":\"white\",\"ticks\":\"\"},\"bgcolor\":\"#E5ECF6\",\"radialaxis\":{\"gridcolor\":\"white\",\"linecolor\":\"white\",\"ticks\":\"\"}},\"scene\":{\"xaxis\":{\"backgroundcolor\":\"#E5ECF6\",\"gridcolor\":\"white\",\"gridwidth\":2,\"linecolor\":\"white\",\"showbackground\":true,\"ticks\":\"\",\"zerolinecolor\":\"white\"},\"yaxis\":{\"backgroundcolor\":\"#E5ECF6\",\"gridcolor\":\"white\",\"gridwidth\":2,\"linecolor\":\"white\",\"showbackground\":true,\"ticks\":\"\",\"zerolinecolor\":\"white\"},\"zaxis\":{\"backgroundcolor\":\"#E5ECF6\",\"gridcolor\":\"white\",\"gridwidth\":2,\"linecolor\":\"white\",\"showbackground\":true,\"ticks\":\"\",\"zerolinecolor\":\"white\"}},\"shapedefaults\":{\"line\":{\"color\":\"#2a3f5f\"}},\"ternary\":{\"aaxis\":{\"gridcolor\":\"white\",\"linecolor\":\"white\",\"ticks\":\"\"},\"baxis\":{\"gridcolor\":\"white\",\"linecolor\":\"white\",\"ticks\":\"\"},\"bgcolor\":\"#E5ECF6\",\"caxis\":{\"gridcolor\":\"white\",\"linecolor\":\"white\",\"ticks\":\"\"}},\"title\":{\"x\":0.05},\"xaxis\":{\"automargin\":true,\"gridcolor\":\"white\",\"linecolor\":\"white\",\"ticks\":\"\",\"title\":{\"standoff\":15},\"zerolinecolor\":\"white\",\"zerolinewidth\":2},\"yaxis\":{\"automargin\":true,\"gridcolor\":\"white\",\"linecolor\":\"white\",\"ticks\":\"\",\"title\":{\"standoff\":15},\"zerolinecolor\":\"white\",\"zerolinewidth\":2}}},\"xaxis\":{\"anchor\":\"y\",\"domain\":[0.0,1.0],\"title\":{\"text\":\"age\"}},\"yaxis\":{\"anchor\":\"x\",\"domain\":[0.0,1.0],\"title\":{\"text\":\"count\"}},\"legend\":{\"tracegroupgap\":0},\"margin\":{\"t\":60},\"barmode\":\"relative\"},                        {\"responsive\": true}                    ).then(function(){\n",
              "                            \n",
              "var gd = document.getElementById('6fc31336-7429-4604-80de-885796709f87');\n",
              "var x = new MutationObserver(function (mutations, observer) {{\n",
              "        var display = window.getComputedStyle(gd).display;\n",
              "        if (!display || display === 'none') {{\n",
              "            console.log([gd, 'removed!']);\n",
              "            Plotly.purge(gd);\n",
              "            observer.disconnect();\n",
              "        }}\n",
              "}});\n",
              "\n",
              "// Listen for the removal of the full notebook cells\n",
              "var notebookContainer = gd.closest('#notebook-container');\n",
              "if (notebookContainer) {{\n",
              "    x.observe(notebookContainer, {childList: true});\n",
              "}}\n",
              "\n",
              "// Listen for the clearing of the current output cell\n",
              "var outputEl = gd.closest('.output');\n",
              "if (outputEl) {{\n",
              "    x.observe(outputEl, {childList: true});\n",
              "}}\n",
              "\n",
              "                        })                };                            </script>        </div>\n",
              "</body>\n",
              "</html>"
            ]
          },
          "metadata": {}
        }
      ]
    },
    {
      "cell_type": "markdown",
      "source": [
        "**Observations** :- The \"age\" column data does not follow a normal distribution. \n",
        "\n",
        "Since the data is skewed, instead of using a z-score we can use interquartile range (IQR) to determine the outliers."
      ],
      "metadata": {
        "id": "lnTVpD-I2TIm"
      }
    },
    {
      "cell_type": "code",
      "source": [
        "boxplotfig = px.box(df, y=\"age\")\n",
        "\n",
        "boxplotfig.show()"
      ],
      "metadata": {
        "colab": {
          "base_uri": "https://localhost:8080/",
          "height": 542
        },
        "id": "Cx1i41re2zwz",
        "outputId": "2b2548ea-5e7d-41e1-a27b-ef27a28c8711"
      },
      "execution_count": null,
      "outputs": [
        {
          "output_type": "display_data",
          "data": {
            "text/html": [
              "<html>\n",
              "<head><meta charset=\"utf-8\" /></head>\n",
              "<body>\n",
              "    <div>            <script src=\"https://cdnjs.cloudflare.com/ajax/libs/mathjax/2.7.5/MathJax.js?config=TeX-AMS-MML_SVG\"></script><script type=\"text/javascript\">if (window.MathJax) {MathJax.Hub.Config({SVG: {font: \"STIX-Web\"}});}</script>                <script type=\"text/javascript\">window.PlotlyConfig = {MathJaxConfig: 'local'};</script>\n",
              "        <script src=\"https://cdn.plot.ly/plotly-2.8.3.min.js\"></script>                <div id=\"acd7c745-c0e2-4793-9770-f0bc1e8f54e3\" class=\"plotly-graph-div\" style=\"height:525px; width:100%;\"></div>            <script type=\"text/javascript\">                                    window.PLOTLYENV=window.PLOTLYENV || {};                                    if (document.getElementById(\"acd7c745-c0e2-4793-9770-f0bc1e8f54e3\")) {                    Plotly.newPlot(                        \"acd7c745-c0e2-4793-9770-f0bc1e8f54e3\",                        [{\"alignmentgroup\":\"True\",\"hovertemplate\":\"age=%{y}<extra></extra>\",\"legendgroup\":\"\",\"marker\":{\"color\":\"#636efa\"},\"name\":\"\",\"notched\":false,\"offsetgroup\":\"\",\"orientation\":\"v\",\"showlegend\":false,\"x0\":\" \",\"xaxis\":\"x\",\"y\":[23.0,19.0,27.0,25.0,24.0,24.0,17.0,27.0,22.0,21.0,17.0,33.0,26.0,18.0,29.0,20.0,24.0,23.0,24.0,30.0,28.0,21.0,27.0,25.0,23.0,27.0,27.0,22.0,20.0,17.0,16.0,26.0,30.0,24.0,28.0,20.0,23.0,20.0,18.0,27.0,22.0,28.0,21.0,22.0,25.0,20.0,25.0,21.0,24.0,25.0,22.0,23.0,25.0,19.0,22.0,25.0,21.0,32.0,23.0,25.0,20.0,21.0,21.0,22.0,41.0,22.0,25.0,20.0,21.0,24.0,22.0,20.0,20.0,18.0,21.0,17.0,21.0,21.0,24.0,26.0,23.0,18.0,24.0,22.0,25.0,23.0,20.0,27.0,24.0,17.0,19.0,23.0,20.0,26.0,25.0,21.0,22.0,24.0,28.0,25.0,28.0,20.0,27.0,29.0,30.0,27.0,26.0,22.0,18.0,23.0,24.0,20.0,28.0,15.0,20.0,23.0,21.0,16.0,16.0,20.0,21.0,17.0,17.0,26.0,32.0,24.0,26.0,27.0,29.0,33.0,25.0,29.0,29.0,23.0,24.0,29.0,32.0,34.0,26.0,29.0,29.0,25.0,22.0,25.0,26.0,25.0,32.0,21.0,22.0,22.0,32.0,27.0,24.0,32.0,22.0,25.0,24.0,23.0,28.0,24.0,20.0,28.0,24.0,30.0,29.0,26.0,22.0,24.0,24.0,24.0,21.0,22.0,34.0,25.0,30.0,24.0,26.0,20.0,22.0,29.0,22.0,26.0,25.0,22.0,25.0,25.0,31.0,25.0,21.0,21.0,31.0,29.0,27.0,21.0,21.0,25.0,25.0,24.0,23.0,23.0,19.0,21.0,24.0,26.0,30.0,25.0,20.0,24.0,26.0,21.0,28.0,28.0,22.0,26.0,24.0,27.0,26.0,33.0,16.0,19.0,22.0,16.0,21.0,26.0,23.0,28.0,22.0,22.0,22.0,24.0,18.0,25.0,24.0,21.0,20.0,24.0,24.0,22.0,24.0,24.0,23.0,27.0,29.0,26.0,18.0,22.0,22.0,27.0,19.0,28.0,20.0,18.0,19.0,22.0,31.0,26.0,28.0,18.0,26.0,20.0,25.0,28.0,25.0,19.0,23.0,20.0,21.0,15.0,18.0,24.0,16.0,24.0,20.0,18.0,21.0,22.0,24.0,27.0,16.0,17.0,22.0,25.0,22.0,27.0,24.0,19.0,25.0,23.0,17.0,21.0,22.0,19.0,29.0,18.0,21.0,21.0,25.0,17.0,15.0,23.0,26.0,19.0,24.0,25.0,23.0,24.0,27.0,33.0,32.0,23.0,21.0,21.0,27.0,29.0,26.0,23.0,29.0,29.0,33.0,19.0,33.0,30.0,30.0,19.0,31.0,29.0,25.0,28.0,32.0,24.0,21.0,29.0,19.0,20.0,27.0,20.0,24.0,24.0,32.0,27.0,28.0,24.0,31.0,32.0,23.0,35.0,37.0,26.0,26.0,32.0,32.0,28.0,28.0,24.0,31.0,28.0,31.0,29.0,27.0,22.0,24.0,20.0,19.0,27.0,16.0,24.0,22.0,17.0,16.0,24.0,17.0,24.0,23.0,19.0,23.0,23.0,16.0,22.0,18.0,27.0,19.0,23.0,17.0,26.0,18.0,24.0,25.0,18.0,16.0,17.0,16.0,23.0,28.0,26.0,31.0,22.0,22.0,27.0,19.0,21.0,18.0,20.0,16.0,20.0,27.0,29.0,24.0,31.0,19.0,38.0,29.0,28.0,25.0,27.0,27.0,25.0,34.0,18.0,23.0,20.0,32.0,25.0,23.0,28.0,26.0,30.0,23.0,21.0,27.0,30.0,26.0,25.0,27.0,33.0,27.0,29.0,34.0,37.0,46.0,40.0,44.0,45.0,40.0,39.0,38.0,35.0,37.0,29.0,39.0,46.0,30.0,41.0,38.0,42.0,32.0,31.0,23.0,19.0,21.0,26.0,26.0,21.0,15.0,25.0,26.0,30.0,22.0,16.0,22.0,22.0,23.0,16.0,27.0,25.0,26.0,24.0,18.0,22.0,18.0,17.0,16.0,25.0,21.0,26.0,27.0,27.0,28.0,36.0,24.0,25.0,28.0,31.0,20.0,32.0,28.0,27.0,20.0,39.0,27.0,28.0,22.0,25.0,29.0,31.0,28.0,20.0,26.0,35.0,26.0,26.0,34.0,29.0,24.0,30.0,32.0,34.0,30.0,26.0,32.0,23.0,24.0,22.0,32.0,31.0,29.0,30.0,28.0,29.0,23.0,33.0,30.0,28.0,27.0,29.0,32.0,31.0,28.0,30.0,25.0,34.0,28.0,21.0,34.0,31.0,29.0,24.0,30.0,36.0,25.0,29.0,23.0,31.0,25.0,26.0,32.0,32.0,28.0,27.0,30.0,25.0,25.0,28.0,21.0,32.0,22.0,42.0,30.0,28.0,29.0,28.0,19.0,22.0,28.0,38.0,32.0,22.0,24.0,23.0,26.0,22.0,25.0,21.0,22.0,31.0,36.0,32.0,28.0,27.0,32.0,36.0,21.0,23.0,30.0,24.0,25.0,34.0,24.0,31.0,31.0,28.0,36.0,33.0,32.0,31.0,30.0,31.0,24.0,34.0,27.0,26.0,27.0,34.0,25.0,27.0,22.0,25.0,21.0,31.0,30.0,28.0,21.0,27.0,29.0,30.0,23.0,27.0,29.0,25.0,26.0,22.0,23.0,22.0,22.0,25.0,32.0,22.0,24.0,23.0,24.0,23.0,29.0,23.0,24.0,22.0,23.0,22.0,26.0,26.0,29.0,30.0,22.0,34.0,28.0,20.0,26.0,34.0,27.0,26.0,26.0,31.0,32.0,25.0,30.0,40.0,31.0,24.0,25.0,28.0,25.0,30.0,25.0,26.0,25.0,32.0,24.0,33.0,27.0,24.0,28.0,30.0,26.0,31.0,24.0,20.0,23.0,24.0,30.0,32.0,25.0,23.0,27.0,19.0,21.0,20.0,29.0,24.0,17.0,20.0,25.0,25.0,24.0,30.0,29.0,27.0,27.0,32.0,26.0,24.0,32.0,24.0,26.0,31.0,28.0,23.0,24.0,25.0,22.0,26.0,21.0,23.0,23.0,25.0,29.0,24.0,26.0,24.0,30.0,30.0,29.0,25.0,24.0,34.0,21.0,26.0,24.0,25.0,27.0,26.0,31.0,25.0,29.0,27.0,26.0,26.0,26.0,22.0,22.0,26.0,24.0,23.0,25.0,33.0,28.0,28.0,24.0,27.0,35.0,26.0,34.0,21.0,29.0,21.0,23.0,26.0,29.0,27.0,29.0,25.0,19.0,30.0,21.0,19.0,24.0,31.0,25.0,24.0,21.0,24.0,21.0,24.0,28.0,29.0,27.0,23.0,28.0,28.0,29.0,22.0,30.0,27.0,26.0,24.0,29.0,26.0,22.0,28.0,22.0,25.0,25.0,26.0,23.0,28.0,26.0,24.0,32.0,26.0,28.0,28.0,23.0,36.0,28.0,27.0,28.0,25.0,22.0,23.0,25.0,33.0,24.0,21.0,26.0,20.0,29.0,25.0,24.0,24.0,26.0,30.0,22.0,25.0,24.0,31.0,20.0,27.0,25.0,18.0,23.0,25.0,23.0,25.0,26.0,29.0,21.0,20.0,24.0,28.0,28.0,24.0,33.0,21.0,27.0,30.0,26.0,28.0,21.0,22.0,20.0,27.0,21.0,26.0,27.0,25.0,30.0,28.0,30.0,31.0,26.0,23.0,22.0,25.0,25.0,26.0,26.0,29.0,20.0,22.0,30.0,20.0,30.0,27.0,24.0,28.0,24.0,25.0,29.0,24.0,29.0,25.0,29.0,23.0,27.0,18.0,30.0,21.0,29.0,27.0,23.0,25.0,29.0,27.0,32.0,28.0,31.0,23.0,24.0,29.0,23.0,25.0,29.0,26.0,26.0,25.0,28.0,26.0,24.0,29.0,33.0,27.0,30.0,30.0,20.0,29.0,26.0,25.0,26.0,28.0,26.0,26.0,25.0,22.0,23.0,22.0,21.0,22.0,27.0,27.0,24.0,21.0,23.0,27.0,24.0,26.0,24.0,28.0,19.0,27.0,28.0,19.0,23.0,23.0,29.0,27.0,21.0,24.0,19.0,23.0,23.0,23.0,21.0,25.0,23.0,26.0,22.0,23.0,21.0,28.0,26.0,20.0,26.0,23.0,20.0,26.0,19.0,21.0,21.0,22.0,22.0,22.0,26.0,24.0,24.0,26.0,23.0,18.0,26.0,24.0,23.0,23.0,20.0,24.0,26.0,25.0,29.0,29.0,27.0,25.0,23.0,21.0,23.0,20.0,19.0,24.0,24.0,25.0,22.0,26.0,26.0,27.0,20.0,25.0,17.0,23.0,22.0,20.0,25.0,20.0,26.0,24.0,20.0,23.0,26.0,23.0,27.0,33.0,22.0,21.0,25.0,20.0,25.0,20.0,22.0,25.0,19.0,28.0,28.0,22.0,24.0,25.0,22.0,32.0,24.0,29.0,20.0,26.0,17.0,23.0,26.0,24.0,22.0,21.0,35.0,31.0,28.0,34.0,28.0,22.0,31.0,34.0,26.0,25.0,23.0,23.0,22.0,19.0,29.0,24.0,23.0,28.0,25.0,20.0,25.0,26.0,24.0,22.0,24.0,19.0,29.0,25.0,25.0,28.0,23.0,28.0,20.0,17.0,30.0,21.0,23.0,31.0,26.0,18.0,25.0,28.0,25.0,21.0,25.0,22.0,31.0,24.0,27.0,27.0,28.0,28.0,24.0,30.0,26.0,27.0,22.0,21.0,19.0,28.0,21.0,24.0,28.0,22.0,23.0,35.0,31.0,19.0,19.0,22.0,26.0,17.0,26.0,26.0,29.0,19.0,38.0,25.0,20.0,29.0,27.0,24.0,31.0,26.0,25.0,26.0,20.0,19.0,22.0,31.0,28.0,25.0,28.0,27.0,21.0,29.0,24.0,25.0,29.0,30.0,36.0,24.0,26.0,24.0,24.0,18.0,25.0,29.0,24.0,21.0,24.0,27.0,24.0,29.0,26.0,21.0,28.0,32.0,30.0,26.0,36.0,34.0,27.0,28.0,31.0,29.0,25.0,24.0,27.0,31.0,28.0,20.0,22.0,26.0,33.0,19.0,25.0,19.0,22.0,19.0,33.0,29.0,36.0,32.0,24.0,28.0,27.0,22.0,25.0,26.0,32.0,21.0,32.0,36.0,32.0,27.0,22.0,23.0,30.0,21.0,28.0,30.0,21.0,19.0,31.0,25.0,23.0,26.0,23.0,24.0,26.0,22.0,23.0,25.0,26.0,24.0,28.0,23.0,32.0,25.0,30.0,25.0,22.0,30.0,27.0,20.0,28.0,25.0,26.0,33.0,30.0,29.0,30.0,23.0,28.0,21.0,23.0,29.0,27.0,21.0,23.0,30.0,33.0,31.0,26.0,23.0,25.0,29.0,21.0,30.0,25.0,22.0,36.0,25.0,19.0,24.0,23.0,24.0,21.0,33.0,28.0,34.0,24.0,23.0,31.0,34.0,32.0,32.0,27.0,25.0,32.0,28.0,25.0,30.0,26.0,32.0,25.0,24.0,30.0,25.0,23.0,28.0,24.0,30.0,27.0,19.0,23.0,22.0,37.0,31.0,27.0,33.0,21.0,30.0,29.0,28.0,26.0,32.0,30.0,24.0,24.0,23.0,24.0,31.0,33.0,26.0,30.0,29.0,30.0,27.0,29.0,22.0,28.0,20.0,21.0,26.0,26.0,27.0,23.0,21.0,20.0,26.0,29.0,27.0,21.0,24.0,28.0,29.0,26.0,28.0,30.0,21.0,29.0,28.0,24.0,31.0,31.0,21.0,30.0,26.0,35.0,25.0,31.0,23.0,21.0,28.0,24.0,26.0,26.0,22.0,32.0,21.0,24.0,21.0,26.0,33.0,27.0,27.0,22.0,22.0,23.0,29.0,26.0,24.0,23.0,20.0,25.0,32.0,28.0,26.0,25.0,25.0,19.0,27.0,26.0,26.0,23.0,26.0,25.0,27.0,39.0,23.0,24.0,22.0,27.0,21.0,25.0,22.0,25.0,30.0,23.0,26.0,36.0,24.0,25.0,27.0,22.0,24.0,26.0,29.0,27.0,29.0,28.0,24.0,24.0,26.0,20.0,27.0,26.0,34.0,28.0,31.0,25.0,21.0,27.0,26.0,29.0,31.0,24.0,26.0,29.0,27.0,32.0,28.0,32.0,31.0,35.0,26.0,23.0,25.0,31.0,30.0,25.0,22.0,32.0,27.0,33.0,32.0,35.0,28.0,27.0,33.0,25.0,23.0,24.0,25.0,29.0,28.0,24.0,30.0,25.0,25.0,31.0,27.0,36.0,24.0,25.0,31.0,23.0,26.0,29.0,23.0,30.0,39.0,26.0,30.0,23.0,33.0,26.0,26.0,24.0,33.0,30.0,39.0,29.0,22.0,30.0,30.0,34.0,36.0,25.0,27.0,31.0,25.0,27.0,29.0,23.0,32.0,34.0,36.0,24.0,28.0,29.0,22.0,31.0,27.0,26.0,32.0,28.0,23.0,29.0,38.0,32.0,31.0,23.0,23.0,32.0,29.0,26.0,32.0,35.0,24.0,25.0,38.0,27.0,30.0,29.0,33.0,26.0,27.0,27.0,21.0,33.0,24.0,20.0,30.0,27.0,29.0,25.0,22.0,26.0,27.0,30.0,29.0,25.0,32.0,24.0,25.0,35.0,25.0,30.0,31.0,32.0,21.0,27.0,26.0,32.0,26.0,23.0,29.0,20.0,19.0,27.0,21.0,21.0,28.0,28.0,26.0,29.0,25.0,30.0,29.0,23.0,28.0,33.0,19.0,18.0,25.0,28.0,24.0,26.0,24.0,23.0,30.0,28.0,25.0,25.0,31.0,23.0,34.0,27.0,33.0,28.0,28.0,28.0,34.0,22.0,26.0,25.0,24.0,23.0,27.0,28.0,36.0,26.0,24.0,30.0,25.0,32.0,22.0,31.0,32.0,26.0,20.0,28.0,25.0,26.0,31.0,33.0,19.0,27.0,26.0,24.0,25.0,20.0,28.0,29.0,38.0,34.0,22.0,28.0,26.0,24.0,26.0,24.0,22.0,28.0,22.0,25.0,23.0,25.0,31.0,29.0,21.0,30.0,25.0,34.0,26.0,27.0,21.0,21.0,27.0,30.0,25.0,19.0,34.0,25.0,23.0,30.0,22.0,26.0,27.0,30.0,27.0,29.0,27.0,28.0,27.0,24.0,25.0,30.0,20.0,33.0,21.0,28.0,33.0,25.0,27.0,28.0,27.0,21.0,28.0,27.0,31.0,27.0,24.0,22.0,30.0,24.0,22.0,28.0,29.0,29.0,27.0,22.0,24.0,25.0,34.0,25.0,30.0,22.0,29.0,27.0,25.0,21.0,24.0,31.0,23.0,24.0,27.0,19.0,32.0,30.0,23.0,35.0,31.0,32.0,29.0,27.0,27.0,21.0,31.0,27.0,31.0,19.0,26.0,23.0,28.0,25.0,26.0,20.0,16.0,27.0,24.0,28.0,27.0,29.0,24.0,22.0,23.0,27.0,28.0,20.0,26.0,25.0,22.0,31.0,30.0,31.0,25.0,20.0,34.0,22.0,25.0,23.0,24.0,24.0,22.0,27.0,29.0,27.0,30.0,31.0,22.0,27.0,23.0,27.0,33.0,34.0,33.0,27.0,29.0,23.0,35.0,31.0,33.0,29.0,26.0,28.0,25.0,23.0,23.0,26.0,23.0,23.0,23.0,21.0,28.0,19.0,19.0,26.0,19.0,24.0,31.0,18.0,34.0,26.0,23.0,20.0,25.0,30.0,26.0,21.0,23.0,21.0,25.0,18.0,24.0,24.0,25.0,24.0,22.0,26.0,25.0,24.0,26.0,26.0,19.0,20.0,28.0,20.0,21.0,28.0,26.0,21.0,19.0,25.0,23.0,29.0,21.0,19.0,23.0,25.0,25.0,31.0,25.0,24.0,26.0,24.0,24.0,25.0,20.0,24.0,22.0,22.0,21.0,24.0,26.0,29.0,28.0,23.0,28.0,21.0,28.0,17.0,32.0,24.0,25.0,23.0,29.0,20.0,25.0,26.0,22.0,19.0,21.0,23.0,19.0,20.0,23.0,19.0,30.0,25.0,21.0,22.0,31.0,27.0,18.0,24.0,21.0,22.0,25.0,21.0,27.0,27.0,24.0,28.0,22.0,22.0,26.0,20.0,24.0,22.0,22.0,26.0,17.0,17.0,29.0,27.0,28.0,27.0,23.0,23.0,29.0,20.0,25.0,21.0,21.0,23.0,28.0,20.0,29.0,24.0,20.0,26.0,23.0,30.0,34.0,23.0,30.0,26.0,25.0,27.0,25.0,32.0,35.0,30.0,38.0,18.0,25.0,27.0,32.0,34.0,30.0,30.0,26.0,27.0,28.0,33.0,26.0,22.0,34.0,22.0,23.0,26.0,28.0,23.0,25.0,23.0,21.0,20.0,22.0,22.0,27.0,24.0,25.0,32.0,25.0,23.0,30.0,28.0,28.0,22.0,36.0,26.0,30.0,26.0,25.0,18.0,21.0,22.0,26.0,27.0,28.0,28.0,26.0,27.0,18.0,29.0,34.0,21.0,26.0,25.0,20.0,21.0,29.0,28.0,29.0,25.0,25.0,31.0,22.0,23.0,24.0,20.0,23.0,19.0,23.0,22.0,23.0,26.0,22.0,27.0,24.0,27.0,25.0,25.0,18.0,22.0,21.0,21.0,27.0,22.0,21.0,20.0,20.0,26.0,30.0,18.0,25.0,22.0,26.0,28.0,24.0,28.0,31.0,25.0,27.0,21.0,25.0,20.0,21.0,29.0,23.0,23.0,29.0,22.0,20.0,24.0,19.0,29.0,22.0,22.0,24.0,28.0,22.0,25.0,27.0,22.0,23.0,21.0,21.0,20.0,26.0,22.0,22.0,26.0,21.0,25.0,26.0,25.0,18.0,23.0,22.0,21.0,22.0,20.0,24.0,21.0,21.0,20.0,22.0,25.0,29.0,17.0,18.0,20.0,25.0,23.0,23.0,29.0,26.0,21.0,20.0,26.0,23.0,23.0,21.0,21.0,21.0,22.0,23.0,27.0,28.0,24.0,23.0,23.0,17.0,17.0,28.0,24.0,21.0,24.0,20.0,23.0,20.0,22.0,26.0,25.0,29.0,29.0,16.0,26.0,20.0,24.0,15.0,27.0,21.0,36.0,18.0,18.0,23.0,23.0,23.0,32.0,28.0,21.0,24.0,24.0,15.0,20.0,17.0,21.0,22.0,21.0,26.0,28.0,26.0,28.0,28.0,27.0,19.0,26.0,28.0,23.0,24.0,24.0,28.0,20.0,22.0,26.0,20.0,22.0,19.0,18.0,19.0,20.0,27.0,19.0,21.0,22.0,29.0,24.0,19.0,25.0,24.0,23.0,22.0,22.0,21.0,21.0,20.0,23.0,26.0,24.0,27.0,20.0,19.0,20.0,16.0,21.0,22.0,18.0,24.0,22.0,26.0,17.0,22.0,19.0,19.0,28.0,24.0,24.0,22.0,24.0,24.0,22.0,24.0,26.0,25.0,22.0,23.0,21.0,18.0,21.0,20.0,20.0,32.0,19.0,24.0,21.0,18.0,24.0,16.0,22.0,22.0,21.0,20.0,19.0,21.0,21.0,27.0,26.0,24.0,29.0,27.0,20.0,27.0,23.0,17.0,23.0,21.0,17.0,24.0,17.0,20.0,21.0,25.0,23.0,29.0,28.0,25.0,22.0,18.0,25.0,19.0,18.0,21.0,22.0,22.0,25.0,20.0,25.0,23.0,22.0,25.0,16.0,23.0,21.0,15.0,22.0,17.0,18.0,24.0,22.0,22.0,27.0,18.0,27.0,28.0,28.0,24.0,18.0,20.0,22.0,27.0,19.0,22.0,22.0,22.0,23.0,26.0,21.0,19.0,27.0,26.0,16.0,25.0,20.0,21.0,24.0,22.0,21.0,26.0,27.0,27.0,17.0,21.0,22.0,19.0,24.0,22.0,19.0,20.0,26.0,25.0,23.0,16.0,25.0,20.0,19.0,27.0,22.0,23.0,18.0,18.0,27.0,23.0,21.0,27.0,21.0,21.0,24.0,26.0,18.0,21.0,21.0,26.0,27.0,21.0,18.0,17.0,20.0,22.0,19.0,21.0,25.0,21.0,20.0,24.0,19.0,20.0,30.0,25.0,19.0,21.0,25.0,24.0,20.0,24.0,25.0,21.0,23.0,26.0,22.0,20.0,25.0,20.0,17.0,27.0,19.0,28.0,21.0,22.0,23.0,23.0,17.0,25.0,22.0,22.0,20.0,25.0,16.0,19.0,18.0,20.0,23.0,19.0,21.0,22.0,21.0,16.0,24.0,22.0,26.0,22.0,29.0,18.0,19.0,23.0,19.0,24.0,28.0,23.0,23.0,24.0,29.0,18.0,24.0,19.0,19.0,19.0,21.0,20.0,23.0,27.0,25.0,19.0,18.0,25.0,23.0,21.0,34.0,21.0,29.0,18.0,25.0,15.0,18.0,27.0,21.0,22.0,22.0,21.0,28.0,30.0,23.0,24.0,28.0,19.0,22.0,26.0,22.0,29.0,30.0,29.0,24.0,26.0,23.0,25.0,25.0,28.0,26.0,24.0,31.0,19.0,20.0,23.0,24.0,19.0,18.0,18.0,24.0,18.0,18.0,20.0,22.0,23.0,21.0,26.0,35.0,20.0,23.0,33.0,33.0,24.0,24.0,19.0,23.0,37.0,25.0,23.0,19.0,27.0,20.0,22.0,20.0,28.0,24.0,27.0,24.0,35.0,22.0,24.0,30.0,31.0,20.0,23.0,23.0,23.0,21.0,31.0,28.0,34.0,25.0,29.0,29.0,29.0,30.0,29.0,20.0,28.0,20.0,20.0,20.0,28.0,30.0,21.0,22.0,35.0,32.0,31.0,25.0,32.0,33.0,32.0,20.0,23.0,26.0,22.0,22.0,27.0,25.0,33.0,25.0,29.0,22.0,31.0,29.0,27.0,26.0,27.0,30.0,30.0,26.0,23.0,29.0,33.0,26.0,30.0,24.0,24.0,22.0,27.0,27.0,27.0,24.0,38.0,36.0,27.0,24.0,32.0,28.0,23.0,28.0,24.0,23.0,26.0,27.0,20.0,26.0,31.0,34.0,24.0,30.0,25.0,26.0,37.0,29.0,27.0,21.0,25.0,27.0,32.0,26.0,32.0,26.0,27.0,30.0,24.0,25.0,29.0,26.0,26.0,26.0,35.0,33.0,23.0,23.0,24.0,27.0,32.0,33.0,28.0,26.0,24.0,24.0,24.0,23.0,22.0,27.0,30.0,24.0,26.0,29.0,21.0,22.0,33.0,34.0,25.0,19.0,24.0,23.0,27.0,28.0,24.0,22.0,41.0,28.0,22.0,30.0,26.0,20.0,33.0,21.0,23.0,29.0,25.0,28.0,27.0,23.0,38.0,31.0,31.0,26.0,29.0,24.0,28.0,23.0,30.0,28.0,30.0,23.0,24.0,22.0,32.0,28.0,20.0,32.0,35.0,28.0,23.0,20.0,22.0,26.0,38.0,29.0,30.0,33.0,23.0,26.0,24.0,37.0,27.0,24.0,26.0,22.0,24.0,30.0,34.0,31.0,36.0,23.0,26.0,22.0,24.0,28.0,22.0,27.0,22.0,21.0,31.0,24.0,30.0,23.0,33.0,23.0,24.0,24.0,21.0,30.0,30.0,31.0,20.0,23.0,18.0,24.0,25.0,24.0,26.0,27.0,19.0,29.0,19.0,24.0,26.0,18.0,19.0,29.0,23.0,22.0,28.0,24.0,22.0,20.0,28.0,25.0,27.0,24.0,22.0,25.0,25.0,30.0,23.0,31.0,32.0,31.0,22.0,28.0,21.0,28.0,29.0,24.0,24.0,29.0,24.0,28.0,18.0,26.0,20.0,18.0,22.0,24.0,23.0,23.0,25.0,26.0,30.0,32.0,24.0,27.0,39.0,25.0,35.0,33.0,24.0,37.0,28.0,21.0,33.0,28.0,33.0,33.0,41.0,45.0,27.0,28.0,30.0,29.0,34.0,30.0,31.0,46.0,49.0,25.0,31.0,34.0,25.0,28.0,28.0,23.0,19.0,27.0,26.0,22.0,44.0,29.0,40.0,29.0,35.0,38.0,33.0,20.0,28.0,25.0,30.0,24.0,29.0,25.0,23.0,24.0,34.0,35.0,33.0,25.0,27.0,38.0,30.0,30.0,21.0,28.0,39.0,45.0,39.0,26.0,26.0,27.0,35.0,24.0,28.0,19.0,30.0,38.0,33.0,37.0,30.0,32.0,22.0,26.0,38.0,34.0,46.0,33.0,21.0,29.0,39.0,46.0,24.0,40.0,36.0,23.0,33.0,23.0,40.0,45.0,29.0,40.0,46.0,31.0,44.0,22.0,22.0,23.0,41.0,30.0,19.0,39.0,34.0,30.0,24.0,28.0,27.0,19.0,20.0,34.0,31.0,23.0,30.0,36.0,41.0,34.0,29.0,36.0,34.0,34.0,25.0,37.0,42.0,38.0,35.0,33.0,21.0,43.0,25.0,22.0,19.0,33.0,33.0,41.0,35.0,23.0,37.0,28.0,28.0,39.0,33.0,23.0,24.0,22.0,17.0,37.0,24.0,24.0,24.0,37.0,24.0,28.0,34.0,34.0,40.0,35.0,30.0,37.0,38.0,36.0,32.0,31.0,37.0,32.0,36.0,33.0,26.0,26.0,42.0,30.0,26.0,27.0,21.0,34.0,47.0,28.0,39.0,28.0,35.0,26.0,26.0,29.0,31.0,25.0,24.0,21.0,25.0,32.0,24.0,35.0,31.0,28.0,31.0,24.0,27.0,22.0,23.0,26.0,27.0,42.0,32.0,24.0,33.0,26.0,31.0,26.0,40.0,25.0,36.0,28.0,24.0,40.0,19.0,27.0,23.0,39.0,35.0,27.0,21.0,23.0,26.0,23.0,30.0,22.0,22.0,24.0,31.0,30.0,24.0,28.0,26.0,30.0,27.0,30.0,29.0,30.0,37.0,27.0,36.0,27.0,36.0,31.0,34.0,29.0,30.0,36.0,24.0,46.0,38.0,31.0,21.0,27.0,36.0,24.0,21.0,32.0,25.0,27.0,32.0,37.0,24.0,22.0,31.0,33.0,35.0,38.0,25.0,31.0,24.0,25.0,25.0,29.0,31.0,28.0,22.0,23.0,20.0,29.0,32.0,21.0,27.0,24.0,30.0,26.0,47.0,24.0,26.0,32.0,27.0,38.0,40.0,28.0,26.0,25.0,44.0,38.0,31.0,31.0,36.0,35.0,25.0,29.0,42.0,30.0,24.0,36.0,31.0,39.0,27.0,23.0,26.0,36.0,28.0,32.0,36.0,27.0,36.0,31.0,28.0,34.0,29.0,35.0,21.0,33.0,28.0,28.0,28.0,31.0,31.0,27.0,33.0,25.0,26.0,28.0,23.0,26.0,30.0,25.0,43.0,34.0,30.0,29.0,28.0,29.0,25.0,32.0,42.0,24.0,37.0,28.0,34.0,36.0,30.0,35.0,38.0,40.0,34.0,27.0,36.0,28.0,34.0,36.0,31.0,33.0,27.0,46.0,30.0,23.0,23.0,28.0,38.0,40.0,29.0,35.0,24.0,44.0,32.0,27.0,46.0,29.0,30.0,29.0,32.0,32.0,29.0,29.0,26.0,30.0,27.0,29.0,22.0,23.0,28.0,25.0,29.0,27.0,30.0,26.0,27.0,25.0,26.0,29.0,29.0,29.0,29.0,22.0,27.0,32.0,29.0,26.0,26.0,40.0,21.0,25.0,26.0,30.0,26.0,31.0,33.0,27.0,33.0,21.0,33.0,23.0,40.0,33.0,27.0,25.0,32.0,29.0,25.0,29.0,22.0,26.0,37.0,26.0,36.0,28.0,23.0,32.0,29.0,29.0,33.0,30.0,26.0,29.0,21.0,34.0,28.0,24.0,27.0,28.0,30.0,31.0,21.0,26.0,25.0,29.0,29.0,24.0,27.0,24.0,20.0,33.0,24.0,24.0,23.0,21.0,25.0,30.0,27.0,29.0,30.0,28.0,25.0,30.0,29.0,22.0,31.0,32.0,26.0,34.0,29.0,31.0,32.0,36.0,26.0,32.0,26.0,30.0,31.0,23.0,28.0,23.0,23.0,24.0,24.0,35.0,23.0,29.0,24.0,26.0,25.0,21.0,24.0,28.0,40.0,22.0,23.0,22.0,33.0,27.0,25.0,29.0,24.0,28.0,27.0,25.0,52.0,33.0,26.0,27.0,28.0,27.0,32.0,27.0,22.0,27.0,27.0,29.0,28.0,29.0,30.0,22.0,22.0,34.0,25.0,26.0,23.0,25.0,38.0,26.0,34.0,25.0,25.0,25.0,25.0,30.0,33.0,25.0,27.0,24.0,28.0,26.0,27.0,29.0,25.0,29.0,35.0,36.0,35.0,29.0,29.0,29.0,29.0,28.0,25.0,25.0,28.0,35.0,36.0,24.0,30.0,44.0,33.0,25.0,32.0,27.0,30.0,30.0,25.0,27.0,27.0,25.0,30.0,27.0,39.0,28.0,42.0,24.0,28.0,22.0,23.0,36.0,26.0,24.0,37.0,33.0,27.0,25.0,33.0,27.0,29.0,25.0,20.0,20.0,34.0,25.0,27.0,28.0,28.0,24.0,26.0,30.0,31.0,30.0,24.0,31.0,27.0,26.0,25.0,24.0,37.0,32.0,32.0,22.0,28.0,31.0,29.0,26.0,27.0,24.0,24.0,26.0,27.0,24.0,22.0,29.0,26.0,32.0,26.0,24.0,26.0,29.0,31.0,26.0,25.0,22.0,29.0,23.0,29.0,32.0,31.0,32.0,38.0,28.0,23.0,25.0,31.0,29.0,23.0,28.0,31.0,31.0,28.0,32.0,33.0,24.0,26.0,19.0,24.0,28.0,25.0,25.0,28.0,31.0,37.0,29.0,28.0,21.0,22.0,32.0,29.0,34.0,24.0,36.0,30.0,32.0,29.0,33.0,29.0,32.0,25.0,32.0,23.0,22.0,23.0,24.0,30.0,21.0,29.0,29.0,28.0,28.0,31.0,32.0,31.0,31.0,28.0,27.0,25.0,25.0,27.0,24.0,24.0,21.0,25.0,29.0,32.0,26.0,40.0,29.0,28.0,21.0,25.0,31.0,26.0,26.0,27.0,23.0,23.0,23.0,22.0,35.0,38.0,22.0,25.0,29.0,32.0,24.0,34.0,28.0,30.0,24.0,30.0,29.0,31.0,28.0,30.0,31.0,21.0,23.0,39.0,25.0,24.0,33.0,25.0,32.0,39.0,26.0,20.0,33.0,33.0,28.0,22.0,26.0,21.0,25.0,24.0,29.0,27.0,23.0,34.0,22.0,34.0,26.0,30.0,22.0,22.0,25.0,30.0,30.0,30.0,26.0,25.0,30.0,22.0,32.0,25.0,38.0,25.0,31.0,28.0,28.0,34.0,24.0,26.0,23.0,27.0,27.0,24.0,25.0,26.0,27.0,24.0,27.0,28.0,30.0,29.0,28.0,34.0,23.0,33.0,27.0,25.0,27.0,33.0,32.0,35.0,23.0,25.0,22.0,29.0,25.0,29.0,30.0,33.0,26.0,33.0,23.0,23.0,34.0,31.0,28.0,28.0,30.0,26.0,31.0,24.0,28.0,27.0,26.0,23.0,23.0,27.0,28.0,27.0,27.0,23.0,32.0,25.0,29.0,30.0,23.0,29.0,25.0,28.0,29.0,26.0,36.0,23.0,24.0,26.0,23.0,32.0,27.0,28.0,27.0,28.0,26.0,28.0,29.0,24.0,24.0,31.0,26.0,27.0,23.0,26.0,23.0,25.0,21.0,33.0,26.0,24.0,31.0,35.0,30.0,29.0,34.0,28.0,28.0,28.0,35.0,34.0,29.0,20.0,27.0,29.0,29.0,29.0,32.0,28.0,26.0,23.0,38.0,28.0,28.0,32.0,25.0,23.0,31.0,23.0,24.0,25.0,28.0,30.0,22.0,26.0,28.0,23.0,21.0,26.0,26.0,24.0,26.0,28.0,24.0,29.0,30.0,40.0,35.0,27.0,25.0,24.0,28.0,29.0,22.0,24.0,29.0,25.0,25.0,22.0,23.0,26.0,28.0,24.0,18.0,24.0,19.0,19.0,17.0,22.0,20.0,22.0,25.0,17.0,17.0,17.0,19.0,21.0,22.0,24.0,22.0,17.0,18.0,22.0,18.0,19.0,24.0,18.0,20.0,18.0,18.0,16.0,18.0,25.0,19.0,19.0,22.0,18.0,17.0,19.0,21.0,18.0,24.0,21.0,19.0,20.0,20.0,16.0,22.0,19.0,18.0,15.0,19.0,21.0,18.0,18.0,20.0,17.0,19.0,20.0,18.0,19.0,16.0,17.0,17.0,18.0,16.0,17.0,21.0,17.0,19.0,16.0,19.0,20.0,17.0,17.0,17.0,16.0,16.0,17.0,15.0,16.0,17.0,18.0,18.0,19.0,16.0,25.0,24.0,21.0,34.0,26.0,28.0,23.0,33.0,20.0,18.0,32.0,28.0,28.0,27.0,26.0,22.0,17.0,27.0,27.0,28.0,24.0,24.0,22.0,23.0,22.0,18.0,23.0,30.0,24.0,28.0,30.0,28.0,28.0,22.0,27.0,25.0,35.0,29.0,22.0,26.0,33.0,31.0,26.0,25.0,28.0,27.0,29.0,26.0,24.0,28.0,25.0,24.0,28.0,22.0,26.0,32.0,28.0,27.0,20.0,28.0,25.0,30.0,24.0,26.0,36.0,34.0,29.0,34.0,22.0,35.0,24.0,23.0,36.0,34.0,27.0,29.0,32.0,31.0,35.0,29.0,31.0,24.0,28.0,27.0,32.0,37.0,22.0,31.0,28.0,26.0,32.0,25.0,32.0,32.0,33.0,26.0,25.0,25.0,30.0,29.0,22.0,30.0,26.0,23.0,25.0,20.0,22.0,27.0,22.0,27.0,25.0,25.0,23.0,28.0,27.0,23.0,23.0,26.0,24.0,22.0,32.0,28.0,23.0,25.0,27.0,22.0,23.0,28.0,23.0,26.0,20.0,20.0,25.0,33.0,27.0,22.0,25.0,32.0,29.0,29.0,31.0,22.0,21.0,24.0,30.0,28.0,28.0,32.0,26.0,21.0,28.0,25.0,28.0,23.0,26.0,22.0,27.0,27.0,27.0,25.0,33.0,23.0,25.0,23.0,26.0,24.0,29.0,21.0,23.0,23.0,34.0,26.0,20.0,24.0,19.0,18.0,26.0,25.0,22.0,23.0,28.0,20.0,25.0,19.0,21.0,21.0,32.0,27.0,27.0,25.0,26.0,26.0,30.0,29.0,19.0,29.0,21.0,32.0,26.0,24.0,27.0,28.0,24.0,31.0,24.0,23.0,24.0,29.0,23.0,28.0,22.0,28.0,30.0,29.0,21.0,22.0,27.0,20.0,30.0,17.0,22.0,26.0,28.0,25.0,20.0,29.0,26.0,25.0,25.0,23.0,25.0,23.0,25.0,30.0,30.0,28.0,29.0,24.0,33.0,33.0,24.0,30.0,30.0,24.0,28.0,23.0,26.0,27.0,22.0,26.0,25.0,29.0,28.0,23.0,27.0,22.0,23.0,28.0,26.0,26.0,24.0,18.0,24.0,26.0,31.0,28.0,28.0,32.0,26.0,23.0,25.0,27.0,27.0,22.0,22.0,28.0,24.0,28.0,21.0,21.0,21.0,29.0,24.0,21.0,24.0,24.0,29.0,25.0,28.0,28.0,29.0,32.0,26.0,28.0,25.0,27.0,20.0,23.0,28.0,27.0,25.0,25.0,24.0,23.0,34.0,27.0,26.0,26.0,26.0,27.0,24.0,26.0,27.0,23.0,26.0,25.0,32.0,22.0,24.0,24.0,30.0,33.0,37.0,25.0,24.0,24.0,23.0,27.0,22.0,26.0,20.0,33.0,22.0,26.0,25.0,24.0,27.0,30.0,29.0,32.0,23.0,22.0,22.0,32.0,27.0,21.0,21.0,23.0,20.0,31.0,21.0,31.0,19.0,26.0,35.0,25.0,22.0,28.0,33.0,20.0,26.0,35.0,28.0,28.0,27.0,20.0,20.0,34.0,23.0,36.0,25.0,22.0,30.0,32.0,27.0,30.0,30.0,22.0,22.0,28.0,29.0,25.0,29.0,31.0,25.0,36.0,28.0,29.0,30.0,25.0,25.0,36.0,24.0,24.0,28.0,26.0,21.0,18.0,35.0,36.0,20.0,31.0,20.0,25.0,30.0,34.0,27.0,22.0,28.0,35.0,21.0,31.0,24.0,39.0,27.0,30.0,31.0,25.0,22.0,24.0,25.0,23.0,25.0,35.0,30.0,23.0,34.0,21.0,19.0,24.0,24.0,19.0,24.0,28.0,22.0,24.0,29.0,26.0,31.0,23.0,18.0,33.0,23.0,30.0,22.0,17.0,30.0,25.0,28.0,26.0,27.0,20.0,30.0,32.0,23.0,22.0,24.0,31.0,30.0,26.0,29.0,16.0,22.0,24.0,25.0,32.0,40.0,26.0,24.0,26.0,26.0,41.0,32.0,28.0,30.0,22.0,31.0,32.0,33.0,26.0,25.0,34.0,22.0,22.0,27.0,33.0,31.0,32.0,27.0,27.0,26.0,31.0,26.0,30.0,26.0,24.0,22.0,31.0,27.0,25.0,29.0,28.0,24.0,32.0,23.0,35.0,32.0,35.0,29.0,27.0,25.0,20.0,23.0,28.0,23.0,30.0,19.0,31.0,19.0,28.0,28.0,25.0,32.0,33.0,37.0,22.0,29.0,20.0,26.0,28.0,18.0,32.0,24.0,29.0,30.0,20.0,26.0,34.0,26.0,21.0,30.0,31.0,29.0,27.0,25.0,25.0,35.0,24.0,26.0,32.0,27.0,22.0,33.0,35.0,35.0,35.0,26.0,20.0,30.0,29.0,20.0,25.0,29.0,31.0,20.0,22.0,24.0,27.0,16.0,25.0,29.0,22.0,27.0,29.0,31.0,20.0,26.0,24.0,30.0,25.0,36.0,24.0,19.0,38.0,32.0,22.0,22.0,35.0,29.0,30.0,27.0,30.0,28.0,23.0,40.0,19.0,18.0,23.0,26.0,24.0,25.0,29.0,27.0,29.0,26.0,22.0,33.0,30.0,32.0,21.0,27.0,36.0,30.0,31.0,34.0,24.0,22.0,37.0,37.0,24.0,18.0,34.0,25.0,27.0,29.0,27.0,22.0,29.0,21.0,26.0,18.0,28.0,35.0,23.0,41.0,22.0,32.0,33.0,36.0,25.0,28.0,22.0,30.0,38.0,33.0,25.0,15.0,29.0,30.0,29.0,26.0,31.0,23.0,28.0,35.0,28.0,29.0,22.0,27.0,18.0,20.0,24.0,25.0,27.0,28.0,35.0,32.0,28.0,22.0,22.0,17.0,32.0,23.0,17.0,23.0,33.0,24.0,20.0,25.0,25.0,22.0,23.0,31.0,37.0,29.0,25.0,25.0,21.0,16.0,31.0,20.0,23.0,28.0,24.0,34.0,36.0,31.0,33.0,34.0,24.0,23.0,31.0,26.0,28.0,24.0,33.0,24.0,25.0,22.0,26.0,26.0,26.0,27.0,25.0,23.0,36.0,23.0,22.0,30.0,28.0,26.0,25.0,33.0,29.0,28.0,20.0,27.0,28.0,22.0,24.0,18.0,23.0,24.0,25.0,26.0,25.0,27.0,22.0,27.0,22.0,27.0,28.0,31.0,28.0,28.0,28.0,24.0,22.0,25.0,27.0,25.0,26.0,28.0,26.0,27.0,25.0,27.0,30.0,31.0,27.0,23.0,25.0,21.0,24.0,21.0,28.0,34.0,25.0,23.0,31.0,28.0,21.0,24.0,29.0,27.0,23.0,22.0,23.0,24.0,22.0,24.0,32.0,31.0,30.0,22.0,25.0,30.0,27.0,30.0,24.0,30.0,27.0,29.0,21.0,29.0,34.0,23.0,27.0,30.0,25.0,31.0,24.0,26.0,31.0,28.0,24.0,28.0,28.0,33.0,35.0,25.0,19.0,29.0,26.0,24.0,28.0,29.0,20.0,27.0,30.0,23.0,25.0,30.0,23.0,28.0,27.0,28.0,31.0,24.0,32.0,26.0,31.0,27.0,20.0,31.0,22.0,32.0,23.0,23.0,26.0,23.0,24.0,28.0,21.0,30.0,24.0,28.0,33.0,25.0,27.0,24.0,30.0,30.0,21.0,25.0,21.0,19.0,23.0,22.0,24.0,23.0,22.0,32.0,29.0,28.0,27.0,31.0,28.0,29.0,29.0,24.0,22.0,22.0,32.0,27.0,25.0,26.0,33.0,26.0,27.0,30.0,18.0,23.0,26.0,24.0,26.0,23.0,25.0,24.0,19.0,28.0,30.0,29.0,25.0,26.0,27.0,26.0,32.0,22.0,27.0,31.0,28.0,24.0,24.0,25.0,24.0,27.0,26.0,27.0,28.0,28.0,25.0,22.0,31.0,23.0,21.0,28.0,30.0,24.0,25.0,23.0,30.0,27.0,26.0,28.0,30.0,21.0,23.0,27.0,28.0,28.0,27.0,22.0,23.0,27.0,30.0,33.0,27.0,27.0,25.0,32.0,19.0,23.0,32.0,27.0,30.0,24.0,28.0,26.0,29.0,26.0,29.0,26.0,27.0,26.0,25.0,31.0,22.0,31.0,24.0,27.0,27.0,24.0,24.0,24.0,27.0,24.0,28.0,31.0,25.0,26.0,28.0,24.0,32.0,28.0,22.0,26.0,22.0,29.0,29.0,25.0,23.0,26.0,22.0,22.0,19.0,28.0,26.0,26.0,27.0,25.0,22.0,23.0,23.0,27.0,24.0,34.0,28.0,24.0,31.0,24.0,25.0,27.0,29.0,26.0,33.0,27.0,26.0,22.0,29.0,28.0,27.0,28.0,29.0,19.0,25.0,28.0,24.0,31.0,33.0,23.0,26.0,24.0,25.0,22.0,22.0,21.0,36.0,29.0,21.0,27.0,26.0,29.0,28.0,23.0,26.0,26.0,24.0,25.0,28.0,21.0,25.0,29.0,30.0,22.0,27.0,27.0,30.0,28.0,30.0,28.0,23.0,20.0,27.0,19.0,26.0,21.0,28.0,26.0,32.0,28.0,24.0,26.0,28.0,30.0,23.0,26.0,26.0,28.0,24.0,28.0,32.0,26.0,27.0,30.0,25.0,20.0,25.0,26.0,22.0,27.0,26.0,32.0,27.0,24.0,27.0,29.0,26.0,28.0,27.0,29.0,29.0,34.0,33.0,23.0,25.0,32.0,27.0,32.0,25.0,27.0,29.0,39.0,33.0,26.0,35.0,33.0,24.0,23.0,23.0,28.0,27.0,32.0,35.0,26.0,34.0,36.0,26.0,27.0,30.0,34.0,32.0,25.0,26.0,27.0,25.0,36.0,33.0,27.0,26.0,31.0,28.0,36.0,31.0,22.0,26.0,21.0,31.0,30.0,20.0,22.0,36.0,32.0,29.0,29.0,24.0,22.0,24.0,32.0,33.0,22.0,30.0,27.0,35.0,28.0,31.0,32.0,25.0,25.0,27.0,36.0,25.0,27.0,28.0,23.0,28.0,31.0,18.0,28.0,33.0,27.0,23.0,37.0,27.0,22.0,28.0,24.0,20.0,38.0,29.0,21.0,28.0,33.0,27.0,31.0,31.0,25.0,31.0,27.0,31.0,22.0,29.0,30.0,25.0,30.0,32.0,35.0,23.0,26.0,28.0,23.0,26.0,27.0,24.0,28.0,28.0,32.0,36.0,34.0,28.0,31.0,29.0,24.0,32.0,31.0,33.0,27.0,27.0,19.0,33.0,28.0,32.0,28.0,25.0,26.0,25.0,28.0,28.0,23.0,35.0,35.0,31.0,33.0,27.0,28.0,29.0,24.0,23.0,28.0,24.0,26.0,32.0,28.0,28.0,28.0,29.0,33.0,23.0,23.0,35.0,29.0,29.0,23.0,23.0,22.0,28.0,25.0,33.0,22.0,28.0,26.0,27.0,23.0,23.0,26.0,26.0,33.0,27.0,29.0,26.0,32.0,22.0,34.0,24.0,28.0,29.0,29.0,28.0,32.0,28.0,28.0,26.0,27.0,23.0,31.0,27.0,23.0,30.0,29.0,28.0,31.0,31.0,33.0,35.0,30.0,23.0,42.0,24.0,29.0,28.0,28.0,28.0,34.0,27.0,23.0,26.0,24.0,21.0,25.0,22.0,31.0,31.0,35.0,29.0,30.0,31.0,27.0,31.0,26.0,34.0,34.0,25.0,27.0,23.0,35.0,24.0,25.0,31.0,29.0,32.0,24.0,29.0,40.0,26.0,28.0,27.0,23.0,21.0,26.0,26.0,32.0,23.0,36.0,24.0,27.0,34.0,25.0,30.0,23.0,22.0,29.0,28.0,26.0,32.0,29.0,27.0,31.0,31.0,29.0,25.0,22.0,30.0,31.0,30.0,30.0,29.0,29.0,31.0,35.0,23.0,29.0,23.0,32.0,26.0,25.0,25.0,31.0,24.0,32.0,29.0,31.0,23.0,29.0,30.0,25.0,26.0,38.0,27.0,25.0,36.0,29.0,23.0,24.0,31.0,22.0,30.0,25.0,28.0,31.0,28.0,29.0,36.0,29.0,30.0,21.0,26.0,25.0,27.0,26.0,27.0,32.0,22.0,22.0,26.0,24.0,32.0,26.0,35.0,38.0,32.0,22.0,22.0,34.0,27.0,28.0,36.0,24.0,32.0,31.0,24.0,29.0,26.0,36.0,35.0,20.0,27.0,16.0,18.0,20.0,16.0,24.0,24.0,20.0,16.0,18.0,20.0,30.0,19.0,21.0,19.0,15.0,25.0,20.0,27.0,22.0,23.0,27.0,17.0,23.0,19.0,22.0,23.0,26.0,16.0,22.0,27.0,31.0,22.0,28.0,33.0,27.0,16.0,15.0,25.0,17.0,26.0,20.0,19.0,29.0,16.0,28.0,16.0,20.0,25.0,18.0,22.0,16.0,20.0,21.0,16.0,19.0,24.0,17.0,26.0,27.0,22.0,23.0,24.0,18.0,25.0,26.0,34.0,23.0,24.0,21.0,26.0,19.0,16.0,16.0,23.0,23.0,16.0,24.0,16.0,21.0,21.0,26.0,25.0,20.0,22.0,19.0,26.0,27.0,19.0,27.0,30.0,24.0,22.0,27.0,21.0,18.0,18.0,21.0,23.0,16.0,16.0,22.0,30.0,18.0,23.0,19.0,18.0,22.0,21.0,16.0,16.0,21.0,17.0,19.0,19.0,22.0,23.0,28.0,20.0,18.0,15.0,28.0,23.0,24.0,20.0,22.0,21.0,18.0,15.0,22.0,21.0,21.0,22.0,30.0,22.0,20.0,35.0,26.0,29.0,22.0,24.0,31.0,23.0,23.0,21.0,23.0,21.0,23.0,21.0,28.0,19.0,22.0,26.0,23.0,23.0,24.0,22.0,26.0,23.0,19.0,25.0,27.0,22.0,21.0,22.0,21.0,21.0,25.0,26.0,22.0,26.0,23.0,22.0,22.0,28.0,21.0,23.0,32.0,23.0,30.0,22.0,30.0,19.0,24.0,29.0,28.0,29.0,22.0,34.0,27.0,23.0,28.0,25.0,21.0,30.0,23.0,20.0,23.0,27.0,22.0,28.0,20.0,23.0,27.0,31.0,37.0,28.0,23.0,22.0,27.0,19.0,25.0,21.0,24.0,32.0,25.0,23.0,27.0,33.0,24.0,24.0,28.0,27.0,29.0,30.0,22.0,21.0,24.0,30.0,26.0,21.0,23.0,32.0,30.0,28.0,22.0,20.0,22.0,19.0,20.0,23.0,18.0,19.0,20.0,30.0,29.0,20.0,21.0,20.0,20.0,20.0,22.0,31.0,18.0,24.0,22.0,20.0,24.0,20.0,22.0,23.0,24.0,20.0,23.0,20.0,20.0,25.0,19.0,21.0,30.0,18.0,22.0,21.0,28.0,20.0,23.0,29.0,30.0,22.0,20.0,21.0,21.0,25.0,22.0,22.0,23.0,22.0,23.0,32.0,26.0,21.0,20.0,22.0,24.0,22.0,31.0,21.0,23.0,30.0,21.0,23.0,23.0,21.0,27.0,22.0,19.0,21.0,20.0,24.0,33.0,20.0,29.0,33.0,30.0,22.0,21.0,23.0,30.0,21.0,21.0,28.0,24.0,26.0,23.0,23.0,27.0,31.0,23.0,31.0,27.0,23.0,30.0,33.0,24.0,22.0,22.0,27.0,23.0,22.0,26.0,31.0,21.0,22.0,23.0,20.0,23.0,23.0,23.0,21.0,27.0,23.0,33.0,36.0,19.0,22.0,20.0,19.0,23.0,20.0,21.0,23.0,22.0,21.0,22.0,21.0,21.0,30.0,23.0,36.0,24.0,22.0,26.0,33.0,25.0,33.0,24.0,23.0,22.0,23.0,22.0,30.0,23.0,23.0,23.0,21.0,32.0,26.0,25.0,26.0,31.0,22.0,19.0,18.0,33.0,28.0,22.0,23.0,18.0,23.0,20.0,27.0,22.0,22.0,31.0,26.0,26.0,23.0,24.0,19.0,21.0,22.0,22.0,26.0,29.0,23.0,23.0,25.0,25.0,29.0,26.0,22.0,23.0,23.0,22.0,34.0,32.0,22.0,23.0,32.0,27.0,26.0,29.0,20.0,20.0,22.0,24.0,24.0,21.0,29.0,22.0,23.0,20.0,20.0,22.0,23.0,20.0,23.0,19.0,23.0,22.0,20.0,25.0,22.0,32.0,22.0,22.0,27.0,19.0,22.0,32.0,22.0,31.0,29.0,21.0,21.0,21.0,21.0,22.0,21.0,23.0,19.0,28.0,30.0,23.0,21.0,25.0,22.0,25.0,27.0,21.0,23.0,16.0,25.0,28.0,22.0,23.0,23.0,29.0,24.0,22.0,17.0,29.0,25.0,20.0,21.0,27.0,22.0,19.0,27.0,26.0,27.0,26.0,22.0,22.0,20.0,22.0,26.0,23.0,22.0,21.0,22.0,25.0,25.0,21.0,22.0,22.0,23.0,27.0,31.0,22.0,28.0,23.0,28.0,22.0,24.0,22.0,22.0,22.0,33.0,20.0,23.0,26.0,23.0,28.0,21.0,22.0,20.0,33.0,19.0,23.0,25.0,19.0,24.0,22.0,30.0,27.0,24.0,26.0,28.0,31.0,30.0,23.0,30.0,20.0,22.0,36.0,24.0,24.0,21.0,23.0,21.0,33.0,31.0,29.0,20.0,28.0,30.0,23.0,27.0,27.0,24.0,20.0,21.0,32.0,26.0,28.0,24.0,30.0,21.0,16.0,21.0,28.0,27.0,29.0,27.0,19.0,24.0,23.0,25.0,23.0,21.0,28.0,29.0,25.0,33.0,22.0,30.0,33.0,26.0,26.0,28.0,23.0,23.0,27.0,24.0,27.0,26.0,28.0,25.0,21.0,21.0,31.0,28.0,27.0,22.0,22.0,25.0,21.0,29.0,23.0,27.0,32.0,21.0,27.0,27.0,20.0,30.0,22.0,27.0,19.0,23.0,25.0,28.0,29.0,21.0,25.0,23.0,23.0,25.0,26.0,28.0,26.0,30.0,26.0,22.0,22.0,24.0,28.0,24.0,23.0,29.0,21.0,24.0,28.0,31.0,28.0,28.0,29.0,21.0,28.0,24.0,27.0,25.0,25.0,32.0,28.0,31.0,26.0,28.0,21.0,33.0,30.0,29.0,27.0,26.0,25.0,33.0,25.0,22.0,26.0,26.0,25.0,28.0,22.0,39.0,27.0,30.0,30.0,20.0,31.0,30.0,33.0,24.0,36.0,23.0,29.0,30.0,21.0,25.0,22.0,31.0,17.0,21.0,23.0,25.0,29.0,30.0,27.0,26.0,38.0,22.0,23.0,27.0,22.0,32.0,30.0,20.0,25.0,25.0,33.0,29.0,27.0,32.0,22.0,28.0,30.0,24.0,35.0,24.0,38.0,27.0,22.0,26.0,25.0,19.0,29.0,27.0,24.0,30.0,24.0,30.0,29.0,25.0,26.0,26.0,19.0,22.0,23.0,21.0,29.0,21.0,23.0,27.0,33.0,34.0,34.0,33.0,24.0,21.0,33.0,23.0,26.0,31.0,28.0,26.0,30.0,26.0,26.0,30.0,22.0,29.0,20.0,31.0,29.0,30.0,24.0,34.0,25.0,30.0,30.0,23.0,23.0,20.0,34.0,31.0,19.0,25.0,31.0,19.0,30.0,29.0,22.0,30.0,33.0,26.0,26.0,28.0,22.0,18.0,19.0,29.0,30.0,15.0,34.0,34.0,19.0,28.0,20.0,32.0,26.0,36.0,39.0,30.0,21.0,30.0,33.0,22.0,33.0,26.0,36.0,23.0,25.0,23.0,24.0,27.0,26.0,32.0,36.0,25.0,28.0,26.0,22.0,34.0,30.0,24.0,30.0,27.0,24.0,40.0,27.0,37.0,42.0,26.0,52.0,41.0,43.0,42.0,30.0,45.0,41.0,44.0,30.0,29.0,50.0,32.0,28.0,31.0,39.0,31.0,43.0,34.0,29.0,54.0,25.0,51.0,51.0,56.0,24.0,44.0,43.0,35.0,46.0,43.0,55.0,42.0,36.0,39.0,40.0,42.0,26.0,30.0,45.0,30.0,46.0,40.0,31.0,40.0,42.0,29.0,34.0,61.0,34.0,32.0,35.0,31.0,40.0,46.0,49.0,47.0,47.0,32.0,33.0,29.0,29.0,45.0,42.0,33.0,30.0,30.0,39.0,44.0,48.0,44.0,35.0,32.0,45.0,42.0,32.0,40.0,49.0,31.0,40.0,45.0,44.0,43.0,46.0,50.0,43.0,24.0,34.0,36.0,28.0,37.0,39.0,39.0,31.0,41.0,37.0,42.0,42.0,26.0,35.0,47.0,27.0,44.0,27.0,37.0,26.0,41.0,45.0,31.0,37.0,35.0,42.0,30.0,36.0,47.0,37.0,27.0,36.0,40.0,36.0,46.0,29.0,35.0,44.0,43.0,43.0,44.0,25.0,20.0,23.0,16.0,23.0,17.0,18.0,32.0,26.0,25.0,18.0,25.0,30.0,19.0,22.0,22.0,26.0,20.0,15.0,19.0,19.0,20.0,26.0,19.0,18.0,25.0,23.0,24.0,22.0,25.0,19.0,21.0,26.0,18.0,22.0,29.0,18.0,20.0,17.0,20.0,24.0,22.0,21.0,34.0,29.0,16.0,20.0,25.0,29.0,19.0,16.0,22.0,22.0,21.0,30.0,15.0,31.0,17.0,23.0,30.0,25.0,28.0,26.0,25.0,23.0,29.0,21.0,18.0,21.0,29.0,18.0,26.0,26.0,21.0,23.0,21.0,23.0,27.0,27.0,16.0,24.0,21.0,22.0,23.0,27.0,23.0,38.0,36.0,39.0,25.0,23.0,23.0,24.0,22.0,20.0,24.0,22.0,20.0,25.0,27.0,26.0,27.0,21.0,20.0,25.0,24.0,32.0,20.0,20.0,19.0,23.0,21.0,25.0,27.0,25.0,27.0,24.0,31.0,23.0,24.0,20.0,25.0,34.0,23.0,29.0,26.0,24.0,25.0,18.0,40.0,25.0,28.0,26.0,25.0,23.0,38.0,21.0,25.0,24.0,25.0,32.0,32.0,20.0,28.0,35.0,23.0,21.0,20.0,30.0,22.0,23.0,25.0,43.0,23.0,25.0,21.0,32.0,20.0,23.0,22.0,33.0,23.0,24.0,22.0,30.0,20.0,26.0,22.0,27.0,27.0,22.0,34.0,21.0,27.0,33.0,29.0,24.0,23.0,25.0,34.0,30.0,31.0,27.0,31.0,35.0,25.0,24.0,25.0,28.0,25.0,30.0,22.0,20.0,21.0,36.0,35.0,21.0,34.0,22.0,36.0,30.0,21.0,24.0,21.0,24.0,28.0,30.0,21.0,24.0,35.0,35.0,23.0,25.0,23.0,31.0,22.0,31.0,34.0,34.0,34.0,28.0,31.0,30.0,33.0,26.0,28.0,19.0,25.0,30.0,32.0,32.0,24.0,35.0,29.0,26.0,29.0,25.0,32.0,38.0,25.0,30.0,31.0,24.0,26.0,35.0,27.0,32.0,35.0,32.0,29.0,28.0,28.0,26.0,38.0,29.0,29.0,22.0,31.0,29.0,24.0,37.0,36.0,42.0,31.0,29.0,23.0,28.0,30.0,27.0,28.0,31.0,26.0,29.0,24.0,25.0,28.0,25.0,26.0,31.0,41.0,29.0,25.0,21.0,37.0,24.0,25.0,24.0,39.0,30.0,29.0,26.0,22.0,29.0,31.0,26.0,24.0,31.0,31.0,26.0,22.0,31.0,27.0,20.0,28.0,24.0,34.0,24.0,38.0,43.0,46.0,41.0,26.0,25.0,26.0,28.0,39.0,28.0,38.0,43.0,30.0,31.0,35.0,43.0,32.0,26.0,33.0,30.0,27.0,36.0,38.0,25.0,24.0,27.0,24.0,43.0,27.0,37.0,25.0,49.0,44.0,28.0,30.0,37.0,26.0,35.0,34.0,31.0,26.0,26.0,28.0,39.0,34.0,23.0,34.0,32.0,23.0,22.0,32.0,39.0,41.0,33.0,38.0,30.0,33.0,29.0,28.0,33.0,36.0,27.0,35.0,35.0,34.0,43.0,27.0,45.0,30.0,34.0,23.0,30.0,29.0,24.0,31.0,35.0,33.0,45.0,39.0,34.0,38.0,36.0,32.0,30.0,23.0,19.0,38.0,23.0,21.0,25.0,28.0,31.0,24.0,33.0,31.0,32.0,30.0,23.0,28.0,20.0,27.0,26.0,35.0,27.0,29.0,32.0,32.0,28.0,25.0,20.0,30.0,23.0,24.0,30.0,28.0,29.0,25.0,24.0,38.0,30.0,22.0,29.0,22.0,33.0,26.0,28.0,33.0,32.0,23.0,29.0,32.0,25.0,25.0,36.0,41.0,29.0,25.0,27.0,25.0,33.0,31.0,26.0,28.0,31.0,30.0,37.0,34.0,35.0,33.0,31.0,24.0,29.0,21.0,34.0,29.0,24.0,22.0,27.0,28.0,30.0,27.0,26.0,24.0,24.0,30.0,29.0,31.0,32.0,37.0,27.0,22.0,32.0,29.0,27.0,27.0,23.0,33.0,30.0,24.0,24.0,29.0,23.0,26.0,29.0,27.0,27.0,28.0,25.0,19.0,22.0,34.0,32.0,29.0,29.0,18.0,29.0,20.0,27.0,32.0,32.0,29.0,25.0,30.0,25.0,33.0,34.0,20.0,36.0,20.0,20.0,23.0,23.0,36.0,27.0,32.0,33.0,28.0,26.0,27.0,22.0,29.0,25.0,21.0,31.0,22.0,24.0,22.0,23.0,23.0,27.0,26.0,26.0,25.0,30.0,31.0,26.0,33.0,26.0,25.0,22.0,27.0,23.0,30.0,34.0,28.0,26.0,30.0,26.0,20.0,27.0,21.0,22.0,23.0,23.0,27.0,24.0,29.0,21.0,26.0,24.0,28.0,21.0,26.0,28.0,28.0,21.0,43.0,29.0,36.0,21.0,30.0,34.0,21.0,30.0,23.0,22.0,32.0,26.0,26.0,20.0,29.0,29.0,31.0,22.0,30.0,28.0,29.0,25.0,30.0,29.0,19.0,26.0,22.0,31.0,27.0,30.0,28.0,22.0,29.0,30.0,25.0,26.0,27.0,26.0,28.0,25.0,29.0,24.0,27.0,28.0,34.0,29.0,22.0,36.0,27.0,35.0,34.0,26.0,27.0,25.0,26.0,28.0,23.0,24.0,24.0,32.0,39.0,25.0,32.0,26.0,32.0,26.0,22.0,24.0,25.0,27.0,28.0,26.0,25.0,27.0,21.0,26.0,24.0,23.0,23.0,22.0,23.0,27.0,23.0,32.0,28.0,35.0,30.0,24.0,29.0,25.0,30.0,28.0,21.0,26.0,24.0,22.0,24.0,26.0,26.0,25.0,21.0,30.0,20.0,31.0,24.0,25.0,23.0,30.0,26.0,30.0,32.0,31.0,23.0,31.0,29.0,22.0,35.0,28.0,29.0,32.0,21.0,21.0,28.0,36.0,24.0,24.0,22.0,35.0,23.0,25.0,28.0,27.0,27.0,23.0,26.0,21.0,23.0,25.0,24.0,31.0,21.0,23.0,22.0,28.0,32.0,25.0,26.0,18.0,24.0,31.0,25.0,24.0,30.0,26.0,26.0,27.0,30.0,31.0,24.0,25.0,23.0,23.0,20.0,21.0,26.0,27.0,20.0,22.0,27.0,24.0,28.0,26.0,20.0,28.0,31.0,22.0,23.0,25.0,28.0,29.0,22.0,30.0,22.0,24.0,28.0,24.0,24.0,21.0,30.0,25.0,29.0,25.0,24.0,34.0,32.0,20.0,20.0,35.0,32.0,31.0,23.0,23.0,35.0,26.0,28.0,28.0,31.0,28.0,22.0,22.0,30.0,31.0,37.0,28.0,30.0,25.0,26.0,28.0,23.0,37.0,35.0,31.0,22.0,34.0,35.0,21.0,21.0,33.0,24.0,28.0,24.0,20.0,24.0,29.0,27.0,37.0,23.0,22.0,28.0,23.0,26.0,23.0,21.0,22.0,27.0,24.0,25.0,25.0,28.0,26.0,27.0,24.0,35.0,20.0,26.0,23.0,29.0,28.0,28.0,20.0,32.0,31.0,30.0,29.0,31.0,27.0,37.0,30.0,26.0,23.0,25.0,30.0,33.0,19.0,31.0,31.0,34.0,24.0,21.0,30.0,25.0,27.0,33.0,31.0,30.0,22.0,25.0,21.0,29.0,38.0,28.0,24.0,24.0,30.0,29.0,22.0,31.0,20.0,29.0,23.0,28.0,26.0,23.0,29.0,33.0,32.0,23.0,22.0,27.0,32.0,22.0,22.0,35.0,26.0,37.0,20.0,29.0,24.0,28.0,29.0,21.0,28.0,23.0,27.0,21.0,20.0,31.0,24.0,23.0,31.0,24.0,27.0,22.0,27.0,21.0,30.0,23.0,27.0,24.0,31.0,28.0,21.0,29.0,35.0,27.0,30.0,27.0,25.0,19.0,24.0,32.0,31.0,33.0,36.0,29.0,33.0,26.0,30.0,23.0,36.0,28.0,27.0,23.0,27.0,28.0,26.0,33.0,21.0,20.0,26.0,35.0,22.0,22.0,25.0,34.0,36.0,37.0,29.0,23.0,29.0,31.0,26.0,29.0,23.0,21.0,31.0,26.0,28.0,25.0,24.0,32.0,24.0,19.0,20.0,21.0,23.0,21.0,22.0,24.0,27.0,25.0,23.0,22.0,29.0,22.0,24.0,23.0,27.0,26.0,25.0,19.0,23.0,23.0,20.0,25.0,23.0,20.0,32.0,29.0,18.0,24.0,30.0,28.0,26.0,17.0,26.0,26.0,22.0,33.0,30.0,25.0,23.0,25.0,31.0,23.0,28.0,21.0,21.0,28.0,28.0,25.0,22.0,22.0,24.0,24.0,26.0,23.0,25.0,23.0,23.0,23.0,19.0,27.0,24.0,23.0,33.0,30.0,22.0,26.0,30.0,26.0,20.0,24.0,25.0,23.0,26.0,26.0,20.0,22.0,25.0,26.0,24.0,22.0,21.0,22.0,26.0,25.0,27.0,29.0,30.0,26.0,21.0,21.0,24.0,24.0,24.0,21.0,31.0,22.0,22.0,27.0,21.0,20.0,22.0,28.0,24.0,23.0,28.0,17.0,30.0,21.0,22.0,20.0,33.0,27.0,24.0,23.0,24.0,24.0,29.0,23.0,30.0,24.0,19.0,22.0,25.0,20.0,20.0,17.0,23.0,23.0,21.0,26.0,26.0,21.0,19.0,22.0,26.0,24.0,21.0,21.0,26.0,20.0,23.0,23.0,25.0,28.0,25.0,28.0,20.0,20.0,29.0,21.0,22.0,22.0,31.0,30.0,23.0,26.0,25.0,24.0,24.0,19.0,27.0,22.0,26.0,20.0,32.0,23.0,25.0,23.0,20.0,22.0,21.0,26.0,30.0,22.0,19.0,27.0,19.0,27.0,30.0,35.0,29.0,32.0,29.0,24.0,32.0,31.0,25.0,31.0,22.0,29.0,25.0,24.0,29.0,29.0,30.0,29.0,35.0,31.0,29.0,30.0,29.0,28.0,27.0,35.0,31.0,21.0,28.0,27.0,29.0,25.0,37.0,27.0,31.0,31.0,28.0,25.0,33.0,34.0,28.0,32.0,24.0,26.0,32.0,33.0,32.0,29.0,24.0,23.0,28.0,39.0,27.0,34.0,28.0,32.0,39.0,32.0,37.0,30.0,34.0,28.0,30.0,21.0,29.0,27.0,23.0,27.0,22.0,31.0,21.0,30.0,40.0,32.0,32.0,29.0,22.0,33.0,30.0,34.0,22.0,23.0,33.0,32.0,32.0,26.0,30.0,26.0,27.0,39.0,25.0,35.0,35.0,28.0,24.0,24.0,31.0,31.0,22.0,34.0,32.0,28.0,27.0,25.0,28.0,28.0,28.0,24.0,28.0,32.0,29.0,29.0,34.0,33.0,27.0,34.0,27.0,29.0,30.0,22.0,30.0,27.0,39.0,29.0,34.0,30.0,34.0,27.0,33.0,30.0,24.0,33.0,28.0,35.0,29.0,34.0,31.0,33.0,34.0,27.0,29.0,24.0,19.0,23.0,35.0,34.0,31.0,22.0,27.0,30.0,27.0,35.0,29.0,31.0,25.0,34.0,34.0,31.0,28.0,25.0,31.0,31.0,35.0,25.0,34.0,27.0,27.0,29.0,28.0,23.0,28.0,31.0,28.0,31.0,23.0,33.0,30.0,20.0,32.0,33.0,29.0,23.0,23.0,19.0,25.0,30.0,23.0,27.0,26.0,26.0,27.0,32.0,27.0,28.0,25.0,22.0,37.0,22.0,28.0,31.0,27.0,20.0,31.0,18.0,27.0,29.0,22.0,31.0,25.0,33.0,27.0,24.0,23.0,25.0,25.0,24.0,29.0,23.0,26.0,32.0,29.0,25.0,26.0,27.0,26.0,32.0,29.0,26.0,28.0,28.0,30.0,23.0,31.0,28.0,30.0,26.0,23.0,30.0,28.0,26.0,28.0,24.0,24.0,27.0,36.0,27.0,26.0,24.0,29.0,26.0,29.0,27.0,25.0,23.0,22.0,30.0,23.0,28.0,31.0,30.0,24.0,24.0,30.0,31.0,33.0,22.0,27.0,23.0,32.0,28.0,24.0,35.0,28.0,23.0,27.0,36.0,20.0,28.0,33.0,29.0,28.0,28.0,35.0,27.0,22.0,23.0,23.0,25.0,24.0,31.0,28.0,29.0,31.0,23.0,28.0,28.0,28.0,17.0,28.0,26.0,26.0,34.0,27.0,25.0,29.0,24.0,26.0,27.0,33.0,27.0,26.0,24.0,20.0,31.0,21.0,32.0,29.0,23.0,23.0,22.0,35.0,26.0,24.0,25.0,29.0,32.0,21.0,28.0,32.0,27.0,29.0,22.0,27.0,34.0,30.0,26.0,29.0,25.0,29.0,23.0,19.0,24.0,29.0,30.0,24.0,24.0,32.0,27.0,29.0,26.0,31.0,32.0,24.0,31.0,24.0,21.0,23.0,23.0,26.0,31.0,31.0,27.0,27.0,24.0,27.0,27.0,24.0,33.0,22.0,30.0,23.0,28.0,36.0,34.0,25.0,24.0,20.0,33.0,22.0,23.0,29.0,23.0,22.0,30.0,23.0,26.0,29.0,21.0,26.0,25.0,28.0,32.0,33.0,28.0,24.0,27.0,32.0,23.0,25.0,25.0,28.0,36.0,30.0,28.0,26.0,31.0,24.0,27.0,31.0,30.0,34.0,25.0,27.0,27.0,29.0,19.0,31.0,24.0,26.0,20.0,27.0,30.0,28.0,21.0,24.0,24.0,29.0,28.0,26.0,26.0,30.0,30.0,32.0,28.0,28.0,27.0,25.0,22.0,26.0,31.0,36.0,22.0,28.0,32.0,30.0,26.0,29.0,26.0,35.0,23.0,27.0,29.0,25.0,22.0,27.0,32.0,32.0,23.0,28.0,23.0,29.0,23.0,29.0,23.0,21.0,28.0,24.0,29.0,22.0,33.0,26.0,28.0,25.0,25.0,24.0,27.0,22.0,28.0,22.0,24.0,24.0,22.0,24.0,24.0,25.0,28.0,25.0,19.0,24.0,22.0,23.0,26.0,30.0,27.0,23.0,33.0,23.0,27.0,27.0,34.0,29.0,23.0,22.0,28.0,20.0,30.0,24.0,30.0,24.0,27.0,27.0,27.0,24.0,25.0,29.0,23.0,26.0,29.0,25.0,27.0,26.0,23.0,25.0,25.0,25.0,26.0,28.0,23.0,22.0,24.0,26.0,26.0,27.0,32.0,25.0,27.0,21.0,21.0,26.0,25.0,22.0,27.0,28.0,23.0,18.0,24.0,23.0,20.0,24.0,21.0,21.0,21.0,25.0,24.0,33.0,22.0,20.0,29.0,26.0,28.0,24.0,26.0,19.0,24.0,30.0,28.0,25.0,28.0,26.0,22.0,29.0,20.0,35.0,22.0,24.0,26.0,29.0,29.0,30.0,22.0,24.0,23.0,24.0,29.0,27.0,28.0,28.0,27.0,28.0,25.0,23.0,34.0,22.0,28.0,25.0,30.0,27.0,19.0,28.0,27.0,33.0,32.0,30.0,27.0,23.0,30.0,26.0,32.0,30.0,17.0,23.0,22.0,32.0,25.0,21.0,20.0,25.0,19.0,33.0,29.0,30.0,28.0,26.0,30.0,24.0,20.0,27.0,28.0,23.0,25.0,22.0,27.0,27.0,25.0,25.0,37.0,23.0,33.0,23.0,30.0,28.0,34.0,27.0,22.0,30.0,34.0,22.0,29.0,23.0,27.0,21.0,24.0,21.0,25.0,26.0,25.0,23.0,26.0,25.0,28.0,27.0,29.0,34.0,19.0,26.0,28.0,21.0,26.0,28.0,25.0,27.0,26.0,26.0,31.0,26.0,28.0,22.0,30.0,24.0,24.0,27.0,22.0,33.0,22.0,27.0,28.0,26.0,19.0,20.0,24.0,22.0,30.0,25.0,28.0,26.0,30.0,27.0,26.0,22.0,23.0,36.0,20.0,36.0,30.0,36.0,29.0,22.0,25.0,30.0,20.0,21.0,22.0,29.0,28.0,28.0,25.0,24.0,26.0,26.0,27.0,22.0,22.0,20.0,26.0,28.0,30.0,30.0,24.0,32.0,31.0,38.0,26.0,21.0,24.0,19.0,28.0,25.0,27.0,27.0,21.0,25.0,28.0,30.0,36.0,24.0,22.0,30.0,25.0,26.0,23.0,29.0,26.0,23.0,24.0,25.0,18.0,26.0,24.0,25.0,23.0,29.0,28.0,21.0,28.0,26.0,23.0,19.0,23.0,22.0,21.0,26.0,28.0,22.0,26.0,32.0,23.0,25.0,25.0,23.0,32.0,26.0,26.0,25.0,24.0,24.0,25.0,32.0,21.0,23.0,26.0,24.0,32.0,21.0,23.0,29.0,27.0,36.0,28.0,26.0,24.0,19.0,26.0,22.0,19.0,27.0,27.0,26.0,34.0,25.0,25.0,25.0,28.0,21.0,27.0,25.0,30.0,27.0,23.0,25.0,23.0,24.0,22.0,27.0,26.0,20.0,28.0,24.0,27.0,26.0,32.0,27.0,23.0,36.0,26.0,24.0,30.0,25.0,21.0,21.0,19.0,25.0,26.0,25.0,28.0,23.0,21.0,30.0,32.0,29.0,32.0,28.0,22.0,30.0,24.0,19.0,23.0,33.0,26.0,30.0,23.0,27.0,27.0,26.0,30.0,27.0,27.0,24.0,25.0,21.0,29.0,23.0,35.0,27.0,20.0,28.0,28.0,22.0,19.0,31.0,26.0,25.0,27.0,20.0,18.0,26.0,24.0,28.0,27.0,21.0,21.0,28.0,28.0,25.0,27.0,27.0,31.0,21.0,28.0,24.0,28.0,25.0,22.0,23.0,33.0,20.0,23.0,29.0,26.0,31.0,22.0,38.0,25.0,19.0,33.0,19.0,28.0,21.0,22.0,36.0,27.0,25.0,25.0,35.0,31.0,33.0,29.0,28.0,21.0,21.0,31.0,31.0,19.0,27.0,26.0,28.0,34.0,32.0,24.0,27.0,23.0,23.0,33.0,23.0,29.0,25.0,32.0,29.0,32.0,25.0,24.0,26.0,25.0,24.0,27.0,24.0,22.0,21.0,28.0,26.0,26.0,35.0,19.0,23.0,22.0,23.0,32.0,26.0,29.0,29.0,21.0,27.0,22.0,20.0,25.0,22.0,24.0,27.0,21.0,27.0,28.0,26.0,24.0,22.0,31.0,28.0,34.0,22.0,28.0,29.0,25.0,21.0,22.0,32.0,22.0,22.0,34.0,18.0,26.0,20.0,28.0,22.0,21.0,21.0,20.0,38.0,23.0,22.0,23.0,28.0,22.0,23.0,34.0,37.0,19.0,20.0,31.0,31.0,35.0,23.0,31.0,22.0,26.0,31.0,21.0,23.0,27.0,18.0,22.0,29.0,27.0,35.0,24.0,31.0,27.0,29.0,29.0,35.0,32.0,34.0,23.0,26.0,22.0,24.0,24.0,22.0,26.0,27.0,25.0,20.0,30.0,24.0,28.0,26.0,27.0,28.0,29.0,27.0,24.0,23.0,26.0,26.0,24.0,23.0,21.0,30.0,27.0,25.0,30.0,28.0,24.0,26.0,33.0,24.0,29.0,27.0,27.0,29.0,26.0,21.0,24.0,23.0,25.0,30.0,29.0,25.0,32.0,24.0,25.0,28.0,23.0,27.0,23.0,23.0,30.0,22.0,25.0,28.0,27.0,20.0,29.0,26.0,22.0,34.0,21.0,25.0,26.0,29.0,23.0,34.0,28.0,27.0,21.0,25.0,21.0,30.0,30.0,31.0,27.0,36.0,31.0,23.0,27.0,22.0,23.0,27.0,31.0,31.0,25.0,33.0,23.0,22.0,36.0,27.0,22.0,25.0,24.0,31.0,27.0,17.0,34.0,29.0,32.0,26.0,22.0,29.0,28.0,29.0,28.0,21.0,31.0,25.0,24.0,25.0,21.0,28.0,28.0,18.0,24.0,26.0,26.0,24.0,22.0,28.0,21.0,34.0,30.0,34.0,24.0,39.0,19.0,32.0,24.0,23.0,24.0,27.0,28.0,25.0,20.0,28.0,24.0,25.0,28.0,34.0,32.0,29.0,27.0,28.0,22.0,33.0,26.0,21.0,21.0,32.0,29.0,25.0,24.0,30.0,29.0,26.0,28.0,26.0,28.0,29.0,26.0,23.0,27.0,29.0,24.0,18.0,26.0,27.0,21.0,23.0,22.0,36.0,27.0,29.0,24.0,27.0,23.0,23.0,20.0,21.0,27.0,24.0,24.0,26.0,21.0,28.0,32.0,21.0,51.0,34.0,25.0,22.0,23.0,26.0,26.0,26.0,22.0,20.0,27.0,24.0,28.0,23.0,23.0,17.0,21.0,27.0,20.0,19.0,28.0,26.0,19.0,28.0,23.0,26.0,17.0,32.0,21.0,41.0,19.0,21.0,23.0,24.0,26.0,43.0,30.0,24.0,24.0,45.0,20.0,39.0,28.0,29.0,32.0,17.0,21.0,31.0,23.0],\"y0\":\" \",\"yaxis\":\"y\",\"type\":\"box\"}],                        {\"template\":{\"data\":{\"bar\":[{\"error_x\":{\"color\":\"#2a3f5f\"},\"error_y\":{\"color\":\"#2a3f5f\"},\"marker\":{\"line\":{\"color\":\"#E5ECF6\",\"width\":0.5},\"pattern\":{\"fillmode\":\"overlay\",\"size\":10,\"solidity\":0.2}},\"type\":\"bar\"}],\"barpolar\":[{\"marker\":{\"line\":{\"color\":\"#E5ECF6\",\"width\":0.5},\"pattern\":{\"fillmode\":\"overlay\",\"size\":10,\"solidity\":0.2}},\"type\":\"barpolar\"}],\"carpet\":[{\"aaxis\":{\"endlinecolor\":\"#2a3f5f\",\"gridcolor\":\"white\",\"linecolor\":\"white\",\"minorgridcolor\":\"white\",\"startlinecolor\":\"#2a3f5f\"},\"baxis\":{\"endlinecolor\":\"#2a3f5f\",\"gridcolor\":\"white\",\"linecolor\":\"white\",\"minorgridcolor\":\"white\",\"startlinecolor\":\"#2a3f5f\"},\"type\":\"carpet\"}],\"choropleth\":[{\"colorbar\":{\"outlinewidth\":0,\"ticks\":\"\"},\"type\":\"choropleth\"}],\"contour\":[{\"colorbar\":{\"outlinewidth\":0,\"ticks\":\"\"},\"colorscale\":[[0.0,\"#0d0887\"],[0.1111111111111111,\"#46039f\"],[0.2222222222222222,\"#7201a8\"],[0.3333333333333333,\"#9c179e\"],[0.4444444444444444,\"#bd3786\"],[0.5555555555555556,\"#d8576b\"],[0.6666666666666666,\"#ed7953\"],[0.7777777777777778,\"#fb9f3a\"],[0.8888888888888888,\"#fdca26\"],[1.0,\"#f0f921\"]],\"type\":\"contour\"}],\"contourcarpet\":[{\"colorbar\":{\"outlinewidth\":0,\"ticks\":\"\"},\"type\":\"contourcarpet\"}],\"heatmap\":[{\"colorbar\":{\"outlinewidth\":0,\"ticks\":\"\"},\"colorscale\":[[0.0,\"#0d0887\"],[0.1111111111111111,\"#46039f\"],[0.2222222222222222,\"#7201a8\"],[0.3333333333333333,\"#9c179e\"],[0.4444444444444444,\"#bd3786\"],[0.5555555555555556,\"#d8576b\"],[0.6666666666666666,\"#ed7953\"],[0.7777777777777778,\"#fb9f3a\"],[0.8888888888888888,\"#fdca26\"],[1.0,\"#f0f921\"]],\"type\":\"heatmap\"}],\"heatmapgl\":[{\"colorbar\":{\"outlinewidth\":0,\"ticks\":\"\"},\"colorscale\":[[0.0,\"#0d0887\"],[0.1111111111111111,\"#46039f\"],[0.2222222222222222,\"#7201a8\"],[0.3333333333333333,\"#9c179e\"],[0.4444444444444444,\"#bd3786\"],[0.5555555555555556,\"#d8576b\"],[0.6666666666666666,\"#ed7953\"],[0.7777777777777778,\"#fb9f3a\"],[0.8888888888888888,\"#fdca26\"],[1.0,\"#f0f921\"]],\"type\":\"heatmapgl\"}],\"histogram\":[{\"marker\":{\"pattern\":{\"fillmode\":\"overlay\",\"size\":10,\"solidity\":0.2}},\"type\":\"histogram\"}],\"histogram2d\":[{\"colorbar\":{\"outlinewidth\":0,\"ticks\":\"\"},\"colorscale\":[[0.0,\"#0d0887\"],[0.1111111111111111,\"#46039f\"],[0.2222222222222222,\"#7201a8\"],[0.3333333333333333,\"#9c179e\"],[0.4444444444444444,\"#bd3786\"],[0.5555555555555556,\"#d8576b\"],[0.6666666666666666,\"#ed7953\"],[0.7777777777777778,\"#fb9f3a\"],[0.8888888888888888,\"#fdca26\"],[1.0,\"#f0f921\"]],\"type\":\"histogram2d\"}],\"histogram2dcontour\":[{\"colorbar\":{\"outlinewidth\":0,\"ticks\":\"\"},\"colorscale\":[[0.0,\"#0d0887\"],[0.1111111111111111,\"#46039f\"],[0.2222222222222222,\"#7201a8\"],[0.3333333333333333,\"#9c179e\"],[0.4444444444444444,\"#bd3786\"],[0.5555555555555556,\"#d8576b\"],[0.6666666666666666,\"#ed7953\"],[0.7777777777777778,\"#fb9f3a\"],[0.8888888888888888,\"#fdca26\"],[1.0,\"#f0f921\"]],\"type\":\"histogram2dcontour\"}],\"mesh3d\":[{\"colorbar\":{\"outlinewidth\":0,\"ticks\":\"\"},\"type\":\"mesh3d\"}],\"parcoords\":[{\"line\":{\"colorbar\":{\"outlinewidth\":0,\"ticks\":\"\"}},\"type\":\"parcoords\"}],\"pie\":[{\"automargin\":true,\"type\":\"pie\"}],\"scatter\":[{\"marker\":{\"colorbar\":{\"outlinewidth\":0,\"ticks\":\"\"}},\"type\":\"scatter\"}],\"scatter3d\":[{\"line\":{\"colorbar\":{\"outlinewidth\":0,\"ticks\":\"\"}},\"marker\":{\"colorbar\":{\"outlinewidth\":0,\"ticks\":\"\"}},\"type\":\"scatter3d\"}],\"scattercarpet\":[{\"marker\":{\"colorbar\":{\"outlinewidth\":0,\"ticks\":\"\"}},\"type\":\"scattercarpet\"}],\"scattergeo\":[{\"marker\":{\"colorbar\":{\"outlinewidth\":0,\"ticks\":\"\"}},\"type\":\"scattergeo\"}],\"scattergl\":[{\"marker\":{\"colorbar\":{\"outlinewidth\":0,\"ticks\":\"\"}},\"type\":\"scattergl\"}],\"scattermapbox\":[{\"marker\":{\"colorbar\":{\"outlinewidth\":0,\"ticks\":\"\"}},\"type\":\"scattermapbox\"}],\"scatterpolar\":[{\"marker\":{\"colorbar\":{\"outlinewidth\":0,\"ticks\":\"\"}},\"type\":\"scatterpolar\"}],\"scatterpolargl\":[{\"marker\":{\"colorbar\":{\"outlinewidth\":0,\"ticks\":\"\"}},\"type\":\"scatterpolargl\"}],\"scatterternary\":[{\"marker\":{\"colorbar\":{\"outlinewidth\":0,\"ticks\":\"\"}},\"type\":\"scatterternary\"}],\"surface\":[{\"colorbar\":{\"outlinewidth\":0,\"ticks\":\"\"},\"colorscale\":[[0.0,\"#0d0887\"],[0.1111111111111111,\"#46039f\"],[0.2222222222222222,\"#7201a8\"],[0.3333333333333333,\"#9c179e\"],[0.4444444444444444,\"#bd3786\"],[0.5555555555555556,\"#d8576b\"],[0.6666666666666666,\"#ed7953\"],[0.7777777777777778,\"#fb9f3a\"],[0.8888888888888888,\"#fdca26\"],[1.0,\"#f0f921\"]],\"type\":\"surface\"}],\"table\":[{\"cells\":{\"fill\":{\"color\":\"#EBF0F8\"},\"line\":{\"color\":\"white\"}},\"header\":{\"fill\":{\"color\":\"#C8D4E3\"},\"line\":{\"color\":\"white\"}},\"type\":\"table\"}]},\"layout\":{\"annotationdefaults\":{\"arrowcolor\":\"#2a3f5f\",\"arrowhead\":0,\"arrowwidth\":1},\"autotypenumbers\":\"strict\",\"coloraxis\":{\"colorbar\":{\"outlinewidth\":0,\"ticks\":\"\"}},\"colorscale\":{\"diverging\":[[0,\"#8e0152\"],[0.1,\"#c51b7d\"],[0.2,\"#de77ae\"],[0.3,\"#f1b6da\"],[0.4,\"#fde0ef\"],[0.5,\"#f7f7f7\"],[0.6,\"#e6f5d0\"],[0.7,\"#b8e186\"],[0.8,\"#7fbc41\"],[0.9,\"#4d9221\"],[1,\"#276419\"]],\"sequential\":[[0.0,\"#0d0887\"],[0.1111111111111111,\"#46039f\"],[0.2222222222222222,\"#7201a8\"],[0.3333333333333333,\"#9c179e\"],[0.4444444444444444,\"#bd3786\"],[0.5555555555555556,\"#d8576b\"],[0.6666666666666666,\"#ed7953\"],[0.7777777777777778,\"#fb9f3a\"],[0.8888888888888888,\"#fdca26\"],[1.0,\"#f0f921\"]],\"sequentialminus\":[[0.0,\"#0d0887\"],[0.1111111111111111,\"#46039f\"],[0.2222222222222222,\"#7201a8\"],[0.3333333333333333,\"#9c179e\"],[0.4444444444444444,\"#bd3786\"],[0.5555555555555556,\"#d8576b\"],[0.6666666666666666,\"#ed7953\"],[0.7777777777777778,\"#fb9f3a\"],[0.8888888888888888,\"#fdca26\"],[1.0,\"#f0f921\"]]},\"colorway\":[\"#636efa\",\"#EF553B\",\"#00cc96\",\"#ab63fa\",\"#FFA15A\",\"#19d3f3\",\"#FF6692\",\"#B6E880\",\"#FF97FF\",\"#FECB52\"],\"font\":{\"color\":\"#2a3f5f\"},\"geo\":{\"bgcolor\":\"white\",\"lakecolor\":\"white\",\"landcolor\":\"#E5ECF6\",\"showlakes\":true,\"showland\":true,\"subunitcolor\":\"white\"},\"hoverlabel\":{\"align\":\"left\"},\"hovermode\":\"closest\",\"mapbox\":{\"style\":\"light\"},\"paper_bgcolor\":\"white\",\"plot_bgcolor\":\"#E5ECF6\",\"polar\":{\"angularaxis\":{\"gridcolor\":\"white\",\"linecolor\":\"white\",\"ticks\":\"\"},\"bgcolor\":\"#E5ECF6\",\"radialaxis\":{\"gridcolor\":\"white\",\"linecolor\":\"white\",\"ticks\":\"\"}},\"scene\":{\"xaxis\":{\"backgroundcolor\":\"#E5ECF6\",\"gridcolor\":\"white\",\"gridwidth\":2,\"linecolor\":\"white\",\"showbackground\":true,\"ticks\":\"\",\"zerolinecolor\":\"white\"},\"yaxis\":{\"backgroundcolor\":\"#E5ECF6\",\"gridcolor\":\"white\",\"gridwidth\":2,\"linecolor\":\"white\",\"showbackground\":true,\"ticks\":\"\",\"zerolinecolor\":\"white\"},\"zaxis\":{\"backgroundcolor\":\"#E5ECF6\",\"gridcolor\":\"white\",\"gridwidth\":2,\"linecolor\":\"white\",\"showbackground\":true,\"ticks\":\"\",\"zerolinecolor\":\"white\"}},\"shapedefaults\":{\"line\":{\"color\":\"#2a3f5f\"}},\"ternary\":{\"aaxis\":{\"gridcolor\":\"white\",\"linecolor\":\"white\",\"ticks\":\"\"},\"baxis\":{\"gridcolor\":\"white\",\"linecolor\":\"white\",\"ticks\":\"\"},\"bgcolor\":\"#E5ECF6\",\"caxis\":{\"gridcolor\":\"white\",\"linecolor\":\"white\",\"ticks\":\"\"}},\"title\":{\"x\":0.05},\"xaxis\":{\"automargin\":true,\"gridcolor\":\"white\",\"linecolor\":\"white\",\"ticks\":\"\",\"title\":{\"standoff\":15},\"zerolinecolor\":\"white\",\"zerolinewidth\":2},\"yaxis\":{\"automargin\":true,\"gridcolor\":\"white\",\"linecolor\":\"white\",\"ticks\":\"\",\"title\":{\"standoff\":15},\"zerolinecolor\":\"white\",\"zerolinewidth\":2}}},\"xaxis\":{\"anchor\":\"y\",\"domain\":[0.0,1.0]},\"yaxis\":{\"anchor\":\"x\",\"domain\":[0.0,1.0],\"title\":{\"text\":\"age\"}},\"legend\":{\"tracegroupgap\":0},\"margin\":{\"t\":60},\"boxmode\":\"group\"},                        {\"responsive\": true}                    ).then(function(){\n",
              "                            \n",
              "var gd = document.getElementById('acd7c745-c0e2-4793-9770-f0bc1e8f54e3');\n",
              "var x = new MutationObserver(function (mutations, observer) {{\n",
              "        var display = window.getComputedStyle(gd).display;\n",
              "        if (!display || display === 'none') {{\n",
              "            console.log([gd, 'removed!']);\n",
              "            Plotly.purge(gd);\n",
              "            observer.disconnect();\n",
              "        }}\n",
              "}});\n",
              "\n",
              "// Listen for the removal of the full notebook cells\n",
              "var notebookContainer = gd.closest('#notebook-container');\n",
              "if (notebookContainer) {{\n",
              "    x.observe(notebookContainer, {childList: true});\n",
              "}}\n",
              "\n",
              "// Listen for the clearing of the current output cell\n",
              "var outputEl = gd.closest('.output');\n",
              "if (outputEl) {{\n",
              "    x.observe(outputEl, {childList: true});\n",
              "}}\n",
              "\n",
              "                        })                };                            </script>        </div>\n",
              "</body>\n",
              "</html>"
            ]
          },
          "metadata": {}
        }
      ]
    },
    {
      "cell_type": "markdown",
      "source": [
        "1. Since the data doesn’t follow a normal distribution, we will calculate the outlier data points using the statistical method called interquartile range (IQR), instead of using Z-score. \n",
        "\n",
        "2. Using the IQR, the outlier data points are the ones,\n",
        "falling **below Q1–1.5 IQR or above Q3 + 1.5 IQR**. \n",
        "\n",
        "3. The Q1 is the 25th percentile and Q3 is the 75th percentile of the dataset, and IQR represents the interquartile range calculated by Q3 minus Q1 (Q3–Q1). \n",
        "\n",
        "4. Using the convenient pandas **\".quantile()\" function**, we can create a simple Python function that takes in our column from the dataframe and outputs the outliers:"
      ],
      "metadata": {
        "id": "zjgF8xQw3azo"
      }
    },
    {
      "cell_type": "code",
      "source": [
        "def find_outliers_IQR(df):\n",
        "\n",
        "   q1=df.quantile(0.25)\n",
        "\n",
        "   q3=df.quantile(0.75)\n",
        "\n",
        "   IQR=q3-q1\n",
        "\n",
        "   outliers = df[((df<(q1-1.5*IQR)) | (df>(q3+1.5*IQR)))]\n",
        "\n",
        "   return outliers"
      ],
      "metadata": {
        "id": "ePvy9td-3Z5P"
      },
      "execution_count": null,
      "outputs": []
    },
    {
      "cell_type": "markdown",
      "source": [
        "1. Using .quantile() we can define Q1 and Q3. Next we calculate IQR, then we use the values to find the outliers in the dataframe. \n",
        "\n",
        "2. We will use the defined function to our **age column** to see the outliers perfectly."
      ],
      "metadata": {
        "id": "W-B5Uu5Y3m7D"
      }
    },
    {
      "cell_type": "code",
      "source": [
        "outliers = find_outliers_IQR(df[\"age\"])\n",
        "\n",
        "print(\"number of outliers: \"+ str(len(outliers)))\n",
        "\n",
        "print(\"max outlier value: \"+ str(outliers.max()))\n",
        "\n",
        "print(\"min outlier value: \"+ str(outliers.min()))\n",
        "\n",
        "outliers"
      ],
      "metadata": {
        "colab": {
          "base_uri": "https://localhost:8080/"
        },
        "id": "bjA22xso3n2Q",
        "outputId": "75811ac7-8564-410f-8094-a6db8f6597e0"
      },
      "execution_count": null,
      "outputs": [
        {
          "output_type": "stream",
          "name": "stdout",
          "text": [
            "number of outliers: 192\n",
            "max outlier value: 61.0\n",
            "min outlier value: 39.0\n"
          ]
        },
        {
          "output_type": "execute_result",
          "data": {
            "text/plain": [
              "64      41.0\n",
              "438     46.0\n",
              "439     40.0\n",
              "440     44.0\n",
              "441     45.0\n",
              "        ... \n",
              "8569    51.0\n",
              "8598    41.0\n",
              "8604    43.0\n",
              "8608    45.0\n",
              "8610    39.0\n",
              "Name: age, Length: 192, dtype: float64"
            ]
          },
          "metadata": {},
          "execution_count": 246
        }
      ]
    },
    {
      "cell_type": "markdown",
      "source": [
        "**Observations** :-  \n",
        "By seeing the data got with the help of the function\n",
        "It is showing that,we have 192 outliers. Where, max outlier is 61.0 and min outlier is 39.0.\n",
        "So, we have to treat these outliers. Because, 192 records are very small compared to 8600+ records."
      ],
      "metadata": {
        "id": "lhijjryl4xem"
      }
    },
    {
      "cell_type": "markdown",
      "source": [
        "We have three methods to deal with outliers.\n",
        "1. Droping the outliers, according to our scenario it is not suggestable.\n",
        "2. Capping the outliers, it is quite goood to set the data to do analysis.\n",
        "3. Replacing the NAN values with mean value, here we didn't have any missing values. We just have outliers, which are very far from mean value.\n",
        "\n",
        "4. So, 2nd option in suitable to us to treat outliers.\n",
        "In this technique, we essentially set a limit for the min and max outlier values. \n",
        "\n",
        "    Anything above or below the cap gets set to the capped min or max respectively. For example, if we set the cap max for age at 39, any outlier above 39 will be set to 39.\n",
        "\n",
        "5. To cap the outliers, calculate a upper limit and lower limit. For the upper limit, we will use the mean plus three standard deviations.\n",
        "\n",
        "    For the lower limit, we will calculate it as the mean minus 3 standard deviations.\n",
        "\n"
      ],
      "metadata": {
        "id": "xUrG7DBF6Gxr"
      }
    },
    {
      "cell_type": "code",
      "source": [
        "upper_limit = df[\"age\"].mean() + 3*df[\"age\"].std()\n",
        "\n",
        "print(\"upper_limit :- \",upper_limit)\n",
        "\n",
        "lower_limit = df[\"age\"].mean() - 3*df[\"age\"].std()\n",
        "\n",
        "print(\"lower_limit :- \", lower_limit)\n"
      ],
      "metadata": {
        "colab": {
          "base_uri": "https://localhost:8080/"
        },
        "id": "sjZ14E_U5Y1b",
        "outputId": "799b29ee-bf7d-4f21-80c8-afb1a409b9c3"
      },
      "execution_count": null,
      "outputs": [
        {
          "output_type": "stream",
          "name": "stdout",
          "text": [
            "upper_limit :-  41.71178822269718\n",
            "lower_limit :-  11.099079070928727\n"
          ]
        }
      ]
    },
    {
      "cell_type": "markdown",
      "source": [
        "**Observations** :- \n",
        "\n",
        "Based on our calculated limits, any outliers above 41.71 will be set to 41.71. Likewise, any outlier below 11 will be set to 11. \n",
        "\n",
        "After calculating the upper and lower limit, we use the numpy .where() function to apply the limits to \"age\". \n"
      ],
      "metadata": {
        "id": "Gay0MmGz8J8X"
      }
    },
    {
      "cell_type": "code",
      "source": [
        "df[\"age\"] = np.where(df[\"age\"] > upper_limit , upper_limit,\n",
        "            np.where(df[\"age\"] < lower_limit , lower_limit, df[\"age\"]))"
      ],
      "metadata": {
        "id": "cx8t3cTv8Ioq"
      },
      "execution_count": null,
      "outputs": []
    },
    {
      "cell_type": "markdown",
      "source": [
        "We can use .describe() to verify the min and max values have been capped as expected:"
      ],
      "metadata": {
        "id": "zo-1ndHr80iJ"
      }
    },
    {
      "cell_type": "code",
      "source": [
        "df.describe()[[\"age\"]]"
      ],
      "metadata": {
        "colab": {
          "base_uri": "https://localhost:8080/",
          "height": 300
        },
        "id": "h8Wk0HQe8zBt",
        "outputId": "d5b56572-0ebc-42c9-dbc2-dc99744126a2"
      },
      "execution_count": null,
      "outputs": [
        {
          "output_type": "execute_result",
          "data": {
            "text/plain": [
              "               age\n",
              "count  8613.000000\n",
              "mean     26.363441\n",
              "std       4.945581\n",
              "min      15.000000\n",
              "25%      23.000000\n",
              "50%      26.000000\n",
              "75%      29.000000\n",
              "max      41.711788"
            ],
            "text/html": [
              "\n",
              "  <div id=\"df-11c00f7b-63d4-4d2c-9e09-f545e4f75653\">\n",
              "    <div class=\"colab-df-container\">\n",
              "      <div>\n",
              "<style scoped>\n",
              "    .dataframe tbody tr th:only-of-type {\n",
              "        vertical-align: middle;\n",
              "    }\n",
              "\n",
              "    .dataframe tbody tr th {\n",
              "        vertical-align: top;\n",
              "    }\n",
              "\n",
              "    .dataframe thead th {\n",
              "        text-align: right;\n",
              "    }\n",
              "</style>\n",
              "<table border=\"1\" class=\"dataframe\">\n",
              "  <thead>\n",
              "    <tr style=\"text-align: right;\">\n",
              "      <th></th>\n",
              "      <th>age</th>\n",
              "    </tr>\n",
              "  </thead>\n",
              "  <tbody>\n",
              "    <tr>\n",
              "      <th>count</th>\n",
              "      <td>8613.000000</td>\n",
              "    </tr>\n",
              "    <tr>\n",
              "      <th>mean</th>\n",
              "      <td>26.363441</td>\n",
              "    </tr>\n",
              "    <tr>\n",
              "      <th>std</th>\n",
              "      <td>4.945581</td>\n",
              "    </tr>\n",
              "    <tr>\n",
              "      <th>min</th>\n",
              "      <td>15.000000</td>\n",
              "    </tr>\n",
              "    <tr>\n",
              "      <th>25%</th>\n",
              "      <td>23.000000</td>\n",
              "    </tr>\n",
              "    <tr>\n",
              "      <th>50%</th>\n",
              "      <td>26.000000</td>\n",
              "    </tr>\n",
              "    <tr>\n",
              "      <th>75%</th>\n",
              "      <td>29.000000</td>\n",
              "    </tr>\n",
              "    <tr>\n",
              "      <th>max</th>\n",
              "      <td>41.711788</td>\n",
              "    </tr>\n",
              "  </tbody>\n",
              "</table>\n",
              "</div>\n",
              "      <button class=\"colab-df-convert\" onclick=\"convertToInteractive('df-11c00f7b-63d4-4d2c-9e09-f545e4f75653')\"\n",
              "              title=\"Convert this dataframe to an interactive table.\"\n",
              "              style=\"display:none;\">\n",
              "        \n",
              "  <svg xmlns=\"http://www.w3.org/2000/svg\" height=\"24px\"viewBox=\"0 0 24 24\"\n",
              "       width=\"24px\">\n",
              "    <path d=\"M0 0h24v24H0V0z\" fill=\"none\"/>\n",
              "    <path d=\"M18.56 5.44l.94 2.06.94-2.06 2.06-.94-2.06-.94-.94-2.06-.94 2.06-2.06.94zm-11 1L8.5 8.5l.94-2.06 2.06-.94-2.06-.94L8.5 2.5l-.94 2.06-2.06.94zm10 10l.94 2.06.94-2.06 2.06-.94-2.06-.94-.94-2.06-.94 2.06-2.06.94z\"/><path d=\"M17.41 7.96l-1.37-1.37c-.4-.4-.92-.59-1.43-.59-.52 0-1.04.2-1.43.59L10.3 9.45l-7.72 7.72c-.78.78-.78 2.05 0 2.83L4 21.41c.39.39.9.59 1.41.59.51 0 1.02-.2 1.41-.59l7.78-7.78 2.81-2.81c.8-.78.8-2.07 0-2.86zM5.41 20L4 18.59l7.72-7.72 1.47 1.35L5.41 20z\"/>\n",
              "  </svg>\n",
              "      </button>\n",
              "      \n",
              "  <style>\n",
              "    .colab-df-container {\n",
              "      display:flex;\n",
              "      flex-wrap:wrap;\n",
              "      gap: 12px;\n",
              "    }\n",
              "\n",
              "    .colab-df-convert {\n",
              "      background-color: #E8F0FE;\n",
              "      border: none;\n",
              "      border-radius: 50%;\n",
              "      cursor: pointer;\n",
              "      display: none;\n",
              "      fill: #1967D2;\n",
              "      height: 32px;\n",
              "      padding: 0 0 0 0;\n",
              "      width: 32px;\n",
              "    }\n",
              "\n",
              "    .colab-df-convert:hover {\n",
              "      background-color: #E2EBFA;\n",
              "      box-shadow: 0px 1px 2px rgba(60, 64, 67, 0.3), 0px 1px 3px 1px rgba(60, 64, 67, 0.15);\n",
              "      fill: #174EA6;\n",
              "    }\n",
              "\n",
              "    [theme=dark] .colab-df-convert {\n",
              "      background-color: #3B4455;\n",
              "      fill: #D2E3FC;\n",
              "    }\n",
              "\n",
              "    [theme=dark] .colab-df-convert:hover {\n",
              "      background-color: #434B5C;\n",
              "      box-shadow: 0px 1px 3px 1px rgba(0, 0, 0, 0.15);\n",
              "      filter: drop-shadow(0px 1px 2px rgba(0, 0, 0, 0.3));\n",
              "      fill: #FFFFFF;\n",
              "    }\n",
              "  </style>\n",
              "\n",
              "      <script>\n",
              "        const buttonEl =\n",
              "          document.querySelector('#df-11c00f7b-63d4-4d2c-9e09-f545e4f75653 button.colab-df-convert');\n",
              "        buttonEl.style.display =\n",
              "          google.colab.kernel.accessAllowed ? 'block' : 'none';\n",
              "\n",
              "        async function convertToInteractive(key) {\n",
              "          const element = document.querySelector('#df-11c00f7b-63d4-4d2c-9e09-f545e4f75653');\n",
              "          const dataTable =\n",
              "            await google.colab.kernel.invokeFunction('convertToInteractive',\n",
              "                                                     [key], {});\n",
              "          if (!dataTable) return;\n",
              "\n",
              "          const docLinkHtml = 'Like what you see? Visit the ' +\n",
              "            '<a target=\"_blank\" href=https://colab.research.google.com/notebooks/data_table.ipynb>data table notebook</a>'\n",
              "            + ' to learn more about interactive tables.';\n",
              "          element.innerHTML = '';\n",
              "          dataTable['output_type'] = 'display_data';\n",
              "          await google.colab.output.renderOutput(dataTable, element);\n",
              "          const docLink = document.createElement('div');\n",
              "          docLink.innerHTML = docLinkHtml;\n",
              "          element.appendChild(docLink);\n",
              "        }\n",
              "      </script>\n",
              "    </div>\n",
              "  </div>\n",
              "  "
            ]
          },
          "metadata": {},
          "execution_count": 249
        }
      ]
    },
    {
      "cell_type": "code",
      "source": [
        "import plotly.express as px\n",
        "histfig = px.histogram(df, x=\"age\")\n",
        "histfig.show()"
      ],
      "metadata": {
        "colab": {
          "base_uri": "https://localhost:8080/",
          "height": 542
        },
        "id": "5MmkMFrU9V6i",
        "outputId": "9ec4939d-5926-46d5-e5d4-2cf566404a74"
      },
      "execution_count": null,
      "outputs": [
        {
          "output_type": "display_data",
          "data": {
            "text/html": [
              "<html>\n",
              "<head><meta charset=\"utf-8\" /></head>\n",
              "<body>\n",
              "    <div>            <script src=\"https://cdnjs.cloudflare.com/ajax/libs/mathjax/2.7.5/MathJax.js?config=TeX-AMS-MML_SVG\"></script><script type=\"text/javascript\">if (window.MathJax) {MathJax.Hub.Config({SVG: {font: \"STIX-Web\"}});}</script>                <script type=\"text/javascript\">window.PlotlyConfig = {MathJaxConfig: 'local'};</script>\n",
              "        <script src=\"https://cdn.plot.ly/plotly-2.8.3.min.js\"></script>                <div id=\"edf9851e-d380-4dfc-95f5-a85c8e43c80f\" class=\"plotly-graph-div\" style=\"height:525px; width:100%;\"></div>            <script type=\"text/javascript\">                                    window.PLOTLYENV=window.PLOTLYENV || {};                                    if (document.getElementById(\"edf9851e-d380-4dfc-95f5-a85c8e43c80f\")) {                    Plotly.newPlot(                        \"edf9851e-d380-4dfc-95f5-a85c8e43c80f\",                        [{\"alignmentgroup\":\"True\",\"bingroup\":\"x\",\"hovertemplate\":\"age=%{x}<br>count=%{y}<extra></extra>\",\"legendgroup\":\"\",\"marker\":{\"color\":\"#636efa\",\"pattern\":{\"shape\":\"\"}},\"name\":\"\",\"offsetgroup\":\"\",\"orientation\":\"v\",\"showlegend\":false,\"x\":[23.0,19.0,27.0,25.0,24.0,24.0,17.0,27.0,22.0,21.0,17.0,33.0,26.0,18.0,29.0,20.0,24.0,23.0,24.0,30.0,28.0,21.0,27.0,25.0,23.0,27.0,27.0,22.0,20.0,17.0,16.0,26.0,30.0,24.0,28.0,20.0,23.0,20.0,18.0,27.0,22.0,28.0,21.0,22.0,25.0,20.0,25.0,21.0,24.0,25.0,22.0,23.0,25.0,19.0,22.0,25.0,21.0,32.0,23.0,25.0,20.0,21.0,21.0,22.0,41.0,22.0,25.0,20.0,21.0,24.0,22.0,20.0,20.0,18.0,21.0,17.0,21.0,21.0,24.0,26.0,23.0,18.0,24.0,22.0,25.0,23.0,20.0,27.0,24.0,17.0,19.0,23.0,20.0,26.0,25.0,21.0,22.0,24.0,28.0,25.0,28.0,20.0,27.0,29.0,30.0,27.0,26.0,22.0,18.0,23.0,24.0,20.0,28.0,15.0,20.0,23.0,21.0,16.0,16.0,20.0,21.0,17.0,17.0,26.0,32.0,24.0,26.0,27.0,29.0,33.0,25.0,29.0,29.0,23.0,24.0,29.0,32.0,34.0,26.0,29.0,29.0,25.0,22.0,25.0,26.0,25.0,32.0,21.0,22.0,22.0,32.0,27.0,24.0,32.0,22.0,25.0,24.0,23.0,28.0,24.0,20.0,28.0,24.0,30.0,29.0,26.0,22.0,24.0,24.0,24.0,21.0,22.0,34.0,25.0,30.0,24.0,26.0,20.0,22.0,29.0,22.0,26.0,25.0,22.0,25.0,25.0,31.0,25.0,21.0,21.0,31.0,29.0,27.0,21.0,21.0,25.0,25.0,24.0,23.0,23.0,19.0,21.0,24.0,26.0,30.0,25.0,20.0,24.0,26.0,21.0,28.0,28.0,22.0,26.0,24.0,27.0,26.0,33.0,16.0,19.0,22.0,16.0,21.0,26.0,23.0,28.0,22.0,22.0,22.0,24.0,18.0,25.0,24.0,21.0,20.0,24.0,24.0,22.0,24.0,24.0,23.0,27.0,29.0,26.0,18.0,22.0,22.0,27.0,19.0,28.0,20.0,18.0,19.0,22.0,31.0,26.0,28.0,18.0,26.0,20.0,25.0,28.0,25.0,19.0,23.0,20.0,21.0,15.0,18.0,24.0,16.0,24.0,20.0,18.0,21.0,22.0,24.0,27.0,16.0,17.0,22.0,25.0,22.0,27.0,24.0,19.0,25.0,23.0,17.0,21.0,22.0,19.0,29.0,18.0,21.0,21.0,25.0,17.0,15.0,23.0,26.0,19.0,24.0,25.0,23.0,24.0,27.0,33.0,32.0,23.0,21.0,21.0,27.0,29.0,26.0,23.0,29.0,29.0,33.0,19.0,33.0,30.0,30.0,19.0,31.0,29.0,25.0,28.0,32.0,24.0,21.0,29.0,19.0,20.0,27.0,20.0,24.0,24.0,32.0,27.0,28.0,24.0,31.0,32.0,23.0,35.0,37.0,26.0,26.0,32.0,32.0,28.0,28.0,24.0,31.0,28.0,31.0,29.0,27.0,22.0,24.0,20.0,19.0,27.0,16.0,24.0,22.0,17.0,16.0,24.0,17.0,24.0,23.0,19.0,23.0,23.0,16.0,22.0,18.0,27.0,19.0,23.0,17.0,26.0,18.0,24.0,25.0,18.0,16.0,17.0,16.0,23.0,28.0,26.0,31.0,22.0,22.0,27.0,19.0,21.0,18.0,20.0,16.0,20.0,27.0,29.0,24.0,31.0,19.0,38.0,29.0,28.0,25.0,27.0,27.0,25.0,34.0,18.0,23.0,20.0,32.0,25.0,23.0,28.0,26.0,30.0,23.0,21.0,27.0,30.0,26.0,25.0,27.0,33.0,27.0,29.0,34.0,37.0,41.71178822269718,40.0,41.71178822269718,41.71178822269718,40.0,39.0,38.0,35.0,37.0,29.0,39.0,41.71178822269718,30.0,41.0,38.0,41.71178822269718,32.0,31.0,23.0,19.0,21.0,26.0,26.0,21.0,15.0,25.0,26.0,30.0,22.0,16.0,22.0,22.0,23.0,16.0,27.0,25.0,26.0,24.0,18.0,22.0,18.0,17.0,16.0,25.0,21.0,26.0,27.0,27.0,28.0,36.0,24.0,25.0,28.0,31.0,20.0,32.0,28.0,27.0,20.0,39.0,27.0,28.0,22.0,25.0,29.0,31.0,28.0,20.0,26.0,35.0,26.0,26.0,34.0,29.0,24.0,30.0,32.0,34.0,30.0,26.0,32.0,23.0,24.0,22.0,32.0,31.0,29.0,30.0,28.0,29.0,23.0,33.0,30.0,28.0,27.0,29.0,32.0,31.0,28.0,30.0,25.0,34.0,28.0,21.0,34.0,31.0,29.0,24.0,30.0,36.0,25.0,29.0,23.0,31.0,25.0,26.0,32.0,32.0,28.0,27.0,30.0,25.0,25.0,28.0,21.0,32.0,22.0,41.71178822269718,30.0,28.0,29.0,28.0,19.0,22.0,28.0,38.0,32.0,22.0,24.0,23.0,26.0,22.0,25.0,21.0,22.0,31.0,36.0,32.0,28.0,27.0,32.0,36.0,21.0,23.0,30.0,24.0,25.0,34.0,24.0,31.0,31.0,28.0,36.0,33.0,32.0,31.0,30.0,31.0,24.0,34.0,27.0,26.0,27.0,34.0,25.0,27.0,22.0,25.0,21.0,31.0,30.0,28.0,21.0,27.0,29.0,30.0,23.0,27.0,29.0,25.0,26.0,22.0,23.0,22.0,22.0,25.0,32.0,22.0,24.0,23.0,24.0,23.0,29.0,23.0,24.0,22.0,23.0,22.0,26.0,26.0,29.0,30.0,22.0,34.0,28.0,20.0,26.0,34.0,27.0,26.0,26.0,31.0,32.0,25.0,30.0,40.0,31.0,24.0,25.0,28.0,25.0,30.0,25.0,26.0,25.0,32.0,24.0,33.0,27.0,24.0,28.0,30.0,26.0,31.0,24.0,20.0,23.0,24.0,30.0,32.0,25.0,23.0,27.0,19.0,21.0,20.0,29.0,24.0,17.0,20.0,25.0,25.0,24.0,30.0,29.0,27.0,27.0,32.0,26.0,24.0,32.0,24.0,26.0,31.0,28.0,23.0,24.0,25.0,22.0,26.0,21.0,23.0,23.0,25.0,29.0,24.0,26.0,24.0,30.0,30.0,29.0,25.0,24.0,34.0,21.0,26.0,24.0,25.0,27.0,26.0,31.0,25.0,29.0,27.0,26.0,26.0,26.0,22.0,22.0,26.0,24.0,23.0,25.0,33.0,28.0,28.0,24.0,27.0,35.0,26.0,34.0,21.0,29.0,21.0,23.0,26.0,29.0,27.0,29.0,25.0,19.0,30.0,21.0,19.0,24.0,31.0,25.0,24.0,21.0,24.0,21.0,24.0,28.0,29.0,27.0,23.0,28.0,28.0,29.0,22.0,30.0,27.0,26.0,24.0,29.0,26.0,22.0,28.0,22.0,25.0,25.0,26.0,23.0,28.0,26.0,24.0,32.0,26.0,28.0,28.0,23.0,36.0,28.0,27.0,28.0,25.0,22.0,23.0,25.0,33.0,24.0,21.0,26.0,20.0,29.0,25.0,24.0,24.0,26.0,30.0,22.0,25.0,24.0,31.0,20.0,27.0,25.0,18.0,23.0,25.0,23.0,25.0,26.0,29.0,21.0,20.0,24.0,28.0,28.0,24.0,33.0,21.0,27.0,30.0,26.0,28.0,21.0,22.0,20.0,27.0,21.0,26.0,27.0,25.0,30.0,28.0,30.0,31.0,26.0,23.0,22.0,25.0,25.0,26.0,26.0,29.0,20.0,22.0,30.0,20.0,30.0,27.0,24.0,28.0,24.0,25.0,29.0,24.0,29.0,25.0,29.0,23.0,27.0,18.0,30.0,21.0,29.0,27.0,23.0,25.0,29.0,27.0,32.0,28.0,31.0,23.0,24.0,29.0,23.0,25.0,29.0,26.0,26.0,25.0,28.0,26.0,24.0,29.0,33.0,27.0,30.0,30.0,20.0,29.0,26.0,25.0,26.0,28.0,26.0,26.0,25.0,22.0,23.0,22.0,21.0,22.0,27.0,27.0,24.0,21.0,23.0,27.0,24.0,26.0,24.0,28.0,19.0,27.0,28.0,19.0,23.0,23.0,29.0,27.0,21.0,24.0,19.0,23.0,23.0,23.0,21.0,25.0,23.0,26.0,22.0,23.0,21.0,28.0,26.0,20.0,26.0,23.0,20.0,26.0,19.0,21.0,21.0,22.0,22.0,22.0,26.0,24.0,24.0,26.0,23.0,18.0,26.0,24.0,23.0,23.0,20.0,24.0,26.0,25.0,29.0,29.0,27.0,25.0,23.0,21.0,23.0,20.0,19.0,24.0,24.0,25.0,22.0,26.0,26.0,27.0,20.0,25.0,17.0,23.0,22.0,20.0,25.0,20.0,26.0,24.0,20.0,23.0,26.0,23.0,27.0,33.0,22.0,21.0,25.0,20.0,25.0,20.0,22.0,25.0,19.0,28.0,28.0,22.0,24.0,25.0,22.0,32.0,24.0,29.0,20.0,26.0,17.0,23.0,26.0,24.0,22.0,21.0,35.0,31.0,28.0,34.0,28.0,22.0,31.0,34.0,26.0,25.0,23.0,23.0,22.0,19.0,29.0,24.0,23.0,28.0,25.0,20.0,25.0,26.0,24.0,22.0,24.0,19.0,29.0,25.0,25.0,28.0,23.0,28.0,20.0,17.0,30.0,21.0,23.0,31.0,26.0,18.0,25.0,28.0,25.0,21.0,25.0,22.0,31.0,24.0,27.0,27.0,28.0,28.0,24.0,30.0,26.0,27.0,22.0,21.0,19.0,28.0,21.0,24.0,28.0,22.0,23.0,35.0,31.0,19.0,19.0,22.0,26.0,17.0,26.0,26.0,29.0,19.0,38.0,25.0,20.0,29.0,27.0,24.0,31.0,26.0,25.0,26.0,20.0,19.0,22.0,31.0,28.0,25.0,28.0,27.0,21.0,29.0,24.0,25.0,29.0,30.0,36.0,24.0,26.0,24.0,24.0,18.0,25.0,29.0,24.0,21.0,24.0,27.0,24.0,29.0,26.0,21.0,28.0,32.0,30.0,26.0,36.0,34.0,27.0,28.0,31.0,29.0,25.0,24.0,27.0,31.0,28.0,20.0,22.0,26.0,33.0,19.0,25.0,19.0,22.0,19.0,33.0,29.0,36.0,32.0,24.0,28.0,27.0,22.0,25.0,26.0,32.0,21.0,32.0,36.0,32.0,27.0,22.0,23.0,30.0,21.0,28.0,30.0,21.0,19.0,31.0,25.0,23.0,26.0,23.0,24.0,26.0,22.0,23.0,25.0,26.0,24.0,28.0,23.0,32.0,25.0,30.0,25.0,22.0,30.0,27.0,20.0,28.0,25.0,26.0,33.0,30.0,29.0,30.0,23.0,28.0,21.0,23.0,29.0,27.0,21.0,23.0,30.0,33.0,31.0,26.0,23.0,25.0,29.0,21.0,30.0,25.0,22.0,36.0,25.0,19.0,24.0,23.0,24.0,21.0,33.0,28.0,34.0,24.0,23.0,31.0,34.0,32.0,32.0,27.0,25.0,32.0,28.0,25.0,30.0,26.0,32.0,25.0,24.0,30.0,25.0,23.0,28.0,24.0,30.0,27.0,19.0,23.0,22.0,37.0,31.0,27.0,33.0,21.0,30.0,29.0,28.0,26.0,32.0,30.0,24.0,24.0,23.0,24.0,31.0,33.0,26.0,30.0,29.0,30.0,27.0,29.0,22.0,28.0,20.0,21.0,26.0,26.0,27.0,23.0,21.0,20.0,26.0,29.0,27.0,21.0,24.0,28.0,29.0,26.0,28.0,30.0,21.0,29.0,28.0,24.0,31.0,31.0,21.0,30.0,26.0,35.0,25.0,31.0,23.0,21.0,28.0,24.0,26.0,26.0,22.0,32.0,21.0,24.0,21.0,26.0,33.0,27.0,27.0,22.0,22.0,23.0,29.0,26.0,24.0,23.0,20.0,25.0,32.0,28.0,26.0,25.0,25.0,19.0,27.0,26.0,26.0,23.0,26.0,25.0,27.0,39.0,23.0,24.0,22.0,27.0,21.0,25.0,22.0,25.0,30.0,23.0,26.0,36.0,24.0,25.0,27.0,22.0,24.0,26.0,29.0,27.0,29.0,28.0,24.0,24.0,26.0,20.0,27.0,26.0,34.0,28.0,31.0,25.0,21.0,27.0,26.0,29.0,31.0,24.0,26.0,29.0,27.0,32.0,28.0,32.0,31.0,35.0,26.0,23.0,25.0,31.0,30.0,25.0,22.0,32.0,27.0,33.0,32.0,35.0,28.0,27.0,33.0,25.0,23.0,24.0,25.0,29.0,28.0,24.0,30.0,25.0,25.0,31.0,27.0,36.0,24.0,25.0,31.0,23.0,26.0,29.0,23.0,30.0,39.0,26.0,30.0,23.0,33.0,26.0,26.0,24.0,33.0,30.0,39.0,29.0,22.0,30.0,30.0,34.0,36.0,25.0,27.0,31.0,25.0,27.0,29.0,23.0,32.0,34.0,36.0,24.0,28.0,29.0,22.0,31.0,27.0,26.0,32.0,28.0,23.0,29.0,38.0,32.0,31.0,23.0,23.0,32.0,29.0,26.0,32.0,35.0,24.0,25.0,38.0,27.0,30.0,29.0,33.0,26.0,27.0,27.0,21.0,33.0,24.0,20.0,30.0,27.0,29.0,25.0,22.0,26.0,27.0,30.0,29.0,25.0,32.0,24.0,25.0,35.0,25.0,30.0,31.0,32.0,21.0,27.0,26.0,32.0,26.0,23.0,29.0,20.0,19.0,27.0,21.0,21.0,28.0,28.0,26.0,29.0,25.0,30.0,29.0,23.0,28.0,33.0,19.0,18.0,25.0,28.0,24.0,26.0,24.0,23.0,30.0,28.0,25.0,25.0,31.0,23.0,34.0,27.0,33.0,28.0,28.0,28.0,34.0,22.0,26.0,25.0,24.0,23.0,27.0,28.0,36.0,26.0,24.0,30.0,25.0,32.0,22.0,31.0,32.0,26.0,20.0,28.0,25.0,26.0,31.0,33.0,19.0,27.0,26.0,24.0,25.0,20.0,28.0,29.0,38.0,34.0,22.0,28.0,26.0,24.0,26.0,24.0,22.0,28.0,22.0,25.0,23.0,25.0,31.0,29.0,21.0,30.0,25.0,34.0,26.0,27.0,21.0,21.0,27.0,30.0,25.0,19.0,34.0,25.0,23.0,30.0,22.0,26.0,27.0,30.0,27.0,29.0,27.0,28.0,27.0,24.0,25.0,30.0,20.0,33.0,21.0,28.0,33.0,25.0,27.0,28.0,27.0,21.0,28.0,27.0,31.0,27.0,24.0,22.0,30.0,24.0,22.0,28.0,29.0,29.0,27.0,22.0,24.0,25.0,34.0,25.0,30.0,22.0,29.0,27.0,25.0,21.0,24.0,31.0,23.0,24.0,27.0,19.0,32.0,30.0,23.0,35.0,31.0,32.0,29.0,27.0,27.0,21.0,31.0,27.0,31.0,19.0,26.0,23.0,28.0,25.0,26.0,20.0,16.0,27.0,24.0,28.0,27.0,29.0,24.0,22.0,23.0,27.0,28.0,20.0,26.0,25.0,22.0,31.0,30.0,31.0,25.0,20.0,34.0,22.0,25.0,23.0,24.0,24.0,22.0,27.0,29.0,27.0,30.0,31.0,22.0,27.0,23.0,27.0,33.0,34.0,33.0,27.0,29.0,23.0,35.0,31.0,33.0,29.0,26.0,28.0,25.0,23.0,23.0,26.0,23.0,23.0,23.0,21.0,28.0,19.0,19.0,26.0,19.0,24.0,31.0,18.0,34.0,26.0,23.0,20.0,25.0,30.0,26.0,21.0,23.0,21.0,25.0,18.0,24.0,24.0,25.0,24.0,22.0,26.0,25.0,24.0,26.0,26.0,19.0,20.0,28.0,20.0,21.0,28.0,26.0,21.0,19.0,25.0,23.0,29.0,21.0,19.0,23.0,25.0,25.0,31.0,25.0,24.0,26.0,24.0,24.0,25.0,20.0,24.0,22.0,22.0,21.0,24.0,26.0,29.0,28.0,23.0,28.0,21.0,28.0,17.0,32.0,24.0,25.0,23.0,29.0,20.0,25.0,26.0,22.0,19.0,21.0,23.0,19.0,20.0,23.0,19.0,30.0,25.0,21.0,22.0,31.0,27.0,18.0,24.0,21.0,22.0,25.0,21.0,27.0,27.0,24.0,28.0,22.0,22.0,26.0,20.0,24.0,22.0,22.0,26.0,17.0,17.0,29.0,27.0,28.0,27.0,23.0,23.0,29.0,20.0,25.0,21.0,21.0,23.0,28.0,20.0,29.0,24.0,20.0,26.0,23.0,30.0,34.0,23.0,30.0,26.0,25.0,27.0,25.0,32.0,35.0,30.0,38.0,18.0,25.0,27.0,32.0,34.0,30.0,30.0,26.0,27.0,28.0,33.0,26.0,22.0,34.0,22.0,23.0,26.0,28.0,23.0,25.0,23.0,21.0,20.0,22.0,22.0,27.0,24.0,25.0,32.0,25.0,23.0,30.0,28.0,28.0,22.0,36.0,26.0,30.0,26.0,25.0,18.0,21.0,22.0,26.0,27.0,28.0,28.0,26.0,27.0,18.0,29.0,34.0,21.0,26.0,25.0,20.0,21.0,29.0,28.0,29.0,25.0,25.0,31.0,22.0,23.0,24.0,20.0,23.0,19.0,23.0,22.0,23.0,26.0,22.0,27.0,24.0,27.0,25.0,25.0,18.0,22.0,21.0,21.0,27.0,22.0,21.0,20.0,20.0,26.0,30.0,18.0,25.0,22.0,26.0,28.0,24.0,28.0,31.0,25.0,27.0,21.0,25.0,20.0,21.0,29.0,23.0,23.0,29.0,22.0,20.0,24.0,19.0,29.0,22.0,22.0,24.0,28.0,22.0,25.0,27.0,22.0,23.0,21.0,21.0,20.0,26.0,22.0,22.0,26.0,21.0,25.0,26.0,25.0,18.0,23.0,22.0,21.0,22.0,20.0,24.0,21.0,21.0,20.0,22.0,25.0,29.0,17.0,18.0,20.0,25.0,23.0,23.0,29.0,26.0,21.0,20.0,26.0,23.0,23.0,21.0,21.0,21.0,22.0,23.0,27.0,28.0,24.0,23.0,23.0,17.0,17.0,28.0,24.0,21.0,24.0,20.0,23.0,20.0,22.0,26.0,25.0,29.0,29.0,16.0,26.0,20.0,24.0,15.0,27.0,21.0,36.0,18.0,18.0,23.0,23.0,23.0,32.0,28.0,21.0,24.0,24.0,15.0,20.0,17.0,21.0,22.0,21.0,26.0,28.0,26.0,28.0,28.0,27.0,19.0,26.0,28.0,23.0,24.0,24.0,28.0,20.0,22.0,26.0,20.0,22.0,19.0,18.0,19.0,20.0,27.0,19.0,21.0,22.0,29.0,24.0,19.0,25.0,24.0,23.0,22.0,22.0,21.0,21.0,20.0,23.0,26.0,24.0,27.0,20.0,19.0,20.0,16.0,21.0,22.0,18.0,24.0,22.0,26.0,17.0,22.0,19.0,19.0,28.0,24.0,24.0,22.0,24.0,24.0,22.0,24.0,26.0,25.0,22.0,23.0,21.0,18.0,21.0,20.0,20.0,32.0,19.0,24.0,21.0,18.0,24.0,16.0,22.0,22.0,21.0,20.0,19.0,21.0,21.0,27.0,26.0,24.0,29.0,27.0,20.0,27.0,23.0,17.0,23.0,21.0,17.0,24.0,17.0,20.0,21.0,25.0,23.0,29.0,28.0,25.0,22.0,18.0,25.0,19.0,18.0,21.0,22.0,22.0,25.0,20.0,25.0,23.0,22.0,25.0,16.0,23.0,21.0,15.0,22.0,17.0,18.0,24.0,22.0,22.0,27.0,18.0,27.0,28.0,28.0,24.0,18.0,20.0,22.0,27.0,19.0,22.0,22.0,22.0,23.0,26.0,21.0,19.0,27.0,26.0,16.0,25.0,20.0,21.0,24.0,22.0,21.0,26.0,27.0,27.0,17.0,21.0,22.0,19.0,24.0,22.0,19.0,20.0,26.0,25.0,23.0,16.0,25.0,20.0,19.0,27.0,22.0,23.0,18.0,18.0,27.0,23.0,21.0,27.0,21.0,21.0,24.0,26.0,18.0,21.0,21.0,26.0,27.0,21.0,18.0,17.0,20.0,22.0,19.0,21.0,25.0,21.0,20.0,24.0,19.0,20.0,30.0,25.0,19.0,21.0,25.0,24.0,20.0,24.0,25.0,21.0,23.0,26.0,22.0,20.0,25.0,20.0,17.0,27.0,19.0,28.0,21.0,22.0,23.0,23.0,17.0,25.0,22.0,22.0,20.0,25.0,16.0,19.0,18.0,20.0,23.0,19.0,21.0,22.0,21.0,16.0,24.0,22.0,26.0,22.0,29.0,18.0,19.0,23.0,19.0,24.0,28.0,23.0,23.0,24.0,29.0,18.0,24.0,19.0,19.0,19.0,21.0,20.0,23.0,27.0,25.0,19.0,18.0,25.0,23.0,21.0,34.0,21.0,29.0,18.0,25.0,15.0,18.0,27.0,21.0,22.0,22.0,21.0,28.0,30.0,23.0,24.0,28.0,19.0,22.0,26.0,22.0,29.0,30.0,29.0,24.0,26.0,23.0,25.0,25.0,28.0,26.0,24.0,31.0,19.0,20.0,23.0,24.0,19.0,18.0,18.0,24.0,18.0,18.0,20.0,22.0,23.0,21.0,26.0,35.0,20.0,23.0,33.0,33.0,24.0,24.0,19.0,23.0,37.0,25.0,23.0,19.0,27.0,20.0,22.0,20.0,28.0,24.0,27.0,24.0,35.0,22.0,24.0,30.0,31.0,20.0,23.0,23.0,23.0,21.0,31.0,28.0,34.0,25.0,29.0,29.0,29.0,30.0,29.0,20.0,28.0,20.0,20.0,20.0,28.0,30.0,21.0,22.0,35.0,32.0,31.0,25.0,32.0,33.0,32.0,20.0,23.0,26.0,22.0,22.0,27.0,25.0,33.0,25.0,29.0,22.0,31.0,29.0,27.0,26.0,27.0,30.0,30.0,26.0,23.0,29.0,33.0,26.0,30.0,24.0,24.0,22.0,27.0,27.0,27.0,24.0,38.0,36.0,27.0,24.0,32.0,28.0,23.0,28.0,24.0,23.0,26.0,27.0,20.0,26.0,31.0,34.0,24.0,30.0,25.0,26.0,37.0,29.0,27.0,21.0,25.0,27.0,32.0,26.0,32.0,26.0,27.0,30.0,24.0,25.0,29.0,26.0,26.0,26.0,35.0,33.0,23.0,23.0,24.0,27.0,32.0,33.0,28.0,26.0,24.0,24.0,24.0,23.0,22.0,27.0,30.0,24.0,26.0,29.0,21.0,22.0,33.0,34.0,25.0,19.0,24.0,23.0,27.0,28.0,24.0,22.0,41.0,28.0,22.0,30.0,26.0,20.0,33.0,21.0,23.0,29.0,25.0,28.0,27.0,23.0,38.0,31.0,31.0,26.0,29.0,24.0,28.0,23.0,30.0,28.0,30.0,23.0,24.0,22.0,32.0,28.0,20.0,32.0,35.0,28.0,23.0,20.0,22.0,26.0,38.0,29.0,30.0,33.0,23.0,26.0,24.0,37.0,27.0,24.0,26.0,22.0,24.0,30.0,34.0,31.0,36.0,23.0,26.0,22.0,24.0,28.0,22.0,27.0,22.0,21.0,31.0,24.0,30.0,23.0,33.0,23.0,24.0,24.0,21.0,30.0,30.0,31.0,20.0,23.0,18.0,24.0,25.0,24.0,26.0,27.0,19.0,29.0,19.0,24.0,26.0,18.0,19.0,29.0,23.0,22.0,28.0,24.0,22.0,20.0,28.0,25.0,27.0,24.0,22.0,25.0,25.0,30.0,23.0,31.0,32.0,31.0,22.0,28.0,21.0,28.0,29.0,24.0,24.0,29.0,24.0,28.0,18.0,26.0,20.0,18.0,22.0,24.0,23.0,23.0,25.0,26.0,30.0,32.0,24.0,27.0,39.0,25.0,35.0,33.0,24.0,37.0,28.0,21.0,33.0,28.0,33.0,33.0,41.0,41.71178822269718,27.0,28.0,30.0,29.0,34.0,30.0,31.0,41.71178822269718,41.71178822269718,25.0,31.0,34.0,25.0,28.0,28.0,23.0,19.0,27.0,26.0,22.0,41.71178822269718,29.0,40.0,29.0,35.0,38.0,33.0,20.0,28.0,25.0,30.0,24.0,29.0,25.0,23.0,24.0,34.0,35.0,33.0,25.0,27.0,38.0,30.0,30.0,21.0,28.0,39.0,41.71178822269718,39.0,26.0,26.0,27.0,35.0,24.0,28.0,19.0,30.0,38.0,33.0,37.0,30.0,32.0,22.0,26.0,38.0,34.0,41.71178822269718,33.0,21.0,29.0,39.0,41.71178822269718,24.0,40.0,36.0,23.0,33.0,23.0,40.0,41.71178822269718,29.0,40.0,41.71178822269718,31.0,41.71178822269718,22.0,22.0,23.0,41.0,30.0,19.0,39.0,34.0,30.0,24.0,28.0,27.0,19.0,20.0,34.0,31.0,23.0,30.0,36.0,41.0,34.0,29.0,36.0,34.0,34.0,25.0,37.0,41.71178822269718,38.0,35.0,33.0,21.0,41.71178822269718,25.0,22.0,19.0,33.0,33.0,41.0,35.0,23.0,37.0,28.0,28.0,39.0,33.0,23.0,24.0,22.0,17.0,37.0,24.0,24.0,24.0,37.0,24.0,28.0,34.0,34.0,40.0,35.0,30.0,37.0,38.0,36.0,32.0,31.0,37.0,32.0,36.0,33.0,26.0,26.0,41.71178822269718,30.0,26.0,27.0,21.0,34.0,41.71178822269718,28.0,39.0,28.0,35.0,26.0,26.0,29.0,31.0,25.0,24.0,21.0,25.0,32.0,24.0,35.0,31.0,28.0,31.0,24.0,27.0,22.0,23.0,26.0,27.0,41.71178822269718,32.0,24.0,33.0,26.0,31.0,26.0,40.0,25.0,36.0,28.0,24.0,40.0,19.0,27.0,23.0,39.0,35.0,27.0,21.0,23.0,26.0,23.0,30.0,22.0,22.0,24.0,31.0,30.0,24.0,28.0,26.0,30.0,27.0,30.0,29.0,30.0,37.0,27.0,36.0,27.0,36.0,31.0,34.0,29.0,30.0,36.0,24.0,41.71178822269718,38.0,31.0,21.0,27.0,36.0,24.0,21.0,32.0,25.0,27.0,32.0,37.0,24.0,22.0,31.0,33.0,35.0,38.0,25.0,31.0,24.0,25.0,25.0,29.0,31.0,28.0,22.0,23.0,20.0,29.0,32.0,21.0,27.0,24.0,30.0,26.0,41.71178822269718,24.0,26.0,32.0,27.0,38.0,40.0,28.0,26.0,25.0,41.71178822269718,38.0,31.0,31.0,36.0,35.0,25.0,29.0,41.71178822269718,30.0,24.0,36.0,31.0,39.0,27.0,23.0,26.0,36.0,28.0,32.0,36.0,27.0,36.0,31.0,28.0,34.0,29.0,35.0,21.0,33.0,28.0,28.0,28.0,31.0,31.0,27.0,33.0,25.0,26.0,28.0,23.0,26.0,30.0,25.0,41.71178822269718,34.0,30.0,29.0,28.0,29.0,25.0,32.0,41.71178822269718,24.0,37.0,28.0,34.0,36.0,30.0,35.0,38.0,40.0,34.0,27.0,36.0,28.0,34.0,36.0,31.0,33.0,27.0,41.71178822269718,30.0,23.0,23.0,28.0,38.0,40.0,29.0,35.0,24.0,41.71178822269718,32.0,27.0,41.71178822269718,29.0,30.0,29.0,32.0,32.0,29.0,29.0,26.0,30.0,27.0,29.0,22.0,23.0,28.0,25.0,29.0,27.0,30.0,26.0,27.0,25.0,26.0,29.0,29.0,29.0,29.0,22.0,27.0,32.0,29.0,26.0,26.0,40.0,21.0,25.0,26.0,30.0,26.0,31.0,33.0,27.0,33.0,21.0,33.0,23.0,40.0,33.0,27.0,25.0,32.0,29.0,25.0,29.0,22.0,26.0,37.0,26.0,36.0,28.0,23.0,32.0,29.0,29.0,33.0,30.0,26.0,29.0,21.0,34.0,28.0,24.0,27.0,28.0,30.0,31.0,21.0,26.0,25.0,29.0,29.0,24.0,27.0,24.0,20.0,33.0,24.0,24.0,23.0,21.0,25.0,30.0,27.0,29.0,30.0,28.0,25.0,30.0,29.0,22.0,31.0,32.0,26.0,34.0,29.0,31.0,32.0,36.0,26.0,32.0,26.0,30.0,31.0,23.0,28.0,23.0,23.0,24.0,24.0,35.0,23.0,29.0,24.0,26.0,25.0,21.0,24.0,28.0,40.0,22.0,23.0,22.0,33.0,27.0,25.0,29.0,24.0,28.0,27.0,25.0,41.71178822269718,33.0,26.0,27.0,28.0,27.0,32.0,27.0,22.0,27.0,27.0,29.0,28.0,29.0,30.0,22.0,22.0,34.0,25.0,26.0,23.0,25.0,38.0,26.0,34.0,25.0,25.0,25.0,25.0,30.0,33.0,25.0,27.0,24.0,28.0,26.0,27.0,29.0,25.0,29.0,35.0,36.0,35.0,29.0,29.0,29.0,29.0,28.0,25.0,25.0,28.0,35.0,36.0,24.0,30.0,41.71178822269718,33.0,25.0,32.0,27.0,30.0,30.0,25.0,27.0,27.0,25.0,30.0,27.0,39.0,28.0,41.71178822269718,24.0,28.0,22.0,23.0,36.0,26.0,24.0,37.0,33.0,27.0,25.0,33.0,27.0,29.0,25.0,20.0,20.0,34.0,25.0,27.0,28.0,28.0,24.0,26.0,30.0,31.0,30.0,24.0,31.0,27.0,26.0,25.0,24.0,37.0,32.0,32.0,22.0,28.0,31.0,29.0,26.0,27.0,24.0,24.0,26.0,27.0,24.0,22.0,29.0,26.0,32.0,26.0,24.0,26.0,29.0,31.0,26.0,25.0,22.0,29.0,23.0,29.0,32.0,31.0,32.0,38.0,28.0,23.0,25.0,31.0,29.0,23.0,28.0,31.0,31.0,28.0,32.0,33.0,24.0,26.0,19.0,24.0,28.0,25.0,25.0,28.0,31.0,37.0,29.0,28.0,21.0,22.0,32.0,29.0,34.0,24.0,36.0,30.0,32.0,29.0,33.0,29.0,32.0,25.0,32.0,23.0,22.0,23.0,24.0,30.0,21.0,29.0,29.0,28.0,28.0,31.0,32.0,31.0,31.0,28.0,27.0,25.0,25.0,27.0,24.0,24.0,21.0,25.0,29.0,32.0,26.0,40.0,29.0,28.0,21.0,25.0,31.0,26.0,26.0,27.0,23.0,23.0,23.0,22.0,35.0,38.0,22.0,25.0,29.0,32.0,24.0,34.0,28.0,30.0,24.0,30.0,29.0,31.0,28.0,30.0,31.0,21.0,23.0,39.0,25.0,24.0,33.0,25.0,32.0,39.0,26.0,20.0,33.0,33.0,28.0,22.0,26.0,21.0,25.0,24.0,29.0,27.0,23.0,34.0,22.0,34.0,26.0,30.0,22.0,22.0,25.0,30.0,30.0,30.0,26.0,25.0,30.0,22.0,32.0,25.0,38.0,25.0,31.0,28.0,28.0,34.0,24.0,26.0,23.0,27.0,27.0,24.0,25.0,26.0,27.0,24.0,27.0,28.0,30.0,29.0,28.0,34.0,23.0,33.0,27.0,25.0,27.0,33.0,32.0,35.0,23.0,25.0,22.0,29.0,25.0,29.0,30.0,33.0,26.0,33.0,23.0,23.0,34.0,31.0,28.0,28.0,30.0,26.0,31.0,24.0,28.0,27.0,26.0,23.0,23.0,27.0,28.0,27.0,27.0,23.0,32.0,25.0,29.0,30.0,23.0,29.0,25.0,28.0,29.0,26.0,36.0,23.0,24.0,26.0,23.0,32.0,27.0,28.0,27.0,28.0,26.0,28.0,29.0,24.0,24.0,31.0,26.0,27.0,23.0,26.0,23.0,25.0,21.0,33.0,26.0,24.0,31.0,35.0,30.0,29.0,34.0,28.0,28.0,28.0,35.0,34.0,29.0,20.0,27.0,29.0,29.0,29.0,32.0,28.0,26.0,23.0,38.0,28.0,28.0,32.0,25.0,23.0,31.0,23.0,24.0,25.0,28.0,30.0,22.0,26.0,28.0,23.0,21.0,26.0,26.0,24.0,26.0,28.0,24.0,29.0,30.0,40.0,35.0,27.0,25.0,24.0,28.0,29.0,22.0,24.0,29.0,25.0,25.0,22.0,23.0,26.0,28.0,24.0,18.0,24.0,19.0,19.0,17.0,22.0,20.0,22.0,25.0,17.0,17.0,17.0,19.0,21.0,22.0,24.0,22.0,17.0,18.0,22.0,18.0,19.0,24.0,18.0,20.0,18.0,18.0,16.0,18.0,25.0,19.0,19.0,22.0,18.0,17.0,19.0,21.0,18.0,24.0,21.0,19.0,20.0,20.0,16.0,22.0,19.0,18.0,15.0,19.0,21.0,18.0,18.0,20.0,17.0,19.0,20.0,18.0,19.0,16.0,17.0,17.0,18.0,16.0,17.0,21.0,17.0,19.0,16.0,19.0,20.0,17.0,17.0,17.0,16.0,16.0,17.0,15.0,16.0,17.0,18.0,18.0,19.0,16.0,25.0,24.0,21.0,34.0,26.0,28.0,23.0,33.0,20.0,18.0,32.0,28.0,28.0,27.0,26.0,22.0,17.0,27.0,27.0,28.0,24.0,24.0,22.0,23.0,22.0,18.0,23.0,30.0,24.0,28.0,30.0,28.0,28.0,22.0,27.0,25.0,35.0,29.0,22.0,26.0,33.0,31.0,26.0,25.0,28.0,27.0,29.0,26.0,24.0,28.0,25.0,24.0,28.0,22.0,26.0,32.0,28.0,27.0,20.0,28.0,25.0,30.0,24.0,26.0,36.0,34.0,29.0,34.0,22.0,35.0,24.0,23.0,36.0,34.0,27.0,29.0,32.0,31.0,35.0,29.0,31.0,24.0,28.0,27.0,32.0,37.0,22.0,31.0,28.0,26.0,32.0,25.0,32.0,32.0,33.0,26.0,25.0,25.0,30.0,29.0,22.0,30.0,26.0,23.0,25.0,20.0,22.0,27.0,22.0,27.0,25.0,25.0,23.0,28.0,27.0,23.0,23.0,26.0,24.0,22.0,32.0,28.0,23.0,25.0,27.0,22.0,23.0,28.0,23.0,26.0,20.0,20.0,25.0,33.0,27.0,22.0,25.0,32.0,29.0,29.0,31.0,22.0,21.0,24.0,30.0,28.0,28.0,32.0,26.0,21.0,28.0,25.0,28.0,23.0,26.0,22.0,27.0,27.0,27.0,25.0,33.0,23.0,25.0,23.0,26.0,24.0,29.0,21.0,23.0,23.0,34.0,26.0,20.0,24.0,19.0,18.0,26.0,25.0,22.0,23.0,28.0,20.0,25.0,19.0,21.0,21.0,32.0,27.0,27.0,25.0,26.0,26.0,30.0,29.0,19.0,29.0,21.0,32.0,26.0,24.0,27.0,28.0,24.0,31.0,24.0,23.0,24.0,29.0,23.0,28.0,22.0,28.0,30.0,29.0,21.0,22.0,27.0,20.0,30.0,17.0,22.0,26.0,28.0,25.0,20.0,29.0,26.0,25.0,25.0,23.0,25.0,23.0,25.0,30.0,30.0,28.0,29.0,24.0,33.0,33.0,24.0,30.0,30.0,24.0,28.0,23.0,26.0,27.0,22.0,26.0,25.0,29.0,28.0,23.0,27.0,22.0,23.0,28.0,26.0,26.0,24.0,18.0,24.0,26.0,31.0,28.0,28.0,32.0,26.0,23.0,25.0,27.0,27.0,22.0,22.0,28.0,24.0,28.0,21.0,21.0,21.0,29.0,24.0,21.0,24.0,24.0,29.0,25.0,28.0,28.0,29.0,32.0,26.0,28.0,25.0,27.0,20.0,23.0,28.0,27.0,25.0,25.0,24.0,23.0,34.0,27.0,26.0,26.0,26.0,27.0,24.0,26.0,27.0,23.0,26.0,25.0,32.0,22.0,24.0,24.0,30.0,33.0,37.0,25.0,24.0,24.0,23.0,27.0,22.0,26.0,20.0,33.0,22.0,26.0,25.0,24.0,27.0,30.0,29.0,32.0,23.0,22.0,22.0,32.0,27.0,21.0,21.0,23.0,20.0,31.0,21.0,31.0,19.0,26.0,35.0,25.0,22.0,28.0,33.0,20.0,26.0,35.0,28.0,28.0,27.0,20.0,20.0,34.0,23.0,36.0,25.0,22.0,30.0,32.0,27.0,30.0,30.0,22.0,22.0,28.0,29.0,25.0,29.0,31.0,25.0,36.0,28.0,29.0,30.0,25.0,25.0,36.0,24.0,24.0,28.0,26.0,21.0,18.0,35.0,36.0,20.0,31.0,20.0,25.0,30.0,34.0,27.0,22.0,28.0,35.0,21.0,31.0,24.0,39.0,27.0,30.0,31.0,25.0,22.0,24.0,25.0,23.0,25.0,35.0,30.0,23.0,34.0,21.0,19.0,24.0,24.0,19.0,24.0,28.0,22.0,24.0,29.0,26.0,31.0,23.0,18.0,33.0,23.0,30.0,22.0,17.0,30.0,25.0,28.0,26.0,27.0,20.0,30.0,32.0,23.0,22.0,24.0,31.0,30.0,26.0,29.0,16.0,22.0,24.0,25.0,32.0,40.0,26.0,24.0,26.0,26.0,41.0,32.0,28.0,30.0,22.0,31.0,32.0,33.0,26.0,25.0,34.0,22.0,22.0,27.0,33.0,31.0,32.0,27.0,27.0,26.0,31.0,26.0,30.0,26.0,24.0,22.0,31.0,27.0,25.0,29.0,28.0,24.0,32.0,23.0,35.0,32.0,35.0,29.0,27.0,25.0,20.0,23.0,28.0,23.0,30.0,19.0,31.0,19.0,28.0,28.0,25.0,32.0,33.0,37.0,22.0,29.0,20.0,26.0,28.0,18.0,32.0,24.0,29.0,30.0,20.0,26.0,34.0,26.0,21.0,30.0,31.0,29.0,27.0,25.0,25.0,35.0,24.0,26.0,32.0,27.0,22.0,33.0,35.0,35.0,35.0,26.0,20.0,30.0,29.0,20.0,25.0,29.0,31.0,20.0,22.0,24.0,27.0,16.0,25.0,29.0,22.0,27.0,29.0,31.0,20.0,26.0,24.0,30.0,25.0,36.0,24.0,19.0,38.0,32.0,22.0,22.0,35.0,29.0,30.0,27.0,30.0,28.0,23.0,40.0,19.0,18.0,23.0,26.0,24.0,25.0,29.0,27.0,29.0,26.0,22.0,33.0,30.0,32.0,21.0,27.0,36.0,30.0,31.0,34.0,24.0,22.0,37.0,37.0,24.0,18.0,34.0,25.0,27.0,29.0,27.0,22.0,29.0,21.0,26.0,18.0,28.0,35.0,23.0,41.0,22.0,32.0,33.0,36.0,25.0,28.0,22.0,30.0,38.0,33.0,25.0,15.0,29.0,30.0,29.0,26.0,31.0,23.0,28.0,35.0,28.0,29.0,22.0,27.0,18.0,20.0,24.0,25.0,27.0,28.0,35.0,32.0,28.0,22.0,22.0,17.0,32.0,23.0,17.0,23.0,33.0,24.0,20.0,25.0,25.0,22.0,23.0,31.0,37.0,29.0,25.0,25.0,21.0,16.0,31.0,20.0,23.0,28.0,24.0,34.0,36.0,31.0,33.0,34.0,24.0,23.0,31.0,26.0,28.0,24.0,33.0,24.0,25.0,22.0,26.0,26.0,26.0,27.0,25.0,23.0,36.0,23.0,22.0,30.0,28.0,26.0,25.0,33.0,29.0,28.0,20.0,27.0,28.0,22.0,24.0,18.0,23.0,24.0,25.0,26.0,25.0,27.0,22.0,27.0,22.0,27.0,28.0,31.0,28.0,28.0,28.0,24.0,22.0,25.0,27.0,25.0,26.0,28.0,26.0,27.0,25.0,27.0,30.0,31.0,27.0,23.0,25.0,21.0,24.0,21.0,28.0,34.0,25.0,23.0,31.0,28.0,21.0,24.0,29.0,27.0,23.0,22.0,23.0,24.0,22.0,24.0,32.0,31.0,30.0,22.0,25.0,30.0,27.0,30.0,24.0,30.0,27.0,29.0,21.0,29.0,34.0,23.0,27.0,30.0,25.0,31.0,24.0,26.0,31.0,28.0,24.0,28.0,28.0,33.0,35.0,25.0,19.0,29.0,26.0,24.0,28.0,29.0,20.0,27.0,30.0,23.0,25.0,30.0,23.0,28.0,27.0,28.0,31.0,24.0,32.0,26.0,31.0,27.0,20.0,31.0,22.0,32.0,23.0,23.0,26.0,23.0,24.0,28.0,21.0,30.0,24.0,28.0,33.0,25.0,27.0,24.0,30.0,30.0,21.0,25.0,21.0,19.0,23.0,22.0,24.0,23.0,22.0,32.0,29.0,28.0,27.0,31.0,28.0,29.0,29.0,24.0,22.0,22.0,32.0,27.0,25.0,26.0,33.0,26.0,27.0,30.0,18.0,23.0,26.0,24.0,26.0,23.0,25.0,24.0,19.0,28.0,30.0,29.0,25.0,26.0,27.0,26.0,32.0,22.0,27.0,31.0,28.0,24.0,24.0,25.0,24.0,27.0,26.0,27.0,28.0,28.0,25.0,22.0,31.0,23.0,21.0,28.0,30.0,24.0,25.0,23.0,30.0,27.0,26.0,28.0,30.0,21.0,23.0,27.0,28.0,28.0,27.0,22.0,23.0,27.0,30.0,33.0,27.0,27.0,25.0,32.0,19.0,23.0,32.0,27.0,30.0,24.0,28.0,26.0,29.0,26.0,29.0,26.0,27.0,26.0,25.0,31.0,22.0,31.0,24.0,27.0,27.0,24.0,24.0,24.0,27.0,24.0,28.0,31.0,25.0,26.0,28.0,24.0,32.0,28.0,22.0,26.0,22.0,29.0,29.0,25.0,23.0,26.0,22.0,22.0,19.0,28.0,26.0,26.0,27.0,25.0,22.0,23.0,23.0,27.0,24.0,34.0,28.0,24.0,31.0,24.0,25.0,27.0,29.0,26.0,33.0,27.0,26.0,22.0,29.0,28.0,27.0,28.0,29.0,19.0,25.0,28.0,24.0,31.0,33.0,23.0,26.0,24.0,25.0,22.0,22.0,21.0,36.0,29.0,21.0,27.0,26.0,29.0,28.0,23.0,26.0,26.0,24.0,25.0,28.0,21.0,25.0,29.0,30.0,22.0,27.0,27.0,30.0,28.0,30.0,28.0,23.0,20.0,27.0,19.0,26.0,21.0,28.0,26.0,32.0,28.0,24.0,26.0,28.0,30.0,23.0,26.0,26.0,28.0,24.0,28.0,32.0,26.0,27.0,30.0,25.0,20.0,25.0,26.0,22.0,27.0,26.0,32.0,27.0,24.0,27.0,29.0,26.0,28.0,27.0,29.0,29.0,34.0,33.0,23.0,25.0,32.0,27.0,32.0,25.0,27.0,29.0,39.0,33.0,26.0,35.0,33.0,24.0,23.0,23.0,28.0,27.0,32.0,35.0,26.0,34.0,36.0,26.0,27.0,30.0,34.0,32.0,25.0,26.0,27.0,25.0,36.0,33.0,27.0,26.0,31.0,28.0,36.0,31.0,22.0,26.0,21.0,31.0,30.0,20.0,22.0,36.0,32.0,29.0,29.0,24.0,22.0,24.0,32.0,33.0,22.0,30.0,27.0,35.0,28.0,31.0,32.0,25.0,25.0,27.0,36.0,25.0,27.0,28.0,23.0,28.0,31.0,18.0,28.0,33.0,27.0,23.0,37.0,27.0,22.0,28.0,24.0,20.0,38.0,29.0,21.0,28.0,33.0,27.0,31.0,31.0,25.0,31.0,27.0,31.0,22.0,29.0,30.0,25.0,30.0,32.0,35.0,23.0,26.0,28.0,23.0,26.0,27.0,24.0,28.0,28.0,32.0,36.0,34.0,28.0,31.0,29.0,24.0,32.0,31.0,33.0,27.0,27.0,19.0,33.0,28.0,32.0,28.0,25.0,26.0,25.0,28.0,28.0,23.0,35.0,35.0,31.0,33.0,27.0,28.0,29.0,24.0,23.0,28.0,24.0,26.0,32.0,28.0,28.0,28.0,29.0,33.0,23.0,23.0,35.0,29.0,29.0,23.0,23.0,22.0,28.0,25.0,33.0,22.0,28.0,26.0,27.0,23.0,23.0,26.0,26.0,33.0,27.0,29.0,26.0,32.0,22.0,34.0,24.0,28.0,29.0,29.0,28.0,32.0,28.0,28.0,26.0,27.0,23.0,31.0,27.0,23.0,30.0,29.0,28.0,31.0,31.0,33.0,35.0,30.0,23.0,41.71178822269718,24.0,29.0,28.0,28.0,28.0,34.0,27.0,23.0,26.0,24.0,21.0,25.0,22.0,31.0,31.0,35.0,29.0,30.0,31.0,27.0,31.0,26.0,34.0,34.0,25.0,27.0,23.0,35.0,24.0,25.0,31.0,29.0,32.0,24.0,29.0,40.0,26.0,28.0,27.0,23.0,21.0,26.0,26.0,32.0,23.0,36.0,24.0,27.0,34.0,25.0,30.0,23.0,22.0,29.0,28.0,26.0,32.0,29.0,27.0,31.0,31.0,29.0,25.0,22.0,30.0,31.0,30.0,30.0,29.0,29.0,31.0,35.0,23.0,29.0,23.0,32.0,26.0,25.0,25.0,31.0,24.0,32.0,29.0,31.0,23.0,29.0,30.0,25.0,26.0,38.0,27.0,25.0,36.0,29.0,23.0,24.0,31.0,22.0,30.0,25.0,28.0,31.0,28.0,29.0,36.0,29.0,30.0,21.0,26.0,25.0,27.0,26.0,27.0,32.0,22.0,22.0,26.0,24.0,32.0,26.0,35.0,38.0,32.0,22.0,22.0,34.0,27.0,28.0,36.0,24.0,32.0,31.0,24.0,29.0,26.0,36.0,35.0,20.0,27.0,16.0,18.0,20.0,16.0,24.0,24.0,20.0,16.0,18.0,20.0,30.0,19.0,21.0,19.0,15.0,25.0,20.0,27.0,22.0,23.0,27.0,17.0,23.0,19.0,22.0,23.0,26.0,16.0,22.0,27.0,31.0,22.0,28.0,33.0,27.0,16.0,15.0,25.0,17.0,26.0,20.0,19.0,29.0,16.0,28.0,16.0,20.0,25.0,18.0,22.0,16.0,20.0,21.0,16.0,19.0,24.0,17.0,26.0,27.0,22.0,23.0,24.0,18.0,25.0,26.0,34.0,23.0,24.0,21.0,26.0,19.0,16.0,16.0,23.0,23.0,16.0,24.0,16.0,21.0,21.0,26.0,25.0,20.0,22.0,19.0,26.0,27.0,19.0,27.0,30.0,24.0,22.0,27.0,21.0,18.0,18.0,21.0,23.0,16.0,16.0,22.0,30.0,18.0,23.0,19.0,18.0,22.0,21.0,16.0,16.0,21.0,17.0,19.0,19.0,22.0,23.0,28.0,20.0,18.0,15.0,28.0,23.0,24.0,20.0,22.0,21.0,18.0,15.0,22.0,21.0,21.0,22.0,30.0,22.0,20.0,35.0,26.0,29.0,22.0,24.0,31.0,23.0,23.0,21.0,23.0,21.0,23.0,21.0,28.0,19.0,22.0,26.0,23.0,23.0,24.0,22.0,26.0,23.0,19.0,25.0,27.0,22.0,21.0,22.0,21.0,21.0,25.0,26.0,22.0,26.0,23.0,22.0,22.0,28.0,21.0,23.0,32.0,23.0,30.0,22.0,30.0,19.0,24.0,29.0,28.0,29.0,22.0,34.0,27.0,23.0,28.0,25.0,21.0,30.0,23.0,20.0,23.0,27.0,22.0,28.0,20.0,23.0,27.0,31.0,37.0,28.0,23.0,22.0,27.0,19.0,25.0,21.0,24.0,32.0,25.0,23.0,27.0,33.0,24.0,24.0,28.0,27.0,29.0,30.0,22.0,21.0,24.0,30.0,26.0,21.0,23.0,32.0,30.0,28.0,22.0,20.0,22.0,19.0,20.0,23.0,18.0,19.0,20.0,30.0,29.0,20.0,21.0,20.0,20.0,20.0,22.0,31.0,18.0,24.0,22.0,20.0,24.0,20.0,22.0,23.0,24.0,20.0,23.0,20.0,20.0,25.0,19.0,21.0,30.0,18.0,22.0,21.0,28.0,20.0,23.0,29.0,30.0,22.0,20.0,21.0,21.0,25.0,22.0,22.0,23.0,22.0,23.0,32.0,26.0,21.0,20.0,22.0,24.0,22.0,31.0,21.0,23.0,30.0,21.0,23.0,23.0,21.0,27.0,22.0,19.0,21.0,20.0,24.0,33.0,20.0,29.0,33.0,30.0,22.0,21.0,23.0,30.0,21.0,21.0,28.0,24.0,26.0,23.0,23.0,27.0,31.0,23.0,31.0,27.0,23.0,30.0,33.0,24.0,22.0,22.0,27.0,23.0,22.0,26.0,31.0,21.0,22.0,23.0,20.0,23.0,23.0,23.0,21.0,27.0,23.0,33.0,36.0,19.0,22.0,20.0,19.0,23.0,20.0,21.0,23.0,22.0,21.0,22.0,21.0,21.0,30.0,23.0,36.0,24.0,22.0,26.0,33.0,25.0,33.0,24.0,23.0,22.0,23.0,22.0,30.0,23.0,23.0,23.0,21.0,32.0,26.0,25.0,26.0,31.0,22.0,19.0,18.0,33.0,28.0,22.0,23.0,18.0,23.0,20.0,27.0,22.0,22.0,31.0,26.0,26.0,23.0,24.0,19.0,21.0,22.0,22.0,26.0,29.0,23.0,23.0,25.0,25.0,29.0,26.0,22.0,23.0,23.0,22.0,34.0,32.0,22.0,23.0,32.0,27.0,26.0,29.0,20.0,20.0,22.0,24.0,24.0,21.0,29.0,22.0,23.0,20.0,20.0,22.0,23.0,20.0,23.0,19.0,23.0,22.0,20.0,25.0,22.0,32.0,22.0,22.0,27.0,19.0,22.0,32.0,22.0,31.0,29.0,21.0,21.0,21.0,21.0,22.0,21.0,23.0,19.0,28.0,30.0,23.0,21.0,25.0,22.0,25.0,27.0,21.0,23.0,16.0,25.0,28.0,22.0,23.0,23.0,29.0,24.0,22.0,17.0,29.0,25.0,20.0,21.0,27.0,22.0,19.0,27.0,26.0,27.0,26.0,22.0,22.0,20.0,22.0,26.0,23.0,22.0,21.0,22.0,25.0,25.0,21.0,22.0,22.0,23.0,27.0,31.0,22.0,28.0,23.0,28.0,22.0,24.0,22.0,22.0,22.0,33.0,20.0,23.0,26.0,23.0,28.0,21.0,22.0,20.0,33.0,19.0,23.0,25.0,19.0,24.0,22.0,30.0,27.0,24.0,26.0,28.0,31.0,30.0,23.0,30.0,20.0,22.0,36.0,24.0,24.0,21.0,23.0,21.0,33.0,31.0,29.0,20.0,28.0,30.0,23.0,27.0,27.0,24.0,20.0,21.0,32.0,26.0,28.0,24.0,30.0,21.0,16.0,21.0,28.0,27.0,29.0,27.0,19.0,24.0,23.0,25.0,23.0,21.0,28.0,29.0,25.0,33.0,22.0,30.0,33.0,26.0,26.0,28.0,23.0,23.0,27.0,24.0,27.0,26.0,28.0,25.0,21.0,21.0,31.0,28.0,27.0,22.0,22.0,25.0,21.0,29.0,23.0,27.0,32.0,21.0,27.0,27.0,20.0,30.0,22.0,27.0,19.0,23.0,25.0,28.0,29.0,21.0,25.0,23.0,23.0,25.0,26.0,28.0,26.0,30.0,26.0,22.0,22.0,24.0,28.0,24.0,23.0,29.0,21.0,24.0,28.0,31.0,28.0,28.0,29.0,21.0,28.0,24.0,27.0,25.0,25.0,32.0,28.0,31.0,26.0,28.0,21.0,33.0,30.0,29.0,27.0,26.0,25.0,33.0,25.0,22.0,26.0,26.0,25.0,28.0,22.0,39.0,27.0,30.0,30.0,20.0,31.0,30.0,33.0,24.0,36.0,23.0,29.0,30.0,21.0,25.0,22.0,31.0,17.0,21.0,23.0,25.0,29.0,30.0,27.0,26.0,38.0,22.0,23.0,27.0,22.0,32.0,30.0,20.0,25.0,25.0,33.0,29.0,27.0,32.0,22.0,28.0,30.0,24.0,35.0,24.0,38.0,27.0,22.0,26.0,25.0,19.0,29.0,27.0,24.0,30.0,24.0,30.0,29.0,25.0,26.0,26.0,19.0,22.0,23.0,21.0,29.0,21.0,23.0,27.0,33.0,34.0,34.0,33.0,24.0,21.0,33.0,23.0,26.0,31.0,28.0,26.0,30.0,26.0,26.0,30.0,22.0,29.0,20.0,31.0,29.0,30.0,24.0,34.0,25.0,30.0,30.0,23.0,23.0,20.0,34.0,31.0,19.0,25.0,31.0,19.0,30.0,29.0,22.0,30.0,33.0,26.0,26.0,28.0,22.0,18.0,19.0,29.0,30.0,15.0,34.0,34.0,19.0,28.0,20.0,32.0,26.0,36.0,39.0,30.0,21.0,30.0,33.0,22.0,33.0,26.0,36.0,23.0,25.0,23.0,24.0,27.0,26.0,32.0,36.0,25.0,28.0,26.0,22.0,34.0,30.0,24.0,30.0,27.0,24.0,40.0,27.0,37.0,41.71178822269718,26.0,41.71178822269718,41.0,41.71178822269718,41.71178822269718,30.0,41.71178822269718,41.0,41.71178822269718,30.0,29.0,41.71178822269718,32.0,28.0,31.0,39.0,31.0,41.71178822269718,34.0,29.0,41.71178822269718,25.0,41.71178822269718,41.71178822269718,41.71178822269718,24.0,41.71178822269718,41.71178822269718,35.0,41.71178822269718,41.71178822269718,41.71178822269718,41.71178822269718,36.0,39.0,40.0,41.71178822269718,26.0,30.0,41.71178822269718,30.0,41.71178822269718,40.0,31.0,40.0,41.71178822269718,29.0,34.0,41.71178822269718,34.0,32.0,35.0,31.0,40.0,41.71178822269718,41.71178822269718,41.71178822269718,41.71178822269718,32.0,33.0,29.0,29.0,41.71178822269718,41.71178822269718,33.0,30.0,30.0,39.0,41.71178822269718,41.71178822269718,41.71178822269718,35.0,32.0,41.71178822269718,41.71178822269718,32.0,40.0,41.71178822269718,31.0,40.0,41.71178822269718,41.71178822269718,41.71178822269718,41.71178822269718,41.71178822269718,41.71178822269718,24.0,34.0,36.0,28.0,37.0,39.0,39.0,31.0,41.0,37.0,41.71178822269718,41.71178822269718,26.0,35.0,41.71178822269718,27.0,41.71178822269718,27.0,37.0,26.0,41.0,41.71178822269718,31.0,37.0,35.0,41.71178822269718,30.0,36.0,41.71178822269718,37.0,27.0,36.0,40.0,36.0,41.71178822269718,29.0,35.0,41.71178822269718,41.71178822269718,41.71178822269718,41.71178822269718,25.0,20.0,23.0,16.0,23.0,17.0,18.0,32.0,26.0,25.0,18.0,25.0,30.0,19.0,22.0,22.0,26.0,20.0,15.0,19.0,19.0,20.0,26.0,19.0,18.0,25.0,23.0,24.0,22.0,25.0,19.0,21.0,26.0,18.0,22.0,29.0,18.0,20.0,17.0,20.0,24.0,22.0,21.0,34.0,29.0,16.0,20.0,25.0,29.0,19.0,16.0,22.0,22.0,21.0,30.0,15.0,31.0,17.0,23.0,30.0,25.0,28.0,26.0,25.0,23.0,29.0,21.0,18.0,21.0,29.0,18.0,26.0,26.0,21.0,23.0,21.0,23.0,27.0,27.0,16.0,24.0,21.0,22.0,23.0,27.0,23.0,38.0,36.0,39.0,25.0,23.0,23.0,24.0,22.0,20.0,24.0,22.0,20.0,25.0,27.0,26.0,27.0,21.0,20.0,25.0,24.0,32.0,20.0,20.0,19.0,23.0,21.0,25.0,27.0,25.0,27.0,24.0,31.0,23.0,24.0,20.0,25.0,34.0,23.0,29.0,26.0,24.0,25.0,18.0,40.0,25.0,28.0,26.0,25.0,23.0,38.0,21.0,25.0,24.0,25.0,32.0,32.0,20.0,28.0,35.0,23.0,21.0,20.0,30.0,22.0,23.0,25.0,41.71178822269718,23.0,25.0,21.0,32.0,20.0,23.0,22.0,33.0,23.0,24.0,22.0,30.0,20.0,26.0,22.0,27.0,27.0,22.0,34.0,21.0,27.0,33.0,29.0,24.0,23.0,25.0,34.0,30.0,31.0,27.0,31.0,35.0,25.0,24.0,25.0,28.0,25.0,30.0,22.0,20.0,21.0,36.0,35.0,21.0,34.0,22.0,36.0,30.0,21.0,24.0,21.0,24.0,28.0,30.0,21.0,24.0,35.0,35.0,23.0,25.0,23.0,31.0,22.0,31.0,34.0,34.0,34.0,28.0,31.0,30.0,33.0,26.0,28.0,19.0,25.0,30.0,32.0,32.0,24.0,35.0,29.0,26.0,29.0,25.0,32.0,38.0,25.0,30.0,31.0,24.0,26.0,35.0,27.0,32.0,35.0,32.0,29.0,28.0,28.0,26.0,38.0,29.0,29.0,22.0,31.0,29.0,24.0,37.0,36.0,41.71178822269718,31.0,29.0,23.0,28.0,30.0,27.0,28.0,31.0,26.0,29.0,24.0,25.0,28.0,25.0,26.0,31.0,41.0,29.0,25.0,21.0,37.0,24.0,25.0,24.0,39.0,30.0,29.0,26.0,22.0,29.0,31.0,26.0,24.0,31.0,31.0,26.0,22.0,31.0,27.0,20.0,28.0,24.0,34.0,24.0,38.0,41.71178822269718,41.71178822269718,41.0,26.0,25.0,26.0,28.0,39.0,28.0,38.0,41.71178822269718,30.0,31.0,35.0,41.71178822269718,32.0,26.0,33.0,30.0,27.0,36.0,38.0,25.0,24.0,27.0,24.0,41.71178822269718,27.0,37.0,25.0,41.71178822269718,41.71178822269718,28.0,30.0,37.0,26.0,35.0,34.0,31.0,26.0,26.0,28.0,39.0,34.0,23.0,34.0,32.0,23.0,22.0,32.0,39.0,41.0,33.0,38.0,30.0,33.0,29.0,28.0,33.0,36.0,27.0,35.0,35.0,34.0,41.71178822269718,27.0,41.71178822269718,30.0,34.0,23.0,30.0,29.0,24.0,31.0,35.0,33.0,41.71178822269718,39.0,34.0,38.0,36.0,32.0,30.0,23.0,19.0,38.0,23.0,21.0,25.0,28.0,31.0,24.0,33.0,31.0,32.0,30.0,23.0,28.0,20.0,27.0,26.0,35.0,27.0,29.0,32.0,32.0,28.0,25.0,20.0,30.0,23.0,24.0,30.0,28.0,29.0,25.0,24.0,38.0,30.0,22.0,29.0,22.0,33.0,26.0,28.0,33.0,32.0,23.0,29.0,32.0,25.0,25.0,36.0,41.0,29.0,25.0,27.0,25.0,33.0,31.0,26.0,28.0,31.0,30.0,37.0,34.0,35.0,33.0,31.0,24.0,29.0,21.0,34.0,29.0,24.0,22.0,27.0,28.0,30.0,27.0,26.0,24.0,24.0,30.0,29.0,31.0,32.0,37.0,27.0,22.0,32.0,29.0,27.0,27.0,23.0,33.0,30.0,24.0,24.0,29.0,23.0,26.0,29.0,27.0,27.0,28.0,25.0,19.0,22.0,34.0,32.0,29.0,29.0,18.0,29.0,20.0,27.0,32.0,32.0,29.0,25.0,30.0,25.0,33.0,34.0,20.0,36.0,20.0,20.0,23.0,23.0,36.0,27.0,32.0,33.0,28.0,26.0,27.0,22.0,29.0,25.0,21.0,31.0,22.0,24.0,22.0,23.0,23.0,27.0,26.0,26.0,25.0,30.0,31.0,26.0,33.0,26.0,25.0,22.0,27.0,23.0,30.0,34.0,28.0,26.0,30.0,26.0,20.0,27.0,21.0,22.0,23.0,23.0,27.0,24.0,29.0,21.0,26.0,24.0,28.0,21.0,26.0,28.0,28.0,21.0,41.71178822269718,29.0,36.0,21.0,30.0,34.0,21.0,30.0,23.0,22.0,32.0,26.0,26.0,20.0,29.0,29.0,31.0,22.0,30.0,28.0,29.0,25.0,30.0,29.0,19.0,26.0,22.0,31.0,27.0,30.0,28.0,22.0,29.0,30.0,25.0,26.0,27.0,26.0,28.0,25.0,29.0,24.0,27.0,28.0,34.0,29.0,22.0,36.0,27.0,35.0,34.0,26.0,27.0,25.0,26.0,28.0,23.0,24.0,24.0,32.0,39.0,25.0,32.0,26.0,32.0,26.0,22.0,24.0,25.0,27.0,28.0,26.0,25.0,27.0,21.0,26.0,24.0,23.0,23.0,22.0,23.0,27.0,23.0,32.0,28.0,35.0,30.0,24.0,29.0,25.0,30.0,28.0,21.0,26.0,24.0,22.0,24.0,26.0,26.0,25.0,21.0,30.0,20.0,31.0,24.0,25.0,23.0,30.0,26.0,30.0,32.0,31.0,23.0,31.0,29.0,22.0,35.0,28.0,29.0,32.0,21.0,21.0,28.0,36.0,24.0,24.0,22.0,35.0,23.0,25.0,28.0,27.0,27.0,23.0,26.0,21.0,23.0,25.0,24.0,31.0,21.0,23.0,22.0,28.0,32.0,25.0,26.0,18.0,24.0,31.0,25.0,24.0,30.0,26.0,26.0,27.0,30.0,31.0,24.0,25.0,23.0,23.0,20.0,21.0,26.0,27.0,20.0,22.0,27.0,24.0,28.0,26.0,20.0,28.0,31.0,22.0,23.0,25.0,28.0,29.0,22.0,30.0,22.0,24.0,28.0,24.0,24.0,21.0,30.0,25.0,29.0,25.0,24.0,34.0,32.0,20.0,20.0,35.0,32.0,31.0,23.0,23.0,35.0,26.0,28.0,28.0,31.0,28.0,22.0,22.0,30.0,31.0,37.0,28.0,30.0,25.0,26.0,28.0,23.0,37.0,35.0,31.0,22.0,34.0,35.0,21.0,21.0,33.0,24.0,28.0,24.0,20.0,24.0,29.0,27.0,37.0,23.0,22.0,28.0,23.0,26.0,23.0,21.0,22.0,27.0,24.0,25.0,25.0,28.0,26.0,27.0,24.0,35.0,20.0,26.0,23.0,29.0,28.0,28.0,20.0,32.0,31.0,30.0,29.0,31.0,27.0,37.0,30.0,26.0,23.0,25.0,30.0,33.0,19.0,31.0,31.0,34.0,24.0,21.0,30.0,25.0,27.0,33.0,31.0,30.0,22.0,25.0,21.0,29.0,38.0,28.0,24.0,24.0,30.0,29.0,22.0,31.0,20.0,29.0,23.0,28.0,26.0,23.0,29.0,33.0,32.0,23.0,22.0,27.0,32.0,22.0,22.0,35.0,26.0,37.0,20.0,29.0,24.0,28.0,29.0,21.0,28.0,23.0,27.0,21.0,20.0,31.0,24.0,23.0,31.0,24.0,27.0,22.0,27.0,21.0,30.0,23.0,27.0,24.0,31.0,28.0,21.0,29.0,35.0,27.0,30.0,27.0,25.0,19.0,24.0,32.0,31.0,33.0,36.0,29.0,33.0,26.0,30.0,23.0,36.0,28.0,27.0,23.0,27.0,28.0,26.0,33.0,21.0,20.0,26.0,35.0,22.0,22.0,25.0,34.0,36.0,37.0,29.0,23.0,29.0,31.0,26.0,29.0,23.0,21.0,31.0,26.0,28.0,25.0,24.0,32.0,24.0,19.0,20.0,21.0,23.0,21.0,22.0,24.0,27.0,25.0,23.0,22.0,29.0,22.0,24.0,23.0,27.0,26.0,25.0,19.0,23.0,23.0,20.0,25.0,23.0,20.0,32.0,29.0,18.0,24.0,30.0,28.0,26.0,17.0,26.0,26.0,22.0,33.0,30.0,25.0,23.0,25.0,31.0,23.0,28.0,21.0,21.0,28.0,28.0,25.0,22.0,22.0,24.0,24.0,26.0,23.0,25.0,23.0,23.0,23.0,19.0,27.0,24.0,23.0,33.0,30.0,22.0,26.0,30.0,26.0,20.0,24.0,25.0,23.0,26.0,26.0,20.0,22.0,25.0,26.0,24.0,22.0,21.0,22.0,26.0,25.0,27.0,29.0,30.0,26.0,21.0,21.0,24.0,24.0,24.0,21.0,31.0,22.0,22.0,27.0,21.0,20.0,22.0,28.0,24.0,23.0,28.0,17.0,30.0,21.0,22.0,20.0,33.0,27.0,24.0,23.0,24.0,24.0,29.0,23.0,30.0,24.0,19.0,22.0,25.0,20.0,20.0,17.0,23.0,23.0,21.0,26.0,26.0,21.0,19.0,22.0,26.0,24.0,21.0,21.0,26.0,20.0,23.0,23.0,25.0,28.0,25.0,28.0,20.0,20.0,29.0,21.0,22.0,22.0,31.0,30.0,23.0,26.0,25.0,24.0,24.0,19.0,27.0,22.0,26.0,20.0,32.0,23.0,25.0,23.0,20.0,22.0,21.0,26.0,30.0,22.0,19.0,27.0,19.0,27.0,30.0,35.0,29.0,32.0,29.0,24.0,32.0,31.0,25.0,31.0,22.0,29.0,25.0,24.0,29.0,29.0,30.0,29.0,35.0,31.0,29.0,30.0,29.0,28.0,27.0,35.0,31.0,21.0,28.0,27.0,29.0,25.0,37.0,27.0,31.0,31.0,28.0,25.0,33.0,34.0,28.0,32.0,24.0,26.0,32.0,33.0,32.0,29.0,24.0,23.0,28.0,39.0,27.0,34.0,28.0,32.0,39.0,32.0,37.0,30.0,34.0,28.0,30.0,21.0,29.0,27.0,23.0,27.0,22.0,31.0,21.0,30.0,40.0,32.0,32.0,29.0,22.0,33.0,30.0,34.0,22.0,23.0,33.0,32.0,32.0,26.0,30.0,26.0,27.0,39.0,25.0,35.0,35.0,28.0,24.0,24.0,31.0,31.0,22.0,34.0,32.0,28.0,27.0,25.0,28.0,28.0,28.0,24.0,28.0,32.0,29.0,29.0,34.0,33.0,27.0,34.0,27.0,29.0,30.0,22.0,30.0,27.0,39.0,29.0,34.0,30.0,34.0,27.0,33.0,30.0,24.0,33.0,28.0,35.0,29.0,34.0,31.0,33.0,34.0,27.0,29.0,24.0,19.0,23.0,35.0,34.0,31.0,22.0,27.0,30.0,27.0,35.0,29.0,31.0,25.0,34.0,34.0,31.0,28.0,25.0,31.0,31.0,35.0,25.0,34.0,27.0,27.0,29.0,28.0,23.0,28.0,31.0,28.0,31.0,23.0,33.0,30.0,20.0,32.0,33.0,29.0,23.0,23.0,19.0,25.0,30.0,23.0,27.0,26.0,26.0,27.0,32.0,27.0,28.0,25.0,22.0,37.0,22.0,28.0,31.0,27.0,20.0,31.0,18.0,27.0,29.0,22.0,31.0,25.0,33.0,27.0,24.0,23.0,25.0,25.0,24.0,29.0,23.0,26.0,32.0,29.0,25.0,26.0,27.0,26.0,32.0,29.0,26.0,28.0,28.0,30.0,23.0,31.0,28.0,30.0,26.0,23.0,30.0,28.0,26.0,28.0,24.0,24.0,27.0,36.0,27.0,26.0,24.0,29.0,26.0,29.0,27.0,25.0,23.0,22.0,30.0,23.0,28.0,31.0,30.0,24.0,24.0,30.0,31.0,33.0,22.0,27.0,23.0,32.0,28.0,24.0,35.0,28.0,23.0,27.0,36.0,20.0,28.0,33.0,29.0,28.0,28.0,35.0,27.0,22.0,23.0,23.0,25.0,24.0,31.0,28.0,29.0,31.0,23.0,28.0,28.0,28.0,17.0,28.0,26.0,26.0,34.0,27.0,25.0,29.0,24.0,26.0,27.0,33.0,27.0,26.0,24.0,20.0,31.0,21.0,32.0,29.0,23.0,23.0,22.0,35.0,26.0,24.0,25.0,29.0,32.0,21.0,28.0,32.0,27.0,29.0,22.0,27.0,34.0,30.0,26.0,29.0,25.0,29.0,23.0,19.0,24.0,29.0,30.0,24.0,24.0,32.0,27.0,29.0,26.0,31.0,32.0,24.0,31.0,24.0,21.0,23.0,23.0,26.0,31.0,31.0,27.0,27.0,24.0,27.0,27.0,24.0,33.0,22.0,30.0,23.0,28.0,36.0,34.0,25.0,24.0,20.0,33.0,22.0,23.0,29.0,23.0,22.0,30.0,23.0,26.0,29.0,21.0,26.0,25.0,28.0,32.0,33.0,28.0,24.0,27.0,32.0,23.0,25.0,25.0,28.0,36.0,30.0,28.0,26.0,31.0,24.0,27.0,31.0,30.0,34.0,25.0,27.0,27.0,29.0,19.0,31.0,24.0,26.0,20.0,27.0,30.0,28.0,21.0,24.0,24.0,29.0,28.0,26.0,26.0,30.0,30.0,32.0,28.0,28.0,27.0,25.0,22.0,26.0,31.0,36.0,22.0,28.0,32.0,30.0,26.0,29.0,26.0,35.0,23.0,27.0,29.0,25.0,22.0,27.0,32.0,32.0,23.0,28.0,23.0,29.0,23.0,29.0,23.0,21.0,28.0,24.0,29.0,22.0,33.0,26.0,28.0,25.0,25.0,24.0,27.0,22.0,28.0,22.0,24.0,24.0,22.0,24.0,24.0,25.0,28.0,25.0,19.0,24.0,22.0,23.0,26.0,30.0,27.0,23.0,33.0,23.0,27.0,27.0,34.0,29.0,23.0,22.0,28.0,20.0,30.0,24.0,30.0,24.0,27.0,27.0,27.0,24.0,25.0,29.0,23.0,26.0,29.0,25.0,27.0,26.0,23.0,25.0,25.0,25.0,26.0,28.0,23.0,22.0,24.0,26.0,26.0,27.0,32.0,25.0,27.0,21.0,21.0,26.0,25.0,22.0,27.0,28.0,23.0,18.0,24.0,23.0,20.0,24.0,21.0,21.0,21.0,25.0,24.0,33.0,22.0,20.0,29.0,26.0,28.0,24.0,26.0,19.0,24.0,30.0,28.0,25.0,28.0,26.0,22.0,29.0,20.0,35.0,22.0,24.0,26.0,29.0,29.0,30.0,22.0,24.0,23.0,24.0,29.0,27.0,28.0,28.0,27.0,28.0,25.0,23.0,34.0,22.0,28.0,25.0,30.0,27.0,19.0,28.0,27.0,33.0,32.0,30.0,27.0,23.0,30.0,26.0,32.0,30.0,17.0,23.0,22.0,32.0,25.0,21.0,20.0,25.0,19.0,33.0,29.0,30.0,28.0,26.0,30.0,24.0,20.0,27.0,28.0,23.0,25.0,22.0,27.0,27.0,25.0,25.0,37.0,23.0,33.0,23.0,30.0,28.0,34.0,27.0,22.0,30.0,34.0,22.0,29.0,23.0,27.0,21.0,24.0,21.0,25.0,26.0,25.0,23.0,26.0,25.0,28.0,27.0,29.0,34.0,19.0,26.0,28.0,21.0,26.0,28.0,25.0,27.0,26.0,26.0,31.0,26.0,28.0,22.0,30.0,24.0,24.0,27.0,22.0,33.0,22.0,27.0,28.0,26.0,19.0,20.0,24.0,22.0,30.0,25.0,28.0,26.0,30.0,27.0,26.0,22.0,23.0,36.0,20.0,36.0,30.0,36.0,29.0,22.0,25.0,30.0,20.0,21.0,22.0,29.0,28.0,28.0,25.0,24.0,26.0,26.0,27.0,22.0,22.0,20.0,26.0,28.0,30.0,30.0,24.0,32.0,31.0,38.0,26.0,21.0,24.0,19.0,28.0,25.0,27.0,27.0,21.0,25.0,28.0,30.0,36.0,24.0,22.0,30.0,25.0,26.0,23.0,29.0,26.0,23.0,24.0,25.0,18.0,26.0,24.0,25.0,23.0,29.0,28.0,21.0,28.0,26.0,23.0,19.0,23.0,22.0,21.0,26.0,28.0,22.0,26.0,32.0,23.0,25.0,25.0,23.0,32.0,26.0,26.0,25.0,24.0,24.0,25.0,32.0,21.0,23.0,26.0,24.0,32.0,21.0,23.0,29.0,27.0,36.0,28.0,26.0,24.0,19.0,26.0,22.0,19.0,27.0,27.0,26.0,34.0,25.0,25.0,25.0,28.0,21.0,27.0,25.0,30.0,27.0,23.0,25.0,23.0,24.0,22.0,27.0,26.0,20.0,28.0,24.0,27.0,26.0,32.0,27.0,23.0,36.0,26.0,24.0,30.0,25.0,21.0,21.0,19.0,25.0,26.0,25.0,28.0,23.0,21.0,30.0,32.0,29.0,32.0,28.0,22.0,30.0,24.0,19.0,23.0,33.0,26.0,30.0,23.0,27.0,27.0,26.0,30.0,27.0,27.0,24.0,25.0,21.0,29.0,23.0,35.0,27.0,20.0,28.0,28.0,22.0,19.0,31.0,26.0,25.0,27.0,20.0,18.0,26.0,24.0,28.0,27.0,21.0,21.0,28.0,28.0,25.0,27.0,27.0,31.0,21.0,28.0,24.0,28.0,25.0,22.0,23.0,33.0,20.0,23.0,29.0,26.0,31.0,22.0,38.0,25.0,19.0,33.0,19.0,28.0,21.0,22.0,36.0,27.0,25.0,25.0,35.0,31.0,33.0,29.0,28.0,21.0,21.0,31.0,31.0,19.0,27.0,26.0,28.0,34.0,32.0,24.0,27.0,23.0,23.0,33.0,23.0,29.0,25.0,32.0,29.0,32.0,25.0,24.0,26.0,25.0,24.0,27.0,24.0,22.0,21.0,28.0,26.0,26.0,35.0,19.0,23.0,22.0,23.0,32.0,26.0,29.0,29.0,21.0,27.0,22.0,20.0,25.0,22.0,24.0,27.0,21.0,27.0,28.0,26.0,24.0,22.0,31.0,28.0,34.0,22.0,28.0,29.0,25.0,21.0,22.0,32.0,22.0,22.0,34.0,18.0,26.0,20.0,28.0,22.0,21.0,21.0,20.0,38.0,23.0,22.0,23.0,28.0,22.0,23.0,34.0,37.0,19.0,20.0,31.0,31.0,35.0,23.0,31.0,22.0,26.0,31.0,21.0,23.0,27.0,18.0,22.0,29.0,27.0,35.0,24.0,31.0,27.0,29.0,29.0,35.0,32.0,34.0,23.0,26.0,22.0,24.0,24.0,22.0,26.0,27.0,25.0,20.0,30.0,24.0,28.0,26.0,27.0,28.0,29.0,27.0,24.0,23.0,26.0,26.0,24.0,23.0,21.0,30.0,27.0,25.0,30.0,28.0,24.0,26.0,33.0,24.0,29.0,27.0,27.0,29.0,26.0,21.0,24.0,23.0,25.0,30.0,29.0,25.0,32.0,24.0,25.0,28.0,23.0,27.0,23.0,23.0,30.0,22.0,25.0,28.0,27.0,20.0,29.0,26.0,22.0,34.0,21.0,25.0,26.0,29.0,23.0,34.0,28.0,27.0,21.0,25.0,21.0,30.0,30.0,31.0,27.0,36.0,31.0,23.0,27.0,22.0,23.0,27.0,31.0,31.0,25.0,33.0,23.0,22.0,36.0,27.0,22.0,25.0,24.0,31.0,27.0,17.0,34.0,29.0,32.0,26.0,22.0,29.0,28.0,29.0,28.0,21.0,31.0,25.0,24.0,25.0,21.0,28.0,28.0,18.0,24.0,26.0,26.0,24.0,22.0,28.0,21.0,34.0,30.0,34.0,24.0,39.0,19.0,32.0,24.0,23.0,24.0,27.0,28.0,25.0,20.0,28.0,24.0,25.0,28.0,34.0,32.0,29.0,27.0,28.0,22.0,33.0,26.0,21.0,21.0,32.0,29.0,25.0,24.0,30.0,29.0,26.0,28.0,26.0,28.0,29.0,26.0,23.0,27.0,29.0,24.0,18.0,26.0,27.0,21.0,23.0,22.0,36.0,27.0,29.0,24.0,27.0,23.0,23.0,20.0,21.0,27.0,24.0,24.0,26.0,21.0,28.0,32.0,21.0,41.71178822269718,34.0,25.0,22.0,23.0,26.0,26.0,26.0,22.0,20.0,27.0,24.0,28.0,23.0,23.0,17.0,21.0,27.0,20.0,19.0,28.0,26.0,19.0,28.0,23.0,26.0,17.0,32.0,21.0,41.0,19.0,21.0,23.0,24.0,26.0,41.71178822269718,30.0,24.0,24.0,41.71178822269718,20.0,39.0,28.0,29.0,32.0,17.0,21.0,31.0,23.0],\"xaxis\":\"x\",\"yaxis\":\"y\",\"type\":\"histogram\"}],                        {\"template\":{\"data\":{\"bar\":[{\"error_x\":{\"color\":\"#2a3f5f\"},\"error_y\":{\"color\":\"#2a3f5f\"},\"marker\":{\"line\":{\"color\":\"#E5ECF6\",\"width\":0.5},\"pattern\":{\"fillmode\":\"overlay\",\"size\":10,\"solidity\":0.2}},\"type\":\"bar\"}],\"barpolar\":[{\"marker\":{\"line\":{\"color\":\"#E5ECF6\",\"width\":0.5},\"pattern\":{\"fillmode\":\"overlay\",\"size\":10,\"solidity\":0.2}},\"type\":\"barpolar\"}],\"carpet\":[{\"aaxis\":{\"endlinecolor\":\"#2a3f5f\",\"gridcolor\":\"white\",\"linecolor\":\"white\",\"minorgridcolor\":\"white\",\"startlinecolor\":\"#2a3f5f\"},\"baxis\":{\"endlinecolor\":\"#2a3f5f\",\"gridcolor\":\"white\",\"linecolor\":\"white\",\"minorgridcolor\":\"white\",\"startlinecolor\":\"#2a3f5f\"},\"type\":\"carpet\"}],\"choropleth\":[{\"colorbar\":{\"outlinewidth\":0,\"ticks\":\"\"},\"type\":\"choropleth\"}],\"contour\":[{\"colorbar\":{\"outlinewidth\":0,\"ticks\":\"\"},\"colorscale\":[[0.0,\"#0d0887\"],[0.1111111111111111,\"#46039f\"],[0.2222222222222222,\"#7201a8\"],[0.3333333333333333,\"#9c179e\"],[0.4444444444444444,\"#bd3786\"],[0.5555555555555556,\"#d8576b\"],[0.6666666666666666,\"#ed7953\"],[0.7777777777777778,\"#fb9f3a\"],[0.8888888888888888,\"#fdca26\"],[1.0,\"#f0f921\"]],\"type\":\"contour\"}],\"contourcarpet\":[{\"colorbar\":{\"outlinewidth\":0,\"ticks\":\"\"},\"type\":\"contourcarpet\"}],\"heatmap\":[{\"colorbar\":{\"outlinewidth\":0,\"ticks\":\"\"},\"colorscale\":[[0.0,\"#0d0887\"],[0.1111111111111111,\"#46039f\"],[0.2222222222222222,\"#7201a8\"],[0.3333333333333333,\"#9c179e\"],[0.4444444444444444,\"#bd3786\"],[0.5555555555555556,\"#d8576b\"],[0.6666666666666666,\"#ed7953\"],[0.7777777777777778,\"#fb9f3a\"],[0.8888888888888888,\"#fdca26\"],[1.0,\"#f0f921\"]],\"type\":\"heatmap\"}],\"heatmapgl\":[{\"colorbar\":{\"outlinewidth\":0,\"ticks\":\"\"},\"colorscale\":[[0.0,\"#0d0887\"],[0.1111111111111111,\"#46039f\"],[0.2222222222222222,\"#7201a8\"],[0.3333333333333333,\"#9c179e\"],[0.4444444444444444,\"#bd3786\"],[0.5555555555555556,\"#d8576b\"],[0.6666666666666666,\"#ed7953\"],[0.7777777777777778,\"#fb9f3a\"],[0.8888888888888888,\"#fdca26\"],[1.0,\"#f0f921\"]],\"type\":\"heatmapgl\"}],\"histogram\":[{\"marker\":{\"pattern\":{\"fillmode\":\"overlay\",\"size\":10,\"solidity\":0.2}},\"type\":\"histogram\"}],\"histogram2d\":[{\"colorbar\":{\"outlinewidth\":0,\"ticks\":\"\"},\"colorscale\":[[0.0,\"#0d0887\"],[0.1111111111111111,\"#46039f\"],[0.2222222222222222,\"#7201a8\"],[0.3333333333333333,\"#9c179e\"],[0.4444444444444444,\"#bd3786\"],[0.5555555555555556,\"#d8576b\"],[0.6666666666666666,\"#ed7953\"],[0.7777777777777778,\"#fb9f3a\"],[0.8888888888888888,\"#fdca26\"],[1.0,\"#f0f921\"]],\"type\":\"histogram2d\"}],\"histogram2dcontour\":[{\"colorbar\":{\"outlinewidth\":0,\"ticks\":\"\"},\"colorscale\":[[0.0,\"#0d0887\"],[0.1111111111111111,\"#46039f\"],[0.2222222222222222,\"#7201a8\"],[0.3333333333333333,\"#9c179e\"],[0.4444444444444444,\"#bd3786\"],[0.5555555555555556,\"#d8576b\"],[0.6666666666666666,\"#ed7953\"],[0.7777777777777778,\"#fb9f3a\"],[0.8888888888888888,\"#fdca26\"],[1.0,\"#f0f921\"]],\"type\":\"histogram2dcontour\"}],\"mesh3d\":[{\"colorbar\":{\"outlinewidth\":0,\"ticks\":\"\"},\"type\":\"mesh3d\"}],\"parcoords\":[{\"line\":{\"colorbar\":{\"outlinewidth\":0,\"ticks\":\"\"}},\"type\":\"parcoords\"}],\"pie\":[{\"automargin\":true,\"type\":\"pie\"}],\"scatter\":[{\"marker\":{\"colorbar\":{\"outlinewidth\":0,\"ticks\":\"\"}},\"type\":\"scatter\"}],\"scatter3d\":[{\"line\":{\"colorbar\":{\"outlinewidth\":0,\"ticks\":\"\"}},\"marker\":{\"colorbar\":{\"outlinewidth\":0,\"ticks\":\"\"}},\"type\":\"scatter3d\"}],\"scattercarpet\":[{\"marker\":{\"colorbar\":{\"outlinewidth\":0,\"ticks\":\"\"}},\"type\":\"scattercarpet\"}],\"scattergeo\":[{\"marker\":{\"colorbar\":{\"outlinewidth\":0,\"ticks\":\"\"}},\"type\":\"scattergeo\"}],\"scattergl\":[{\"marker\":{\"colorbar\":{\"outlinewidth\":0,\"ticks\":\"\"}},\"type\":\"scattergl\"}],\"scattermapbox\":[{\"marker\":{\"colorbar\":{\"outlinewidth\":0,\"ticks\":\"\"}},\"type\":\"scattermapbox\"}],\"scatterpolar\":[{\"marker\":{\"colorbar\":{\"outlinewidth\":0,\"ticks\":\"\"}},\"type\":\"scatterpolar\"}],\"scatterpolargl\":[{\"marker\":{\"colorbar\":{\"outlinewidth\":0,\"ticks\":\"\"}},\"type\":\"scatterpolargl\"}],\"scatterternary\":[{\"marker\":{\"colorbar\":{\"outlinewidth\":0,\"ticks\":\"\"}},\"type\":\"scatterternary\"}],\"surface\":[{\"colorbar\":{\"outlinewidth\":0,\"ticks\":\"\"},\"colorscale\":[[0.0,\"#0d0887\"],[0.1111111111111111,\"#46039f\"],[0.2222222222222222,\"#7201a8\"],[0.3333333333333333,\"#9c179e\"],[0.4444444444444444,\"#bd3786\"],[0.5555555555555556,\"#d8576b\"],[0.6666666666666666,\"#ed7953\"],[0.7777777777777778,\"#fb9f3a\"],[0.8888888888888888,\"#fdca26\"],[1.0,\"#f0f921\"]],\"type\":\"surface\"}],\"table\":[{\"cells\":{\"fill\":{\"color\":\"#EBF0F8\"},\"line\":{\"color\":\"white\"}},\"header\":{\"fill\":{\"color\":\"#C8D4E3\"},\"line\":{\"color\":\"white\"}},\"type\":\"table\"}]},\"layout\":{\"annotationdefaults\":{\"arrowcolor\":\"#2a3f5f\",\"arrowhead\":0,\"arrowwidth\":1},\"autotypenumbers\":\"strict\",\"coloraxis\":{\"colorbar\":{\"outlinewidth\":0,\"ticks\":\"\"}},\"colorscale\":{\"diverging\":[[0,\"#8e0152\"],[0.1,\"#c51b7d\"],[0.2,\"#de77ae\"],[0.3,\"#f1b6da\"],[0.4,\"#fde0ef\"],[0.5,\"#f7f7f7\"],[0.6,\"#e6f5d0\"],[0.7,\"#b8e186\"],[0.8,\"#7fbc41\"],[0.9,\"#4d9221\"],[1,\"#276419\"]],\"sequential\":[[0.0,\"#0d0887\"],[0.1111111111111111,\"#46039f\"],[0.2222222222222222,\"#7201a8\"],[0.3333333333333333,\"#9c179e\"],[0.4444444444444444,\"#bd3786\"],[0.5555555555555556,\"#d8576b\"],[0.6666666666666666,\"#ed7953\"],[0.7777777777777778,\"#fb9f3a\"],[0.8888888888888888,\"#fdca26\"],[1.0,\"#f0f921\"]],\"sequentialminus\":[[0.0,\"#0d0887\"],[0.1111111111111111,\"#46039f\"],[0.2222222222222222,\"#7201a8\"],[0.3333333333333333,\"#9c179e\"],[0.4444444444444444,\"#bd3786\"],[0.5555555555555556,\"#d8576b\"],[0.6666666666666666,\"#ed7953\"],[0.7777777777777778,\"#fb9f3a\"],[0.8888888888888888,\"#fdca26\"],[1.0,\"#f0f921\"]]},\"colorway\":[\"#636efa\",\"#EF553B\",\"#00cc96\",\"#ab63fa\",\"#FFA15A\",\"#19d3f3\",\"#FF6692\",\"#B6E880\",\"#FF97FF\",\"#FECB52\"],\"font\":{\"color\":\"#2a3f5f\"},\"geo\":{\"bgcolor\":\"white\",\"lakecolor\":\"white\",\"landcolor\":\"#E5ECF6\",\"showlakes\":true,\"showland\":true,\"subunitcolor\":\"white\"},\"hoverlabel\":{\"align\":\"left\"},\"hovermode\":\"closest\",\"mapbox\":{\"style\":\"light\"},\"paper_bgcolor\":\"white\",\"plot_bgcolor\":\"#E5ECF6\",\"polar\":{\"angularaxis\":{\"gridcolor\":\"white\",\"linecolor\":\"white\",\"ticks\":\"\"},\"bgcolor\":\"#E5ECF6\",\"radialaxis\":{\"gridcolor\":\"white\",\"linecolor\":\"white\",\"ticks\":\"\"}},\"scene\":{\"xaxis\":{\"backgroundcolor\":\"#E5ECF6\",\"gridcolor\":\"white\",\"gridwidth\":2,\"linecolor\":\"white\",\"showbackground\":true,\"ticks\":\"\",\"zerolinecolor\":\"white\"},\"yaxis\":{\"backgroundcolor\":\"#E5ECF6\",\"gridcolor\":\"white\",\"gridwidth\":2,\"linecolor\":\"white\",\"showbackground\":true,\"ticks\":\"\",\"zerolinecolor\":\"white\"},\"zaxis\":{\"backgroundcolor\":\"#E5ECF6\",\"gridcolor\":\"white\",\"gridwidth\":2,\"linecolor\":\"white\",\"showbackground\":true,\"ticks\":\"\",\"zerolinecolor\":\"white\"}},\"shapedefaults\":{\"line\":{\"color\":\"#2a3f5f\"}},\"ternary\":{\"aaxis\":{\"gridcolor\":\"white\",\"linecolor\":\"white\",\"ticks\":\"\"},\"baxis\":{\"gridcolor\":\"white\",\"linecolor\":\"white\",\"ticks\":\"\"},\"bgcolor\":\"#E5ECF6\",\"caxis\":{\"gridcolor\":\"white\",\"linecolor\":\"white\",\"ticks\":\"\"}},\"title\":{\"x\":0.05},\"xaxis\":{\"automargin\":true,\"gridcolor\":\"white\",\"linecolor\":\"white\",\"ticks\":\"\",\"title\":{\"standoff\":15},\"zerolinecolor\":\"white\",\"zerolinewidth\":2},\"yaxis\":{\"automargin\":true,\"gridcolor\":\"white\",\"linecolor\":\"white\",\"ticks\":\"\",\"title\":{\"standoff\":15},\"zerolinecolor\":\"white\",\"zerolinewidth\":2}}},\"xaxis\":{\"anchor\":\"y\",\"domain\":[0.0,1.0],\"title\":{\"text\":\"age\"}},\"yaxis\":{\"anchor\":\"x\",\"domain\":[0.0,1.0],\"title\":{\"text\":\"count\"}},\"legend\":{\"tracegroupgap\":0},\"margin\":{\"t\":60},\"barmode\":\"relative\"},                        {\"responsive\": true}                    ).then(function(){\n",
              "                            \n",
              "var gd = document.getElementById('edf9851e-d380-4dfc-95f5-a85c8e43c80f');\n",
              "var x = new MutationObserver(function (mutations, observer) {{\n",
              "        var display = window.getComputedStyle(gd).display;\n",
              "        if (!display || display === 'none') {{\n",
              "            console.log([gd, 'removed!']);\n",
              "            Plotly.purge(gd);\n",
              "            observer.disconnect();\n",
              "        }}\n",
              "}});\n",
              "\n",
              "// Listen for the removal of the full notebook cells\n",
              "var notebookContainer = gd.closest('#notebook-container');\n",
              "if (notebookContainer) {{\n",
              "    x.observe(notebookContainer, {childList: true});\n",
              "}}\n",
              "\n",
              "// Listen for the clearing of the current output cell\n",
              "var outputEl = gd.closest('.output');\n",
              "if (outputEl) {{\n",
              "    x.observe(outputEl, {childList: true});\n",
              "}}\n",
              "\n",
              "                        })                };                            </script>        </div>\n",
              "</body>\n",
              "</html>"
            ]
          },
          "metadata": {}
        }
      ]
    },
    {
      "cell_type": "code",
      "source": [
        "sns.displot(data=df,x='age',kde=True)"
      ],
      "metadata": {
        "colab": {
          "base_uri": "https://localhost:8080/",
          "height": 386
        },
        "id": "r2cY9P5K9gCB",
        "outputId": "94471ab4-3cd9-4bfb-e54d-4e1cefdf295f"
      },
      "execution_count": null,
      "outputs": [
        {
          "output_type": "execute_result",
          "data": {
            "text/plain": [
              "<seaborn.axisgrid.FacetGrid at 0x7f479feedd90>"
            ]
          },
          "metadata": {},
          "execution_count": 251
        },
        {
          "output_type": "display_data",
          "data": {
            "text/plain": [
              "<Figure size 360x360 with 1 Axes>"
            ],
            "image/png": "[encoded data removed]"
          },
          "metadata": {
            "needs_background": "light"
          }
        }
      ]
    },
    {
      "cell_type": "markdown",
      "source": [
        "## **Observations**  :- **Now, we can see that the age column data is Normally distributed.**"
      ],
      "metadata": {
        "id": "Gs7IbE4-9iFV"
      }
    },
    {
      "cell_type": "markdown",
      "source": [
        "## 7)\tPlease perform appropriate numerical measures on each column and report them accordingly.\n"
      ],
      "metadata": {
        "id": "-9FEuaZR6hKd"
      }
    },
    {
      "cell_type": "code",
      "source": [
        "round(df.describe())"
      ],
      "metadata": {
        "colab": {
          "base_uri": "https://localhost:8080/",
          "height": 300
        },
        "id": "nME1cuJj68va",
        "outputId": "b8570f17-192b-4b9e-ab7d-d312bc11459e"
      },
      "execution_count": 175,
      "outputs": [
        {
          "output_type": "execute_result",
          "data": {
            "text/plain": [
              "          age    year  gold_medal  silver_medal  bronze_medal  total_medal\n",
              "count  8613.0  8618.0      8618.0        8618.0        8618.0       8618.0\n",
              "mean     26.0  2006.0         0.0           0.0           0.0          1.0\n",
              "std       5.0     4.0         1.0           1.0           1.0          0.0\n",
              "min      15.0  2000.0         0.0           0.0           0.0          1.0\n",
              "25%      23.0  2002.0         0.0           0.0           0.0          1.0\n",
              "50%      26.0  2006.0         0.0           0.0           0.0          1.0\n",
              "75%      29.0  2010.0         1.0           1.0           1.0          1.0\n",
              "max      61.0  2012.0         8.0           3.0           3.0          8.0"
            ],
            "text/html": [
              "\n",
              "  <div id=\"df-f4403373-ee25-4804-8153-a96083d849f3\">\n",
              "    <div class=\"colab-df-container\">\n",
              "      <div>\n",
              "<style scoped>\n",
              "    .dataframe tbody tr th:only-of-type {\n",
              "        vertical-align: middle;\n",
              "    }\n",
              "\n",
              "    .dataframe tbody tr th {\n",
              "        vertical-align: top;\n",
              "    }\n",
              "\n",
              "    .dataframe thead th {\n",
              "        text-align: right;\n",
              "    }\n",
              "</style>\n",
              "<table border=\"1\" class=\"dataframe\">\n",
              "  <thead>\n",
              "    <tr style=\"text-align: right;\">\n",
              "      <th></th>\n",
              "      <th>age</th>\n",
              "      <th>year</th>\n",
              "      <th>gold_medal</th>\n",
              "      <th>silver_medal</th>\n",
              "      <th>bronze_medal</th>\n",
              "      <th>total_medal</th>\n",
              "    </tr>\n",
              "  </thead>\n",
              "  <tbody>\n",
              "    <tr>\n",
              "      <th>count</th>\n",
              "      <td>8613.0</td>\n",
              "      <td>8618.0</td>\n",
              "      <td>8618.0</td>\n",
              "      <td>8618.0</td>\n",
              "      <td>8618.0</td>\n",
              "      <td>8618.0</td>\n",
              "    </tr>\n",
              "    <tr>\n",
              "      <th>mean</th>\n",
              "      <td>26.0</td>\n",
              "      <td>2006.0</td>\n",
              "      <td>0.0</td>\n",
              "      <td>0.0</td>\n",
              "      <td>0.0</td>\n",
              "      <td>1.0</td>\n",
              "    </tr>\n",
              "    <tr>\n",
              "      <th>std</th>\n",
              "      <td>5.0</td>\n",
              "      <td>4.0</td>\n",
              "      <td>1.0</td>\n",
              "      <td>1.0</td>\n",
              "      <td>1.0</td>\n",
              "      <td>0.0</td>\n",
              "    </tr>\n",
              "    <tr>\n",
              "      <th>min</th>\n",
              "      <td>15.0</td>\n",
              "      <td>2000.0</td>\n",
              "      <td>0.0</td>\n",
              "      <td>0.0</td>\n",
              "      <td>0.0</td>\n",
              "      <td>1.0</td>\n",
              "    </tr>\n",
              "    <tr>\n",
              "      <th>25%</th>\n",
              "      <td>23.0</td>\n",
              "      <td>2002.0</td>\n",
              "      <td>0.0</td>\n",
              "      <td>0.0</td>\n",
              "      <td>0.0</td>\n",
              "      <td>1.0</td>\n",
              "    </tr>\n",
              "    <tr>\n",
              "      <th>50%</th>\n",
              "      <td>26.0</td>\n",
              "      <td>2006.0</td>\n",
              "      <td>0.0</td>\n",
              "      <td>0.0</td>\n",
              "      <td>0.0</td>\n",
              "      <td>1.0</td>\n",
              "    </tr>\n",
              "    <tr>\n",
              "      <th>75%</th>\n",
              "      <td>29.0</td>\n",
              "      <td>2010.0</td>\n",
              "      <td>1.0</td>\n",
              "      <td>1.0</td>\n",
              "      <td>1.0</td>\n",
              "      <td>1.0</td>\n",
              "    </tr>\n",
              "    <tr>\n",
              "      <th>max</th>\n",
              "      <td>61.0</td>\n",
              "      <td>2012.0</td>\n",
              "      <td>8.0</td>\n",
              "      <td>3.0</td>\n",
              "      <td>3.0</td>\n",
              "      <td>8.0</td>\n",
              "    </tr>\n",
              "  </tbody>\n",
              "</table>\n",
              "</div>\n",
              "      <button class=\"colab-df-convert\" onclick=\"convertToInteractive('df-f4403373-ee25-4804-8153-a96083d849f3')\"\n",
              "              title=\"Convert this dataframe to an interactive table.\"\n",
              "              style=\"display:none;\">\n",
              "        \n",
              "  <svg xmlns=\"http://www.w3.org/2000/svg\" height=\"24px\"viewBox=\"0 0 24 24\"\n",
              "       width=\"24px\">\n",
              "    <path d=\"M0 0h24v24H0V0z\" fill=\"none\"/>\n",
              "    <path d=\"M18.56 5.44l.94 2.06.94-2.06 2.06-.94-2.06-.94-.94-2.06-.94 2.06-2.06.94zm-11 1L8.5 8.5l.94-2.06 2.06-.94-2.06-.94L8.5 2.5l-.94 2.06-2.06.94zm10 10l.94 2.06.94-2.06 2.06-.94-2.06-.94-.94-2.06-.94 2.06-2.06.94z\"/><path d=\"M17.41 7.96l-1.37-1.37c-.4-.4-.92-.59-1.43-.59-.52 0-1.04.2-1.43.59L10.3 9.45l-7.72 7.72c-.78.78-.78 2.05 0 2.83L4 21.41c.39.39.9.59 1.41.59.51 0 1.02-.2 1.41-.59l7.78-7.78 2.81-2.81c.8-.78.8-2.07 0-2.86zM5.41 20L4 18.59l7.72-7.72 1.47 1.35L5.41 20z\"/>\n",
              "  </svg>\n",
              "      </button>\n",
              "      \n",
              "  <style>\n",
              "    .colab-df-container {\n",
              "      display:flex;\n",
              "      flex-wrap:wrap;\n",
              "      gap: 12px;\n",
              "    }\n",
              "\n",
              "    .colab-df-convert {\n",
              "      background-color: #E8F0FE;\n",
              "      border: none;\n",
              "      border-radius: 50%;\n",
              "      cursor: pointer;\n",
              "      display: none;\n",
              "      fill: #1967D2;\n",
              "      height: 32px;\n",
              "      padding: 0 0 0 0;\n",
              "      width: 32px;\n",
              "    }\n",
              "\n",
              "    .colab-df-convert:hover {\n",
              "      background-color: #E2EBFA;\n",
              "      box-shadow: 0px 1px 2px rgba(60, 64, 67, 0.3), 0px 1px 3px 1px rgba(60, 64, 67, 0.15);\n",
              "      fill: #174EA6;\n",
              "    }\n",
              "\n",
              "    [theme=dark] .colab-df-convert {\n",
              "      background-color: #3B4455;\n",
              "      fill: #D2E3FC;\n",
              "    }\n",
              "\n",
              "    [theme=dark] .colab-df-convert:hover {\n",
              "      background-color: #434B5C;\n",
              "      box-shadow: 0px 1px 3px 1px rgba(0, 0, 0, 0.15);\n",
              "      filter: drop-shadow(0px 1px 2px rgba(0, 0, 0, 0.3));\n",
              "      fill: #FFFFFF;\n",
              "    }\n",
              "  </style>\n",
              "\n",
              "      <script>\n",
              "        const buttonEl =\n",
              "          document.querySelector('#df-f4403373-ee25-4804-8153-a96083d849f3 button.colab-df-convert');\n",
              "        buttonEl.style.display =\n",
              "          google.colab.kernel.accessAllowed ? 'block' : 'none';\n",
              "\n",
              "        async function convertToInteractive(key) {\n",
              "          const element = document.querySelector('#df-f4403373-ee25-4804-8153-a96083d849f3');\n",
              "          const dataTable =\n",
              "            await google.colab.kernel.invokeFunction('convertToInteractive',\n",
              "                                                     [key], {});\n",
              "          if (!dataTable) return;\n",
              "\n",
              "          const docLinkHtml = 'Like what you see? Visit the ' +\n",
              "            '<a target=\"_blank\" href=https://colab.research.google.com/notebooks/data_table.ipynb>data table notebook</a>'\n",
              "            + ' to learn more about interactive tables.';\n",
              "          element.innerHTML = '';\n",
              "          dataTable['output_type'] = 'display_data';\n",
              "          await google.colab.output.renderOutput(dataTable, element);\n",
              "          const docLink = document.createElement('div');\n",
              "          docLink.innerHTML = docLinkHtml;\n",
              "          element.appendChild(docLink);\n",
              "        }\n",
              "      </script>\n",
              "    </div>\n",
              "  </div>\n",
              "  "
            ]
          },
          "metadata": {},
          "execution_count": 175
        }
      ]
    },
    {
      "cell_type": "markdown",
      "source": [
        "**Observations :-**  \n",
        "\n",
        "By using \"describe\" function we can easily check the data distribution of the numerical columns of a data set.\n",
        "\n",
        "Numerical measures are mean, standard deviation, Minimum and Maximum values, Percentiles where the most data is recorded among the given data set.\n",
        "\n",
        "1. According to age column, we have equal percentage of athelets according to age's.\n",
        "\n",
        "2. We can see the data given on different years and olympic seasons are from 2000 to 2012.\n",
        "\n",
        "3. Most likely more no.of Athelets won max no.of gold medals that is 8.\n",
        "Where Silver and Bronze only 3 medals.\n"
      ],
      "metadata": {
        "id": "l4s0u5i8mU74"
      }
    },
    {
      "cell_type": "code",
      "source": [
        "round(df.describe(include='all'))"
      ],
      "metadata": {
        "colab": {
          "base_uri": "https://localhost:8080/",
          "height": 394
        },
        "id": "LnhnunIFptt9",
        "outputId": "66a0e7b3-d128-41aa-a1b2-e5cb401f3681"
      },
      "execution_count": 176,
      "outputs": [
        {
          "output_type": "execute_result",
          "data": {
            "text/plain": [
              "              name     age        country    year  Date_Given     sports  \\\n",
              "count         8613  8613.0           8618  8618.0        8618       8618   \n",
              "unique        6955     NaN            110     NaN           7         49   \n",
              "top     Matt Wells     NaN  United States     NaN  2008-08-24  Athletics   \n",
              "freq             4     NaN           1109     NaN        1872        687   \n",
              "mean           NaN    26.0            NaN  2006.0         NaN        NaN   \n",
              "std            NaN     5.0            NaN     4.0         NaN        NaN   \n",
              "min            NaN    15.0            NaN  2000.0         NaN        NaN   \n",
              "25%            NaN    23.0            NaN  2002.0         NaN        NaN   \n",
              "50%            NaN    26.0            NaN  2006.0         NaN        NaN   \n",
              "75%            NaN    29.0            NaN  2010.0         NaN        NaN   \n",
              "max            NaN    61.0            NaN  2012.0         NaN        NaN   \n",
              "\n",
              "        gold_medal  silver_medal  bronze_medal  total_medal  \n",
              "count       8618.0        8618.0        8618.0       8618.0  \n",
              "unique         NaN           NaN           NaN          NaN  \n",
              "top            NaN           NaN           NaN          NaN  \n",
              "freq           NaN           NaN           NaN          NaN  \n",
              "mean           0.0           0.0           0.0          1.0  \n",
              "std            1.0           1.0           1.0          0.0  \n",
              "min            0.0           0.0           0.0          1.0  \n",
              "25%            0.0           0.0           0.0          1.0  \n",
              "50%            0.0           0.0           0.0          1.0  \n",
              "75%            1.0           1.0           1.0          1.0  \n",
              "max            8.0           3.0           3.0          8.0  "
            ],
            "text/html": [
              "\n",
              "  <div id=\"df-7a80511a-1f0d-43ce-9c6f-4aad6b9141af\">\n",
              "    <div class=\"colab-df-container\">\n",
              "      <div>\n",
              "<style scoped>\n",
              "    .dataframe tbody tr th:only-of-type {\n",
              "        vertical-align: middle;\n",
              "    }\n",
              "\n",
              "    .dataframe tbody tr th {\n",
              "        vertical-align: top;\n",
              "    }\n",
              "\n",
              "    .dataframe thead th {\n",
              "        text-align: right;\n",
              "    }\n",
              "</style>\n",
              "<table border=\"1\" class=\"dataframe\">\n",
              "  <thead>\n",
              "    <tr style=\"text-align: right;\">\n",
              "      <th></th>\n",
              "      <th>name</th>\n",
              "      <th>age</th>\n",
              "      <th>country</th>\n",
              "      <th>year</th>\n",
              "      <th>Date_Given</th>\n",
              "      <th>sports</th>\n",
              "      <th>gold_medal</th>\n",
              "      <th>silver_medal</th>\n",
              "      <th>bronze_medal</th>\n",
              "      <th>total_medal</th>\n",
              "    </tr>\n",
              "  </thead>\n",
              "  <tbody>\n",
              "    <tr>\n",
              "      <th>count</th>\n",
              "      <td>8613</td>\n",
              "      <td>8613.0</td>\n",
              "      <td>8618</td>\n",
              "      <td>8618.0</td>\n",
              "      <td>8618</td>\n",
              "      <td>8618</td>\n",
              "      <td>8618.0</td>\n",
              "      <td>8618.0</td>\n",
              "      <td>8618.0</td>\n",
              "      <td>8618.0</td>\n",
              "    </tr>\n",
              "    <tr>\n",
              "      <th>unique</th>\n",
              "      <td>6955</td>\n",
              "      <td>NaN</td>\n",
              "      <td>110</td>\n",
              "      <td>NaN</td>\n",
              "      <td>7</td>\n",
              "      <td>49</td>\n",
              "      <td>NaN</td>\n",
              "      <td>NaN</td>\n",
              "      <td>NaN</td>\n",
              "      <td>NaN</td>\n",
              "    </tr>\n",
              "    <tr>\n",
              "      <th>top</th>\n",
              "      <td>Matt Wells</td>\n",
              "      <td>NaN</td>\n",
              "      <td>United States</td>\n",
              "      <td>NaN</td>\n",
              "      <td>2008-08-24</td>\n",
              "      <td>Athletics</td>\n",
              "      <td>NaN</td>\n",
              "      <td>NaN</td>\n",
              "      <td>NaN</td>\n",
              "      <td>NaN</td>\n",
              "    </tr>\n",
              "    <tr>\n",
              "      <th>freq</th>\n",
              "      <td>4</td>\n",
              "      <td>NaN</td>\n",
              "      <td>1109</td>\n",
              "      <td>NaN</td>\n",
              "      <td>1872</td>\n",
              "      <td>687</td>\n",
              "      <td>NaN</td>\n",
              "      <td>NaN</td>\n",
              "      <td>NaN</td>\n",
              "      <td>NaN</td>\n",
              "    </tr>\n",
              "    <tr>\n",
              "      <th>mean</th>\n",
              "      <td>NaN</td>\n",
              "      <td>26.0</td>\n",
              "      <td>NaN</td>\n",
              "      <td>2006.0</td>\n",
              "      <td>NaN</td>\n",
              "      <td>NaN</td>\n",
              "      <td>0.0</td>\n",
              "      <td>0.0</td>\n",
              "      <td>0.0</td>\n",
              "      <td>1.0</td>\n",
              "    </tr>\n",
              "    <tr>\n",
              "      <th>std</th>\n",
              "      <td>NaN</td>\n",
              "      <td>5.0</td>\n",
              "      <td>NaN</td>\n",
              "      <td>4.0</td>\n",
              "      <td>NaN</td>\n",
              "      <td>NaN</td>\n",
              "      <td>1.0</td>\n",
              "      <td>1.0</td>\n",
              "      <td>1.0</td>\n",
              "      <td>0.0</td>\n",
              "    </tr>\n",
              "    <tr>\n",
              "      <th>min</th>\n",
              "      <td>NaN</td>\n",
              "      <td>15.0</td>\n",
              "      <td>NaN</td>\n",
              "      <td>2000.0</td>\n",
              "      <td>NaN</td>\n",
              "      <td>NaN</td>\n",
              "      <td>0.0</td>\n",
              "      <td>0.0</td>\n",
              "      <td>0.0</td>\n",
              "      <td>1.0</td>\n",
              "    </tr>\n",
              "    <tr>\n",
              "      <th>25%</th>\n",
              "      <td>NaN</td>\n",
              "      <td>23.0</td>\n",
              "      <td>NaN</td>\n",
              "      <td>2002.0</td>\n",
              "      <td>NaN</td>\n",
              "      <td>NaN</td>\n",
              "      <td>0.0</td>\n",
              "      <td>0.0</td>\n",
              "      <td>0.0</td>\n",
              "      <td>1.0</td>\n",
              "    </tr>\n",
              "    <tr>\n",
              "      <th>50%</th>\n",
              "      <td>NaN</td>\n",
              "      <td>26.0</td>\n",
              "      <td>NaN</td>\n",
              "      <td>2006.0</td>\n",
              "      <td>NaN</td>\n",
              "      <td>NaN</td>\n",
              "      <td>0.0</td>\n",
              "      <td>0.0</td>\n",
              "      <td>0.0</td>\n",
              "      <td>1.0</td>\n",
              "    </tr>\n",
              "    <tr>\n",
              "      <th>75%</th>\n",
              "      <td>NaN</td>\n",
              "      <td>29.0</td>\n",
              "      <td>NaN</td>\n",
              "      <td>2010.0</td>\n",
              "      <td>NaN</td>\n",
              "      <td>NaN</td>\n",
              "      <td>1.0</td>\n",
              "      <td>1.0</td>\n",
              "      <td>1.0</td>\n",
              "      <td>1.0</td>\n",
              "    </tr>\n",
              "    <tr>\n",
              "      <th>max</th>\n",
              "      <td>NaN</td>\n",
              "      <td>61.0</td>\n",
              "      <td>NaN</td>\n",
              "      <td>2012.0</td>\n",
              "      <td>NaN</td>\n",
              "      <td>NaN</td>\n",
              "      <td>8.0</td>\n",
              "      <td>3.0</td>\n",
              "      <td>3.0</td>\n",
              "      <td>8.0</td>\n",
              "    </tr>\n",
              "  </tbody>\n",
              "</table>\n",
              "</div>\n",
              "      <button class=\"colab-df-convert\" onclick=\"convertToInteractive('df-7a80511a-1f0d-43ce-9c6f-4aad6b9141af')\"\n",
              "              title=\"Convert this dataframe to an interactive table.\"\n",
              "              style=\"display:none;\">\n",
              "        \n",
              "  <svg xmlns=\"http://www.w3.org/2000/svg\" height=\"24px\"viewBox=\"0 0 24 24\"\n",
              "       width=\"24px\">\n",
              "    <path d=\"M0 0h24v24H0V0z\" fill=\"none\"/>\n",
              "    <path d=\"M18.56 5.44l.94 2.06.94-2.06 2.06-.94-2.06-.94-.94-2.06-.94 2.06-2.06.94zm-11 1L8.5 8.5l.94-2.06 2.06-.94-2.06-.94L8.5 2.5l-.94 2.06-2.06.94zm10 10l.94 2.06.94-2.06 2.06-.94-2.06-.94-.94-2.06-.94 2.06-2.06.94z\"/><path d=\"M17.41 7.96l-1.37-1.37c-.4-.4-.92-.59-1.43-.59-.52 0-1.04.2-1.43.59L10.3 9.45l-7.72 7.72c-.78.78-.78 2.05 0 2.83L4 21.41c.39.39.9.59 1.41.59.51 0 1.02-.2 1.41-.59l7.78-7.78 2.81-2.81c.8-.78.8-2.07 0-2.86zM5.41 20L4 18.59l7.72-7.72 1.47 1.35L5.41 20z\"/>\n",
              "  </svg>\n",
              "      </button>\n",
              "      \n",
              "  <style>\n",
              "    .colab-df-container {\n",
              "      display:flex;\n",
              "      flex-wrap:wrap;\n",
              "      gap: 12px;\n",
              "    }\n",
              "\n",
              "    .colab-df-convert {\n",
              "      background-color: #E8F0FE;\n",
              "      border: none;\n",
              "      border-radius: 50%;\n",
              "      cursor: pointer;\n",
              "      display: none;\n",
              "      fill: #1967D2;\n",
              "      height: 32px;\n",
              "      padding: 0 0 0 0;\n",
              "      width: 32px;\n",
              "    }\n",
              "\n",
              "    .colab-df-convert:hover {\n",
              "      background-color: #E2EBFA;\n",
              "      box-shadow: 0px 1px 2px rgba(60, 64, 67, 0.3), 0px 1px 3px 1px rgba(60, 64, 67, 0.15);\n",
              "      fill: #174EA6;\n",
              "    }\n",
              "\n",
              "    [theme=dark] .colab-df-convert {\n",
              "      background-color: #3B4455;\n",
              "      fill: #D2E3FC;\n",
              "    }\n",
              "\n",
              "    [theme=dark] .colab-df-convert:hover {\n",
              "      background-color: #434B5C;\n",
              "      box-shadow: 0px 1px 3px 1px rgba(0, 0, 0, 0.15);\n",
              "      filter: drop-shadow(0px 1px 2px rgba(0, 0, 0, 0.3));\n",
              "      fill: #FFFFFF;\n",
              "    }\n",
              "  </style>\n",
              "\n",
              "      <script>\n",
              "        const buttonEl =\n",
              "          document.querySelector('#df-7a80511a-1f0d-43ce-9c6f-4aad6b9141af button.colab-df-convert');\n",
              "        buttonEl.style.display =\n",
              "          google.colab.kernel.accessAllowed ? 'block' : 'none';\n",
              "\n",
              "        async function convertToInteractive(key) {\n",
              "          const element = document.querySelector('#df-7a80511a-1f0d-43ce-9c6f-4aad6b9141af');\n",
              "          const dataTable =\n",
              "            await google.colab.kernel.invokeFunction('convertToInteractive',\n",
              "                                                     [key], {});\n",
              "          if (!dataTable) return;\n",
              "\n",
              "          const docLinkHtml = 'Like what you see? Visit the ' +\n",
              "            '<a target=\"_blank\" href=https://colab.research.google.com/notebooks/data_table.ipynb>data table notebook</a>'\n",
              "            + ' to learn more about interactive tables.';\n",
              "          element.innerHTML = '';\n",
              "          dataTable['output_type'] = 'display_data';\n",
              "          await google.colab.output.renderOutput(dataTable, element);\n",
              "          const docLink = document.createElement('div');\n",
              "          docLink.innerHTML = docLinkHtml;\n",
              "          element.appendChild(docLink);\n",
              "        }\n",
              "      </script>\n",
              "    </div>\n",
              "  </div>\n",
              "  "
            ]
          },
          "metadata": {},
          "execution_count": 176
        }
      ]
    },
    {
      "cell_type": "markdown",
      "source": [
        "**Observations** :- We can see the overall statistcial values for all the columns whether it is numerical or categorical columns."
      ],
      "metadata": {
        "id": "vTbyN6Gr9949"
      }
    },
    {
      "cell_type": "markdown",
      "source": [
        "## 8)  list the top 10 countries with the gold medal, then top10 countries with the silver medal, then bronze medal and the total medal."
      ],
      "metadata": {
        "id": "emz7zvcU6moR"
      }
    },
    {
      "cell_type": "code",
      "source": [
        "Top10_countries_with_Heighestnum_goldmedals= pd.DataFrame(df.groupby(['country'])['gold_medal'].sum())\n",
        "Top10_countries_with_Heighestnum_goldmedals.sort_values(by=['gold_medal'],inplace=True,ascending=False)\n",
        "Top10_countries_with_Heighestnum_goldmedals[:10]"
      ],
      "metadata": {
        "colab": {
          "base_uri": "https://localhost:8080/",
          "height": 394
        },
        "id": "B-4av2copDxt",
        "outputId": "a2a09ec7-55c4-4047-971f-b089cd2f0795"
      },
      "execution_count": null,
      "outputs": [
        {
          "output_type": "execute_result",
          "data": {
            "text/plain": [
              "               gold_medal\n",
              "country                  \n",
              "United States         552\n",
              "Russia                234\n",
              "China                 234\n",
              "Germany               223\n",
              "Canada                168\n",
              "Australia             163\n",
              "Great Britain         124\n",
              "South Korea           110\n",
              "France                108\n",
              "Netherlands           101"
            ],
            "text/html": [
              "\n",
              "  <div id=\"df-35e4cd19-d4ae-45d1-971a-51ee52bd4738\">\n",
              "    <div class=\"colab-df-container\">\n",
              "      <div>\n",
              "<style scoped>\n",
              "    .dataframe tbody tr th:only-of-type {\n",
              "        vertical-align: middle;\n",
              "    }\n",
              "\n",
              "    .dataframe tbody tr th {\n",
              "        vertical-align: top;\n",
              "    }\n",
              "\n",
              "    .dataframe thead th {\n",
              "        text-align: right;\n",
              "    }\n",
              "</style>\n",
              "<table border=\"1\" class=\"dataframe\">\n",
              "  <thead>\n",
              "    <tr style=\"text-align: right;\">\n",
              "      <th></th>\n",
              "      <th>gold_medal</th>\n",
              "    </tr>\n",
              "    <tr>\n",
              "      <th>country</th>\n",
              "      <th></th>\n",
              "    </tr>\n",
              "  </thead>\n",
              "  <tbody>\n",
              "    <tr>\n",
              "      <th>United States</th>\n",
              "      <td>552</td>\n",
              "    </tr>\n",
              "    <tr>\n",
              "      <th>Russia</th>\n",
              "      <td>234</td>\n",
              "    </tr>\n",
              "    <tr>\n",
              "      <th>China</th>\n",
              "      <td>234</td>\n",
              "    </tr>\n",
              "    <tr>\n",
              "      <th>Germany</th>\n",
              "      <td>223</td>\n",
              "    </tr>\n",
              "    <tr>\n",
              "      <th>Canada</th>\n",
              "      <td>168</td>\n",
              "    </tr>\n",
              "    <tr>\n",
              "      <th>Australia</th>\n",
              "      <td>163</td>\n",
              "    </tr>\n",
              "    <tr>\n",
              "      <th>Great Britain</th>\n",
              "      <td>124</td>\n",
              "    </tr>\n",
              "    <tr>\n",
              "      <th>South Korea</th>\n",
              "      <td>110</td>\n",
              "    </tr>\n",
              "    <tr>\n",
              "      <th>France</th>\n",
              "      <td>108</td>\n",
              "    </tr>\n",
              "    <tr>\n",
              "      <th>Netherlands</th>\n",
              "      <td>101</td>\n",
              "    </tr>\n",
              "  </tbody>\n",
              "</table>\n",
              "</div>\n",
              "      <button class=\"colab-df-convert\" onclick=\"convertToInteractive('df-35e4cd19-d4ae-45d1-971a-51ee52bd4738')\"\n",
              "              title=\"Convert this dataframe to an interactive table.\"\n",
              "              style=\"display:none;\">\n",
              "        \n",
              "  <svg xmlns=\"http://www.w3.org/2000/svg\" height=\"24px\"viewBox=\"0 0 24 24\"\n",
              "       width=\"24px\">\n",
              "    <path d=\"M0 0h24v24H0V0z\" fill=\"none\"/>\n",
              "    <path d=\"M18.56 5.44l.94 2.06.94-2.06 2.06-.94-2.06-.94-.94-2.06-.94 2.06-2.06.94zm-11 1L8.5 8.5l.94-2.06 2.06-.94-2.06-.94L8.5 2.5l-.94 2.06-2.06.94zm10 10l.94 2.06.94-2.06 2.06-.94-2.06-.94-.94-2.06-.94 2.06-2.06.94z\"/><path d=\"M17.41 7.96l-1.37-1.37c-.4-.4-.92-.59-1.43-.59-.52 0-1.04.2-1.43.59L10.3 9.45l-7.72 7.72c-.78.78-.78 2.05 0 2.83L4 21.41c.39.39.9.59 1.41.59.51 0 1.02-.2 1.41-.59l7.78-7.78 2.81-2.81c.8-.78.8-2.07 0-2.86zM5.41 20L4 18.59l7.72-7.72 1.47 1.35L5.41 20z\"/>\n",
              "  </svg>\n",
              "      </button>\n",
              "      \n",
              "  <style>\n",
              "    .colab-df-container {\n",
              "      display:flex;\n",
              "      flex-wrap:wrap;\n",
              "      gap: 12px;\n",
              "    }\n",
              "\n",
              "    .colab-df-convert {\n",
              "      background-color: #E8F0FE;\n",
              "      border: none;\n",
              "      border-radius: 50%;\n",
              "      cursor: pointer;\n",
              "      display: none;\n",
              "      fill: #1967D2;\n",
              "      height: 32px;\n",
              "      padding: 0 0 0 0;\n",
              "      width: 32px;\n",
              "    }\n",
              "\n",
              "    .colab-df-convert:hover {\n",
              "      background-color: #E2EBFA;\n",
              "      box-shadow: 0px 1px 2px rgba(60, 64, 67, 0.3), 0px 1px 3px 1px rgba(60, 64, 67, 0.15);\n",
              "      fill: #174EA6;\n",
              "    }\n",
              "\n",
              "    [theme=dark] .colab-df-convert {\n",
              "      background-color: #3B4455;\n",
              "      fill: #D2E3FC;\n",
              "    }\n",
              "\n",
              "    [theme=dark] .colab-df-convert:hover {\n",
              "      background-color: #434B5C;\n",
              "      box-shadow: 0px 1px 3px 1px rgba(0, 0, 0, 0.15);\n",
              "      filter: drop-shadow(0px 1px 2px rgba(0, 0, 0, 0.3));\n",
              "      fill: #FFFFFF;\n",
              "    }\n",
              "  </style>\n",
              "\n",
              "      <script>\n",
              "        const buttonEl =\n",
              "          document.querySelector('#df-35e4cd19-d4ae-45d1-971a-51ee52bd4738 button.colab-df-convert');\n",
              "        buttonEl.style.display =\n",
              "          google.colab.kernel.accessAllowed ? 'block' : 'none';\n",
              "\n",
              "        async function convertToInteractive(key) {\n",
              "          const element = document.querySelector('#df-35e4cd19-d4ae-45d1-971a-51ee52bd4738');\n",
              "          const dataTable =\n",
              "            await google.colab.kernel.invokeFunction('convertToInteractive',\n",
              "                                                     [key], {});\n",
              "          if (!dataTable) return;\n",
              "\n",
              "          const docLinkHtml = 'Like what you see? Visit the ' +\n",
              "            '<a target=\"_blank\" href=https://colab.research.google.com/notebooks/data_table.ipynb>data table notebook</a>'\n",
              "            + ' to learn more about interactive tables.';\n",
              "          element.innerHTML = '';\n",
              "          dataTable['output_type'] = 'display_data';\n",
              "          await google.colab.output.renderOutput(dataTable, element);\n",
              "          const docLink = document.createElement('div');\n",
              "          docLink.innerHTML = docLinkHtml;\n",
              "          element.appendChild(docLink);\n",
              "        }\n",
              "      </script>\n",
              "    </div>\n",
              "  </div>\n",
              "  "
            ]
          },
          "metadata": {},
          "execution_count": 254
        }
      ]
    },
    {
      "cell_type": "code",
      "source": [
        "Top10_countries_with_Heighestnum_silvermedals= pd.DataFrame(df.groupby(['country'])['silver_medal'].sum())\n",
        "Top10_countries_with_Heighestnum_silvermedals.sort_values(by=['silver_medal'],inplace=True,ascending=False)\n",
        "Top10_countries_with_Heighestnum_silvermedals[:10]"
      ],
      "metadata": {
        "colab": {
          "base_uri": "https://localhost:8080/",
          "height": 394
        },
        "id": "1z0OYsWtpEdn",
        "outputId": "f5d9bac8-6628-4efe-fe70-37142b8fb712"
      },
      "execution_count": null,
      "outputs": [
        {
          "output_type": "execute_result",
          "data": {
            "text/plain": [
              "               silver_medal\n",
              "country                    \n",
              "United States           440\n",
              "Australia               226\n",
              "Russia                  221\n",
              "Germany                 183\n",
              "China                   156\n",
              "Netherlands             135\n",
              "Spain                   116\n",
              "Japan                   112\n",
              "France                  107\n",
              "Italy                   103"
            ],
            "text/html": [
              "\n",
              "  <div id=\"df-50745aea-26ce-4517-85a6-caa2c2f865d8\">\n",
              "    <div class=\"colab-df-container\">\n",
              "      <div>\n",
              "<style scoped>\n",
              "    .dataframe tbody tr th:only-of-type {\n",
              "        vertical-align: middle;\n",
              "    }\n",
              "\n",
              "    .dataframe tbody tr th {\n",
              "        vertical-align: top;\n",
              "    }\n",
              "\n",
              "    .dataframe thead th {\n",
              "        text-align: right;\n",
              "    }\n",
              "</style>\n",
              "<table border=\"1\" class=\"dataframe\">\n",
              "  <thead>\n",
              "    <tr style=\"text-align: right;\">\n",
              "      <th></th>\n",
              "      <th>silver_medal</th>\n",
              "    </tr>\n",
              "    <tr>\n",
              "      <th>country</th>\n",
              "      <th></th>\n",
              "    </tr>\n",
              "  </thead>\n",
              "  <tbody>\n",
              "    <tr>\n",
              "      <th>United States</th>\n",
              "      <td>440</td>\n",
              "    </tr>\n",
              "    <tr>\n",
              "      <th>Australia</th>\n",
              "      <td>226</td>\n",
              "    </tr>\n",
              "    <tr>\n",
              "      <th>Russia</th>\n",
              "      <td>221</td>\n",
              "    </tr>\n",
              "    <tr>\n",
              "      <th>Germany</th>\n",
              "      <td>183</td>\n",
              "    </tr>\n",
              "    <tr>\n",
              "      <th>China</th>\n",
              "      <td>156</td>\n",
              "    </tr>\n",
              "    <tr>\n",
              "      <th>Netherlands</th>\n",
              "      <td>135</td>\n",
              "    </tr>\n",
              "    <tr>\n",
              "      <th>Spain</th>\n",
              "      <td>116</td>\n",
              "    </tr>\n",
              "    <tr>\n",
              "      <th>Japan</th>\n",
              "      <td>112</td>\n",
              "    </tr>\n",
              "    <tr>\n",
              "      <th>France</th>\n",
              "      <td>107</td>\n",
              "    </tr>\n",
              "    <tr>\n",
              "      <th>Italy</th>\n",
              "      <td>103</td>\n",
              "    </tr>\n",
              "  </tbody>\n",
              "</table>\n",
              "</div>\n",
              "      <button class=\"colab-df-convert\" onclick=\"convertToInteractive('df-50745aea-26ce-4517-85a6-caa2c2f865d8')\"\n",
              "              title=\"Convert this dataframe to an interactive table.\"\n",
              "              style=\"display:none;\">\n",
              "        \n",
              "  <svg xmlns=\"http://www.w3.org/2000/svg\" height=\"24px\"viewBox=\"0 0 24 24\"\n",
              "       width=\"24px\">\n",
              "    <path d=\"M0 0h24v24H0V0z\" fill=\"none\"/>\n",
              "    <path d=\"M18.56 5.44l.94 2.06.94-2.06 2.06-.94-2.06-.94-.94-2.06-.94 2.06-2.06.94zm-11 1L8.5 8.5l.94-2.06 2.06-.94-2.06-.94L8.5 2.5l-.94 2.06-2.06.94zm10 10l.94 2.06.94-2.06 2.06-.94-2.06-.94-.94-2.06-.94 2.06-2.06.94z\"/><path d=\"M17.41 7.96l-1.37-1.37c-.4-.4-.92-.59-1.43-.59-.52 0-1.04.2-1.43.59L10.3 9.45l-7.72 7.72c-.78.78-.78 2.05 0 2.83L4 21.41c.39.39.9.59 1.41.59.51 0 1.02-.2 1.41-.59l7.78-7.78 2.81-2.81c.8-.78.8-2.07 0-2.86zM5.41 20L4 18.59l7.72-7.72 1.47 1.35L5.41 20z\"/>\n",
              "  </svg>\n",
              "      </button>\n",
              "      \n",
              "  <style>\n",
              "    .colab-df-container {\n",
              "      display:flex;\n",
              "      flex-wrap:wrap;\n",
              "      gap: 12px;\n",
              "    }\n",
              "\n",
              "    .colab-df-convert {\n",
              "      background-color: #E8F0FE;\n",
              "      border: none;\n",
              "      border-radius: 50%;\n",
              "      cursor: pointer;\n",
              "      display: none;\n",
              "      fill: #1967D2;\n",
              "      height: 32px;\n",
              "      padding: 0 0 0 0;\n",
              "      width: 32px;\n",
              "    }\n",
              "\n",
              "    .colab-df-convert:hover {\n",
              "      background-color: #E2EBFA;\n",
              "      box-shadow: 0px 1px 2px rgba(60, 64, 67, 0.3), 0px 1px 3px 1px rgba(60, 64, 67, 0.15);\n",
              "      fill: #174EA6;\n",
              "    }\n",
              "\n",
              "    [theme=dark] .colab-df-convert {\n",
              "      background-color: #3B4455;\n",
              "      fill: #D2E3FC;\n",
              "    }\n",
              "\n",
              "    [theme=dark] .colab-df-convert:hover {\n",
              "      background-color: #434B5C;\n",
              "      box-shadow: 0px 1px 3px 1px rgba(0, 0, 0, 0.15);\n",
              "      filter: drop-shadow(0px 1px 2px rgba(0, 0, 0, 0.3));\n",
              "      fill: #FFFFFF;\n",
              "    }\n",
              "  </style>\n",
              "\n",
              "      <script>\n",
              "        const buttonEl =\n",
              "          document.querySelector('#df-50745aea-26ce-4517-85a6-caa2c2f865d8 button.colab-df-convert');\n",
              "        buttonEl.style.display =\n",
              "          google.colab.kernel.accessAllowed ? 'block' : 'none';\n",
              "\n",
              "        async function convertToInteractive(key) {\n",
              "          const element = document.querySelector('#df-50745aea-26ce-4517-85a6-caa2c2f865d8');\n",
              "          const dataTable =\n",
              "            await google.colab.kernel.invokeFunction('convertToInteractive',\n",
              "                                                     [key], {});\n",
              "          if (!dataTable) return;\n",
              "\n",
              "          const docLinkHtml = 'Like what you see? Visit the ' +\n",
              "            '<a target=\"_blank\" href=https://colab.research.google.com/notebooks/data_table.ipynb>data table notebook</a>'\n",
              "            + ' to learn more about interactive tables.';\n",
              "          element.innerHTML = '';\n",
              "          dataTable['output_type'] = 'display_data';\n",
              "          await google.colab.output.renderOutput(dataTable, element);\n",
              "          const docLink = document.createElement('div');\n",
              "          docLink.innerHTML = docLinkHtml;\n",
              "          element.appendChild(docLink);\n",
              "        }\n",
              "      </script>\n",
              "    </div>\n",
              "  </div>\n",
              "  "
            ]
          },
          "metadata": {},
          "execution_count": 255
        }
      ]
    },
    {
      "cell_type": "code",
      "source": [
        "Top10_countries_with_Heighestnum_bronzemedals= pd.DataFrame(df.groupby(['country'])['bronze_medal'].sum())\n",
        "Top10_countries_with_Heighestnum_bronzemedals.sort_values(by=['bronze_medal'],inplace=True,ascending=False)\n",
        "Top10_countries_with_Heighestnum_bronzemedals[:10]"
      ],
      "metadata": {
        "id": "wRA8fI2CpEgT",
        "colab": {
          "base_uri": "https://localhost:8080/",
          "height": 394
        },
        "outputId": "e2ad761f-67cf-42d0-8fde-707b56df818d"
      },
      "execution_count": null,
      "outputs": [
        {
          "output_type": "execute_result",
          "data": {
            "text/plain": [
              "               bronze_medal\n",
              "country                    \n",
              "United States           320\n",
              "Russia                  313\n",
              "Germany                 223\n",
              "Australia               220\n",
              "Italy                   142\n",
              "China                   140\n",
              "Japan                   113\n",
              "South Korea             105\n",
              "Canada                  104\n",
              "France                  103"
            ],
            "text/html": [
              "\n",
              "  <div id=\"df-7a1f7498-b030-469b-91f3-356950544fba\">\n",
              "    <div class=\"colab-df-container\">\n",
              "      <div>\n",
              "<style scoped>\n",
              "    .dataframe tbody tr th:only-of-type {\n",
              "        vertical-align: middle;\n",
              "    }\n",
              "\n",
              "    .dataframe tbody tr th {\n",
              "        vertical-align: top;\n",
              "    }\n",
              "\n",
              "    .dataframe thead th {\n",
              "        text-align: right;\n",
              "    }\n",
              "</style>\n",
              "<table border=\"1\" class=\"dataframe\">\n",
              "  <thead>\n",
              "    <tr style=\"text-align: right;\">\n",
              "      <th></th>\n",
              "      <th>bronze_medal</th>\n",
              "    </tr>\n",
              "    <tr>\n",
              "      <th>country</th>\n",
              "      <th></th>\n",
              "    </tr>\n",
              "  </thead>\n",
              "  <tbody>\n",
              "    <tr>\n",
              "      <th>United States</th>\n",
              "      <td>320</td>\n",
              "    </tr>\n",
              "    <tr>\n",
              "      <th>Russia</th>\n",
              "      <td>313</td>\n",
              "    </tr>\n",
              "    <tr>\n",
              "      <th>Germany</th>\n",
              "      <td>223</td>\n",
              "    </tr>\n",
              "    <tr>\n",
              "      <th>Australia</th>\n",
              "      <td>220</td>\n",
              "    </tr>\n",
              "    <tr>\n",
              "      <th>Italy</th>\n",
              "      <td>142</td>\n",
              "    </tr>\n",
              "    <tr>\n",
              "      <th>China</th>\n",
              "      <td>140</td>\n",
              "    </tr>\n",
              "    <tr>\n",
              "      <th>Japan</th>\n",
              "      <td>113</td>\n",
              "    </tr>\n",
              "    <tr>\n",
              "      <th>South Korea</th>\n",
              "      <td>105</td>\n",
              "    </tr>\n",
              "    <tr>\n",
              "      <th>Canada</th>\n",
              "      <td>104</td>\n",
              "    </tr>\n",
              "    <tr>\n",
              "      <th>France</th>\n",
              "      <td>103</td>\n",
              "    </tr>\n",
              "  </tbody>\n",
              "</table>\n",
              "</div>\n",
              "      <button class=\"colab-df-convert\" onclick=\"convertToInteractive('df-7a1f7498-b030-469b-91f3-356950544fba')\"\n",
              "              title=\"Convert this dataframe to an interactive table.\"\n",
              "              style=\"display:none;\">\n",
              "        \n",
              "  <svg xmlns=\"http://www.w3.org/2000/svg\" height=\"24px\"viewBox=\"0 0 24 24\"\n",
              "       width=\"24px\">\n",
              "    <path d=\"M0 0h24v24H0V0z\" fill=\"none\"/>\n",
              "    <path d=\"M18.56 5.44l.94 2.06.94-2.06 2.06-.94-2.06-.94-.94-2.06-.94 2.06-2.06.94zm-11 1L8.5 8.5l.94-2.06 2.06-.94-2.06-.94L8.5 2.5l-.94 2.06-2.06.94zm10 10l.94 2.06.94-2.06 2.06-.94-2.06-.94-.94-2.06-.94 2.06-2.06.94z\"/><path d=\"M17.41 7.96l-1.37-1.37c-.4-.4-.92-.59-1.43-.59-.52 0-1.04.2-1.43.59L10.3 9.45l-7.72 7.72c-.78.78-.78 2.05 0 2.83L4 21.41c.39.39.9.59 1.41.59.51 0 1.02-.2 1.41-.59l7.78-7.78 2.81-2.81c.8-.78.8-2.07 0-2.86zM5.41 20L4 18.59l7.72-7.72 1.47 1.35L5.41 20z\"/>\n",
              "  </svg>\n",
              "      </button>\n",
              "      \n",
              "  <style>\n",
              "    .colab-df-container {\n",
              "      display:flex;\n",
              "      flex-wrap:wrap;\n",
              "      gap: 12px;\n",
              "    }\n",
              "\n",
              "    .colab-df-convert {\n",
              "      background-color: #E8F0FE;\n",
              "      border: none;\n",
              "      border-radius: 50%;\n",
              "      cursor: pointer;\n",
              "      display: none;\n",
              "      fill: #1967D2;\n",
              "      height: 32px;\n",
              "      padding: 0 0 0 0;\n",
              "      width: 32px;\n",
              "    }\n",
              "\n",
              "    .colab-df-convert:hover {\n",
              "      background-color: #E2EBFA;\n",
              "      box-shadow: 0px 1px 2px rgba(60, 64, 67, 0.3), 0px 1px 3px 1px rgba(60, 64, 67, 0.15);\n",
              "      fill: #174EA6;\n",
              "    }\n",
              "\n",
              "    [theme=dark] .colab-df-convert {\n",
              "      background-color: #3B4455;\n",
              "      fill: #D2E3FC;\n",
              "    }\n",
              "\n",
              "    [theme=dark] .colab-df-convert:hover {\n",
              "      background-color: #434B5C;\n",
              "      box-shadow: 0px 1px 3px 1px rgba(0, 0, 0, 0.15);\n",
              "      filter: drop-shadow(0px 1px 2px rgba(0, 0, 0, 0.3));\n",
              "      fill: #FFFFFF;\n",
              "    }\n",
              "  </style>\n",
              "\n",
              "      <script>\n",
              "        const buttonEl =\n",
              "          document.querySelector('#df-7a1f7498-b030-469b-91f3-356950544fba button.colab-df-convert');\n",
              "        buttonEl.style.display =\n",
              "          google.colab.kernel.accessAllowed ? 'block' : 'none';\n",
              "\n",
              "        async function convertToInteractive(key) {\n",
              "          const element = document.querySelector('#df-7a1f7498-b030-469b-91f3-356950544fba');\n",
              "          const dataTable =\n",
              "            await google.colab.kernel.invokeFunction('convertToInteractive',\n",
              "                                                     [key], {});\n",
              "          if (!dataTable) return;\n",
              "\n",
              "          const docLinkHtml = 'Like what you see? Visit the ' +\n",
              "            '<a target=\"_blank\" href=https://colab.research.google.com/notebooks/data_table.ipynb>data table notebook</a>'\n",
              "            + ' to learn more about interactive tables.';\n",
              "          element.innerHTML = '';\n",
              "          dataTable['output_type'] = 'display_data';\n",
              "          await google.colab.output.renderOutput(dataTable, element);\n",
              "          const docLink = document.createElement('div');\n",
              "          docLink.innerHTML = docLinkHtml;\n",
              "          element.appendChild(docLink);\n",
              "        }\n",
              "      </script>\n",
              "    </div>\n",
              "  </div>\n",
              "  "
            ]
          },
          "metadata": {},
          "execution_count": 256
        }
      ]
    },
    {
      "cell_type": "code",
      "source": [
        "Top10_countries_with_Heighestnum_totalmedals= pd.DataFrame(df.groupby(['country'])['total_medal'].sum())\n",
        "Top10_countries_with_Heighestnum_totalmedals.sort_values(by=['total_medal'],inplace=True,ascending=False)\n",
        "Top10_countries_with_Heighestnum_totalmedals[:10]"
      ],
      "metadata": {
        "id": "QFNrY1IXpEjJ",
        "colab": {
          "base_uri": "https://localhost:8080/",
          "height": 394
        },
        "outputId": "8ef43673-7736-4eb7-958f-007cfac980b1"
      },
      "execution_count": null,
      "outputs": [
        {
          "output_type": "execute_result",
          "data": {
            "text/plain": [
              "               total_medal\n",
              "country                   \n",
              "United States         1312\n",
              "Russia                 768\n",
              "Germany                629\n",
              "Australia              609\n",
              "China                  530\n",
              "Canada                 370\n",
              "Italy                  331\n",
              "Great Britain          322\n",
              "France                 318\n",
              "Netherlands            318"
            ],
            "text/html": [
              "\n",
              "  <div id=\"df-634871bf-a783-4ed2-b4c7-2b4bd9d1de29\">\n",
              "    <div class=\"colab-df-container\">\n",
              "      <div>\n",
              "<style scoped>\n",
              "    .dataframe tbody tr th:only-of-type {\n",
              "        vertical-align: middle;\n",
              "    }\n",
              "\n",
              "    .dataframe tbody tr th {\n",
              "        vertical-align: top;\n",
              "    }\n",
              "\n",
              "    .dataframe thead th {\n",
              "        text-align: right;\n",
              "    }\n",
              "</style>\n",
              "<table border=\"1\" class=\"dataframe\">\n",
              "  <thead>\n",
              "    <tr style=\"text-align: right;\">\n",
              "      <th></th>\n",
              "      <th>total_medal</th>\n",
              "    </tr>\n",
              "    <tr>\n",
              "      <th>country</th>\n",
              "      <th></th>\n",
              "    </tr>\n",
              "  </thead>\n",
              "  <tbody>\n",
              "    <tr>\n",
              "      <th>United States</th>\n",
              "      <td>1312</td>\n",
              "    </tr>\n",
              "    <tr>\n",
              "      <th>Russia</th>\n",
              "      <td>768</td>\n",
              "    </tr>\n",
              "    <tr>\n",
              "      <th>Germany</th>\n",
              "      <td>629</td>\n",
              "    </tr>\n",
              "    <tr>\n",
              "      <th>Australia</th>\n",
              "      <td>609</td>\n",
              "    </tr>\n",
              "    <tr>\n",
              "      <th>China</th>\n",
              "      <td>530</td>\n",
              "    </tr>\n",
              "    <tr>\n",
              "      <th>Canada</th>\n",
              "      <td>370</td>\n",
              "    </tr>\n",
              "    <tr>\n",
              "      <th>Italy</th>\n",
              "      <td>331</td>\n",
              "    </tr>\n",
              "    <tr>\n",
              "      <th>Great Britain</th>\n",
              "      <td>322</td>\n",
              "    </tr>\n",
              "    <tr>\n",
              "      <th>France</th>\n",
              "      <td>318</td>\n",
              "    </tr>\n",
              "    <tr>\n",
              "      <th>Netherlands</th>\n",
              "      <td>318</td>\n",
              "    </tr>\n",
              "  </tbody>\n",
              "</table>\n",
              "</div>\n",
              "      <button class=\"colab-df-convert\" onclick=\"convertToInteractive('df-634871bf-a783-4ed2-b4c7-2b4bd9d1de29')\"\n",
              "              title=\"Convert this dataframe to an interactive table.\"\n",
              "              style=\"display:none;\">\n",
              "        \n",
              "  <svg xmlns=\"http://www.w3.org/2000/svg\" height=\"24px\"viewBox=\"0 0 24 24\"\n",
              "       width=\"24px\">\n",
              "    <path d=\"M0 0h24v24H0V0z\" fill=\"none\"/>\n",
              "    <path d=\"M18.56 5.44l.94 2.06.94-2.06 2.06-.94-2.06-.94-.94-2.06-.94 2.06-2.06.94zm-11 1L8.5 8.5l.94-2.06 2.06-.94-2.06-.94L8.5 2.5l-.94 2.06-2.06.94zm10 10l.94 2.06.94-2.06 2.06-.94-2.06-.94-.94-2.06-.94 2.06-2.06.94z\"/><path d=\"M17.41 7.96l-1.37-1.37c-.4-.4-.92-.59-1.43-.59-.52 0-1.04.2-1.43.59L10.3 9.45l-7.72 7.72c-.78.78-.78 2.05 0 2.83L4 21.41c.39.39.9.59 1.41.59.51 0 1.02-.2 1.41-.59l7.78-7.78 2.81-2.81c.8-.78.8-2.07 0-2.86zM5.41 20L4 18.59l7.72-7.72 1.47 1.35L5.41 20z\"/>\n",
              "  </svg>\n",
              "      </button>\n",
              "      \n",
              "  <style>\n",
              "    .colab-df-container {\n",
              "      display:flex;\n",
              "      flex-wrap:wrap;\n",
              "      gap: 12px;\n",
              "    }\n",
              "\n",
              "    .colab-df-convert {\n",
              "      background-color: #E8F0FE;\n",
              "      border: none;\n",
              "      border-radius: 50%;\n",
              "      cursor: pointer;\n",
              "      display: none;\n",
              "      fill: #1967D2;\n",
              "      height: 32px;\n",
              "      padding: 0 0 0 0;\n",
              "      width: 32px;\n",
              "    }\n",
              "\n",
              "    .colab-df-convert:hover {\n",
              "      background-color: #E2EBFA;\n",
              "      box-shadow: 0px 1px 2px rgba(60, 64, 67, 0.3), 0px 1px 3px 1px rgba(60, 64, 67, 0.15);\n",
              "      fill: #174EA6;\n",
              "    }\n",
              "\n",
              "    [theme=dark] .colab-df-convert {\n",
              "      background-color: #3B4455;\n",
              "      fill: #D2E3FC;\n",
              "    }\n",
              "\n",
              "    [theme=dark] .colab-df-convert:hover {\n",
              "      background-color: #434B5C;\n",
              "      box-shadow: 0px 1px 3px 1px rgba(0, 0, 0, 0.15);\n",
              "      filter: drop-shadow(0px 1px 2px rgba(0, 0, 0, 0.3));\n",
              "      fill: #FFFFFF;\n",
              "    }\n",
              "  </style>\n",
              "\n",
              "      <script>\n",
              "        const buttonEl =\n",
              "          document.querySelector('#df-634871bf-a783-4ed2-b4c7-2b4bd9d1de29 button.colab-df-convert');\n",
              "        buttonEl.style.display =\n",
              "          google.colab.kernel.accessAllowed ? 'block' : 'none';\n",
              "\n",
              "        async function convertToInteractive(key) {\n",
              "          const element = document.querySelector('#df-634871bf-a783-4ed2-b4c7-2b4bd9d1de29');\n",
              "          const dataTable =\n",
              "            await google.colab.kernel.invokeFunction('convertToInteractive',\n",
              "                                                     [key], {});\n",
              "          if (!dataTable) return;\n",
              "\n",
              "          const docLinkHtml = 'Like what you see? Visit the ' +\n",
              "            '<a target=\"_blank\" href=https://colab.research.google.com/notebooks/data_table.ipynb>data table notebook</a>'\n",
              "            + ' to learn more about interactive tables.';\n",
              "          element.innerHTML = '';\n",
              "          dataTable['output_type'] = 'display_data';\n",
              "          await google.colab.output.renderOutput(dataTable, element);\n",
              "          const docLink = document.createElement('div');\n",
              "          docLink.innerHTML = docLinkHtml;\n",
              "          element.appendChild(docLink);\n",
              "        }\n",
              "      </script>\n",
              "    </div>\n",
              "  </div>\n",
              "  "
            ]
          },
          "metadata": {},
          "execution_count": 257
        }
      ]
    },
    {
      "cell_type": "markdown",
      "source": [
        "**Observations** :-  \n",
        "\n",
        " We can see from all the 4 data frames like Gold,Silver,Bronze and Total no.of mefdals won by different countries by thier corresponding athelets.\n",
        "\n",
        "1. United states top's at every where in all Medals like \n",
        "Gold   - 552, \n",
        "Silver - 440,\n",
        "Bronze - 320,\n",
        "and\n",
        "Total - 1312 medals\n",
        "\n",
        "2. **GOLD MEDAL**\n",
        "\n",
        "Where as 2nd place for Highest no.of gold-medals is Australia - 226.\n",
        "\n",
        "Where as 3rd place for Highest no.of gold-medals  is Russia - 221.\n",
        "\n",
        "Where as 4th place for Highest no.of gold-medals  is Germany - 183.\n",
        "\n",
        "\n",
        "3. **SILVER MEDAL**\n",
        "\n",
        "Where as 2nd place for Highest no.of Silver-medals  is Russia - 313.\n",
        "\n",
        "Where as 3rd place for Highest no.of Silver-medals  is Germany - 223.\n",
        "\n",
        "Where as 4th place for Highest no.of Silver-medals  is Australia - 220.\n",
        "\n",
        "\n",
        "4. **TOTAL MEDALS**\n",
        "\n",
        "Where as 2nd place for Highest no.of Total-medals  is Russia - 768.\n",
        "\n",
        "Where as 3rd place for Highest no.of Total-medals  is  Germany - 629.\n",
        "\n",
        "Where as 4th place for Highest no.of Total-medals  is Australia - 609.\n"
      ],
      "metadata": {
        "id": "2-Mejs3OoYMR"
      }
    },
    {
      "cell_type": "code",
      "source": [
        "df.to_csv(r'D:\\A\\Odinschool\\Capstone on SQL-Python -DS-PySpark _23-05-2022\\my_olympics_data_31-05-2022.csv', index=False)"
      ],
      "metadata": {
        "id": "FTjx_3_EpElu"
      },
      "execution_count": null,
      "outputs": []
    }
  ]
}