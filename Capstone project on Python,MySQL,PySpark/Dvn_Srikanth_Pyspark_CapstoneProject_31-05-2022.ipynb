{
  "nbformat": 4,
  "nbformat_minor": 0,
  "metadata": {
    "colab": {
      "name": "Pyspark_Capstone.ipynb",
      "provenance": [],
      "collapsed_sections": []
    },
    "kernelspec": {
      "name": "python3",
      "display_name": "Python 3"
    },
    "language_info": {
      "name": "python"
    }
  },
  "cells": [
    {
      "cell_type": "markdown",
      "source": [
        "**Introduction to the Data set :  OLYMPICS GAMES**\n",
        "\n",
        "\n",
        "We are going to see the Athelets who participated and won different medals in Olympics which are happened in different years and its  analysis using Python. \n",
        "1. The modern Olympic Games or Olympics are leading international sports events featuring summer and winter sports competitions in which thousands of athletes from around the world participate in a variety of competitions. \n",
        "2. The Olympic Games are considered the world’s top sports competition with more than 200 nations participating.\n",
        "\n",
        "3. The total number of sports conducted in the different Olympic seasons are  49 . \n",
        "\n",
        "4. 110 countries athelets data we have in this data set\n",
        "\n",
        "And for every event there are winners. Therefore various data is generated. So, by using Python we are going to  analyze the data."
      ],
      "metadata": {
        "id": "uGo_6g06tWln"
      }
    },
    {
      "cell_type": "markdown",
      "source": [
        "**PySpark** is an interface for **Apache Spark** in **Python**. \n",
        "\n",
        "**It allows us to write Spark applications using Python APIs,and also provides the PySpark shell for interactively analyzing our data in a distributed environment.**"
      ],
      "metadata": {
        "id": "t7PyhbYfwGXi"
      }
    },
    {
      "cell_type": "code",
      "execution_count": 1,
      "metadata": {
        "colab": {
          "base_uri": "https://localhost:8080/"
        },
        "id": "Qavg9KRC_9W3",
        "outputId": "55ee8e86-a572-4dbe-abff-c2ba93df60cf"
      },
      "outputs": [
        {
          "output_type": "stream",
          "name": "stdout",
          "text": [
            "Looking in indexes: https://pypi.org/simple, https://us-python.pkg.dev/colab-wheels/public/simple/\n",
            "Collecting pyspark\n",
            "  Downloading pyspark-3.2.1.tar.gz (281.4 MB)\n",
            "\u001b[K     |████████████████████████████████| 281.4 MB 35 kB/s \n",
            "\u001b[?25hCollecting py4j==0.10.9.3\n",
            "  Downloading py4j-0.10.9.3-py2.py3-none-any.whl (198 kB)\n",
            "\u001b[K     |████████████████████████████████| 198 kB 63.7 MB/s \n",
            "\u001b[?25hBuilding wheels for collected packages: pyspark\n",
            "  Building wheel for pyspark (setup.py) ... \u001b[?25l\u001b[?25hdone\n",
            "  Created wheel for pyspark: filename=pyspark-3.2.1-py2.py3-none-any.whl size=281853642 sha256=a47a0f61f9af417e4090668cc46016dc32a2bd3c324916ca03013fb053163685\n",
            "  Stored in directory: /root/.cache/pip/wheels/9f/f5/07/7cd8017084dce4e93e84e92efd1e1d5334db05f2e83bcef74f\n",
            "Successfully built pyspark\n",
            "Installing collected packages: py4j, pyspark\n",
            "Successfully installed py4j-0.10.9.3 pyspark-3.2.1\n"
          ]
        }
      ],
      "source": [
        "!pip install pyspark\n",
        "from pyspark.sql import SparkSession"
      ]
    },
    {
      "cell_type": "markdown",
      "source": [
        "**Spark Session** is the entry point to programming Spark with the Dataset and DataFrame API. A SparkSession can be used create DataFrame, register DataFrame as tables, execute SQL over tables, cache tables, and read parquet files."
      ],
      "metadata": {
        "id": "KJSmM-88zyvX"
      }
    },
    {
      "cell_type": "markdown",
      "source": [
        "## 1)\tWrite PySpark code to read olympix_data.csv file\n",
        "\n"
      ],
      "metadata": {
        "id": "yLI7SY8gYukv"
      }
    },
    {
      "cell_type": "code",
      "source": [
        "#initialization of spark session\n",
        "sk = SparkSession.builder.appName(\"Capstone_Project\").getOrCreate()\n",
        "\n",
        "#loading the dataset\n",
        "df = sk.read.format(\"csv\").option(\"header\", \"true\").load(\"/content/my_olympics_data_31-05-2022.csv\")"
      ],
      "metadata": {
        "id": "Y9QMzddeBhPZ"
      },
      "execution_count": 2,
      "outputs": []
    },
    {
      "cell_type": "code",
      "source": [
        "#Structure of the datasets\n",
        "df.printSchema()"
      ],
      "metadata": {
        "colab": {
          "base_uri": "https://localhost:8080/"
        },
        "id": "P7R1r9ogBhrh",
        "outputId": "e3831455-2401-4a3b-a97d-a6ce16d8abb5"
      },
      "execution_count": 3,
      "outputs": [
        {
          "output_type": "stream",
          "name": "stdout",
          "text": [
            "root\n",
            " |-- name: string (nullable = true)\n",
            " |-- age: string (nullable = true)\n",
            " |-- country: string (nullable = true)\n",
            " |-- year: string (nullable = true)\n",
            " |-- Date_Given: string (nullable = true)\n",
            " |-- sports: string (nullable = true)\n",
            " |-- gold_medal: string (nullable = true)\n",
            " |-- silver_medal: string (nullable = true)\n",
            " |-- bronze_medal: string (nullable = true)\n",
            " |-- total_medal: string (nullable = true)\n",
            "\n"
          ]
        }
      ]
    },
    {
      "cell_type": "markdown",
      "source": [
        "**Observations** :- After the reading the csv files, pyspark reading all the columns data type as string only.\n",
        "But, it is not correct we have some numerical value columns and others also according to that data in the data set."
      ],
      "metadata": {
        "id": "TMVdNGJO0CVZ"
      }
    },
    {
      "cell_type": "code",
      "source": [
        "summary = df.describe().show()"
      ],
      "metadata": {
        "colab": {
          "base_uri": "https://localhost:8080/"
        },
        "id": "Ssel5mBgBh6E",
        "outputId": "35e5ffe5-745a-4606-e437-09f9cf97aa87"
      },
      "execution_count": 65,
      "outputs": [
        {
          "output_type": "stream",
          "name": "stdout",
          "text": [
            "+-------+-----------+------------------+-----------+------------------+----------+-------------+-------------------+-------------------+------------------+-------------------+\n",
            "|summary|       name|               age|    country|              year|Date_Given|       sports|         gold_medal|       silver_medal|      bronze_medal|        total_medal|\n",
            "+-------+-----------+------------------+-----------+------------------+----------+-------------+-------------------+-------------------+------------------+-------------------+\n",
            "|  count|       8613|              8613|       8613|              8613|      8613|         8613|               8613|               8613|              8613|               8613|\n",
            "|   mean|       null|26.363440634730914|       null|2005.9753860443516|      null|         null|0.36491350284453733|0.36293974225008707|0.3779171020550331| 1.1057703471496574|\n",
            "| stddev|       null|4.9455808459051935|       null| 4.288736772385435|      null|         null|  0.545436335998911| 0.5115310349685315|0.5050694967667291|0.40900273140259347|\n",
            "|    min|A J Mleczko|              15.0|Afghanistan|              2000|2000-10-01|Alpine Skiing|                  0|                  0|                 0|                  1|\n",
            "|    max|Živko Gocic| 41.71178822269718|   Zimbabwe|              2012|2012-08-12|    Wrestling|                  8|                  3|                 3|                  8|\n",
            "+-------+-----------+------------------+-----------+------------------+----------+-------------+-------------------+-------------------+------------------+-------------------+\n",
            "\n"
          ]
        }
      ]
    },
    {
      "cell_type": "markdown",
      "source": [
        "### So, we have to change the data types of the columns given in the data set accordingly by using below functions"
      ],
      "metadata": {
        "id": "1nGLuQjs1gaY"
      }
    },
    {
      "cell_type": "code",
      "source": [
        "from pyspark.sql.types import StringType, DateType, FloatType,IntegerType\n",
        "  \n",
        "new_df = df \\\n",
        "  .withColumn(\"name\" ,\n",
        "              df[\"name\"]\n",
        "              .cast(StringType()))   \\\n",
        "  .withColumn(\"age\",\n",
        "              df[\"age\"]\n",
        "              .cast(FloatType()))    \\\n",
        "  .withColumn(\"country\"  ,\n",
        "              df[\"country\"]\n",
        "              .cast(StringType())) \\\n",
        "  .withColumn(\"year\"  ,\n",
        "              df[\"year\"]\n",
        "              .cast(IntegerType())) \\\n",
        "  .withColumn(\"Date_Given\"  ,\n",
        "              df[\"Date_Given\"]\n",
        "              .cast(StringType())) \\\n",
        "  .withColumn(\"sports\"  ,\n",
        "              df[\"sports\"]\n",
        "              .cast(StringType())) \\\n",
        "  .withColumn(\"gold_medal\"  ,\n",
        "              df[\"gold_medal\"]\n",
        "              .cast(IntegerType())) \\\n",
        "  .withColumn(\"silver_medal\"  ,\n",
        "              df[\"silver_medal\"]\n",
        "              .cast(IntegerType())) \\\n",
        "  .withColumn(\"bronze_medal\"  ,\n",
        "              df[\"bronze_medal\"]\n",
        "              .cast(IntegerType())) \\\n",
        "  .withColumn(\"total_medal\"  ,\n",
        "              df[\"total_medal\"]\n",
        "              .cast(IntegerType())) \\\n",
        "\n",
        "  \n",
        "new_df.printSchema()"
      ],
      "metadata": {
        "colab": {
          "base_uri": "https://localhost:8080/"
        },
        "id": "104ZdKSlTXQY",
        "outputId": "9e03c643-3ba0-4f51-84d3-2a05cc6af565"
      },
      "execution_count": 8,
      "outputs": [
        {
          "output_type": "stream",
          "name": "stdout",
          "text": [
            "root\n",
            " |-- name: string (nullable = true)\n",
            " |-- age: float (nullable = true)\n",
            " |-- country: string (nullable = true)\n",
            " |-- year: integer (nullable = true)\n",
            " |-- Date_Given: string (nullable = true)\n",
            " |-- sports: string (nullable = true)\n",
            " |-- gold_medal: integer (nullable = true)\n",
            " |-- silver_medal: integer (nullable = true)\n",
            " |-- bronze_medal: integer (nullable = true)\n",
            " |-- total_medal: integer (nullable = true)\n",
            "\n"
          ]
        }
      ]
    },
    {
      "cell_type": "markdown",
      "source": [
        "**Observations** :- By using withcolumn and cast functions we changed the  data types of each and every column as required.\n",
        "\n",
        "And checked the data types after convertion by using printschema function."
      ],
      "metadata": {
        "id": "JDVkvSq23L59"
      }
    },
    {
      "cell_type": "code",
      "source": [
        "new_summary = new_df.describe().show()"
      ],
      "metadata": {
        "colab": {
          "base_uri": "https://localhost:8080/"
        },
        "id": "P8m-5Wg31WDZ",
        "outputId": "a3865f33-1e93-47f8-9e66-20ccf5403819"
      },
      "execution_count": 64,
      "outputs": [
        {
          "output_type": "stream",
          "name": "stdout",
          "text": [
            "+-------+-----------+------------------+-----------+------------------+----------+-------------+-------------------+-------------------+------------------+-------------------+\n",
            "|summary|       name|               age|    country|              year|Date_Given|       sports|         gold_medal|       silver_medal|      bronze_medal|        total_medal|\n",
            "+-------+-----------+------------------+-----------+------------------+----------+-------------+-------------------+-------------------+------------------+-------------------+\n",
            "|  count|       8613|              8613|       8613|              8613|      8613|         8613|               8613|               8613|              8613|               8613|\n",
            "|   mean|       null| 26.36344063419035|       null|2005.9753860443516|      null|         null|0.36491350284453733|0.36293974225008707|0.3779171020550331| 1.1057703471496574|\n",
            "| stddev|       null|4.9455808442272176|       null| 4.288736772385435|      null|         null|  0.545436335998911| 0.5115310349685315|0.5050694967667291|0.40900273140259347|\n",
            "|    min|A J Mleczko|              15.0|Afghanistan|              2000|2000-10-01|Alpine Skiing|                  0|                  0|                 0|                  1|\n",
            "|    max|Živko Gocic|          41.71179|   Zimbabwe|              2012|2012-08-12|    Wrestling|                  8|                  3|                 3|                  8|\n",
            "+-------+-----------+------------------+-----------+------------------+----------+-------------+-------------------+-------------------+------------------+-------------------+\n",
            "\n"
          ]
        }
      ]
    },
    {
      "cell_type": "markdown",
      "source": [
        "**Observations** :- We can see that total no.of records are 8613 and we have 10 attributes which tells us about the data recorded."
      ],
      "metadata": {
        "id": "EQHvx2s86qvE"
      }
    },
    {
      "cell_type": "code",
      "source": [
        "print((new_df.count(), len(new_df.columns)))"
      ],
      "metadata": {
        "colab": {
          "base_uri": "https://localhost:8080/"
        },
        "id": "ZHvRmttRZILw",
        "outputId": "98d0d21c-f4fe-4675-ded7-3c28202c891b"
      },
      "execution_count": 29,
      "outputs": [
        {
          "output_type": "stream",
          "name": "stdout",
          "text": [
            "(8613, 10)\n"
          ]
        }
      ]
    },
    {
      "cell_type": "markdown",
      "source": [
        "## 2)\tWrite PySpark code to print the Olympic Sports/games in the dataset.\n"
      ],
      "metadata": {
        "id": "a5p2ujtLY0Xu"
      }
    },
    {
      "cell_type": "code",
      "source": [
        "Olympics_Sports = new_df.select('sports').distinct().show(n=150,truncate=False)\n"
      ],
      "metadata": {
        "colab": {
          "base_uri": "https://localhost:8080/"
        },
        "id": "atfJQ6oyZIzz",
        "outputId": "9bba3b47-2a24-455a-a86e-2a7abbc308a2"
      },
      "execution_count": 71,
      "outputs": [
        {
          "output_type": "stream",
          "name": "stdout",
          "text": [
            "+-------------------------+\n",
            "|sports                   |\n",
            "+-------------------------+\n",
            "|Gymnastics               |\n",
            "|Tennis                   |\n",
            "|Boxing                   |\n",
            "|Short-Track Speed Skating|\n",
            "|Ice Hockey               |\n",
            "|Rowing                   |\n",
            "|Judo                     |\n",
            "|Softball                 |\n",
            "|Sailing                  |\n",
            "|Swimming                 |\n",
            "|Alpine Skiing            |\n",
            "|Basketball               |\n",
            "|Handball                 |\n",
            "|Rhythmic Gymnastics      |\n",
            "|Biathlon                 |\n",
            "|Triathlon                |\n",
            "|Badminton                |\n",
            "|Athletics                |\n",
            "|Figure Skating           |\n",
            "|Beach Volleyball         |\n",
            "|Equestrian               |\n",
            "|Shooting                 |\n",
            "|Diving                   |\n",
            "|Skeleton                 |\n",
            "|Ski Jumping              |\n",
            "|Nordic Combined          |\n",
            "|Wrestling                |\n",
            "|Speed Skating            |\n",
            "|Table Tennis             |\n",
            "|Taekwondo                |\n",
            "|Canoeing                 |\n",
            "|Weightlifting            |\n",
            "|Waterpolo                |\n",
            "|Baseball                 |\n",
            "|Modern Pentathlon        |\n",
            "|Snowboarding             |\n",
            "|Bobsleigh                |\n",
            "|Cycling                  |\n",
            "|Cross Country Skiing     |\n",
            "|Volleyball               |\n",
            "|Archery                  |\n",
            "|Synchronized Swimming    |\n",
            "|Curling                  |\n",
            "|Fencing                  |\n",
            "|Hockey                   |\n",
            "|Freestyle Skiing         |\n",
            "|Football                 |\n",
            "|Luge                     |\n",
            "|Trampoline               |\n",
            "+-------------------------+\n",
            "\n"
          ]
        }
      ]
    },
    {
      "cell_type": "markdown",
      "source": [
        "**Observations** :- By using select and distinct function we can able to fetch all countries in the data set without repeating the sports names we have."
      ],
      "metadata": {
        "id": "ftNpNFKL7FOZ"
      }
    },
    {
      "cell_type": "markdown",
      "source": [
        "## 3)\tWrite PySpark code to plot the total number of medals in  each Olympic Sport/game\n"
      ],
      "metadata": {
        "id": "IaCBSiH9Y0SV"
      }
    },
    {
      "cell_type": "markdown",
      "source": [
        "**Note**  :-  \n",
        "\n",
        "To plot a graph or chart, it is not possible in PySpark.\n",
        "\n",
        "So, we have to convert our pyspark prepared data frame to pandas data frame.\n",
        "And then as usual by using matplotlib library we can plot any chart.\n",
        "\n",
        "Before, going to that we should import or install pandas, matplotlib and other required libraries and then start exploring the things."
      ],
      "metadata": {
        "id": "gORM1s18Rypf"
      }
    },
    {
      "cell_type": "code",
      "source": [
        "import pandas as pd\n",
        "import matplotlib.pyplot as plt\n",
        "import seaborn as sns\n",
        "%matplotlib inline\n",
        "from pyspark.sql import SQLContext\n",
        "sqlContext = SQLContext\n",
        "import plotly as py\n",
        "import plotly.graph_objs as go\n"
      ],
      "metadata": {
        "id": "xix22ueuD5va"
      },
      "execution_count": 99,
      "outputs": []
    },
    {
      "cell_type": "markdown",
      "source": [
        "So, first I like to prepare my data as per our requirement like we have to sum up the total no.of medals gain on each sport by using agggregate function sum on \"total_medal\" and seggregate(group by) function on \"sports\" column as shown below."
      ],
      "metadata": {
        "id": "Ha32a3pLSYnA"
      }
    },
    {
      "cell_type": "code",
      "source": [
        "dffplot = new_df.groupBy(\"sports\").sum(\"total_medal\")"
      ],
      "metadata": {
        "id": "m6_x8hJEIg8O"
      },
      "execution_count": 97,
      "outputs": []
    },
    {
      "cell_type": "markdown",
      "source": [
        "After creating the data frame as required we have to assign to a variable.\n",
        "And use it for the purpose of plotting the chart as shown as below."
      ],
      "metadata": {
        "id": "ybicus2USwMX"
      }
    },
    {
      "cell_type": "code",
      "source": [
        "y = dffplot.toPandas()[\"sports\"].values.tolist()\n",
        "x = dffplot.toPandas()[\"sum(total_medal)\"].values.tolist()\n",
        "hfig = plt.figure(figsize =(20, 14))\n",
        "plt.bar(x,y, color = 'green', label = \"Total No.of Medals recorded on each sport in Olympics\")\n",
        "plt.title(\"Total Medals On Each GAME\")\n",
        "plt.ylabel(\"sports\")\n",
        "plt.xlabel(\"total_medal\")\n",
        "plt.legend(facecolor = 'grey')\n",
        "plt.show()"
      ],
      "metadata": {
        "colab": {
          "base_uri": "https://localhost:8080/",
          "height": 840
        },
        "id": "POKsK2lpPLSr",
        "outputId": "ad8cfcda-7409-481f-cf12-48768c392746"
      },
      "execution_count": 96,
      "outputs": [
        {
          "output_type": "display_data",
          "data": {
            "text/plain": [
              "<Figure size 1440x1008 with 1 Axes>"
            ],
            "image/png": "[encoded data removed]"
          },
          "metadata": {
            "needs_background": "light"
          }
        }
      ]
    },
    {
      "cell_type": "markdown",
      "source": [
        "**Observations** :- As shown as above we can plot a beautiful plot by giving titles, labels, color and giving axis values which depicts the data in aneasy manner.\n",
        "\n",
        "We can see \"Trampaline\" sport got highest Total medals\n",
        "\n",
        "And \"Skeleton\" sport got lowest total medals."
      ],
      "metadata": {
        "id": "kMMGxU5lTCo2"
      }
    },
    {
      "cell_type": "markdown",
      "source": [
        "## 4)\tSort the result based on the total number of medals.\n"
      ],
      "metadata": {
        "id": "HSGs7wgEY0Ly"
      }
    },
    {
      "cell_type": "code",
      "source": [
        "from pyspark.sql.functions import sum,desc\n",
        "total_no_of_medals_eachCountry =new_df.groupby([\"sports\"]).agg(sum(\"total_medal\").alias(\"Total_Medals\")).sort(desc(\"Total_Medals\"))\n",
        "total_no_of_medals_eachCountry.show(n=150,truncate=False)"
      ],
      "metadata": {
        "colab": {
          "base_uri": "https://localhost:8080/"
        },
        "id": "QE4Qo0x178X7",
        "outputId": "526d139a-d46c-4820-ee41-3b28d338bbc8"
      },
      "execution_count": 101,
      "outputs": [
        {
          "output_type": "stream",
          "name": "stdout",
          "text": [
            "+-------------------------+------------+\n",
            "|sports                   |Total_Medals|\n",
            "+-------------------------+------------+\n",
            "|Swimming                 |765         |\n",
            "|Athletics                |753         |\n",
            "|Rowing                   |576         |\n",
            "|Football                 |407         |\n",
            "|Hockey                   |386         |\n",
            "|Ice Hockey               |384         |\n",
            "|Handball                 |351         |\n",
            "|Canoeing                 |333         |\n",
            "|Waterpolo                |306         |\n",
            "|Cycling                  |306         |\n",
            "|Basketball               |287         |\n",
            "|Gymnastics               |282         |\n",
            "|Volleyball               |278         |\n",
            "|Fencing                  |256         |\n",
            "|Wrestling                |245         |\n",
            "|Judo                     |224         |\n",
            "|Baseball                 |216         |\n",
            "|Sailing                  |210         |\n",
            "|Shooting                 |192         |\n",
            "|Boxing                   |188         |\n",
            "|Equestrian               |182         |\n",
            "|Weightlifting            |180         |\n",
            "|Cross Country Skiing     |174         |\n",
            "|Diving                   |144         |\n",
            "|Speed Skating            |140         |\n",
            "|Biathlon                 |138         |\n",
            "|Short-Track Speed Skating|138         |\n",
            "|Softball                 |134         |\n",
            "|Synchronized Swimming    |129         |\n",
            "|Taekwondo                |112         |\n",
            "|Badminton                |96          |\n",
            "|Archery                  |96          |\n",
            "|Alpine Skiing            |90          |\n",
            "|Rhythmic Gymnastics      |84          |\n",
            "|Table Tennis             |84          |\n",
            "|Curling                  |82          |\n",
            "|Tennis                   |78          |\n",
            "|Bobsleigh                |72          |\n",
            "|Ski Jumping              |54          |\n",
            "|Nordic Combined          |54          |\n",
            "|Figure Skating           |54          |\n",
            "|Beach Volleyball         |48          |\n",
            "|Snowboarding             |48          |\n",
            "|Freestyle Skiing         |42          |\n",
            "|Luge                     |36          |\n",
            "|Modern Pentathlon        |24          |\n",
            "|Triathlon                |24          |\n",
            "|Trampoline               |24          |\n",
            "|Skeleton                 |18          |\n",
            "+-------------------------+------------+\n",
            "\n"
          ]
        }
      ]
    },
    {
      "cell_type": "markdown",
      "source": [
        "## 5)\tFind the total number of medals won by each country in swimming.\n"
      ],
      "metadata": {
        "id": "_SXzCHJvY0F3"
      }
    },
    {
      "cell_type": "markdown",
      "source": [
        "**Observations** :- To get the total no.of medals won by each country in swimming  especially \n",
        "\n",
        "we should filter the sports column with swimming by using \"filter\" function\n",
        "we have to use \"groupby\" function to aggregate the country names\n",
        "and its our wish we have to show from Higher order (count) to lower order (count) or vice versa.\n",
        "\n",
        "**United States tops in winning total(all types) number of medals at swimming sport.**"
      ],
      "metadata": {
        "id": "ABxoAkAP7Zrr"
      }
    },
    {
      "cell_type": "code",
      "source": [
        "Swimming_medals=new_df.filter(new_df['sports']== \"Swimming\").groupby('country').count().sort(desc(\"count\")).show(n=150,truncate=False)"
      ],
      "metadata": {
        "colab": {
          "base_uri": "https://localhost:8080/"
        },
        "id": "9SxfX5E8ZLKv",
        "outputId": "7928fbd7-553c-42db-d7b4-aa967be82bc7"
      },
      "execution_count": 44,
      "outputs": [
        {
          "output_type": "stream",
          "name": "stdout",
          "text": [
            "+-------------------+-----+\n",
            "|country            |count|\n",
            "+-------------------+-----+\n",
            "|United States      |145  |\n",
            "|Australia          |92   |\n",
            "|Netherlands        |32   |\n",
            "|Japan              |30   |\n",
            "|China              |29   |\n",
            "|Germany            |27   |\n",
            "|France             |26   |\n",
            "|Russia             |19   |\n",
            "|Italy              |13   |\n",
            "|Great Britain      |9    |\n",
            "|South Africa       |8    |\n",
            "|Sweden             |7    |\n",
            "|Brazil             |7    |\n",
            "|Hungary            |7    |\n",
            "|Canada             |5    |\n",
            "|Romania            |4    |\n",
            "|Ukraine            |4    |\n",
            "|South Korea        |2    |\n",
            "|Zimbabwe           |2    |\n",
            "|Tunisia            |2    |\n",
            "|Spain              |2    |\n",
            "|Austria            |2    |\n",
            "|Norway             |2    |\n",
            "|Slovakia           |1    |\n",
            "|Poland             |1    |\n",
            "|Argentina          |1    |\n",
            "|Costa Rica         |1    |\n",
            "|Belarus            |1    |\n",
            "|Lithuania          |1    |\n",
            "|Serbia             |1    |\n",
            "|Croatia            |1    |\n",
            "|Denmark            |1    |\n",
            "|Trinidad and Tobago|1    |\n",
            "|Slovenia           |1    |\n",
            "+-------------------+-----+\n",
            "\n"
          ]
        }
      ]
    },
    {
      "cell_type": "markdown",
      "source": [
        "## 6)\tFind the total number of medals won by each country in Skeleton.\n"
      ],
      "metadata": {
        "id": "cQTo1P31Yz_q"
      }
    },
    {
      "cell_type": "code",
      "source": [
        "Total_Medals_medals=new_df.filter(new_df['sports']== \"Skeleton\").groupby('country').count().sort(desc(\"count\")).show(n=50,truncate=False)"
      ],
      "metadata": {
        "colab": {
          "base_uri": "https://localhost:8080/"
        },
        "id": "04Qa4skcZLsI",
        "outputId": "5aa5ad00-30fc-4ae1-f669-4ea54d4b5f95"
      },
      "execution_count": 48,
      "outputs": [
        {
          "output_type": "stream",
          "name": "stdout",
          "text": [
            "+-------------+-----+\n",
            "|country      |count|\n",
            "+-------------+-----+\n",
            "|Canada       |4    |\n",
            "|Great Britain|3    |\n",
            "|Switzerland  |3    |\n",
            "|United States|3    |\n",
            "|Germany      |2    |\n",
            "|Russia       |1    |\n",
            "|Austria      |1    |\n",
            "|Latvia       |1    |\n",
            "+-------------+-----+\n",
            "\n"
          ]
        }
      ]
    },
    {
      "cell_type": "markdown",
      "source": [
        "**Observations** :- \n",
        "To get the total no.of medals won by each country in skeleton sport\n",
        "we have sum the no.of medals by each country by aggregating(group by function) and have to filter the sport \" Skeleton\" as asked as condition to get the result.\n",
        "\n",
        "**Note :-**  \n",
        "\n",
        "1. Canada tops in the list with **04 medals** in the skeleton game/sport.\n",
        "\n",
        "2. Where as Great Britain,Switzerland and United States got **03 medals** each.\n",
        "Germany got 02 medals in total.\n",
        "\n",
        "3. And Russia,Austria,Latvia got only **01 medal each**."
      ],
      "metadata": {
        "id": "N0JC0Iga8Vyt"
      }
    },
    {
      "cell_type": "markdown",
      "source": [
        "## 7)\tFind the number of medals that the US won yearly.\n"
      ],
      "metadata": {
        "id": "WC1g2RFzYz5J"
      }
    },
    {
      "cell_type": "code",
      "source": [
        "from pyspark.sql.functions import sum,desc\n",
        "data=new_df.filter(new_df['country']== \"United States\").groupby([\"country\",\"year\"]).agg(sum(\"total_medal\").alias(\"Total_Medals\")).sort(\"year\")\n",
        "data.show(n=150,truncate=False)"
      ],
      "metadata": {
        "colab": {
          "base_uri": "https://localhost:8080/"
        },
        "id": "FbyM8DH-ZMaw",
        "outputId": "b1d680a5-ebec-462c-c8ea-db356967c2f4"
      },
      "execution_count": 53,
      "outputs": [
        {
          "output_type": "stream",
          "name": "stdout",
          "text": [
            "+-------------+----+------------+\n",
            "|country      |year|Total_Medals|\n",
            "+-------------+----+------------+\n",
            "|United States|2000|243         |\n",
            "|United States|2002|84          |\n",
            "|United States|2004|265         |\n",
            "|United States|2006|52          |\n",
            "|United States|2008|317         |\n",
            "|United States|2010|97          |\n",
            "|United States|2012|254         |\n",
            "+-------------+----+------------+\n",
            "\n"
          ]
        }
      ]
    },
    {
      "cell_type": "markdown",
      "source": [
        "**Observations** :-   \n",
        "\n",
        "Total no.of medals won by US country year wise are ..\n",
        "\n",
        "In the year 2008 it won highest no.of medals \"317\".\n",
        "\n",
        "Where as 2004 won \"265\"\n",
        "\n",
        "In 2012 won \"254\" and\n",
        "\n",
        " in 2000 it won \"243\"."
      ],
      "metadata": {
        "id": "pVOyH0va9gpr"
      }
    },
    {
      "cell_type": "markdown",
      "source": [
        "## 8)\tFind the total number of medals won by each country.\n"
      ],
      "metadata": {
        "id": "PLnh8DluYzy2"
      }
    },
    {
      "cell_type": "markdown",
      "source": [
        "**Observations** :-  \n",
        "\n",
        "To get the total no.of medals by each country\n",
        "We have group country names by using \"groupby\" function \n",
        "And have to do summation of total medals by using aggregate function \"sum\".\n",
        "\n",
        "**Note :-** \n",
        "\n",
        "United states have highest no.of total medals like sum of Gold,Silver and Bronze with 1312 medals.\n",
        "\n",
        "Where as Russia and Germany are with 2nd and 3rd places with 768 and 629 medals."
      ],
      "metadata": {
        "id": "9ZFLkx7K-UNn"
      }
    },
    {
      "cell_type": "code",
      "source": [
        "from pyspark.sql.functions import sum,desc\n",
        "data=new_df.groupby([\"country\"]).agg(sum(\"total_medal\").alias(\"Total_Medals\")).sort(desc(\"Total_Medals\"))\n",
        "data.show(n=150,truncate=False)"
      ],
      "metadata": {
        "colab": {
          "base_uri": "https://localhost:8080/"
        },
        "id": "aQ7P_e-3ZOne",
        "outputId": "925c859d-aeb6-463b-a86e-7291be199535"
      },
      "execution_count": 56,
      "outputs": [
        {
          "output_type": "stream",
          "name": "stdout",
          "text": [
            "+---------------------+------------+\n",
            "|country              |Total_Medals|\n",
            "+---------------------+------------+\n",
            "|United States        |1312        |\n",
            "|Russia               |768         |\n",
            "|Germany              |629         |\n",
            "|Australia            |609         |\n",
            "|China                |530         |\n",
            "|Canada               |370         |\n",
            "|Italy                |331         |\n",
            "|Great Britain        |322         |\n",
            "|France               |318         |\n",
            "|Netherlands          |318         |\n",
            "|South Korea          |308         |\n",
            "|Japan                |282         |\n",
            "|Brazil               |218         |\n",
            "|Spain                |205         |\n",
            "|Norway               |192         |\n",
            "|Cuba                 |188         |\n",
            "|Sweden               |181         |\n",
            "|Hungary              |145         |\n",
            "|Ukraine              |143         |\n",
            "|Argentina            |139         |\n",
            "|Romania              |123         |\n",
            "|Finland              |118         |\n",
            "|Belarus              |97          |\n",
            "|Switzerland          |93          |\n",
            "|Austria              |91          |\n",
            "|Denmark              |89          |\n",
            "|Croatia              |81          |\n",
            "|Czech Republic       |81          |\n",
            "|Poland               |80          |\n",
            "|Jamaica              |80          |\n",
            "|Greece               |59          |\n",
            "|New Zealand          |52          |\n",
            "|Kazakhstan           |42          |\n",
            "|Bulgaria             |41          |\n",
            "|Nigeria              |39          |\n",
            "|Kenya                |39          |\n",
            "|Mexico               |38          |\n",
            "|Serbia and Montenegro|38          |\n",
            "|Slovakia             |35          |\n",
            "|Serbia               |31          |\n",
            "|Lithuania            |30          |\n",
            "|Ethiopia             |29          |\n",
            "|Turkey               |28          |\n",
            "|Azerbaijan           |25          |\n",
            "|South Africa         |25          |\n",
            "|Slovenia             |25          |\n",
            "|Bahamas              |24          |\n",
            "|Iran                 |24          |\n",
            "|Georgia              |23          |\n",
            "|Chile                |22          |\n",
            "|Indonesia            |22          |\n",
            "|North Korea          |21          |\n",
            "|Chinese Taipei       |20          |\n",
            "|Cameroon             |20          |\n",
            "|Trinidad and Tobago  |19          |\n",
            "|Uzbekistan           |19          |\n",
            "|Estonia              |18          |\n",
            "|Belgium              |18          |\n",
            "|Thailand             |18          |\n",
            "|Paraguay             |17          |\n",
            "|Latvia               |17          |\n",
            "|Iceland              |15          |\n",
            "|Montenegro           |14          |\n",
            "|Colombia             |13          |\n",
            "|India                |11          |\n",
            "|Morocco              |11          |\n",
            "|Mongolia             |10          |\n",
            "|Armenia              |10          |\n",
            "|Ireland              |9           |\n",
            "|Portugal             |9           |\n",
            "|Egypt                |8           |\n",
            "|Algeria              |8           |\n",
            "|Singapore            |7           |\n",
            "|Zimbabwe             |7           |\n",
            "|Saudi Arabia         |6           |\n",
            "|Dominican Republic   |5           |\n",
            "|Moldova              |5           |\n",
            "|Israel               |4           |\n",
            "|Tunisia              |4           |\n",
            "|Venezuela            |4           |\n",
            "|Qatar                |3           |\n",
            "|Tajikistan           |3           |\n",
            "|Hong Kong            |3           |\n",
            "|Kyrgyzstan           |3           |\n",
            "|Malaysia             |3           |\n",
            "|Costa Rica           |2           |\n",
            "|Vietnam              |2           |\n",
            "|Puerto Rico          |2           |\n",
            "|Afghanistan          |2           |\n",
            "|Kuwait               |2           |\n",
            "|Eritrea              |1           |\n",
            "|Sudan                |1           |\n",
            "|Gabon                |1           |\n",
            "|Sri Lanka            |1           |\n",
            "|Barbados             |1           |\n",
            "|Togo                 |1           |\n",
            "|Panama               |1           |\n",
            "|Uganda               |1           |\n",
            "|Ecuador              |1           |\n",
            "|Cyprus               |1           |\n",
            "|Uruguay              |1           |\n",
            "|United Arab Emirates |1           |\n",
            "|Botswana             |1           |\n",
            "|Guatemala            |1           |\n",
            "|Grenada              |1           |\n",
            "|Macedonia            |1           |\n",
            "|Bahrain              |1           |\n",
            "|Mauritius            |1           |\n",
            "|Syria                |1           |\n",
            "|Mozambique           |1           |\n",
            "+---------------------+------------+\n",
            "\n"
          ]
        }
      ]
    },
    {
      "cell_type": "markdown",
      "source": [
        "## 9)\tWho was the oldest athlete in the olympics? \n"
      ],
      "metadata": {
        "id": "MuBBkSUsYztX"
      }
    },
    {
      "cell_type": "code",
      "source": [
        "original_df = sk.read.format(\"csv\").option(\"header\", \"true\").load(\"/content/olympixcs_data_22-05-2022.csv\")"
      ],
      "metadata": {
        "id": "dcENklXUqvJ4"
      },
      "execution_count": 60,
      "outputs": []
    },
    {
      "cell_type": "code",
      "source": [
        "Oldest_athelete = original_df.select('name',\"age\").sort(desc(\"age\")).show(n=10,truncate=False)\n"
      ],
      "metadata": {
        "colab": {
          "base_uri": "https://localhost:8080/"
        },
        "id": "P08HFzvbqv4p",
        "outputId": "23d38b70-b0c1-4dae-bcd5-515122ed0e62"
      },
      "execution_count": 72,
      "outputs": [
        {
          "output_type": "stream",
          "name": "stdout",
          "text": [
            "+----------------------+---+\n",
            "|name                  |age|\n",
            "+----------------------+---+\n",
            "|Ian Millar            |61 |\n",
            "|Mark Todd             |56 |\n",
            "|Mac Cone              |55 |\n",
            "|Nick Skelton          |54 |\n",
            "|Lesley Thompson-Willie|52 |\n",
            "|Peter Charles         |52 |\n",
            "|Ilario Di Buò         |51 |\n",
            "|Mary Thomson-King     |51 |\n",
            "|Peter Thomsen         |51 |\n",
            "|Jean Teulère          |50 |\n",
            "+----------------------+---+\n",
            "only showing top 10 rows\n",
            "\n"
          ]
        }
      ]
    },
    {
      "cell_type": "markdown",
      "source": [
        "**Observations**  :-  \n",
        "\n",
        "With the cleaned data set of Olympics games data set it will shows so many athelets with hghest age. Why because we treated age column to eliminate erros.\n",
        "\n",
        "**Note** :- So, again we considered original data set and checked the Highest age of the Athelete participated in Olympics games.\n",
        "\n",
        "His name is **Ian Millar** with Age of **61**"
      ],
      "metadata": {
        "id": "dPVbwHwr_q1l"
      }
    },
    {
      "cell_type": "code",
      "source": [
        "Olympics_Sports = new_df.select('name',\"age\").sort(desc(\"age\")).show()\n",
        "Olympics_Sports"
      ],
      "metadata": {
        "id": "yAOJReXiZOKB"
      },
      "execution_count": null,
      "outputs": []
    },
    {
      "cell_type": "markdown",
      "source": [
        "## 10)\tWhich country was he/she from?"
      ],
      "metadata": {
        "id": "9CJUf6pfZEXi"
      }
    },
    {
      "cell_type": "markdown",
      "source": [
        "**Observations** :- After viewing the data set, we didn't find any Gender column specifying the gender of an Athelete. So, we can't depicit an athelete whether the person is he or she."
      ],
      "metadata": {
        "id": "mYZVdYeiAS-h"
      }
    },
    {
      "cell_type": "code",
      "source": [
        ""
      ],
      "metadata": {
        "id": "fie7rAj5ZNkK"
      },
      "execution_count": null,
      "outputs": []
    },
    {
      "cell_type": "code",
      "source": [
        ""
      ],
      "metadata": {
        "id": "8dRN5rzwBh9b"
      },
      "execution_count": null,
      "outputs": []
    },
    {
      "cell_type": "code",
      "source": [
        ""
      ],
      "metadata": {
        "id": "mScUOP7IBiAZ"
      },
      "execution_count": null,
      "outputs": []
    },
    {
      "cell_type": "code",
      "source": [
        ""
      ],
      "metadata": {
        "id": "23cSbuDnBiDD"
      },
      "execution_count": null,
      "outputs": []
    },
    {
      "cell_type": "code",
      "source": [
        ""
      ],
      "metadata": {
        "id": "f4Jn8KKGBiGA"
      },
      "execution_count": null,
      "outputs": []
    },
    {
      "cell_type": "code",
      "source": [
        ""
      ],
      "metadata": {
        "id": "Zyj2gwLiBiI3"
      },
      "execution_count": null,
      "outputs": []
    },
    {
      "cell_type": "code",
      "source": [
        ""
      ],
      "metadata": {
        "id": "oKFs6yZhBiL1"
      },
      "execution_count": null,
      "outputs": []
    },
    {
      "cell_type": "code",
      "source": [
        ""
      ],
      "metadata": {
        "id": "-InrejvyBiPb"
      },
      "execution_count": null,
      "outputs": []
    },
    {
      "cell_type": "code",
      "source": [
        ""
      ],
      "metadata": {
        "id": "VM6Gs_qHBiS2"
      },
      "execution_count": null,
      "outputs": []
    },
    {
      "cell_type": "code",
      "source": [
        ""
      ],
      "metadata": {
        "id": "FPQKzv1KBiVn"
      },
      "execution_count": null,
      "outputs": []
    },
    {
      "cell_type": "code",
      "source": [
        ""
      ],
      "metadata": {
        "id": "zTToFFbqBibu"
      },
      "execution_count": null,
      "outputs": []
    },
    {
      "cell_type": "code",
      "source": [
        ""
      ],
      "metadata": {
        "id": "WfNBLrQzBie1"
      },
      "execution_count": null,
      "outputs": []
    },
    {
      "cell_type": "code",
      "source": [
        ""
      ],
      "metadata": {
        "id": "iT4gvT-5Bii5"
      },
      "execution_count": null,
      "outputs": []
    },
    {
      "cell_type": "code",
      "source": [
        ""
      ],
      "metadata": {
        "id": "-2B-YwsmBily"
      },
      "execution_count": null,
      "outputs": []
    },
    {
      "cell_type": "code",
      "source": [
        ""
      ],
      "metadata": {
        "id": "XKanfzJ6Biop"
      },
      "execution_count": null,
      "outputs": []
    },
    {
      "cell_type": "code",
      "source": [
        ""
      ],
      "metadata": {
        "id": "KU4nCw6dBire"
      },
      "execution_count": null,
      "outputs": []
    },
    {
      "cell_type": "code",
      "source": [
        ""
      ],
      "metadata": {
        "id": "r8cuI53_Biu3"
      },
      "execution_count": null,
      "outputs": []
    },
    {
      "cell_type": "code",
      "source": [
        ""
      ],
      "metadata": {
        "id": "Sjkh1LuPBiyD"
      },
      "execution_count": null,
      "outputs": []
    },
    {
      "cell_type": "code",
      "source": [
        ""
      ],
      "metadata": {
        "id": "NxuW9quUBi0z"
      },
      "execution_count": null,
      "outputs": []
    },
    {
      "cell_type": "code",
      "source": [
        ""
      ],
      "metadata": {
        "id": "1EJcZDHdBi3u"
      },
      "execution_count": null,
      "outputs": []
    },
    {
      "cell_type": "code",
      "source": [
        ""
      ],
      "metadata": {
        "id": "Vq_EJZZjBi7H"
      },
      "execution_count": null,
      "outputs": []
    },
    {
      "cell_type": "code",
      "source": [
        ""
      ],
      "metadata": {
        "id": "JJIMkOOlBi-B"
      },
      "execution_count": null,
      "outputs": []
    },
    {
      "cell_type": "code",
      "source": [
        ""
      ],
      "metadata": {
        "id": "8-u0XA1YBjA_"
      },
      "execution_count": null,
      "outputs": []
    },
    {
      "cell_type": "code",
      "source": [
        ""
      ],
      "metadata": {
        "id": "82FRxKHrBjD_"
      },
      "execution_count": null,
      "outputs": []
    },
    {
      "cell_type": "code",
      "source": [
        ""
      ],
      "metadata": {
        "id": "Vay4A9vfBjG6"
      },
      "execution_count": null,
      "outputs": []
    },
    {
      "cell_type": "code",
      "source": [
        ""
      ],
      "metadata": {
        "id": "u9xqumQWBjKD"
      },
      "execution_count": null,
      "outputs": []
    },
    {
      "cell_type": "code",
      "source": [
        ""
      ],
      "metadata": {
        "id": "icuB7MVtBjNO"
      },
      "execution_count": null,
      "outputs": []
    },
    {
      "cell_type": "code",
      "source": [
        ""
      ],
      "metadata": {
        "id": "wdOvKAZNBjQT"
      },
      "execution_count": null,
      "outputs": []
    },
    {
      "cell_type": "code",
      "source": [
        ""
      ],
      "metadata": {
        "id": "jv9G-SmbBjT2"
      },
      "execution_count": null,
      "outputs": []
    },
    {
      "cell_type": "code",
      "source": [
        ""
      ],
      "metadata": {
        "id": "Dqd7LYIWBjXA"
      },
      "execution_count": null,
      "outputs": []
    },
    {
      "cell_type": "code",
      "source": [
        ""
      ],
      "metadata": {
        "id": "9wBK7uzNBjZ5"
      },
      "execution_count": null,
      "outputs": []
    },
    {
      "cell_type": "code",
      "source": [
        ""
      ],
      "metadata": {
        "id": "AIZjhW_OBjc4"
      },
      "execution_count": null,
      "outputs": []
    },
    {
      "cell_type": "code",
      "source": [
        ""
      ],
      "metadata": {
        "id": "GDK8tVjOBjha"
      },
      "execution_count": null,
      "outputs": []
    }
  ]
}