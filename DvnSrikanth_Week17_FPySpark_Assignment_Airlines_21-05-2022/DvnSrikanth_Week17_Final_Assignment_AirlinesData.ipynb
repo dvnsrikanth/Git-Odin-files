{
  "nbformat": 4,
  "nbformat_minor": 0,
  "metadata": {
    "colab": {
      "name": "DvnSrikanth_Week17_Assignment_AirlinesDataset.ipynb",
      "provenance": [],
      "collapsed_sections": []
    },
    "kernelspec": {
      "name": "python3",
      "display_name": "Python 3"
    },
    "language_info": {
      "name": "python"
    }
  },
  "cells": [
    {
      "cell_type": "markdown",
      "source": [
        "**INTRODUCTION OF THE DATA SET**  :- The given data set belongs to an airline carrier in which the records are showing us about,\n",
        "\n",
        "the no.of flights are in service,\n",
        "\n",
        "the departure and arrive timings, \n",
        "\n",
        "the delays in both arrival and departure,\n",
        "\n",
        "the duration for the dealys with the Day, Month and Year.\n",
        "\n",
        "And other details are not prvided. It seems to be data has many null values.\n",
        "It means records are not available for the attributes."
      ],
      "metadata": {
        "id": "9EEGqIBPaz4y"
      }
    },
    {
      "cell_type": "markdown",
      "source": [
        "**TO PERFORM THE ACTIONS ON THE DATA SET IN SPARK, WE HAVE TO INSTALL \"PYSPARK\"**"
      ],
      "metadata": {
        "id": "zfS6mSDdcW2h"
      }
    },
    {
      "cell_type": "code",
      "execution_count": null,
      "metadata": {
        "colab": {
          "base_uri": "https://localhost:8080/"
        },
        "id": "HRVIT8ZReLPd",
        "outputId": "d2c80d02-00e5-4ab5-ad4b-2ce36def6dfb"
      },
      "outputs": [
        {
          "output_type": "stream",
          "name": "stdout",
          "text": [
            "Looking in indexes: https://pypi.org/simple, https://us-python.pkg.dev/colab-wheels/public/simple/\n",
            "Requirement already satisfied: pyspark in /usr/local/lib/python3.7/dist-packages (3.2.1)\n",
            "Requirement already satisfied: py4j==0.10.9.3 in /usr/local/lib/python3.7/dist-packages (from pyspark) (0.10.9.3)\n"
          ]
        }
      ],
      "source": [
        "!pip install pyspark"
      ]
    },
    {
      "cell_type": "markdown",
      "source": [
        "To perform different actions in pyspark we have to import some libraries"
      ],
      "metadata": {
        "id": "HKw3L-RBcpfb"
      }
    },
    {
      "cell_type": "code",
      "source": [
        "from pyspark.sql import SparkSession\n",
        "spark=SparkSession.builder.appName(\"assignment\").getOrCreate()\n",
        "spark.sparkContext.getConf().getAll();"
      ],
      "metadata": {
        "id": "-G6yIyx9jCIx"
      },
      "execution_count": null,
      "outputs": []
    },
    {
      "cell_type": "code",
      "source": [
        "from pyspark import SparkContext, SparkConf\n",
        "conf = SparkConf().setAppName(\"sample_app\")\n",
        "from pyspark.sql import SQLContext\n",
        "import pyspark.sql.functions as f\n",
        "from pyspark.sql.types import IntegerType\n",
        "from pyspark.sql import SparkSession\n",
        "from pyspark.sql.functions import when\n",
        "from pyspark.sql.functions import udf,col\n",
        "import re  # Regex Library\n",
        "from pyspark.sql import functions as f"
      ],
      "metadata": {
        "id": "se8r8iDNUUzh"
      },
      "execution_count": null,
      "outputs": []
    },
    {
      "cell_type": "markdown",
      "source": [
        "**To read the CSV file.**"
      ],
      "metadata": {
        "id": "TsZXkI-CUrSi"
      }
    },
    {
      "cell_type": "code",
      "source": [
        "Airlines_data=spark.read.csv(\"/content/Airline_data.csv\",header=True,inferSchema=True)"
      ],
      "metadata": {
        "id": "2f4UY52NjCLf"
      },
      "execution_count": null,
      "outputs": []
    },
    {
      "cell_type": "markdown",
      "source": [
        "**Observations :** By using describe function we can actually see how the data and what the data is about. "
      ],
      "metadata": {
        "id": "q66EyZVSUYWC"
      }
    },
    {
      "cell_type": "code",
      "source": [
        "summary = Airlines_data.describe().show()"
      ],
      "metadata": {
        "colab": {
          "base_uri": "https://localhost:8080/"
        },
        "id": "wpcuYa4ojCOT",
        "outputId": "139cf74d-e3ec-4529-9f09-fb2a3a7d9539"
      },
      "execution_count": null,
      "outputs": [
        {
          "output_type": "stream",
          "name": "stdout",
          "text": [
            "+-------+------+-----+-----------------+-----------------+------------------+-----------------+------------------+------------------+-------------+-----------------+-------+------------------+------------------+-------+------------------+------------------+------+----+------------------+------+-------+---------+----------------+--------+------------+------------+--------+-------------+-----------------+\n",
            "|summary|  Year|Month|       DayofMonth|        DayOfWeek|           DepTime|       CRSDepTime|           ArrTime|        CRSArrTime|UniqueCarrier|        FlightNum|TailNum| ActualElapsedTime|    CRSElapsedTime|AirTime|          ArrDelay|          DepDelay|Origin|Dest|          Distance|TaxiIn|TaxiOut|Cancelled|CancellationCode|Diverted|CarrierDelay|WeatherDelay|NASDelay|SecurityDelay|LateAircraftDelay|\n",
            "+-------+------+-----+-----------------+-----------------+------------------+-----------------+------------------+------------------+-------------+-----------------+-------+------------------+------------------+-------+------------------+------------------+------+----+------------------+------+-------+---------+----------------+--------+------------+------------+--------+-------------+-----------------+\n",
            "|  count|   426|  426|              426|              426|               426|              426|               426|               426|          426|              426|    426|               426|               426|    426|               426|               426|   426| 426|               426|   426|    426|      426|             426|     426|         426|         426|     426|          426|              426|\n",
            "|   mean|1989.0|  1.0|             16.0|3.924882629107981|1373.2652582159624|1362.805164319249|1598.3004694835681| 1576.913145539906|         null|186.6056338028169|   null|238.55633802816902|237.58215962441315|   null|11.997652582159624|11.023474178403756|  null|null|1772.9037558685445|  null|   null|      0.0|            null|     0.0|        null|        null|    null|         null|             null|\n",
            "| stddev|   0.0|  0.0|8.989405528993888|2.099633718270294| 488.0888564856431|489.4697559091241|493.18761861255217|492.27226753061103|         null|2.799052982233268|   null| 111.9712898904665|112.02339697227269|   null| 32.44727841945462| 28.27852085566072|  null|null| 929.2076967268667|  null|   null|      0.0|            null|     0.0|        null|        null|    null|         null|             null|\n",
            "|    min|  1989|    1|                1|                1|                16|               20|               504|               515|           UA|              183|     NA|                33|                34|     NA|               -45|               -10|   DEN| DEN|               102|    NA|     NA|        0|              NA|       0|          NA|          NA|      NA|           NA|               NA|\n",
            "|    max|  1989|    1|               31|                7|              2253|             2230|              2356|              2247|           UA|              193|     NA|               404|               361|     NA|               233|               249|   SFO| SFO|              2556|    NA|     NA|        0|              NA|       0|          NA|          NA|      NA|           NA|               NA|\n",
            "+-------+------+-----+-----------------+-----------------+------------------+-----------------+------------------+------------------+-------------+-----------------+-------+------------------+------------------+-------+------------------+------------------+------+----+------------------+------+-------+---------+----------------+--------+------------+------------+--------+-------------+-----------------+\n",
            "\n"
          ]
        }
      ]
    },
    {
      "cell_type": "code",
      "source": [
        "Airlines_data.count()"
      ],
      "metadata": {
        "colab": {
          "base_uri": "https://localhost:8080/"
        },
        "id": "CUcnUIE4jCWT",
        "outputId": "7d34284f-027e-4ac7-9049-477a370d0728"
      },
      "execution_count": null,
      "outputs": [
        {
          "output_type": "execute_result",
          "data": {
            "text/plain": [
              "426"
            ]
          },
          "metadata": {},
          "execution_count": 21
        }
      ]
    },
    {
      "cell_type": "markdown",
      "source": [
        "\n",
        "**Observations :** By using count function we can find the no.of records present in the given data set. We have total **426 records**"
      ],
      "metadata": {
        "id": "5sJwFPaCUcLQ"
      }
    },
    {
      "cell_type": "code",
      "source": [
        "len(Airlines_data.columns)"
      ],
      "metadata": {
        "colab": {
          "base_uri": "https://localhost:8080/"
        },
        "id": "dWux7jUPjCZ_",
        "outputId": "9456d6bb-ec0d-4a7a-a252-32f516165a33"
      },
      "execution_count": null,
      "outputs": [
        {
          "output_type": "execute_result",
          "data": {
            "text/plain": [
              "29"
            ]
          },
          "metadata": {},
          "execution_count": 22
        }
      ]
    },
    {
      "cell_type": "markdown",
      "source": [
        "**Observations :** So, we came to know that data set has **29 attributes**"
      ],
      "metadata": {
        "id": "LiMGx3dfUd41"
      }
    },
    {
      "cell_type": "code",
      "source": [
        "Airlines_data.columns"
      ],
      "metadata": {
        "colab": {
          "base_uri": "https://localhost:8080/"
        },
        "id": "yPBwsou718VX",
        "outputId": "1360cc91-62ed-444d-a9d9-a84b0b51947a"
      },
      "execution_count": null,
      "outputs": [
        {
          "output_type": "execute_result",
          "data": {
            "text/plain": [
              "['Year',\n",
              " 'Month',\n",
              " 'DayofMonth',\n",
              " 'DayOfWeek',\n",
              " 'DepTime',\n",
              " 'CRSDepTime',\n",
              " 'ArrTime',\n",
              " 'CRSArrTime',\n",
              " 'UniqueCarrier',\n",
              " 'FlightNum',\n",
              " 'TailNum',\n",
              " 'ActualElapsedTime',\n",
              " 'CRSElapsedTime',\n",
              " 'AirTime',\n",
              " 'ArrDelay',\n",
              " 'DepDelay',\n",
              " 'Origin',\n",
              " 'Dest',\n",
              " 'Distance',\n",
              " 'TaxiIn',\n",
              " 'TaxiOut',\n",
              " 'Cancelled',\n",
              " 'CancellationCode',\n",
              " 'Diverted',\n",
              " 'CarrierDelay',\n",
              " 'WeatherDelay',\n",
              " 'NASDelay',\n",
              " 'SecurityDelay',\n",
              " 'LateAircraftDelay']"
            ]
          },
          "metadata": {},
          "execution_count": 26
        }
      ]
    },
    {
      "cell_type": "markdown",
      "source": [
        "**Observations :** If we have more columns or attributes,then we can list out the attributes and see which are present in the given data set by using above code."
      ],
      "metadata": {
        "id": "wlqWJadgUiR2"
      }
    },
    {
      "cell_type": "markdown",
      "source": [
        "1) Show a sample of 5 records from dataset.\n",
        "\n"
      ],
      "metadata": {
        "id": "QhJv1nkIPjta"
      }
    },
    {
      "cell_type": "code",
      "source": [
        "Airlines_data.show(5)"
      ],
      "metadata": {
        "colab": {
          "base_uri": "https://localhost:8080/"
        },
        "id": "k9_46hihPuOI",
        "outputId": "2050eab8-435f-48b0-8f93-aa20f2a69523"
      },
      "execution_count": null,
      "outputs": [
        {
          "output_type": "stream",
          "name": "stdout",
          "text": [
            "+----+-----+----------+---------+-------+----------+-------+----------+-------------+---------+-------+-----------------+--------------+-------+--------+--------+------+----+--------+------+-------+---------+----------------+--------+------------+------------+--------+-------------+-----------------+\n",
            "|Year|Month|DayofMonth|DayOfWeek|DepTime|CRSDepTime|ArrTime|CRSArrTime|UniqueCarrier|FlightNum|TailNum|ActualElapsedTime|CRSElapsedTime|AirTime|ArrDelay|DepDelay|Origin|Dest|Distance|TaxiIn|TaxiOut|Cancelled|CancellationCode|Diverted|CarrierDelay|WeatherDelay|NASDelay|SecurityDelay|LateAircraftDelay|\n",
            "+----+-----+----------+---------+-------+----------+-------+----------+-------------+---------+-------+-----------------+--------------+-------+--------+--------+------+----+--------+------+-------+---------+----------------+--------+------------+------------+--------+-------------+-----------------+\n",
            "|1989|    1|        23|        1|   1419|      1230|   1742|      1552|           UA|      183|     NA|              323|           322|     NA|     110|     109|   SFO| HNL|    2398|    NA|     NA|        0|              NA|       0|          NA|          NA|      NA|           NA|               NA|\n",
            "|1989|    1|        24|        2|   1255|      1230|   1612|      1552|           UA|      183|     NA|              317|           322|     NA|      20|      25|   SFO| HNL|    2398|    NA|     NA|        0|              NA|       0|          NA|          NA|      NA|           NA|               NA|\n",
            "|1989|    1|        25|        3|   1230|      1230|   1533|      1552|           UA|      183|     NA|              303|           322|     NA|     -19|       0|   SFO| HNL|    2398|    NA|     NA|        0|              NA|       0|          NA|          NA|      NA|           NA|               NA|\n",
            "|1989|    1|        26|        4|   1230|      1230|   1523|      1552|           UA|      183|     NA|              293|           322|     NA|     -29|       0|   SFO| HNL|    2398|    NA|     NA|        0|              NA|       0|          NA|          NA|      NA|           NA|               NA|\n",
            "|1989|    1|        27|        5|   1232|      1230|   1513|      1552|           UA|      183|     NA|              281|           322|     NA|     -39|       2|   SFO| HNL|    2398|    NA|     NA|        0|              NA|       0|          NA|          NA|      NA|           NA|               NA|\n",
            "+----+-----+----------+---------+-------+----------+-------+----------+-------------+---------+-------+-----------------+--------------+-------+--------+--------+------+----+--------+------+-------+---------+----------------+--------+------------+------------+--------+-------------+-----------------+\n",
            "only showing top 5 rows\n",
            "\n"
          ]
        }
      ]
    },
    {
      "cell_type": "markdown",
      "source": [
        "**Observations :** Showing the the 1st 5 rows of the dataframe as sample."
      ],
      "metadata": {
        "id": "OyPz1qmo2mNH"
      }
    },
    {
      "cell_type": "markdown",
      "source": [
        "2) Read the data with data types.\n",
        "\n"
      ],
      "metadata": {
        "id": "1g1qYtFdPlql"
      }
    },
    {
      "cell_type": "code",
      "source": [
        "Airlines_data.printSchema()"
      ],
      "metadata": {
        "colab": {
          "base_uri": "https://localhost:8080/"
        },
        "id": "dFtRWLAgPvAl",
        "outputId": "0e0ef0e2-ab21-4b5f-845a-45c3188eb16a"
      },
      "execution_count": null,
      "outputs": [
        {
          "output_type": "stream",
          "name": "stdout",
          "text": [
            "root\n",
            " |-- Year: integer (nullable = true)\n",
            " |-- Month: integer (nullable = true)\n",
            " |-- DayofMonth: integer (nullable = true)\n",
            " |-- DayOfWeek: integer (nullable = true)\n",
            " |-- DepTime: integer (nullable = true)\n",
            " |-- CRSDepTime: integer (nullable = true)\n",
            " |-- ArrTime: integer (nullable = true)\n",
            " |-- CRSArrTime: integer (nullable = true)\n",
            " |-- UniqueCarrier: string (nullable = true)\n",
            " |-- FlightNum: integer (nullable = true)\n",
            " |-- TailNum: string (nullable = true)\n",
            " |-- ActualElapsedTime: integer (nullable = true)\n",
            " |-- CRSElapsedTime: integer (nullable = true)\n",
            " |-- AirTime: string (nullable = true)\n",
            " |-- ArrDelay: integer (nullable = true)\n",
            " |-- DepDelay: integer (nullable = true)\n",
            " |-- Origin: string (nullable = true)\n",
            " |-- Dest: string (nullable = true)\n",
            " |-- Distance: integer (nullable = true)\n",
            " |-- TaxiIn: string (nullable = true)\n",
            " |-- TaxiOut: string (nullable = true)\n",
            " |-- Cancelled: integer (nullable = true)\n",
            " |-- CancellationCode: string (nullable = true)\n",
            " |-- Diverted: integer (nullable = true)\n",
            " |-- CarrierDelay: string (nullable = true)\n",
            " |-- WeatherDelay: string (nullable = true)\n",
            " |-- NASDelay: string (nullable = true)\n",
            " |-- SecurityDelay: string (nullable = true)\n",
            " |-- LateAircraftDelay: string (nullable = true)\n",
            "\n"
          ]
        }
      ]
    },
    {
      "cell_type": "markdown",
      "source": [
        "\n",
        "**Observations :** By using schema we can have a look at the Column data of which type it is. Then we can able to do our operations easily and accurately.\n",
        "\n"
      ],
      "metadata": {
        "id": "OXSJZVaS2kBa"
      }
    },
    {
      "cell_type": "markdown",
      "source": [
        "3) Make a new column MonthStr, Which has months in form of 01, 02, 03, ..., 12.\n",
        "\n"
      ],
      "metadata": {
        "id": "YWbAqTwkPnb_"
      }
    },
    {
      "cell_type": "code",
      "source": [
        "from pyspark.sql.functions import lit\n",
        "New_monthcol = Airlines_data.withColumn(\"Month_num\", when((Airlines_data.Month == \"1\"), lit(\"01\")))\n",
        "New_monthcol.show(10)"
      ],
      "metadata": {
        "colab": {
          "base_uri": "https://localhost:8080/"
        },
        "id": "B2vptsRIPvm-",
        "outputId": "b6a6734d-f6b9-4249-b9ac-d5936d243077"
      },
      "execution_count": null,
      "outputs": [
        {
          "output_type": "stream",
          "name": "stdout",
          "text": [
            "+----+-----+----------+---------+-------+----------+-------+----------+-------------+---------+-------+-----------------+--------------+-------+--------+--------+------+----+--------+------+-------+---------+----------------+--------+------------+------------+--------+-------------+-----------------+---------+\n",
            "|Year|Month|DayofMonth|DayOfWeek|DepTime|CRSDepTime|ArrTime|CRSArrTime|UniqueCarrier|FlightNum|TailNum|ActualElapsedTime|CRSElapsedTime|AirTime|ArrDelay|DepDelay|Origin|Dest|Distance|TaxiIn|TaxiOut|Cancelled|CancellationCode|Diverted|CarrierDelay|WeatherDelay|NASDelay|SecurityDelay|LateAircraftDelay|Month_num|\n",
            "+----+-----+----------+---------+-------+----------+-------+----------+-------------+---------+-------+-----------------+--------------+-------+--------+--------+------+----+--------+------+-------+---------+----------------+--------+------------+------------+--------+-------------+-----------------+---------+\n",
            "|1989|    1|        23|        1|   1419|      1230|   1742|      1552|           UA|      183|     NA|              323|           322|     NA|     110|     109|   SFO| HNL|    2398|    NA|     NA|        0|              NA|       0|          NA|          NA|      NA|           NA|               NA|       01|\n",
            "|1989|    1|        24|        2|   1255|      1230|   1612|      1552|           UA|      183|     NA|              317|           322|     NA|      20|      25|   SFO| HNL|    2398|    NA|     NA|        0|              NA|       0|          NA|          NA|      NA|           NA|               NA|       01|\n",
            "|1989|    1|        25|        3|   1230|      1230|   1533|      1552|           UA|      183|     NA|              303|           322|     NA|     -19|       0|   SFO| HNL|    2398|    NA|     NA|        0|              NA|       0|          NA|          NA|      NA|           NA|               NA|       01|\n",
            "|1989|    1|        26|        4|   1230|      1230|   1523|      1552|           UA|      183|     NA|              293|           322|     NA|     -29|       0|   SFO| HNL|    2398|    NA|     NA|        0|              NA|       0|          NA|          NA|      NA|           NA|               NA|       01|\n",
            "|1989|    1|        27|        5|   1232|      1230|   1513|      1552|           UA|      183|     NA|              281|           322|     NA|     -39|       2|   SFO| HNL|    2398|    NA|     NA|        0|              NA|       0|          NA|          NA|      NA|           NA|               NA|       01|\n",
            "|1989|    1|        28|        6|   1228|      1230|   1550|      1552|           UA|      183|     NA|              322|           322|     NA|      -2|      -2|   SFO| HNL|    2398|    NA|     NA|        0|              NA|       0|          NA|          NA|      NA|           NA|               NA|       01|\n",
            "|1989|    1|        29|        7|   1639|      1230|   1942|      1552|           UA|      183|     NA|              303|           322|     NA|     230|     249|   SFO| HNL|    2398|    NA|     NA|        0|              NA|       0|          NA|          NA|      NA|           NA|               NA|       01|\n",
            "|1989|    1|        30|        1|   1231|      1230|   1531|      1552|           UA|      183|     NA|              300|           322|     NA|     -21|       1|   SFO| HNL|    2398|    NA|     NA|        0|              NA|       0|          NA|          NA|      NA|           NA|               NA|       01|\n",
            "|1989|    1|        31|        2|   1405|      1230|   1827|      1552|           UA|      183|     NA|              382|           322|     NA|     155|      95|   SFO| HNL|    2398|    NA|     NA|        0|              NA|       0|          NA|          NA|      NA|           NA|               NA|       01|\n",
            "|1989|    1|         2|        1|   1057|      1045|   1537|      1554|           UA|      184|     NA|              160|           189|     NA|     -17|      12|   DEN| IAD|    1452|    NA|     NA|        0|              NA|       0|          NA|          NA|      NA|           NA|               NA|       01|\n",
            "+----+-----+----------+---------+-------+----------+-------+----------+-------------+---------+-------+-----------------+--------------+-------+--------+--------+------+----+--------+------+-------+---------+----------------+--------+------------+------------+--------+-------------+-----------------+---------+\n",
            "only showing top 10 rows\n",
            "\n"
          ]
        }
      ]
    },
    {
      "cell_type": "markdown",
      "source": [
        "**Observations** :- Here, by suing \"lit\" function we used to create a new column with values depend upon another column which is already in the data frame. So, with respect to the values present in the \"Month\" column, we created a new column values as shown above. \n",
        "For example **the value \"1\" in the \"Month\" column, we written code to create \"01\" as the values in the new column \"Month_num\"**."
      ],
      "metadata": {
        "id": "nlIewxjv2ipb"
      }
    },
    {
      "cell_type": "markdown",
      "source": [
        "4) Find the Unique carrier of flights each airline made.\n",
        "\n"
      ],
      "metadata": {
        "id": "L5VsAzvkPpDB"
      }
    },
    {
      "cell_type": "code",
      "source": [
        "flightscarrier = Airlines_data.groupby('UniqueCarrier').count().sort(\"count\").show(n=5,truncate=False)"
      ],
      "metadata": {
        "colab": {
          "base_uri": "https://localhost:8080/"
        },
        "id": "aSVe20mv1Rwo",
        "outputId": "f9783316-e711-478b-cfd3-2fa6d71c4185"
      },
      "execution_count": null,
      "outputs": [
        {
          "output_type": "stream",
          "name": "stdout",
          "text": [
            "+-------------+-----+\n",
            "|UniqueCarrier|count|\n",
            "+-------------+-----+\n",
            "|UA           |426  |\n",
            "+-------------+-----+\n",
            "\n"
          ]
        }
      ]
    },
    {
      "cell_type": "markdown",
      "source": [
        "**Observations :** By using group by function , we came to know that we have only 1 unique carrier in the given data set. And for that unique carrier **\"UA\"** has **426 flights**"
      ],
      "metadata": {
        "id": "CJvminnq2gtr"
      }
    },
    {
      "cell_type": "markdown",
      "source": [
        "5) Find the mean departure delay per origination airport.\n",
        "\n"
      ],
      "metadata": {
        "id": "6MoxOMJfPqhJ"
      }
    },
    {
      "cell_type": "code",
      "source": [
        "from pyspark.sql.functions import sum,desc,avg\n",
        "Mean_Arrival_delay = Airlines_data.groupby(\"Origin\").agg(avg(\"ArrDelay\").alias(\"Arrival_Delay\"))\n",
        "Mean_Arrival_delay.show(n=100,truncate=False)\n"
      ],
      "metadata": {
        "colab": {
          "base_uri": "https://localhost:8080/"
        },
        "id": "qKWRI_BcPxZv",
        "outputId": "ee48cc1f-aca8-42e4-aa7b-3e686b032391"
      },
      "execution_count": null,
      "outputs": [
        {
          "output_type": "stream",
          "name": "stdout",
          "text": [
            "+------+-------------------+\n",
            "|Origin|Arrival_Delay      |\n",
            "+------+-------------------+\n",
            "|LIH   |0.16666666666666666|\n",
            "|HNL   |14.21774193548387  |\n",
            "|EWR   |9.25               |\n",
            "|DEN   |20.166666666666668 |\n",
            "|IAD   |12.966666666666667 |\n",
            "|SFO   |11.215384615384615 |\n",
            "|PHL   |6.827586206896552  |\n",
            "|OGG   |16.24137931034483  |\n",
            "+------+-------------------+\n",
            "\n"
          ]
        }
      ]
    },
    {
      "cell_type": "markdown",
      "source": [
        "**Observations :** By using group by we can check the unique  Origin place of the flight and by using aggregate function we can check the average delay time of the flights from a particluar region."
      ],
      "metadata": {
        "id": "ymNs4t972bhk"
      }
    },
    {
      "cell_type": "markdown",
      "source": [
        "6) What is the average departure delay from each airport?"
      ],
      "metadata": {
        "id": "7FMbEHGNPsDo"
      }
    },
    {
      "cell_type": "code",
      "source": [
        "Mean_Departure_delay = Airlines_data.groupby(\"Origin\").agg(avg(\"DepDelay\").alias(\"Departure_Delay\"))\n",
        "Mean_Departure_delay.show(n=100,truncate=False)\n"
      ],
      "metadata": {
        "colab": {
          "base_uri": "https://localhost:8080/"
        },
        "id": "0LHMPTiAjCf0",
        "outputId": "f11a471c-29dc-4004-b373-944ecd406bc3"
      },
      "execution_count": null,
      "outputs": [
        {
          "output_type": "stream",
          "name": "stdout",
          "text": [
            "+------+-------------------+\n",
            "|Origin|Departure_Delay    |\n",
            "+------+-------------------+\n",
            "|LIH   |-3.7666666666666666|\n",
            "|HNL   |3.217741935483871  |\n",
            "|EWR   |4.958333333333333  |\n",
            "|DEN   |27.6               |\n",
            "|IAD   |8.9                |\n",
            "|SFO   |19.646153846153847 |\n",
            "|PHL   |16.137931034482758 |\n",
            "|OGG   |6.0                |\n",
            "+------+-------------------+\n",
            "\n"
          ]
        }
      ]
    },
    {
      "cell_type": "markdown",
      "source": [
        "**Observations :** By using group by we can check the unique  Departure of the flight and by using aggregate function we can check the average delay time of the flights from a particluar region."
      ],
      "metadata": {
        "id": "aSUCnqM62fNX"
      }
    }
  ]
}