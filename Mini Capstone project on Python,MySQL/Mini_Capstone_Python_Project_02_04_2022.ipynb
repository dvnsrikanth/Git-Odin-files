{
  "nbformat": 4,
  "nbformat_minor": 0,
  "metadata": {
    "colab": {
      "name": "Mini_Capstone_Python_Project_02-04-2022.ipynb",
      "provenance": [],
      "collapsed_sections": []
    },
    "kernelspec": {
      "name": "python3",
      "display_name": "Python 3"
    },
    "language_info": {
      "name": "python"
    }
  },
  "cells": [
    {
      "cell_type": "code",
      "source": [
        "import numpy as np\n",
        "import pandas as pd\n",
        "import matplotlib.pyplot as plt\n",
        "import seaborn as sns\n"
      ],
      "metadata": {
        "id": "VAv5jc5ap0Y0"
      },
      "execution_count": null,
      "outputs": []
    },
    {
      "cell_type": "code",
      "source": [
        "df = pd.read_csv('/content/TelcoChurn')"
      ],
      "metadata": {
        "id": "l_ZJ-NFKwtWx"
      },
      "execution_count": null,
      "outputs": []
    },
    {
      "cell_type": "code",
      "source": [
        "df.head()"
      ],
      "metadata": {
        "colab": {
          "base_uri": "https://localhost:8080/",
          "height": 438
        },
        "id": "V9hQ01LcxGt9",
        "outputId": "084b4b9c-9b42-4028-f195-f01194bd4de1"
      },
      "execution_count": null,
      "outputs": [
        {
          "output_type": "execute_result",
          "data": {
            "text/plain": [
              "   CustomerID  Count        Country       State         City  Zip Code  \\\n",
              "0  3668-QPYBK      1  United States  California  Los Angeles     90003   \n",
              "1  9237-HQITU      1  United States  California  Los Angeles     90005   \n",
              "2  9305-CDSKC      1  United States  California  Los Angeles     90006   \n",
              "3  7892-POOKP      1  United States  California  Los Angeles     90010   \n",
              "4  0280-XJGEX      1  United States  California  Los Angeles     90015   \n",
              "\n",
              "                 Lat Long   Latitude   Longitude  Gender  ...        Contract  \\\n",
              "0  33.964131, -118.272783  33.964131 -118.272783    Male  ...  Month-to-month   \n",
              "1   34.059281, -118.30742  34.059281 -118.307420  Female  ...  Month-to-month   \n",
              "2  34.048013, -118.293953  34.048013 -118.293953  Female  ...  Month-to-month   \n",
              "3  34.062125, -118.315709  34.062125 -118.315709  Female  ...  Month-to-month   \n",
              "4  34.039224, -118.266293  34.039224 -118.266293    Male  ...  Month-to-month   \n",
              "\n",
              "  Paperless Billing             Payment Method  Monthly Charges Total Charges  \\\n",
              "0               Yes               Mailed check            53.85        108.15   \n",
              "1               Yes           Electronic check            70.70        151.65   \n",
              "2               Yes           Electronic check            99.65         820.5   \n",
              "3               Yes           Electronic check           104.80       3046.05   \n",
              "4               Yes  Bank transfer (automatic)           103.70        5036.3   \n",
              "\n",
              "  Churn Label Churn Value Churn Score  CLTV                   Churn Reason  \n",
              "0         Yes           1          86  3239   Competitor made better offer  \n",
              "1         Yes           1          67  2701                          Moved  \n",
              "2         Yes           1          86  5372                          Moved  \n",
              "3         Yes           1          84  5003                          Moved  \n",
              "4         Yes           1          89  5340  Competitor had better devices  \n",
              "\n",
              "[5 rows x 33 columns]"
            ],
            "text/html": [
              "\n",
              "  <div id=\"df-55bfee3c-d135-4d04-83c8-559cf256995e\">\n",
              "    <div class=\"colab-df-container\">\n",
              "      <div>\n",
              "<style scoped>\n",
              "    .dataframe tbody tr th:only-of-type {\n",
              "        vertical-align: middle;\n",
              "    }\n",
              "\n",
              "    .dataframe tbody tr th {\n",
              "        vertical-align: top;\n",
              "    }\n",
              "\n",
              "    .dataframe thead th {\n",
              "        text-align: right;\n",
              "    }\n",
              "</style>\n",
              "<table border=\"1\" class=\"dataframe\">\n",
              "  <thead>\n",
              "    <tr style=\"text-align: right;\">\n",
              "      <th></th>\n",
              "      <th>CustomerID</th>\n",
              "      <th>Count</th>\n",
              "      <th>Country</th>\n",
              "      <th>State</th>\n",
              "      <th>City</th>\n",
              "      <th>Zip Code</th>\n",
              "      <th>Lat Long</th>\n",
              "      <th>Latitude</th>\n",
              "      <th>Longitude</th>\n",
              "      <th>Gender</th>\n",
              "      <th>...</th>\n",
              "      <th>Contract</th>\n",
              "      <th>Paperless Billing</th>\n",
              "      <th>Payment Method</th>\n",
              "      <th>Monthly Charges</th>\n",
              "      <th>Total Charges</th>\n",
              "      <th>Churn Label</th>\n",
              "      <th>Churn Value</th>\n",
              "      <th>Churn Score</th>\n",
              "      <th>CLTV</th>\n",
              "      <th>Churn Reason</th>\n",
              "    </tr>\n",
              "  </thead>\n",
              "  <tbody>\n",
              "    <tr>\n",
              "      <th>0</th>\n",
              "      <td>3668-QPYBK</td>\n",
              "      <td>1</td>\n",
              "      <td>United States</td>\n",
              "      <td>California</td>\n",
              "      <td>Los Angeles</td>\n",
              "      <td>90003</td>\n",
              "      <td>33.964131, -118.272783</td>\n",
              "      <td>33.964131</td>\n",
              "      <td>-118.272783</td>\n",
              "      <td>Male</td>\n",
              "      <td>...</td>\n",
              "      <td>Month-to-month</td>\n",
              "      <td>Yes</td>\n",
              "      <td>Mailed check</td>\n",
              "      <td>53.85</td>\n",
              "      <td>108.15</td>\n",
              "      <td>Yes</td>\n",
              "      <td>1</td>\n",
              "      <td>86</td>\n",
              "      <td>3239</td>\n",
              "      <td>Competitor made better offer</td>\n",
              "    </tr>\n",
              "    <tr>\n",
              "      <th>1</th>\n",
              "      <td>9237-HQITU</td>\n",
              "      <td>1</td>\n",
              "      <td>United States</td>\n",
              "      <td>California</td>\n",
              "      <td>Los Angeles</td>\n",
              "      <td>90005</td>\n",
              "      <td>34.059281, -118.30742</td>\n",
              "      <td>34.059281</td>\n",
              "      <td>-118.307420</td>\n",
              "      <td>Female</td>\n",
              "      <td>...</td>\n",
              "      <td>Month-to-month</td>\n",
              "      <td>Yes</td>\n",
              "      <td>Electronic check</td>\n",
              "      <td>70.70</td>\n",
              "      <td>151.65</td>\n",
              "      <td>Yes</td>\n",
              "      <td>1</td>\n",
              "      <td>67</td>\n",
              "      <td>2701</td>\n",
              "      <td>Moved</td>\n",
              "    </tr>\n",
              "    <tr>\n",
              "      <th>2</th>\n",
              "      <td>9305-CDSKC</td>\n",
              "      <td>1</td>\n",
              "      <td>United States</td>\n",
              "      <td>California</td>\n",
              "      <td>Los Angeles</td>\n",
              "      <td>90006</td>\n",
              "      <td>34.048013, -118.293953</td>\n",
              "      <td>34.048013</td>\n",
              "      <td>-118.293953</td>\n",
              "      <td>Female</td>\n",
              "      <td>...</td>\n",
              "      <td>Month-to-month</td>\n",
              "      <td>Yes</td>\n",
              "      <td>Electronic check</td>\n",
              "      <td>99.65</td>\n",
              "      <td>820.5</td>\n",
              "      <td>Yes</td>\n",
              "      <td>1</td>\n",
              "      <td>86</td>\n",
              "      <td>5372</td>\n",
              "      <td>Moved</td>\n",
              "    </tr>\n",
              "    <tr>\n",
              "      <th>3</th>\n",
              "      <td>7892-POOKP</td>\n",
              "      <td>1</td>\n",
              "      <td>United States</td>\n",
              "      <td>California</td>\n",
              "      <td>Los Angeles</td>\n",
              "      <td>90010</td>\n",
              "      <td>34.062125, -118.315709</td>\n",
              "      <td>34.062125</td>\n",
              "      <td>-118.315709</td>\n",
              "      <td>Female</td>\n",
              "      <td>...</td>\n",
              "      <td>Month-to-month</td>\n",
              "      <td>Yes</td>\n",
              "      <td>Electronic check</td>\n",
              "      <td>104.80</td>\n",
              "      <td>3046.05</td>\n",
              "      <td>Yes</td>\n",
              "      <td>1</td>\n",
              "      <td>84</td>\n",
              "      <td>5003</td>\n",
              "      <td>Moved</td>\n",
              "    </tr>\n",
              "    <tr>\n",
              "      <th>4</th>\n",
              "      <td>0280-XJGEX</td>\n",
              "      <td>1</td>\n",
              "      <td>United States</td>\n",
              "      <td>California</td>\n",
              "      <td>Los Angeles</td>\n",
              "      <td>90015</td>\n",
              "      <td>34.039224, -118.266293</td>\n",
              "      <td>34.039224</td>\n",
              "      <td>-118.266293</td>\n",
              "      <td>Male</td>\n",
              "      <td>...</td>\n",
              "      <td>Month-to-month</td>\n",
              "      <td>Yes</td>\n",
              "      <td>Bank transfer (automatic)</td>\n",
              "      <td>103.70</td>\n",
              "      <td>5036.3</td>\n",
              "      <td>Yes</td>\n",
              "      <td>1</td>\n",
              "      <td>89</td>\n",
              "      <td>5340</td>\n",
              "      <td>Competitor had better devices</td>\n",
              "    </tr>\n",
              "  </tbody>\n",
              "</table>\n",
              "<p>5 rows × 33 columns</p>\n",
              "</div>\n",
              "      <button class=\"colab-df-convert\" onclick=\"convertToInteractive('df-55bfee3c-d135-4d04-83c8-559cf256995e')\"\n",
              "              title=\"Convert this dataframe to an interactive table.\"\n",
              "              style=\"display:none;\">\n",
              "        \n",
              "  <svg xmlns=\"http://www.w3.org/2000/svg\" height=\"24px\"viewBox=\"0 0 24 24\"\n",
              "       width=\"24px\">\n",
              "    <path d=\"M0 0h24v24H0V0z\" fill=\"none\"/>\n",
              "    <path d=\"M18.56 5.44l.94 2.06.94-2.06 2.06-.94-2.06-.94-.94-2.06-.94 2.06-2.06.94zm-11 1L8.5 8.5l.94-2.06 2.06-.94-2.06-.94L8.5 2.5l-.94 2.06-2.06.94zm10 10l.94 2.06.94-2.06 2.06-.94-2.06-.94-.94-2.06-.94 2.06-2.06.94z\"/><path d=\"M17.41 7.96l-1.37-1.37c-.4-.4-.92-.59-1.43-.59-.52 0-1.04.2-1.43.59L10.3 9.45l-7.72 7.72c-.78.78-.78 2.05 0 2.83L4 21.41c.39.39.9.59 1.41.59.51 0 1.02-.2 1.41-.59l7.78-7.78 2.81-2.81c.8-.78.8-2.07 0-2.86zM5.41 20L4 18.59l7.72-7.72 1.47 1.35L5.41 20z\"/>\n",
              "  </svg>\n",
              "      </button>\n",
              "      \n",
              "  <style>\n",
              "    .colab-df-container {\n",
              "      display:flex;\n",
              "      flex-wrap:wrap;\n",
              "      gap: 12px;\n",
              "    }\n",
              "\n",
              "    .colab-df-convert {\n",
              "      background-color: #E8F0FE;\n",
              "      border: none;\n",
              "      border-radius: 50%;\n",
              "      cursor: pointer;\n",
              "      display: none;\n",
              "      fill: #1967D2;\n",
              "      height: 32px;\n",
              "      padding: 0 0 0 0;\n",
              "      width: 32px;\n",
              "    }\n",
              "\n",
              "    .colab-df-convert:hover {\n",
              "      background-color: #E2EBFA;\n",
              "      box-shadow: 0px 1px 2px rgba(60, 64, 67, 0.3), 0px 1px 3px 1px rgba(60, 64, 67, 0.15);\n",
              "      fill: #174EA6;\n",
              "    }\n",
              "\n",
              "    [theme=dark] .colab-df-convert {\n",
              "      background-color: #3B4455;\n",
              "      fill: #D2E3FC;\n",
              "    }\n",
              "\n",
              "    [theme=dark] .colab-df-convert:hover {\n",
              "      background-color: #434B5C;\n",
              "      box-shadow: 0px 1px 3px 1px rgba(0, 0, 0, 0.15);\n",
              "      filter: drop-shadow(0px 1px 2px rgba(0, 0, 0, 0.3));\n",
              "      fill: #FFFFFF;\n",
              "    }\n",
              "  </style>\n",
              "\n",
              "      <script>\n",
              "        const buttonEl =\n",
              "          document.querySelector('#df-55bfee3c-d135-4d04-83c8-559cf256995e button.colab-df-convert');\n",
              "        buttonEl.style.display =\n",
              "          google.colab.kernel.accessAllowed ? 'block' : 'none';\n",
              "\n",
              "        async function convertToInteractive(key) {\n",
              "          const element = document.querySelector('#df-55bfee3c-d135-4d04-83c8-559cf256995e');\n",
              "          const dataTable =\n",
              "            await google.colab.kernel.invokeFunction('convertToInteractive',\n",
              "                                                     [key], {});\n",
              "          if (!dataTable) return;\n",
              "\n",
              "          const docLinkHtml = 'Like what you see? Visit the ' +\n",
              "            '<a target=\"_blank\" href=https://colab.research.google.com/notebooks/data_table.ipynb>data table notebook</a>'\n",
              "            + ' to learn more about interactive tables.';\n",
              "          element.innerHTML = '';\n",
              "          dataTable['output_type'] = 'display_data';\n",
              "          await google.colab.output.renderOutput(dataTable, element);\n",
              "          const docLink = document.createElement('div');\n",
              "          docLink.innerHTML = docLinkHtml;\n",
              "          element.appendChild(docLink);\n",
              "        }\n",
              "      </script>\n",
              "    </div>\n",
              "  </div>\n",
              "  "
            ]
          },
          "metadata": {},
          "execution_count": 5
        }
      ]
    },
    {
      "cell_type": "code",
      "source": [
        "df.shape"
      ],
      "metadata": {
        "colab": {
          "base_uri": "https://localhost:8080/"
        },
        "id": "zUZptlQ92Lsb",
        "outputId": "ff4e571d-fb08-4a3a-c233-7be65e5cf49b"
      },
      "execution_count": null,
      "outputs": [
        {
          "output_type": "execute_result",
          "data": {
            "text/plain": [
              "(7043, 33)"
            ]
          },
          "metadata": {},
          "execution_count": 6
        }
      ]
    },
    {
      "cell_type": "code",
      "source": [
        "df.info()"
      ],
      "metadata": {
        "colab": {
          "base_uri": "https://localhost:8080/"
        },
        "id": "lmremA9_xitC",
        "outputId": "c79cd7bf-53ce-4f8b-cdb8-8ccbe8dac1d4"
      },
      "execution_count": null,
      "outputs": [
        {
          "output_type": "stream",
          "name": "stdout",
          "text": [
            "<class 'pandas.core.frame.DataFrame'>\n",
            "RangeIndex: 7043 entries, 0 to 7042\n",
            "Data columns (total 33 columns):\n",
            " #   Column             Non-Null Count  Dtype  \n",
            "---  ------             --------------  -----  \n",
            " 0   CustomerID         7043 non-null   object \n",
            " 1   Count              7043 non-null   int64  \n",
            " 2   Country            7043 non-null   object \n",
            " 3   State              7043 non-null   object \n",
            " 4   City               7043 non-null   object \n",
            " 5   Zip Code           7043 non-null   int64  \n",
            " 6   Lat Long           7043 non-null   object \n",
            " 7   Latitude           7043 non-null   float64\n",
            " 8   Longitude          7043 non-null   float64\n",
            " 9   Gender             7043 non-null   object \n",
            " 10  Senior Citizen     7043 non-null   object \n",
            " 11  Partner            7043 non-null   object \n",
            " 12  Dependents         7043 non-null   object \n",
            " 13  Tenure Months      7043 non-null   int64  \n",
            " 14  Phone Service      7043 non-null   object \n",
            " 15  Multiple Lines     7043 non-null   object \n",
            " 16  Internet Service   7043 non-null   object \n",
            " 17  Online Security    7043 non-null   object \n",
            " 18  Online Backup      7043 non-null   object \n",
            " 19  Device Protection  7043 non-null   object \n",
            " 20  Tech Support       7043 non-null   object \n",
            " 21  Streaming TV       7043 non-null   object \n",
            " 22  Streaming Movies   7043 non-null   object \n",
            " 23  Contract           7043 non-null   object \n",
            " 24  Paperless Billing  7043 non-null   object \n",
            " 25  Payment Method     7043 non-null   object \n",
            " 26  Monthly Charges    7043 non-null   float64\n",
            " 27  Total Charges      7043 non-null   object \n",
            " 28  Churn Label        7043 non-null   object \n",
            " 29  Churn Value        7043 non-null   int64  \n",
            " 30  Churn Score        7043 non-null   int64  \n",
            " 31  CLTV               7043 non-null   int64  \n",
            " 32  Churn Reason       1869 non-null   object \n",
            "dtypes: float64(3), int64(6), object(24)\n",
            "memory usage: 1.8+ MB\n"
          ]
        }
      ]
    },
    {
      "cell_type": "code",
      "source": [
        "df.columns"
      ],
      "metadata": {
        "colab": {
          "base_uri": "https://localhost:8080/"
        },
        "id": "uo8NqV2jx6yQ",
        "outputId": "b73f6dbc-f850-46a2-b713-d652de3e8941"
      },
      "execution_count": null,
      "outputs": [
        {
          "output_type": "execute_result",
          "data": {
            "text/plain": [
              "Index(['CustomerID', 'Count', 'Country', 'State', 'City', 'Zip Code',\n",
              "       'Lat Long', 'Latitude', 'Longitude', 'Gender', 'Senior Citizen',\n",
              "       'Partner', 'Dependents', 'Tenure Months', 'Phone Service',\n",
              "       'Multiple Lines', 'Internet Service', 'Online Security',\n",
              "       'Online Backup', 'Device Protection', 'Tech Support', 'Streaming TV',\n",
              "       'Streaming Movies', 'Contract', 'Paperless Billing', 'Payment Method',\n",
              "       'Monthly Charges', 'Total Charges', 'Churn Label', 'Churn Value',\n",
              "       'Churn Score', 'CLTV', 'Churn Reason'],\n",
              "      dtype='object')"
            ]
          },
          "metadata": {},
          "execution_count": 9
        }
      ]
    },
    {
      "cell_type": "markdown",
      "source": [
        "## Q1: Please read the file and explain data types statistically as well as how python is reading it. Please let us know if any data type is read wrong.\n",
        "\n"
      ],
      "metadata": {
        "id": "ccs0ZQdCCEyy"
      }
    },
    {
      "cell_type": "markdown",
      "source": [
        "*  From the below table, I'm explained all the data types statistcally\n",
        "\n",
        "  \n",
        "\n",
        "*  There is a wrong in reading the data type of a field in Data Set by python. We can see from the info above.\n",
        "\n",
        "\n",
        "That is, \"Total Charges\" field is showing as 'Object' data type.\n",
        "\n",
        "  But the name \"Total Charges\" itself replicates us it is related to the Cost value and it should be in float\n",
        "\n",
        "*   So,need to change the data type of the column \"Total Charges\" to 'float'.\n",
        "\n",
        "\n",
        "\n",
        "\n",
        "\n",
        "\n",
        "## **And below is the table to describe the Statistical Data Type of the data set fields**"
      ],
      "metadata": {
        "id": "jLaypGuRbDb4"
      }
    },
    {
      "cell_type": "markdown",
      "source": [
        "![image.png](data:image/png;base64,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)![image.png]()"
      ],
      "metadata": {
        "id": "giBjnYIaUNEX"
      }
    },
    {
      "cell_type": "markdown",
      "source": [
        "## Q2: Please apply appropriate statistical measures using python based on data types.\n",
        "\n"
      ],
      "metadata": {
        "id": "uff58JfGCGoX"
      }
    },
    {
      "cell_type": "code",
      "source": [
        "df.describe().iloc[1:,4:]"
      ],
      "metadata": {
        "id": "UhXkdWQHB_7l",
        "colab": {
          "base_uri": "https://localhost:8080/",
          "height": 269
        },
        "outputId": "1997eb74-27e0-42e6-8181-9b84658adae8"
      },
      "execution_count": null,
      "outputs": [
        {
          "output_type": "execute_result",
          "data": {
            "text/plain": [
              "      Tenure Months  Monthly Charges  Total Charges  Churn Value  Churn Score  \\\n",
              "mean      32.371149        64.761692    2283.300441     0.265370    58.699418   \n",
              "std       24.559481        30.090047    2266.771362     0.441561    21.525131   \n",
              "min        0.000000        18.250000      18.800000     0.000000     5.000000   \n",
              "25%        9.000000        35.500000     401.450000     0.000000    40.000000   \n",
              "50%       29.000000        70.350000    1397.475000     0.000000    61.000000   \n",
              "75%       55.000000        89.850000    3794.737500     1.000000    75.000000   \n",
              "max       72.000000       118.750000    8684.800000     1.000000   100.000000   \n",
              "\n",
              "             CLTV  \n",
              "mean  4400.295755  \n",
              "std   1183.057152  \n",
              "min   2003.000000  \n",
              "25%   3469.000000  \n",
              "50%   4527.000000  \n",
              "75%   5380.500000  \n",
              "max   6500.000000  "
            ],
            "text/html": [
              "\n",
              "  <div id=\"df-01e28f2f-42cf-4179-901b-a8845b7464b1\">\n",
              "    <div class=\"colab-df-container\">\n",
              "      <div>\n",
              "<style scoped>\n",
              "    .dataframe tbody tr th:only-of-type {\n",
              "        vertical-align: middle;\n",
              "    }\n",
              "\n",
              "    .dataframe tbody tr th {\n",
              "        vertical-align: top;\n",
              "    }\n",
              "\n",
              "    .dataframe thead th {\n",
              "        text-align: right;\n",
              "    }\n",
              "</style>\n",
              "<table border=\"1\" class=\"dataframe\">\n",
              "  <thead>\n",
              "    <tr style=\"text-align: right;\">\n",
              "      <th></th>\n",
              "      <th>Tenure Months</th>\n",
              "      <th>Monthly Charges</th>\n",
              "      <th>Total Charges</th>\n",
              "      <th>Churn Value</th>\n",
              "      <th>Churn Score</th>\n",
              "      <th>CLTV</th>\n",
              "    </tr>\n",
              "  </thead>\n",
              "  <tbody>\n",
              "    <tr>\n",
              "      <th>mean</th>\n",
              "      <td>32.371149</td>\n",
              "      <td>64.761692</td>\n",
              "      <td>2283.300441</td>\n",
              "      <td>0.265370</td>\n",
              "      <td>58.699418</td>\n",
              "      <td>4400.295755</td>\n",
              "    </tr>\n",
              "    <tr>\n",
              "      <th>std</th>\n",
              "      <td>24.559481</td>\n",
              "      <td>30.090047</td>\n",
              "      <td>2266.771362</td>\n",
              "      <td>0.441561</td>\n",
              "      <td>21.525131</td>\n",
              "      <td>1183.057152</td>\n",
              "    </tr>\n",
              "    <tr>\n",
              "      <th>min</th>\n",
              "      <td>0.000000</td>\n",
              "      <td>18.250000</td>\n",
              "      <td>18.800000</td>\n",
              "      <td>0.000000</td>\n",
              "      <td>5.000000</td>\n",
              "      <td>2003.000000</td>\n",
              "    </tr>\n",
              "    <tr>\n",
              "      <th>25%</th>\n",
              "      <td>9.000000</td>\n",
              "      <td>35.500000</td>\n",
              "      <td>401.450000</td>\n",
              "      <td>0.000000</td>\n",
              "      <td>40.000000</td>\n",
              "      <td>3469.000000</td>\n",
              "    </tr>\n",
              "    <tr>\n",
              "      <th>50%</th>\n",
              "      <td>29.000000</td>\n",
              "      <td>70.350000</td>\n",
              "      <td>1397.475000</td>\n",
              "      <td>0.000000</td>\n",
              "      <td>61.000000</td>\n",
              "      <td>4527.000000</td>\n",
              "    </tr>\n",
              "    <tr>\n",
              "      <th>75%</th>\n",
              "      <td>55.000000</td>\n",
              "      <td>89.850000</td>\n",
              "      <td>3794.737500</td>\n",
              "      <td>1.000000</td>\n",
              "      <td>75.000000</td>\n",
              "      <td>5380.500000</td>\n",
              "    </tr>\n",
              "    <tr>\n",
              "      <th>max</th>\n",
              "      <td>72.000000</td>\n",
              "      <td>118.750000</td>\n",
              "      <td>8684.800000</td>\n",
              "      <td>1.000000</td>\n",
              "      <td>100.000000</td>\n",
              "      <td>6500.000000</td>\n",
              "    </tr>\n",
              "  </tbody>\n",
              "</table>\n",
              "</div>\n",
              "      <button class=\"colab-df-convert\" onclick=\"convertToInteractive('df-01e28f2f-42cf-4179-901b-a8845b7464b1')\"\n",
              "              title=\"Convert this dataframe to an interactive table.\"\n",
              "              style=\"display:none;\">\n",
              "        \n",
              "  <svg xmlns=\"http://www.w3.org/2000/svg\" height=\"24px\"viewBox=\"0 0 24 24\"\n",
              "       width=\"24px\">\n",
              "    <path d=\"M0 0h24v24H0V0z\" fill=\"none\"/>\n",
              "    <path d=\"M18.56 5.44l.94 2.06.94-2.06 2.06-.94-2.06-.94-.94-2.06-.94 2.06-2.06.94zm-11 1L8.5 8.5l.94-2.06 2.06-.94-2.06-.94L8.5 2.5l-.94 2.06-2.06.94zm10 10l.94 2.06.94-2.06 2.06-.94-2.06-.94-.94-2.06-.94 2.06-2.06.94z\"/><path d=\"M17.41 7.96l-1.37-1.37c-.4-.4-.92-.59-1.43-.59-.52 0-1.04.2-1.43.59L10.3 9.45l-7.72 7.72c-.78.78-.78 2.05 0 2.83L4 21.41c.39.39.9.59 1.41.59.51 0 1.02-.2 1.41-.59l7.78-7.78 2.81-2.81c.8-.78.8-2.07 0-2.86zM5.41 20L4 18.59l7.72-7.72 1.47 1.35L5.41 20z\"/>\n",
              "  </svg>\n",
              "      </button>\n",
              "      \n",
              "  <style>\n",
              "    .colab-df-container {\n",
              "      display:flex;\n",
              "      flex-wrap:wrap;\n",
              "      gap: 12px;\n",
              "    }\n",
              "\n",
              "    .colab-df-convert {\n",
              "      background-color: #E8F0FE;\n",
              "      border: none;\n",
              "      border-radius: 50%;\n",
              "      cursor: pointer;\n",
              "      display: none;\n",
              "      fill: #1967D2;\n",
              "      height: 32px;\n",
              "      padding: 0 0 0 0;\n",
              "      width: 32px;\n",
              "    }\n",
              "\n",
              "    .colab-df-convert:hover {\n",
              "      background-color: #E2EBFA;\n",
              "      box-shadow: 0px 1px 2px rgba(60, 64, 67, 0.3), 0px 1px 3px 1px rgba(60, 64, 67, 0.15);\n",
              "      fill: #174EA6;\n",
              "    }\n",
              "\n",
              "    [theme=dark] .colab-df-convert {\n",
              "      background-color: #3B4455;\n",
              "      fill: #D2E3FC;\n",
              "    }\n",
              "\n",
              "    [theme=dark] .colab-df-convert:hover {\n",
              "      background-color: #434B5C;\n",
              "      box-shadow: 0px 1px 3px 1px rgba(0, 0, 0, 0.15);\n",
              "      filter: drop-shadow(0px 1px 2px rgba(0, 0, 0, 0.3));\n",
              "      fill: #FFFFFF;\n",
              "    }\n",
              "  </style>\n",
              "\n",
              "      <script>\n",
              "        const buttonEl =\n",
              "          document.querySelector('#df-01e28f2f-42cf-4179-901b-a8845b7464b1 button.colab-df-convert');\n",
              "        buttonEl.style.display =\n",
              "          google.colab.kernel.accessAllowed ? 'block' : 'none';\n",
              "\n",
              "        async function convertToInteractive(key) {\n",
              "          const element = document.querySelector('#df-01e28f2f-42cf-4179-901b-a8845b7464b1');\n",
              "          const dataTable =\n",
              "            await google.colab.kernel.invokeFunction('convertToInteractive',\n",
              "                                                     [key], {});\n",
              "          if (!dataTable) return;\n",
              "\n",
              "          const docLinkHtml = 'Like what you see? Visit the ' +\n",
              "            '<a target=\"_blank\" href=https://colab.research.google.com/notebooks/data_table.ipynb>data table notebook</a>'\n",
              "            + ' to learn more about interactive tables.';\n",
              "          element.innerHTML = '';\n",
              "          dataTable['output_type'] = 'display_data';\n",
              "          await google.colab.output.renderOutput(dataTable, element);\n",
              "          const docLink = document.createElement('div');\n",
              "          docLink.innerHTML = docLinkHtml;\n",
              "          element.appendChild(docLink);\n",
              "        }\n",
              "      </script>\n",
              "    </div>\n",
              "  </div>\n",
              "  "
            ]
          },
          "metadata": {},
          "execution_count": 36
        }
      ]
    },
    {
      "cell_type": "markdown",
      "source": [
        "Hence as my understanding it is meaningfull if the statistacl measures are done on the numerical columns as well as the columns which are useful for our analysis. We have some important categorical columns and statistical measures also.\n",
        "But as per my knwoledge I unable to do it in python."
      ],
      "metadata": {
        "id": "riUNUf1GlxlN"
      }
    },
    {
      "cell_type": "markdown",
      "source": [
        "## Q3: What is the percentage of females and senior citizens in this data set? Please create appropriate plots and explain the plots."
      ],
      "metadata": {
        "id": "8eNyBcrACLsG"
      }
    },
    {
      "cell_type": "code",
      "source": [
        "plt.figure(figsize=(10,5))\n",
        "df['Gender'].value_counts().plot(kind='pie',autopct='%.2f')\n",
        "plt.show()\n",
        "plt.figure(figsize=(10,5))\n",
        "df['Senior Citizen'].value_counts().plot(kind='pie',autopct='%.2f')\n",
        "plt.show()\n",
        "\n"
      ],
      "metadata": {
        "colab": {
          "base_uri": "https://localhost:8080/",
          "height": 589
        },
        "id": "qGcrS_oLCTDT",
        "outputId": "d120f2d1-083d-4399-fb93-729da8103eda"
      },
      "execution_count": null,
      "outputs": [
        {
          "output_type": "display_data",
          "data": {
            "text/plain": [
              "<Figure size 720x360 with 1 Axes>"
            ],
            "image/png": "[encoded data removed]"
          },
          "metadata": {}
        },
        {
          "output_type": "display_data",
          "data": {
            "text/plain": [
              "<Figure size 720x360 with 1 Axes>"
            ],
            "image/png": "[encoded data removed]"
          },
          "metadata": {}
        }
      ]
    },
    {
      "cell_type": "markdown",
      "source": [
        "**Observations :-**\n",
        "\n",
        "\n",
        "\n",
        "*  From the above PIe chart Named Gender, \n",
        " We can say that Female has less percentage than Male percentage with 49.52% in Gender. \n",
        "*  From another Pie chart named Senior Citizen,\n",
        "We have only 16.21 % of Senior Citizens out of 100%. It means very less senior citizens we have in the data set."
      ],
      "metadata": {
        "id": "uFAoQAjr61PS"
      }
    },
    {
      "cell_type": "markdown",
      "source": [
        "## Q4:  Please create an appropriate plot to examine the distribution of the tenure month column and explain the distribution. Based on distribution, perform appropriate statistical measures. Please also explain if the variable is symmetric or skewed. Please calculate it. Explain everything as asked.\n"
      ],
      "metadata": {
        "id": "vaNy839fCMjK"
      }
    },
    {
      "cell_type": "code",
      "source": [
        "sns.displot(data=df,x='Tenure Months',kde=True)\n",
        "#"
      ],
      "metadata": {
        "colab": {
          "base_uri": "https://localhost:8080/",
          "height": 386
        },
        "id": "0Tkx6QMlB_0O",
        "outputId": "a19ab40c-deb7-4c35-8044-cdc0b559261e"
      },
      "execution_count": null,
      "outputs": [
        {
          "output_type": "execute_result",
          "data": {
            "text/plain": [
              "<seaborn.axisgrid.FacetGrid at 0x7fdd777229d0>"
            ]
          },
          "metadata": {},
          "execution_count": 12
        },
        {
          "output_type": "display_data",
          "data": {
            "text/plain": [
              "<Figure size 360x360 with 1 Axes>"
            ],
            "image/png": "[encoded data removed]"
          },
          "metadata": {
            "needs_background": "light"
          }
        }
      ]
    },
    {
      "cell_type": "code",
      "source": [
        "df.skew(axis = 0, skipna = True)"
      ],
      "metadata": {
        "colab": {
          "base_uri": "https://localhost:8080/"
        },
        "id": "xvsRO-o2PJFH",
        "outputId": "48d861f2-3538-477c-bc6a-52413aea28db"
      },
      "execution_count": null,
      "outputs": [
        {
          "output_type": "stream",
          "name": "stderr",
          "text": [
            "/usr/local/lib/python3.7/dist-packages/ipykernel_launcher.py:1: FutureWarning: Dropping of nuisance columns in DataFrame reductions (with 'numeric_only=None') is deprecated; in a future version this will raise TypeError.  Select only valid columns before calling the reduction.\n",
            "  \"\"\"Entry point for launching an IPython kernel.\n"
          ]
        },
        {
          "output_type": "execute_result",
          "data": {
            "text/plain": [
              "Count              0.000000\n",
              "Zip Code          -0.251463\n",
              "Latitude           0.303867\n",
              "Longitude         -0.040792\n",
              "Tenure Months      0.239540\n",
              "Monthly Charges   -0.220524\n",
              "Churn Value        1.063031\n",
              "Churn Score       -0.089840\n",
              "CLTV              -0.311602\n",
              "dtype: float64"
            ]
          },
          "metadata": {},
          "execution_count": 13
        }
      ]
    },
    {
      "cell_type": "markdown",
      "source": [
        "**Observations :-**  Skewness value for \"Tenure Months\" field is 0.2395.\n",
        "\"Tenure Months\" column is fairly symmetrical.\n",
        "Because,\n",
        "\n",
        "1.   A value between -0.5 and 0.5 indicates that the distribution is fairly symmetrical.\n",
        "2.   skewness value greater than 1 or less than -1 indicates a highly skewed distribution."
      ],
      "metadata": {
        "id": "JRFi-nGmQaqY"
      }
    },
    {
      "cell_type": "markdown",
      "source": [
        "**Observations :-**     \n",
        "**From the above Plot, there is a high number of people who are with less \"Tenure Months\" value and we have good no.of people with HIghest \"Tenure Months\" value.**\n",
        "\n"
      ],
      "metadata": {
        "id": "KG75Ha5_7-Mh"
      }
    },
    {
      "cell_type": "markdown",
      "source": [
        "\n",
        "## Q5: Please convert all binary columns into 0 and 1 using appropriate programming constructs, not one by one."
      ],
      "metadata": {
        "id": "lAU9nbj0COm1"
      }
    },
    {
      "cell_type": "code",
      "source": [
        "df.columns"
      ],
      "metadata": {
        "colab": {
          "base_uri": "https://localhost:8080/"
        },
        "id": "M5ff3NlDLrnM",
        "outputId": "39328cd1-4db2-47f0-a819-2e24a105f9bc"
      },
      "execution_count": null,
      "outputs": [
        {
          "output_type": "execute_result",
          "data": {
            "text/plain": [
              "Index(['CustomerID', 'Count', 'Country', 'State', 'City', 'Zip Code',\n",
              "       'Lat Long', 'Latitude', 'Longitude', 'Gender', 'Senior Citizen',\n",
              "       'Partner', 'Dependents', 'Tenure Months', 'Phone Service',\n",
              "       'Multiple Lines', 'Internet Service', 'Online Security',\n",
              "       'Online Backup', 'Device Protection', 'Tech Support', 'Streaming TV',\n",
              "       'Streaming Movies', 'Contract', 'Paperless Billing', 'Payment Method',\n",
              "       'Monthly Charges', 'Total Charges', 'Churn Label', 'Churn Value',\n",
              "       'Churn Score', 'CLTV', 'Churn Reason'],\n",
              "      dtype='object')"
            ]
          },
          "metadata": {},
          "execution_count": 14
        }
      ]
    },
    {
      "cell_type": "code",
      "source": [
        "df_duplicates=df[['Senior Citizen',\n",
        "       'Partner', 'Dependents','Phone Service',\n",
        "       'Multiple Lines','Online Security',\n",
        "       'Online Backup', 'Device Protection', 'Tech Support', 'Streaming TV',\n",
        "       'Streaming Movies','Paperless Billing','Churn Label']]\n",
        "df_duplicates"
      ],
      "metadata": {
        "colab": {
          "base_uri": "https://localhost:8080/",
          "height": 537
        },
        "id": "FmWT-93gLpAS",
        "outputId": "4aed3b80-311e-4cfc-d435-e4f25e6e47f2"
      },
      "execution_count": null,
      "outputs": [
        {
          "output_type": "execute_result",
          "data": {
            "text/plain": [
              "     Senior Citizen Partner Dependents Phone Service    Multiple Lines  \\\n",
              "0                No      No         No           Yes                No   \n",
              "1                No      No        Yes           Yes                No   \n",
              "2                No      No        Yes           Yes               Yes   \n",
              "3                No     Yes        Yes           Yes               Yes   \n",
              "4                No      No        Yes           Yes               Yes   \n",
              "...             ...     ...        ...           ...               ...   \n",
              "7038             No      No         No           Yes                No   \n",
              "7039             No     Yes        Yes           Yes               Yes   \n",
              "7040             No     Yes        Yes           Yes               Yes   \n",
              "7041             No     Yes        Yes            No  No phone service   \n",
              "7042             No      No         No           Yes                No   \n",
              "\n",
              "          Online Security        Online Backup    Device Protection  \\\n",
              "0                     Yes                  Yes                   No   \n",
              "1                      No                   No                   No   \n",
              "2                      No                   No                  Yes   \n",
              "3                      No                   No                  Yes   \n",
              "4                      No                  Yes                  Yes   \n",
              "...                   ...                  ...                  ...   \n",
              "7038  No internet service  No internet service  No internet service   \n",
              "7039                  Yes                   No                  Yes   \n",
              "7040                   No                  Yes                  Yes   \n",
              "7041                  Yes                   No                   No   \n",
              "7042                  Yes                   No                  Yes   \n",
              "\n",
              "             Tech Support         Streaming TV     Streaming Movies  \\\n",
              "0                      No                   No                   No   \n",
              "1                      No                   No                   No   \n",
              "2                      No                  Yes                  Yes   \n",
              "3                     Yes                  Yes                  Yes   \n",
              "4                      No                  Yes                  Yes   \n",
              "...                   ...                  ...                  ...   \n",
              "7038  No internet service  No internet service  No internet service   \n",
              "7039                  Yes                  Yes                  Yes   \n",
              "7040                   No                  Yes                  Yes   \n",
              "7041                   No                   No                   No   \n",
              "7042                  Yes                  Yes                  Yes   \n",
              "\n",
              "     Paperless Billing Churn Label  \n",
              "0                  Yes         Yes  \n",
              "1                  Yes         Yes  \n",
              "2                  Yes         Yes  \n",
              "3                  Yes         Yes  \n",
              "4                  Yes         Yes  \n",
              "...                ...         ...  \n",
              "7038               Yes          No  \n",
              "7039               Yes          No  \n",
              "7040               Yes          No  \n",
              "7041               Yes          No  \n",
              "7042               Yes          No  \n",
              "\n",
              "[7043 rows x 13 columns]"
            ],
            "text/html": [
              "\n",
              "  <div id=\"df-a523a9e0-5cc1-41b9-acd7-61aab7f70072\">\n",
              "    <div class=\"colab-df-container\">\n",
              "      <div>\n",
              "<style scoped>\n",
              "    .dataframe tbody tr th:only-of-type {\n",
              "        vertical-align: middle;\n",
              "    }\n",
              "\n",
              "    .dataframe tbody tr th {\n",
              "        vertical-align: top;\n",
              "    }\n",
              "\n",
              "    .dataframe thead th {\n",
              "        text-align: right;\n",
              "    }\n",
              "</style>\n",
              "<table border=\"1\" class=\"dataframe\">\n",
              "  <thead>\n",
              "    <tr style=\"text-align: right;\">\n",
              "      <th></th>\n",
              "      <th>Senior Citizen</th>\n",
              "      <th>Partner</th>\n",
              "      <th>Dependents</th>\n",
              "      <th>Phone Service</th>\n",
              "      <th>Multiple Lines</th>\n",
              "      <th>Online Security</th>\n",
              "      <th>Online Backup</th>\n",
              "      <th>Device Protection</th>\n",
              "      <th>Tech Support</th>\n",
              "      <th>Streaming TV</th>\n",
              "      <th>Streaming Movies</th>\n",
              "      <th>Paperless Billing</th>\n",
              "      <th>Churn Label</th>\n",
              "    </tr>\n",
              "  </thead>\n",
              "  <tbody>\n",
              "    <tr>\n",
              "      <th>0</th>\n",
              "      <td>No</td>\n",
              "      <td>No</td>\n",
              "      <td>No</td>\n",
              "      <td>Yes</td>\n",
              "      <td>No</td>\n",
              "      <td>Yes</td>\n",
              "      <td>Yes</td>\n",
              "      <td>No</td>\n",
              "      <td>No</td>\n",
              "      <td>No</td>\n",
              "      <td>No</td>\n",
              "      <td>Yes</td>\n",
              "      <td>Yes</td>\n",
              "    </tr>\n",
              "    <tr>\n",
              "      <th>1</th>\n",
              "      <td>No</td>\n",
              "      <td>No</td>\n",
              "      <td>Yes</td>\n",
              "      <td>Yes</td>\n",
              "      <td>No</td>\n",
              "      <td>No</td>\n",
              "      <td>No</td>\n",
              "      <td>No</td>\n",
              "      <td>No</td>\n",
              "      <td>No</td>\n",
              "      <td>No</td>\n",
              "      <td>Yes</td>\n",
              "      <td>Yes</td>\n",
              "    </tr>\n",
              "    <tr>\n",
              "      <th>2</th>\n",
              "      <td>No</td>\n",
              "      <td>No</td>\n",
              "      <td>Yes</td>\n",
              "      <td>Yes</td>\n",
              "      <td>Yes</td>\n",
              "      <td>No</td>\n",
              "      <td>No</td>\n",
              "      <td>Yes</td>\n",
              "      <td>No</td>\n",
              "      <td>Yes</td>\n",
              "      <td>Yes</td>\n",
              "      <td>Yes</td>\n",
              "      <td>Yes</td>\n",
              "    </tr>\n",
              "    <tr>\n",
              "      <th>3</th>\n",
              "      <td>No</td>\n",
              "      <td>Yes</td>\n",
              "      <td>Yes</td>\n",
              "      <td>Yes</td>\n",
              "      <td>Yes</td>\n",
              "      <td>No</td>\n",
              "      <td>No</td>\n",
              "      <td>Yes</td>\n",
              "      <td>Yes</td>\n",
              "      <td>Yes</td>\n",
              "      <td>Yes</td>\n",
              "      <td>Yes</td>\n",
              "      <td>Yes</td>\n",
              "    </tr>\n",
              "    <tr>\n",
              "      <th>4</th>\n",
              "      <td>No</td>\n",
              "      <td>No</td>\n",
              "      <td>Yes</td>\n",
              "      <td>Yes</td>\n",
              "      <td>Yes</td>\n",
              "      <td>No</td>\n",
              "      <td>Yes</td>\n",
              "      <td>Yes</td>\n",
              "      <td>No</td>\n",
              "      <td>Yes</td>\n",
              "      <td>Yes</td>\n",
              "      <td>Yes</td>\n",
              "      <td>Yes</td>\n",
              "    </tr>\n",
              "    <tr>\n",
              "      <th>...</th>\n",
              "      <td>...</td>\n",
              "      <td>...</td>\n",
              "      <td>...</td>\n",
              "      <td>...</td>\n",
              "      <td>...</td>\n",
              "      <td>...</td>\n",
              "      <td>...</td>\n",
              "      <td>...</td>\n",
              "      <td>...</td>\n",
              "      <td>...</td>\n",
              "      <td>...</td>\n",
              "      <td>...</td>\n",
              "      <td>...</td>\n",
              "    </tr>\n",
              "    <tr>\n",
              "      <th>7038</th>\n",
              "      <td>No</td>\n",
              "      <td>No</td>\n",
              "      <td>No</td>\n",
              "      <td>Yes</td>\n",
              "      <td>No</td>\n",
              "      <td>No internet service</td>\n",
              "      <td>No internet service</td>\n",
              "      <td>No internet service</td>\n",
              "      <td>No internet service</td>\n",
              "      <td>No internet service</td>\n",
              "      <td>No internet service</td>\n",
              "      <td>Yes</td>\n",
              "      <td>No</td>\n",
              "    </tr>\n",
              "    <tr>\n",
              "      <th>7039</th>\n",
              "      <td>No</td>\n",
              "      <td>Yes</td>\n",
              "      <td>Yes</td>\n",
              "      <td>Yes</td>\n",
              "      <td>Yes</td>\n",
              "      <td>Yes</td>\n",
              "      <td>No</td>\n",
              "      <td>Yes</td>\n",
              "      <td>Yes</td>\n",
              "      <td>Yes</td>\n",
              "      <td>Yes</td>\n",
              "      <td>Yes</td>\n",
              "      <td>No</td>\n",
              "    </tr>\n",
              "    <tr>\n",
              "      <th>7040</th>\n",
              "      <td>No</td>\n",
              "      <td>Yes</td>\n",
              "      <td>Yes</td>\n",
              "      <td>Yes</td>\n",
              "      <td>Yes</td>\n",
              "      <td>No</td>\n",
              "      <td>Yes</td>\n",
              "      <td>Yes</td>\n",
              "      <td>No</td>\n",
              "      <td>Yes</td>\n",
              "      <td>Yes</td>\n",
              "      <td>Yes</td>\n",
              "      <td>No</td>\n",
              "    </tr>\n",
              "    <tr>\n",
              "      <th>7041</th>\n",
              "      <td>No</td>\n",
              "      <td>Yes</td>\n",
              "      <td>Yes</td>\n",
              "      <td>No</td>\n",
              "      <td>No phone service</td>\n",
              "      <td>Yes</td>\n",
              "      <td>No</td>\n",
              "      <td>No</td>\n",
              "      <td>No</td>\n",
              "      <td>No</td>\n",
              "      <td>No</td>\n",
              "      <td>Yes</td>\n",
              "      <td>No</td>\n",
              "    </tr>\n",
              "    <tr>\n",
              "      <th>7042</th>\n",
              "      <td>No</td>\n",
              "      <td>No</td>\n",
              "      <td>No</td>\n",
              "      <td>Yes</td>\n",
              "      <td>No</td>\n",
              "      <td>Yes</td>\n",
              "      <td>No</td>\n",
              "      <td>Yes</td>\n",
              "      <td>Yes</td>\n",
              "      <td>Yes</td>\n",
              "      <td>Yes</td>\n",
              "      <td>Yes</td>\n",
              "      <td>No</td>\n",
              "    </tr>\n",
              "  </tbody>\n",
              "</table>\n",
              "<p>7043 rows × 13 columns</p>\n",
              "</div>\n",
              "      <button class=\"colab-df-convert\" onclick=\"convertToInteractive('df-a523a9e0-5cc1-41b9-acd7-61aab7f70072')\"\n",
              "              title=\"Convert this dataframe to an interactive table.\"\n",
              "              style=\"display:none;\">\n",
              "        \n",
              "  <svg xmlns=\"http://www.w3.org/2000/svg\" height=\"24px\"viewBox=\"0 0 24 24\"\n",
              "       width=\"24px\">\n",
              "    <path d=\"M0 0h24v24H0V0z\" fill=\"none\"/>\n",
              "    <path d=\"M18.56 5.44l.94 2.06.94-2.06 2.06-.94-2.06-.94-.94-2.06-.94 2.06-2.06.94zm-11 1L8.5 8.5l.94-2.06 2.06-.94-2.06-.94L8.5 2.5l-.94 2.06-2.06.94zm10 10l.94 2.06.94-2.06 2.06-.94-2.06-.94-.94-2.06-.94 2.06-2.06.94z\"/><path d=\"M17.41 7.96l-1.37-1.37c-.4-.4-.92-.59-1.43-.59-.52 0-1.04.2-1.43.59L10.3 9.45l-7.72 7.72c-.78.78-.78 2.05 0 2.83L4 21.41c.39.39.9.59 1.41.59.51 0 1.02-.2 1.41-.59l7.78-7.78 2.81-2.81c.8-.78.8-2.07 0-2.86zM5.41 20L4 18.59l7.72-7.72 1.47 1.35L5.41 20z\"/>\n",
              "  </svg>\n",
              "      </button>\n",
              "      \n",
              "  <style>\n",
              "    .colab-df-container {\n",
              "      display:flex;\n",
              "      flex-wrap:wrap;\n",
              "      gap: 12px;\n",
              "    }\n",
              "\n",
              "    .colab-df-convert {\n",
              "      background-color: #E8F0FE;\n",
              "      border: none;\n",
              "      border-radius: 50%;\n",
              "      cursor: pointer;\n",
              "      display: none;\n",
              "      fill: #1967D2;\n",
              "      height: 32px;\n",
              "      padding: 0 0 0 0;\n",
              "      width: 32px;\n",
              "    }\n",
              "\n",
              "    .colab-df-convert:hover {\n",
              "      background-color: #E2EBFA;\n",
              "      box-shadow: 0px 1px 2px rgba(60, 64, 67, 0.3), 0px 1px 3px 1px rgba(60, 64, 67, 0.15);\n",
              "      fill: #174EA6;\n",
              "    }\n",
              "\n",
              "    [theme=dark] .colab-df-convert {\n",
              "      background-color: #3B4455;\n",
              "      fill: #D2E3FC;\n",
              "    }\n",
              "\n",
              "    [theme=dark] .colab-df-convert:hover {\n",
              "      background-color: #434B5C;\n",
              "      box-shadow: 0px 1px 3px 1px rgba(0, 0, 0, 0.15);\n",
              "      filter: drop-shadow(0px 1px 2px rgba(0, 0, 0, 0.3));\n",
              "      fill: #FFFFFF;\n",
              "    }\n",
              "  </style>\n",
              "\n",
              "      <script>\n",
              "        const buttonEl =\n",
              "          document.querySelector('#df-a523a9e0-5cc1-41b9-acd7-61aab7f70072 button.colab-df-convert');\n",
              "        buttonEl.style.display =\n",
              "          google.colab.kernel.accessAllowed ? 'block' : 'none';\n",
              "\n",
              "        async function convertToInteractive(key) {\n",
              "          const element = document.querySelector('#df-a523a9e0-5cc1-41b9-acd7-61aab7f70072');\n",
              "          const dataTable =\n",
              "            await google.colab.kernel.invokeFunction('convertToInteractive',\n",
              "                                                     [key], {});\n",
              "          if (!dataTable) return;\n",
              "\n",
              "          const docLinkHtml = 'Like what you see? Visit the ' +\n",
              "            '<a target=\"_blank\" href=https://colab.research.google.com/notebooks/data_table.ipynb>data table notebook</a>'\n",
              "            + ' to learn more about interactive tables.';\n",
              "          element.innerHTML = '';\n",
              "          dataTable['output_type'] = 'display_data';\n",
              "          await google.colab.output.renderOutput(dataTable, element);\n",
              "          const docLink = document.createElement('div');\n",
              "          docLink.innerHTML = docLinkHtml;\n",
              "          element.appendChild(docLink);\n",
              "        }\n",
              "      </script>\n",
              "    </div>\n",
              "  </div>\n",
              "  "
            ]
          },
          "metadata": {},
          "execution_count": 15
        }
      ]
    },
    {
      "cell_type": "code",
      "source": [
        "for i in df_duplicates.columns:\n",
        "  print(i,'\\n',df_duplicates[i].unique(),'\\n')"
      ],
      "metadata": {
        "colab": {
          "base_uri": "https://localhost:8080/"
        },
        "id": "yHGbIKJPLo-I",
        "outputId": "1d1843e9-13d0-4333-e3f2-132e29f2cf86"
      },
      "execution_count": null,
      "outputs": [
        {
          "output_type": "stream",
          "name": "stdout",
          "text": [
            "Senior Citizen \n",
            " ['No' 'Yes'] \n",
            "\n",
            "Partner \n",
            " ['No' 'Yes'] \n",
            "\n",
            "Dependents \n",
            " ['No' 'Yes'] \n",
            "\n",
            "Phone Service \n",
            " ['Yes' 'No'] \n",
            "\n",
            "Multiple Lines \n",
            " ['No' 'Yes' 'No phone service'] \n",
            "\n",
            "Online Security \n",
            " ['Yes' 'No' 'No internet service'] \n",
            "\n",
            "Online Backup \n",
            " ['Yes' 'No' 'No internet service'] \n",
            "\n",
            "Device Protection \n",
            " ['No' 'Yes' 'No internet service'] \n",
            "\n",
            "Tech Support \n",
            " ['No' 'Yes' 'No internet service'] \n",
            "\n",
            "Streaming TV \n",
            " ['No' 'Yes' 'No internet service'] \n",
            "\n",
            "Streaming Movies \n",
            " ['No' 'Yes' 'No internet service'] \n",
            "\n",
            "Paperless Billing \n",
            " ['Yes' 'No'] \n",
            "\n",
            "Churn Label \n",
            " ['Yes' 'No'] \n",
            "\n"
          ]
        }
      ]
    },
    {
      "cell_type": "code",
      "source": [
        "df_duplicates['Senior Citizen']=df_duplicates['Senior Citizen'].map({'No':0,'Yes':1})\n",
        "df_duplicates['Partner']=df_duplicates['Partner'].map({'No':0,'Yes':1})\n",
        "df_duplicates['Dependents']=df_duplicates['Dependents'].map({'No':0,'Yes':1})\n",
        "df_duplicates['Phone Service']=df_duplicates['Phone Service'].map({'No':0,'Yes':1})\n",
        "df_duplicates['Multiple Lines']=df_duplicates['Multiple Lines'].map({'No':0,'Yes':1,'No phone service':0})\n",
        "df_duplicates['Online Security']=df_duplicates['Online Security'].map({'No':0,'Yes':1,'No internet service':0})\n",
        "df_duplicates['Online Backup']=df_duplicates['Online Backup'].map({'No':0,'Yes':1,'No internet service':0})\n",
        "df_duplicates['Device Protection']=df_duplicates['Device Protection'].map({'No':0,'Yes':1,'No internet service':0})\n",
        "df_duplicates['Tech Support']=df_duplicates['Tech Support'].map({'No':0,'Yes':1,'No internet service':0})\n",
        "df_duplicates['Streaming TV']=df_duplicates['Streaming TV'].map({'No':0,'Yes':1,'No internet service':0})\n",
        "df_duplicates['Streaming Movies']=df_duplicates['Streaming Movies'].map({'No':0,'Yes':1,'No internet service':0})\n",
        "df_duplicates['Paperless Billing']=df_duplicates['Paperless Billing'].map({'No':0,'Yes':1})\n",
        "df_duplicates['Churn Label']=df_duplicates['Churn Label'].map({'No':0,'Yes':1})"
      ],
      "metadata": {
        "colab": {
          "base_uri": "https://localhost:8080/"
        },
        "id": "WzLaQFRxQtjE",
        "outputId": "de446ebe-8595-4d31-d276-ad0bbac3e9f4"
      },
      "execution_count": null,
      "outputs": [
        {
          "output_type": "stream",
          "name": "stderr",
          "text": [
            "/usr/local/lib/python3.7/dist-packages/ipykernel_launcher.py:1: SettingWithCopyWarning: \n",
            "A value is trying to be set on a copy of a slice from a DataFrame.\n",
            "Try using .loc[row_indexer,col_indexer] = value instead\n",
            "\n",
            "See the caveats in the documentation: https://pandas.pydata.org/pandas-docs/stable/user_guide/indexing.html#returning-a-view-versus-a-copy\n",
            "  \"\"\"Entry point for launching an IPython kernel.\n",
            "/usr/local/lib/python3.7/dist-packages/ipykernel_launcher.py:2: SettingWithCopyWarning: \n",
            "A value is trying to be set on a copy of a slice from a DataFrame.\n",
            "Try using .loc[row_indexer,col_indexer] = value instead\n",
            "\n",
            "See the caveats in the documentation: https://pandas.pydata.org/pandas-docs/stable/user_guide/indexing.html#returning-a-view-versus-a-copy\n",
            "  \n",
            "/usr/local/lib/python3.7/dist-packages/ipykernel_launcher.py:3: SettingWithCopyWarning: \n",
            "A value is trying to be set on a copy of a slice from a DataFrame.\n",
            "Try using .loc[row_indexer,col_indexer] = value instead\n",
            "\n",
            "See the caveats in the documentation: https://pandas.pydata.org/pandas-docs/stable/user_guide/indexing.html#returning-a-view-versus-a-copy\n",
            "  This is separate from the ipykernel package so we can avoid doing imports until\n",
            "/usr/local/lib/python3.7/dist-packages/ipykernel_launcher.py:4: SettingWithCopyWarning: \n",
            "A value is trying to be set on a copy of a slice from a DataFrame.\n",
            "Try using .loc[row_indexer,col_indexer] = value instead\n",
            "\n",
            "See the caveats in the documentation: https://pandas.pydata.org/pandas-docs/stable/user_guide/indexing.html#returning-a-view-versus-a-copy\n",
            "  after removing the cwd from sys.path.\n",
            "/usr/local/lib/python3.7/dist-packages/ipykernel_launcher.py:5: SettingWithCopyWarning: \n",
            "A value is trying to be set on a copy of a slice from a DataFrame.\n",
            "Try using .loc[row_indexer,col_indexer] = value instead\n",
            "\n",
            "See the caveats in the documentation: https://pandas.pydata.org/pandas-docs/stable/user_guide/indexing.html#returning-a-view-versus-a-copy\n",
            "  \"\"\"\n",
            "/usr/local/lib/python3.7/dist-packages/ipykernel_launcher.py:6: SettingWithCopyWarning: \n",
            "A value is trying to be set on a copy of a slice from a DataFrame.\n",
            "Try using .loc[row_indexer,col_indexer] = value instead\n",
            "\n",
            "See the caveats in the documentation: https://pandas.pydata.org/pandas-docs/stable/user_guide/indexing.html#returning-a-view-versus-a-copy\n",
            "  \n",
            "/usr/local/lib/python3.7/dist-packages/ipykernel_launcher.py:7: SettingWithCopyWarning: \n",
            "A value is trying to be set on a copy of a slice from a DataFrame.\n",
            "Try using .loc[row_indexer,col_indexer] = value instead\n",
            "\n",
            "See the caveats in the documentation: https://pandas.pydata.org/pandas-docs/stable/user_guide/indexing.html#returning-a-view-versus-a-copy\n",
            "  import sys\n",
            "/usr/local/lib/python3.7/dist-packages/ipykernel_launcher.py:8: SettingWithCopyWarning: \n",
            "A value is trying to be set on a copy of a slice from a DataFrame.\n",
            "Try using .loc[row_indexer,col_indexer] = value instead\n",
            "\n",
            "See the caveats in the documentation: https://pandas.pydata.org/pandas-docs/stable/user_guide/indexing.html#returning-a-view-versus-a-copy\n",
            "  \n",
            "/usr/local/lib/python3.7/dist-packages/ipykernel_launcher.py:9: SettingWithCopyWarning: \n",
            "A value is trying to be set on a copy of a slice from a DataFrame.\n",
            "Try using .loc[row_indexer,col_indexer] = value instead\n",
            "\n",
            "See the caveats in the documentation: https://pandas.pydata.org/pandas-docs/stable/user_guide/indexing.html#returning-a-view-versus-a-copy\n",
            "  if __name__ == '__main__':\n",
            "/usr/local/lib/python3.7/dist-packages/ipykernel_launcher.py:10: SettingWithCopyWarning: \n",
            "A value is trying to be set on a copy of a slice from a DataFrame.\n",
            "Try using .loc[row_indexer,col_indexer] = value instead\n",
            "\n",
            "See the caveats in the documentation: https://pandas.pydata.org/pandas-docs/stable/user_guide/indexing.html#returning-a-view-versus-a-copy\n",
            "  # Remove the CWD from sys.path while we load stuff.\n",
            "/usr/local/lib/python3.7/dist-packages/ipykernel_launcher.py:11: SettingWithCopyWarning: \n",
            "A value is trying to be set on a copy of a slice from a DataFrame.\n",
            "Try using .loc[row_indexer,col_indexer] = value instead\n",
            "\n",
            "See the caveats in the documentation: https://pandas.pydata.org/pandas-docs/stable/user_guide/indexing.html#returning-a-view-versus-a-copy\n",
            "  # This is added back by InteractiveShellApp.init_path()\n",
            "/usr/local/lib/python3.7/dist-packages/ipykernel_launcher.py:12: SettingWithCopyWarning: \n",
            "A value is trying to be set on a copy of a slice from a DataFrame.\n",
            "Try using .loc[row_indexer,col_indexer] = value instead\n",
            "\n",
            "See the caveats in the documentation: https://pandas.pydata.org/pandas-docs/stable/user_guide/indexing.html#returning-a-view-versus-a-copy\n",
            "  if sys.path[0] == '':\n",
            "/usr/local/lib/python3.7/dist-packages/ipykernel_launcher.py:13: SettingWithCopyWarning: \n",
            "A value is trying to be set on a copy of a slice from a DataFrame.\n",
            "Try using .loc[row_indexer,col_indexer] = value instead\n",
            "\n",
            "See the caveats in the documentation: https://pandas.pydata.org/pandas-docs/stable/user_guide/indexing.html#returning-a-view-versus-a-copy\n",
            "  del sys.path[0]\n"
          ]
        }
      ]
    },
    {
      "cell_type": "code",
      "source": [
        "for i in df_duplicates.columns:\n",
        "  print(i,'\\n',df_duplicates[i].unique(),'\\n')"
      ],
      "metadata": {
        "colab": {
          "base_uri": "https://localhost:8080/"
        },
        "id": "eyJdpAuRB_sf",
        "outputId": "d97ecd44-92a8-48f1-81f5-5de9ec9a1b32"
      },
      "execution_count": null,
      "outputs": [
        {
          "output_type": "stream",
          "name": "stdout",
          "text": [
            "Senior Citizen \n",
            " [0 1] \n",
            "\n",
            "Partner \n",
            " [0 1] \n",
            "\n",
            "Dependents \n",
            " [0 1] \n",
            "\n",
            "Phone Service \n",
            " [1 0] \n",
            "\n",
            "Multiple Lines \n",
            " [0 1] \n",
            "\n",
            "Online Security \n",
            " [1 0] \n",
            "\n",
            "Online Backup \n",
            " [1 0] \n",
            "\n",
            "Device Protection \n",
            " [0 1] \n",
            "\n",
            "Tech Support \n",
            " [0 1] \n",
            "\n",
            "Streaming TV \n",
            " [0 1] \n",
            "\n",
            "Streaming Movies \n",
            " [0 1] \n",
            "\n",
            "Paperless Billing \n",
            " [1 0] \n",
            "\n",
            "Churn Label \n",
            " [1 0] \n",
            "\n"
          ]
        }
      ]
    },
    {
      "cell_type": "markdown",
      "source": [
        "**Observations :-**       \n",
        "\n",
        "\n",
        "*   In the 1st step, we choosen the columns which we have to change the normal data to binary value and assigned to a new varaible named \"df_duplicates\".\n",
        "*   And then we created a loop to take the each the column from the variable created and find the unique values of the particular column.\n",
        "*   By using map function we assigned the duplicate binary values to all the values present in the columns seperately.\n",
        "*   Then again we called for the data set to check and view the data set is formed with binary values or not. \n",
        "\n",
        "\n",
        "\n"
      ],
      "metadata": {
        "id": "4hBnR6VQm_x8"
      }
    },
    {
      "cell_type": "code",
      "source": [
        "df_duplicates"
      ],
      "metadata": {
        "colab": {
          "base_uri": "https://localhost:8080/",
          "height": 485
        },
        "id": "u5REEWabM4_o",
        "outputId": "d6b4a5dc-c28f-4e42-8d77-65b7c447e751"
      },
      "execution_count": null,
      "outputs": [
        {
          "output_type": "execute_result",
          "data": {
            "text/plain": [
              "      Senior Citizen  Partner  Dependents  Phone Service  Multiple Lines  \\\n",
              "0                  0        0           0              1               0   \n",
              "1                  0        0           1              1               0   \n",
              "2                  0        0           1              1               1   \n",
              "3                  0        1           1              1               1   \n",
              "4                  0        0           1              1               1   \n",
              "...              ...      ...         ...            ...             ...   \n",
              "7038               0        0           0              1               0   \n",
              "7039               0        1           1              1               1   \n",
              "7040               0        1           1              1               1   \n",
              "7041               0        1           1              0               0   \n",
              "7042               0        0           0              1               0   \n",
              "\n",
              "      Online Security  Online Backup  Device Protection  Tech Support  \\\n",
              "0                   1              1                  0             0   \n",
              "1                   0              0                  0             0   \n",
              "2                   0              0                  1             0   \n",
              "3                   0              0                  1             1   \n",
              "4                   0              1                  1             0   \n",
              "...               ...            ...                ...           ...   \n",
              "7038                0              0                  0             0   \n",
              "7039                1              0                  1             1   \n",
              "7040                0              1                  1             0   \n",
              "7041                1              0                  0             0   \n",
              "7042                1              0                  1             1   \n",
              "\n",
              "      Streaming TV  Streaming Movies  Paperless Billing  Churn Label  \n",
              "0                0                 0                  1            1  \n",
              "1                0                 0                  1            1  \n",
              "2                1                 1                  1            1  \n",
              "3                1                 1                  1            1  \n",
              "4                1                 1                  1            1  \n",
              "...            ...               ...                ...          ...  \n",
              "7038             0                 0                  1            0  \n",
              "7039             1                 1                  1            0  \n",
              "7040             1                 1                  1            0  \n",
              "7041             0                 0                  1            0  \n",
              "7042             1                 1                  1            0  \n",
              "\n",
              "[7043 rows x 13 columns]"
            ],
            "text/html": [
              "\n",
              "  <div id=\"df-65435458-e750-4d36-8593-f805ddbbdfab\">\n",
              "    <div class=\"colab-df-container\">\n",
              "      <div>\n",
              "<style scoped>\n",
              "    .dataframe tbody tr th:only-of-type {\n",
              "        vertical-align: middle;\n",
              "    }\n",
              "\n",
              "    .dataframe tbody tr th {\n",
              "        vertical-align: top;\n",
              "    }\n",
              "\n",
              "    .dataframe thead th {\n",
              "        text-align: right;\n",
              "    }\n",
              "</style>\n",
              "<table border=\"1\" class=\"dataframe\">\n",
              "  <thead>\n",
              "    <tr style=\"text-align: right;\">\n",
              "      <th></th>\n",
              "      <th>Senior Citizen</th>\n",
              "      <th>Partner</th>\n",
              "      <th>Dependents</th>\n",
              "      <th>Phone Service</th>\n",
              "      <th>Multiple Lines</th>\n",
              "      <th>Online Security</th>\n",
              "      <th>Online Backup</th>\n",
              "      <th>Device Protection</th>\n",
              "      <th>Tech Support</th>\n",
              "      <th>Streaming TV</th>\n",
              "      <th>Streaming Movies</th>\n",
              "      <th>Paperless Billing</th>\n",
              "      <th>Churn Label</th>\n",
              "    </tr>\n",
              "  </thead>\n",
              "  <tbody>\n",
              "    <tr>\n",
              "      <th>0</th>\n",
              "      <td>0</td>\n",
              "      <td>0</td>\n",
              "      <td>0</td>\n",
              "      <td>1</td>\n",
              "      <td>0</td>\n",
              "      <td>1</td>\n",
              "      <td>1</td>\n",
              "      <td>0</td>\n",
              "      <td>0</td>\n",
              "      <td>0</td>\n",
              "      <td>0</td>\n",
              "      <td>1</td>\n",
              "      <td>1</td>\n",
              "    </tr>\n",
              "    <tr>\n",
              "      <th>1</th>\n",
              "      <td>0</td>\n",
              "      <td>0</td>\n",
              "      <td>1</td>\n",
              "      <td>1</td>\n",
              "      <td>0</td>\n",
              "      <td>0</td>\n",
              "      <td>0</td>\n",
              "      <td>0</td>\n",
              "      <td>0</td>\n",
              "      <td>0</td>\n",
              "      <td>0</td>\n",
              "      <td>1</td>\n",
              "      <td>1</td>\n",
              "    </tr>\n",
              "    <tr>\n",
              "      <th>2</th>\n",
              "      <td>0</td>\n",
              "      <td>0</td>\n",
              "      <td>1</td>\n",
              "      <td>1</td>\n",
              "      <td>1</td>\n",
              "      <td>0</td>\n",
              "      <td>0</td>\n",
              "      <td>1</td>\n",
              "      <td>0</td>\n",
              "      <td>1</td>\n",
              "      <td>1</td>\n",
              "      <td>1</td>\n",
              "      <td>1</td>\n",
              "    </tr>\n",
              "    <tr>\n",
              "      <th>3</th>\n",
              "      <td>0</td>\n",
              "      <td>1</td>\n",
              "      <td>1</td>\n",
              "      <td>1</td>\n",
              "      <td>1</td>\n",
              "      <td>0</td>\n",
              "      <td>0</td>\n",
              "      <td>1</td>\n",
              "      <td>1</td>\n",
              "      <td>1</td>\n",
              "      <td>1</td>\n",
              "      <td>1</td>\n",
              "      <td>1</td>\n",
              "    </tr>\n",
              "    <tr>\n",
              "      <th>4</th>\n",
              "      <td>0</td>\n",
              "      <td>0</td>\n",
              "      <td>1</td>\n",
              "      <td>1</td>\n",
              "      <td>1</td>\n",
              "      <td>0</td>\n",
              "      <td>1</td>\n",
              "      <td>1</td>\n",
              "      <td>0</td>\n",
              "      <td>1</td>\n",
              "      <td>1</td>\n",
              "      <td>1</td>\n",
              "      <td>1</td>\n",
              "    </tr>\n",
              "    <tr>\n",
              "      <th>...</th>\n",
              "      <td>...</td>\n",
              "      <td>...</td>\n",
              "      <td>...</td>\n",
              "      <td>...</td>\n",
              "      <td>...</td>\n",
              "      <td>...</td>\n",
              "      <td>...</td>\n",
              "      <td>...</td>\n",
              "      <td>...</td>\n",
              "      <td>...</td>\n",
              "      <td>...</td>\n",
              "      <td>...</td>\n",
              "      <td>...</td>\n",
              "    </tr>\n",
              "    <tr>\n",
              "      <th>7038</th>\n",
              "      <td>0</td>\n",
              "      <td>0</td>\n",
              "      <td>0</td>\n",
              "      <td>1</td>\n",
              "      <td>0</td>\n",
              "      <td>0</td>\n",
              "      <td>0</td>\n",
              "      <td>0</td>\n",
              "      <td>0</td>\n",
              "      <td>0</td>\n",
              "      <td>0</td>\n",
              "      <td>1</td>\n",
              "      <td>0</td>\n",
              "    </tr>\n",
              "    <tr>\n",
              "      <th>7039</th>\n",
              "      <td>0</td>\n",
              "      <td>1</td>\n",
              "      <td>1</td>\n",
              "      <td>1</td>\n",
              "      <td>1</td>\n",
              "      <td>1</td>\n",
              "      <td>0</td>\n",
              "      <td>1</td>\n",
              "      <td>1</td>\n",
              "      <td>1</td>\n",
              "      <td>1</td>\n",
              "      <td>1</td>\n",
              "      <td>0</td>\n",
              "    </tr>\n",
              "    <tr>\n",
              "      <th>7040</th>\n",
              "      <td>0</td>\n",
              "      <td>1</td>\n",
              "      <td>1</td>\n",
              "      <td>1</td>\n",
              "      <td>1</td>\n",
              "      <td>0</td>\n",
              "      <td>1</td>\n",
              "      <td>1</td>\n",
              "      <td>0</td>\n",
              "      <td>1</td>\n",
              "      <td>1</td>\n",
              "      <td>1</td>\n",
              "      <td>0</td>\n",
              "    </tr>\n",
              "    <tr>\n",
              "      <th>7041</th>\n",
              "      <td>0</td>\n",
              "      <td>1</td>\n",
              "      <td>1</td>\n",
              "      <td>0</td>\n",
              "      <td>0</td>\n",
              "      <td>1</td>\n",
              "      <td>0</td>\n",
              "      <td>0</td>\n",
              "      <td>0</td>\n",
              "      <td>0</td>\n",
              "      <td>0</td>\n",
              "      <td>1</td>\n",
              "      <td>0</td>\n",
              "    </tr>\n",
              "    <tr>\n",
              "      <th>7042</th>\n",
              "      <td>0</td>\n",
              "      <td>0</td>\n",
              "      <td>0</td>\n",
              "      <td>1</td>\n",
              "      <td>0</td>\n",
              "      <td>1</td>\n",
              "      <td>0</td>\n",
              "      <td>1</td>\n",
              "      <td>1</td>\n",
              "      <td>1</td>\n",
              "      <td>1</td>\n",
              "      <td>1</td>\n",
              "      <td>0</td>\n",
              "    </tr>\n",
              "  </tbody>\n",
              "</table>\n",
              "<p>7043 rows × 13 columns</p>\n",
              "</div>\n",
              "      <button class=\"colab-df-convert\" onclick=\"convertToInteractive('df-65435458-e750-4d36-8593-f805ddbbdfab')\"\n",
              "              title=\"Convert this dataframe to an interactive table.\"\n",
              "              style=\"display:none;\">\n",
              "        \n",
              "  <svg xmlns=\"http://www.w3.org/2000/svg\" height=\"24px\"viewBox=\"0 0 24 24\"\n",
              "       width=\"24px\">\n",
              "    <path d=\"M0 0h24v24H0V0z\" fill=\"none\"/>\n",
              "    <path d=\"M18.56 5.44l.94 2.06.94-2.06 2.06-.94-2.06-.94-.94-2.06-.94 2.06-2.06.94zm-11 1L8.5 8.5l.94-2.06 2.06-.94-2.06-.94L8.5 2.5l-.94 2.06-2.06.94zm10 10l.94 2.06.94-2.06 2.06-.94-2.06-.94-.94-2.06-.94 2.06-2.06.94z\"/><path d=\"M17.41 7.96l-1.37-1.37c-.4-.4-.92-.59-1.43-.59-.52 0-1.04.2-1.43.59L10.3 9.45l-7.72 7.72c-.78.78-.78 2.05 0 2.83L4 21.41c.39.39.9.59 1.41.59.51 0 1.02-.2 1.41-.59l7.78-7.78 2.81-2.81c.8-.78.8-2.07 0-2.86zM5.41 20L4 18.59l7.72-7.72 1.47 1.35L5.41 20z\"/>\n",
              "  </svg>\n",
              "      </button>\n",
              "      \n",
              "  <style>\n",
              "    .colab-df-container {\n",
              "      display:flex;\n",
              "      flex-wrap:wrap;\n",
              "      gap: 12px;\n",
              "    }\n",
              "\n",
              "    .colab-df-convert {\n",
              "      background-color: #E8F0FE;\n",
              "      border: none;\n",
              "      border-radius: 50%;\n",
              "      cursor: pointer;\n",
              "      display: none;\n",
              "      fill: #1967D2;\n",
              "      height: 32px;\n",
              "      padding: 0 0 0 0;\n",
              "      width: 32px;\n",
              "    }\n",
              "\n",
              "    .colab-df-convert:hover {\n",
              "      background-color: #E2EBFA;\n",
              "      box-shadow: 0px 1px 2px rgba(60, 64, 67, 0.3), 0px 1px 3px 1px rgba(60, 64, 67, 0.15);\n",
              "      fill: #174EA6;\n",
              "    }\n",
              "\n",
              "    [theme=dark] .colab-df-convert {\n",
              "      background-color: #3B4455;\n",
              "      fill: #D2E3FC;\n",
              "    }\n",
              "\n",
              "    [theme=dark] .colab-df-convert:hover {\n",
              "      background-color: #434B5C;\n",
              "      box-shadow: 0px 1px 3px 1px rgba(0, 0, 0, 0.15);\n",
              "      filter: drop-shadow(0px 1px 2px rgba(0, 0, 0, 0.3));\n",
              "      fill: #FFFFFF;\n",
              "    }\n",
              "  </style>\n",
              "\n",
              "      <script>\n",
              "        const buttonEl =\n",
              "          document.querySelector('#df-65435458-e750-4d36-8593-f805ddbbdfab button.colab-df-convert');\n",
              "        buttonEl.style.display =\n",
              "          google.colab.kernel.accessAllowed ? 'block' : 'none';\n",
              "\n",
              "        async function convertToInteractive(key) {\n",
              "          const element = document.querySelector('#df-65435458-e750-4d36-8593-f805ddbbdfab');\n",
              "          const dataTable =\n",
              "            await google.colab.kernel.invokeFunction('convertToInteractive',\n",
              "                                                     [key], {});\n",
              "          if (!dataTable) return;\n",
              "\n",
              "          const docLinkHtml = 'Like what you see? Visit the ' +\n",
              "            '<a target=\"_blank\" href=https://colab.research.google.com/notebooks/data_table.ipynb>data table notebook</a>'\n",
              "            + ' to learn more about interactive tables.';\n",
              "          element.innerHTML = '';\n",
              "          dataTable['output_type'] = 'display_data';\n",
              "          await google.colab.output.renderOutput(dataTable, element);\n",
              "          const docLink = document.createElement('div');\n",
              "          docLink.innerHTML = docLinkHtml;\n",
              "          element.appendChild(docLink);\n",
              "        }\n",
              "      </script>\n",
              "    </div>\n",
              "  </div>\n",
              "  "
            ]
          },
          "metadata": {},
          "execution_count": 19
        }
      ]
    },
    {
      "cell_type": "markdown",
      "source": [
        "## Q6: Please examine the distribution of monthly charges between males and females using box plots. Please explain the results also. "
      ],
      "metadata": {
        "id": "BQlOBZ4T3FtK"
      }
    },
    {
      "cell_type": "code",
      "source": [
        "hfig = plt.figure(figsize =(7, 7))\n",
        "sns.boxplot(x='Gender',y='Monthly Charges', hue=\"Gender\",data=df)"
      ],
      "metadata": {
        "id": "joNsMvQ740AE",
        "colab": {
          "base_uri": "https://localhost:8080/",
          "height": 459
        },
        "outputId": "0b696cda-23e7-4eda-9a71-432d0d6199f0"
      },
      "execution_count": null,
      "outputs": [
        {
          "output_type": "execute_result",
          "data": {
            "text/plain": [
              "<matplotlib.axes._subplots.AxesSubplot at 0x7fdd72de6a90>"
            ]
          },
          "metadata": {},
          "execution_count": 20
        },
        {
          "output_type": "display_data",
          "data": {
            "text/plain": [
              "<Figure size 504x504 with 1 Axes>"
            ],
            "image/png": "[encoded data removed]"
          },
          "metadata": {
            "needs_background": "light"
          }
        }
      ]
    },
    {
      "cell_type": "markdown",
      "source": [
        "**Observations :-**\n",
        "\n",
        "\n",
        "\n",
        "\n",
        "*   By creating 'Box-Plot' ,the distribution of monthly charges between the MAle and Female is almost equal\n",
        "\n",
        "\n",
        "\n",
        "\n",
        "\n",
        "\n"
      ],
      "metadata": {
        "id": "g1F2qQkx3_Ro"
      }
    },
    {
      "cell_type": "markdown",
      "source": [
        "## Q7: Please find what is the minimum total charges for Los Angeles city. Please find which zip code has the maximum total charges."
      ],
      "metadata": {
        "id": "kwb-R-cZ3_IQ"
      }
    },
    {
      "cell_type": "code",
      "source": [
        "#Converting the column \"Total Charges\" datatype from object to float. Because in about Amounts and it should contain numberical values only.\n",
        "# And to perform mathematical calculations it should be in numercial data type(int) only\n",
        "\n",
        "df[\"Total Charges\"] = pd.to_numeric(df[\"Total Charges\"],errors='coerce')\n"
      ],
      "metadata": {
        "id": "jZ-Ru0jJ46pm"
      },
      "execution_count": null,
      "outputs": []
    },
    {
      "cell_type": "code",
      "source": [
        "df.dtypes"
      ],
      "metadata": {
        "colab": {
          "base_uri": "https://localhost:8080/"
        },
        "id": "2T-jsF1s5FcA",
        "outputId": "39f825b6-63df-4653-b410-ea7cc99a9231"
      },
      "execution_count": null,
      "outputs": [
        {
          "output_type": "execute_result",
          "data": {
            "text/plain": [
              "CustomerID            object\n",
              "Count                  int64\n",
              "Country               object\n",
              "State                 object\n",
              "City                  object\n",
              "Zip Code               int64\n",
              "Lat Long              object\n",
              "Latitude             float64\n",
              "Longitude            float64\n",
              "Gender                object\n",
              "Senior Citizen        object\n",
              "Partner               object\n",
              "Dependents            object\n",
              "Tenure Months          int64\n",
              "Phone Service         object\n",
              "Multiple Lines        object\n",
              "Internet Service      object\n",
              "Online Security       object\n",
              "Online Backup         object\n",
              "Device Protection     object\n",
              "Tech Support          object\n",
              "Streaming TV          object\n",
              "Streaming Movies      object\n",
              "Contract              object\n",
              "Paperless Billing     object\n",
              "Payment Method        object\n",
              "Monthly Charges      float64\n",
              "Total Charges        float64\n",
              "Churn Label           object\n",
              "Churn Value            int64\n",
              "Churn Score            int64\n",
              "CLTV                   int64\n",
              "Churn Reason          object\n",
              "dtype: object"
            ]
          },
          "metadata": {},
          "execution_count": 22
        }
      ]
    },
    {
      "cell_type": "markdown",
      "source": [
        "### **So, from  above we can see the \"Total charges\" attribute(column) data type changed to \"float\"**"
      ],
      "metadata": {
        "id": "IZ1ITOhG5fPa"
      }
    },
    {
      "cell_type": "code",
      "source": [
        "#the minimum total charges for Los Angeles city\n",
        "\n",
        "Min_TotalCharges = df[df['City']=='Los Angeles']['Total Charges'].min()\n",
        "\n",
        "print(\"Minimum total charges for Los Angeles city is :-\",Min_TotalCharges)"
      ],
      "metadata": {
        "colab": {
          "base_uri": "https://localhost:8080/"
        },
        "id": "i0-W7jbD7HZl",
        "outputId": "5f87403f-9445-476e-b968-09e3ebf38309"
      },
      "execution_count": null,
      "outputs": [
        {
          "output_type": "stream",
          "name": "stdout",
          "text": [
            "Minimum total charges for Los Angeles city is :- 18.8\n"
          ]
        }
      ]
    },
    {
      "cell_type": "code",
      "source": [
        "a= pd.DataFrame(df.groupby(['Zip Code'])['Total Charges'].sum())\n",
        "\n",
        "print(\"zip code has the maximum total charges\",a.max())\n",
        "\n",
        "a.sort_values(by=['Total Charges'],inplace=True,ascending=False)\n",
        "a[:5]\n"
      ],
      "metadata": {
        "colab": {
          "base_uri": "https://localhost:8080/",
          "height": 272
        },
        "id": "MlEpv1vZ8Xzx",
        "outputId": "501e3509-70e0-4730-8486-7276f590f782"
      },
      "execution_count": null,
      "outputs": [
        {
          "output_type": "stream",
          "name": "stdout",
          "text": [
            "zip code has the maximum total charges Total Charges    30074.1\n",
            "dtype: float64\n"
          ]
        },
        {
          "output_type": "execute_result",
          "data": {
            "text/plain": [
              "          Total Charges\n",
              "Zip Code               \n",
              "90291          30074.10\n",
              "90280          28725.40\n",
              "92107          27879.55\n",
              "91706          27661.80\n",
              "91755          25423.05"
            ],
            "text/html": [
              "\n",
              "  <div id=\"df-08ad94e8-23cb-4729-8b08-9901ba006030\">\n",
              "    <div class=\"colab-df-container\">\n",
              "      <div>\n",
              "<style scoped>\n",
              "    .dataframe tbody tr th:only-of-type {\n",
              "        vertical-align: middle;\n",
              "    }\n",
              "\n",
              "    .dataframe tbody tr th {\n",
              "        vertical-align: top;\n",
              "    }\n",
              "\n",
              "    .dataframe thead th {\n",
              "        text-align: right;\n",
              "    }\n",
              "</style>\n",
              "<table border=\"1\" class=\"dataframe\">\n",
              "  <thead>\n",
              "    <tr style=\"text-align: right;\">\n",
              "      <th></th>\n",
              "      <th>Total Charges</th>\n",
              "    </tr>\n",
              "    <tr>\n",
              "      <th>Zip Code</th>\n",
              "      <th></th>\n",
              "    </tr>\n",
              "  </thead>\n",
              "  <tbody>\n",
              "    <tr>\n",
              "      <th>90291</th>\n",
              "      <td>30074.10</td>\n",
              "    </tr>\n",
              "    <tr>\n",
              "      <th>90280</th>\n",
              "      <td>28725.40</td>\n",
              "    </tr>\n",
              "    <tr>\n",
              "      <th>92107</th>\n",
              "      <td>27879.55</td>\n",
              "    </tr>\n",
              "    <tr>\n",
              "      <th>91706</th>\n",
              "      <td>27661.80</td>\n",
              "    </tr>\n",
              "    <tr>\n",
              "      <th>91755</th>\n",
              "      <td>25423.05</td>\n",
              "    </tr>\n",
              "  </tbody>\n",
              "</table>\n",
              "</div>\n",
              "      <button class=\"colab-df-convert\" onclick=\"convertToInteractive('df-08ad94e8-23cb-4729-8b08-9901ba006030')\"\n",
              "              title=\"Convert this dataframe to an interactive table.\"\n",
              "              style=\"display:none;\">\n",
              "        \n",
              "  <svg xmlns=\"http://www.w3.org/2000/svg\" height=\"24px\"viewBox=\"0 0 24 24\"\n",
              "       width=\"24px\">\n",
              "    <path d=\"M0 0h24v24H0V0z\" fill=\"none\"/>\n",
              "    <path d=\"M18.56 5.44l.94 2.06.94-2.06 2.06-.94-2.06-.94-.94-2.06-.94 2.06-2.06.94zm-11 1L8.5 8.5l.94-2.06 2.06-.94-2.06-.94L8.5 2.5l-.94 2.06-2.06.94zm10 10l.94 2.06.94-2.06 2.06-.94-2.06-.94-.94-2.06-.94 2.06-2.06.94z\"/><path d=\"M17.41 7.96l-1.37-1.37c-.4-.4-.92-.59-1.43-.59-.52 0-1.04.2-1.43.59L10.3 9.45l-7.72 7.72c-.78.78-.78 2.05 0 2.83L4 21.41c.39.39.9.59 1.41.59.51 0 1.02-.2 1.41-.59l7.78-7.78 2.81-2.81c.8-.78.8-2.07 0-2.86zM5.41 20L4 18.59l7.72-7.72 1.47 1.35L5.41 20z\"/>\n",
              "  </svg>\n",
              "      </button>\n",
              "      \n",
              "  <style>\n",
              "    .colab-df-container {\n",
              "      display:flex;\n",
              "      flex-wrap:wrap;\n",
              "      gap: 12px;\n",
              "    }\n",
              "\n",
              "    .colab-df-convert {\n",
              "      background-color: #E8F0FE;\n",
              "      border: none;\n",
              "      border-radius: 50%;\n",
              "      cursor: pointer;\n",
              "      display: none;\n",
              "      fill: #1967D2;\n",
              "      height: 32px;\n",
              "      padding: 0 0 0 0;\n",
              "      width: 32px;\n",
              "    }\n",
              "\n",
              "    .colab-df-convert:hover {\n",
              "      background-color: #E2EBFA;\n",
              "      box-shadow: 0px 1px 2px rgba(60, 64, 67, 0.3), 0px 1px 3px 1px rgba(60, 64, 67, 0.15);\n",
              "      fill: #174EA6;\n",
              "    }\n",
              "\n",
              "    [theme=dark] .colab-df-convert {\n",
              "      background-color: #3B4455;\n",
              "      fill: #D2E3FC;\n",
              "    }\n",
              "\n",
              "    [theme=dark] .colab-df-convert:hover {\n",
              "      background-color: #434B5C;\n",
              "      box-shadow: 0px 1px 3px 1px rgba(0, 0, 0, 0.15);\n",
              "      filter: drop-shadow(0px 1px 2px rgba(0, 0, 0, 0.3));\n",
              "      fill: #FFFFFF;\n",
              "    }\n",
              "  </style>\n",
              "\n",
              "      <script>\n",
              "        const buttonEl =\n",
              "          document.querySelector('#df-08ad94e8-23cb-4729-8b08-9901ba006030 button.colab-df-convert');\n",
              "        buttonEl.style.display =\n",
              "          google.colab.kernel.accessAllowed ? 'block' : 'none';\n",
              "\n",
              "        async function convertToInteractive(key) {\n",
              "          const element = document.querySelector('#df-08ad94e8-23cb-4729-8b08-9901ba006030');\n",
              "          const dataTable =\n",
              "            await google.colab.kernel.invokeFunction('convertToInteractive',\n",
              "                                                     [key], {});\n",
              "          if (!dataTable) return;\n",
              "\n",
              "          const docLinkHtml = 'Like what you see? Visit the ' +\n",
              "            '<a target=\"_blank\" href=https://colab.research.google.com/notebooks/data_table.ipynb>data table notebook</a>'\n",
              "            + ' to learn more about interactive tables.';\n",
              "          element.innerHTML = '';\n",
              "          dataTable['output_type'] = 'display_data';\n",
              "          await google.colab.output.renderOutput(dataTable, element);\n",
              "          const docLink = document.createElement('div');\n",
              "          docLink.innerHTML = docLinkHtml;\n",
              "          element.appendChild(docLink);\n",
              "        }\n",
              "      </script>\n",
              "    </div>\n",
              "  </div>\n",
              "  "
            ]
          },
          "metadata": {},
          "execution_count": 24
        }
      ]
    },
    {
      "cell_type": "markdown",
      "source": [
        "**Observations :-**  \n",
        "\n",
        "With the above result With the Zip code - '90291' having HIghest total charges of 30074.10  . "
      ],
      "metadata": {
        "id": "xJwI1ufjzZ0F"
      }
    },
    {
      "cell_type": "markdown",
      "source": [
        "## Q8: Please find which payment method has the highest churn score and which has the lowest churn score.\n",
        "\n"
      ],
      "metadata": {
        "id": "MzM32Wik4DFM"
      }
    },
    {
      "cell_type": "code",
      "source": [
        "df['Payment Method'].value_counts()"
      ],
      "metadata": {
        "colab": {
          "base_uri": "https://localhost:8080/"
        },
        "id": "-GVW127O6_gf",
        "outputId": "adb438e5-20f2-4e91-9b13-67a812e84112"
      },
      "execution_count": null,
      "outputs": [
        {
          "output_type": "execute_result",
          "data": {
            "text/plain": [
              "Electronic check             2365\n",
              "Mailed check                 1612\n",
              "Bank transfer (automatic)    1544\n",
              "Credit card (automatic)      1522\n",
              "Name: Payment Method, dtype: int64"
            ]
          },
          "metadata": {},
          "execution_count": 25
        }
      ]
    },
    {
      "cell_type": "code",
      "source": [
        "Highest_churn_score= pd.DataFrame(df.groupby(['Payment Method'])['Churn Score'].max())\n",
        "Highest_churn_score"
      ],
      "metadata": {
        "colab": {
          "base_uri": "https://localhost:8080/",
          "height": 206
        },
        "id": "d2vftFngA-P0",
        "outputId": "b499d5b5-0f82-49a7-f45b-979e936313fe"
      },
      "execution_count": null,
      "outputs": [
        {
          "output_type": "execute_result",
          "data": {
            "text/plain": [
              "                           Churn Score\n",
              "Payment Method                        \n",
              "Bank transfer (automatic)          100\n",
              "Credit card (automatic)            100\n",
              "Electronic check                   100\n",
              "Mailed check                       100"
            ],
            "text/html": [
              "\n",
              "  <div id=\"df-6552d9fa-1056-4244-b505-7ca33554d544\">\n",
              "    <div class=\"colab-df-container\">\n",
              "      <div>\n",
              "<style scoped>\n",
              "    .dataframe tbody tr th:only-of-type {\n",
              "        vertical-align: middle;\n",
              "    }\n",
              "\n",
              "    .dataframe tbody tr th {\n",
              "        vertical-align: top;\n",
              "    }\n",
              "\n",
              "    .dataframe thead th {\n",
              "        text-align: right;\n",
              "    }\n",
              "</style>\n",
              "<table border=\"1\" class=\"dataframe\">\n",
              "  <thead>\n",
              "    <tr style=\"text-align: right;\">\n",
              "      <th></th>\n",
              "      <th>Churn Score</th>\n",
              "    </tr>\n",
              "    <tr>\n",
              "      <th>Payment Method</th>\n",
              "      <th></th>\n",
              "    </tr>\n",
              "  </thead>\n",
              "  <tbody>\n",
              "    <tr>\n",
              "      <th>Bank transfer (automatic)</th>\n",
              "      <td>100</td>\n",
              "    </tr>\n",
              "    <tr>\n",
              "      <th>Credit card (automatic)</th>\n",
              "      <td>100</td>\n",
              "    </tr>\n",
              "    <tr>\n",
              "      <th>Electronic check</th>\n",
              "      <td>100</td>\n",
              "    </tr>\n",
              "    <tr>\n",
              "      <th>Mailed check</th>\n",
              "      <td>100</td>\n",
              "    </tr>\n",
              "  </tbody>\n",
              "</table>\n",
              "</div>\n",
              "      <button class=\"colab-df-convert\" onclick=\"convertToInteractive('df-6552d9fa-1056-4244-b505-7ca33554d544')\"\n",
              "              title=\"Convert this dataframe to an interactive table.\"\n",
              "              style=\"display:none;\">\n",
              "        \n",
              "  <svg xmlns=\"http://www.w3.org/2000/svg\" height=\"24px\"viewBox=\"0 0 24 24\"\n",
              "       width=\"24px\">\n",
              "    <path d=\"M0 0h24v24H0V0z\" fill=\"none\"/>\n",
              "    <path d=\"M18.56 5.44l.94 2.06.94-2.06 2.06-.94-2.06-.94-.94-2.06-.94 2.06-2.06.94zm-11 1L8.5 8.5l.94-2.06 2.06-.94-2.06-.94L8.5 2.5l-.94 2.06-2.06.94zm10 10l.94 2.06.94-2.06 2.06-.94-2.06-.94-.94-2.06-.94 2.06-2.06.94z\"/><path d=\"M17.41 7.96l-1.37-1.37c-.4-.4-.92-.59-1.43-.59-.52 0-1.04.2-1.43.59L10.3 9.45l-7.72 7.72c-.78.78-.78 2.05 0 2.83L4 21.41c.39.39.9.59 1.41.59.51 0 1.02-.2 1.41-.59l7.78-7.78 2.81-2.81c.8-.78.8-2.07 0-2.86zM5.41 20L4 18.59l7.72-7.72 1.47 1.35L5.41 20z\"/>\n",
              "  </svg>\n",
              "      </button>\n",
              "      \n",
              "  <style>\n",
              "    .colab-df-container {\n",
              "      display:flex;\n",
              "      flex-wrap:wrap;\n",
              "      gap: 12px;\n",
              "    }\n",
              "\n",
              "    .colab-df-convert {\n",
              "      background-color: #E8F0FE;\n",
              "      border: none;\n",
              "      border-radius: 50%;\n",
              "      cursor: pointer;\n",
              "      display: none;\n",
              "      fill: #1967D2;\n",
              "      height: 32px;\n",
              "      padding: 0 0 0 0;\n",
              "      width: 32px;\n",
              "    }\n",
              "\n",
              "    .colab-df-convert:hover {\n",
              "      background-color: #E2EBFA;\n",
              "      box-shadow: 0px 1px 2px rgba(60, 64, 67, 0.3), 0px 1px 3px 1px rgba(60, 64, 67, 0.15);\n",
              "      fill: #174EA6;\n",
              "    }\n",
              "\n",
              "    [theme=dark] .colab-df-convert {\n",
              "      background-color: #3B4455;\n",
              "      fill: #D2E3FC;\n",
              "    }\n",
              "\n",
              "    [theme=dark] .colab-df-convert:hover {\n",
              "      background-color: #434B5C;\n",
              "      box-shadow: 0px 1px 3px 1px rgba(0, 0, 0, 0.15);\n",
              "      filter: drop-shadow(0px 1px 2px rgba(0, 0, 0, 0.3));\n",
              "      fill: #FFFFFF;\n",
              "    }\n",
              "  </style>\n",
              "\n",
              "      <script>\n",
              "        const buttonEl =\n",
              "          document.querySelector('#df-6552d9fa-1056-4244-b505-7ca33554d544 button.colab-df-convert');\n",
              "        buttonEl.style.display =\n",
              "          google.colab.kernel.accessAllowed ? 'block' : 'none';\n",
              "\n",
              "        async function convertToInteractive(key) {\n",
              "          const element = document.querySelector('#df-6552d9fa-1056-4244-b505-7ca33554d544');\n",
              "          const dataTable =\n",
              "            await google.colab.kernel.invokeFunction('convertToInteractive',\n",
              "                                                     [key], {});\n",
              "          if (!dataTable) return;\n",
              "\n",
              "          const docLinkHtml = 'Like what you see? Visit the ' +\n",
              "            '<a target=\"_blank\" href=https://colab.research.google.com/notebooks/data_table.ipynb>data table notebook</a>'\n",
              "            + ' to learn more about interactive tables.';\n",
              "          element.innerHTML = '';\n",
              "          dataTable['output_type'] = 'display_data';\n",
              "          await google.colab.output.renderOutput(dataTable, element);\n",
              "          const docLink = document.createElement('div');\n",
              "          docLink.innerHTML = docLinkHtml;\n",
              "          element.appendChild(docLink);\n",
              "        }\n",
              "      </script>\n",
              "    </div>\n",
              "  </div>\n",
              "  "
            ]
          },
          "metadata": {},
          "execution_count": 26
        }
      ]
    },
    {
      "cell_type": "markdown",
      "source": [
        "**Observations :-**    \n",
        "\n",
        "\n",
        "*  All the 4 unique payment methods have Highest_churn_score = 100\n",
        "\n",
        "\n",
        "\n",
        "\n",
        "\n",
        "\n"
      ],
      "metadata": {
        "id": "vVAZzlDLyIBX"
      }
    },
    {
      "cell_type": "code",
      "source": [
        "Lowest_churn_score= pd.DataFrame(df.groupby(['Payment Method'])['Churn Score'].min())\n",
        "Lowest_churn_score.sort_values('Churn Score',ascending=True)"
      ],
      "metadata": {
        "colab": {
          "base_uri": "https://localhost:8080/",
          "height": 206
        },
        "id": "Z_ECFXztA7pM",
        "outputId": "9cad0d41-cd87-4690-987f-106699ea408c"
      },
      "execution_count": null,
      "outputs": [
        {
          "output_type": "execute_result",
          "data": {
            "text/plain": [
              "                           Churn Score\n",
              "Payment Method                        \n",
              "Credit card (automatic)              5\n",
              "Electronic check                     7\n",
              "Bank transfer (automatic)            8\n",
              "Mailed check                         9"
            ],
            "text/html": [
              "\n",
              "  <div id=\"df-b3e6bb09-6afa-4693-b7b7-265c61c470e3\">\n",
              "    <div class=\"colab-df-container\">\n",
              "      <div>\n",
              "<style scoped>\n",
              "    .dataframe tbody tr th:only-of-type {\n",
              "        vertical-align: middle;\n",
              "    }\n",
              "\n",
              "    .dataframe tbody tr th {\n",
              "        vertical-align: top;\n",
              "    }\n",
              "\n",
              "    .dataframe thead th {\n",
              "        text-align: right;\n",
              "    }\n",
              "</style>\n",
              "<table border=\"1\" class=\"dataframe\">\n",
              "  <thead>\n",
              "    <tr style=\"text-align: right;\">\n",
              "      <th></th>\n",
              "      <th>Churn Score</th>\n",
              "    </tr>\n",
              "    <tr>\n",
              "      <th>Payment Method</th>\n",
              "      <th></th>\n",
              "    </tr>\n",
              "  </thead>\n",
              "  <tbody>\n",
              "    <tr>\n",
              "      <th>Credit card (automatic)</th>\n",
              "      <td>5</td>\n",
              "    </tr>\n",
              "    <tr>\n",
              "      <th>Electronic check</th>\n",
              "      <td>7</td>\n",
              "    </tr>\n",
              "    <tr>\n",
              "      <th>Bank transfer (automatic)</th>\n",
              "      <td>8</td>\n",
              "    </tr>\n",
              "    <tr>\n",
              "      <th>Mailed check</th>\n",
              "      <td>9</td>\n",
              "    </tr>\n",
              "  </tbody>\n",
              "</table>\n",
              "</div>\n",
              "      <button class=\"colab-df-convert\" onclick=\"convertToInteractive('df-b3e6bb09-6afa-4693-b7b7-265c61c470e3')\"\n",
              "              title=\"Convert this dataframe to an interactive table.\"\n",
              "              style=\"display:none;\">\n",
              "        \n",
              "  <svg xmlns=\"http://www.w3.org/2000/svg\" height=\"24px\"viewBox=\"0 0 24 24\"\n",
              "       width=\"24px\">\n",
              "    <path d=\"M0 0h24v24H0V0z\" fill=\"none\"/>\n",
              "    <path d=\"M18.56 5.44l.94 2.06.94-2.06 2.06-.94-2.06-.94-.94-2.06-.94 2.06-2.06.94zm-11 1L8.5 8.5l.94-2.06 2.06-.94-2.06-.94L8.5 2.5l-.94 2.06-2.06.94zm10 10l.94 2.06.94-2.06 2.06-.94-2.06-.94-.94-2.06-.94 2.06-2.06.94z\"/><path d=\"M17.41 7.96l-1.37-1.37c-.4-.4-.92-.59-1.43-.59-.52 0-1.04.2-1.43.59L10.3 9.45l-7.72 7.72c-.78.78-.78 2.05 0 2.83L4 21.41c.39.39.9.59 1.41.59.51 0 1.02-.2 1.41-.59l7.78-7.78 2.81-2.81c.8-.78.8-2.07 0-2.86zM5.41 20L4 18.59l7.72-7.72 1.47 1.35L5.41 20z\"/>\n",
              "  </svg>\n",
              "      </button>\n",
              "      \n",
              "  <style>\n",
              "    .colab-df-container {\n",
              "      display:flex;\n",
              "      flex-wrap:wrap;\n",
              "      gap: 12px;\n",
              "    }\n",
              "\n",
              "    .colab-df-convert {\n",
              "      background-color: #E8F0FE;\n",
              "      border: none;\n",
              "      border-radius: 50%;\n",
              "      cursor: pointer;\n",
              "      display: none;\n",
              "      fill: #1967D2;\n",
              "      height: 32px;\n",
              "      padding: 0 0 0 0;\n",
              "      width: 32px;\n",
              "    }\n",
              "\n",
              "    .colab-df-convert:hover {\n",
              "      background-color: #E2EBFA;\n",
              "      box-shadow: 0px 1px 2px rgba(60, 64, 67, 0.3), 0px 1px 3px 1px rgba(60, 64, 67, 0.15);\n",
              "      fill: #174EA6;\n",
              "    }\n",
              "\n",
              "    [theme=dark] .colab-df-convert {\n",
              "      background-color: #3B4455;\n",
              "      fill: #D2E3FC;\n",
              "    }\n",
              "\n",
              "    [theme=dark] .colab-df-convert:hover {\n",
              "      background-color: #434B5C;\n",
              "      box-shadow: 0px 1px 3px 1px rgba(0, 0, 0, 0.15);\n",
              "      filter: drop-shadow(0px 1px 2px rgba(0, 0, 0, 0.3));\n",
              "      fill: #FFFFFF;\n",
              "    }\n",
              "  </style>\n",
              "\n",
              "      <script>\n",
              "        const buttonEl =\n",
              "          document.querySelector('#df-b3e6bb09-6afa-4693-b7b7-265c61c470e3 button.colab-df-convert');\n",
              "        buttonEl.style.display =\n",
              "          google.colab.kernel.accessAllowed ? 'block' : 'none';\n",
              "\n",
              "        async function convertToInteractive(key) {\n",
              "          const element = document.querySelector('#df-b3e6bb09-6afa-4693-b7b7-265c61c470e3');\n",
              "          const dataTable =\n",
              "            await google.colab.kernel.invokeFunction('convertToInteractive',\n",
              "                                                     [key], {});\n",
              "          if (!dataTable) return;\n",
              "\n",
              "          const docLinkHtml = 'Like what you see? Visit the ' +\n",
              "            '<a target=\"_blank\" href=https://colab.research.google.com/notebooks/data_table.ipynb>data table notebook</a>'\n",
              "            + ' to learn more about interactive tables.';\n",
              "          element.innerHTML = '';\n",
              "          dataTable['output_type'] = 'display_data';\n",
              "          await google.colab.output.renderOutput(dataTable, element);\n",
              "          const docLink = document.createElement('div');\n",
              "          docLink.innerHTML = docLinkHtml;\n",
              "          element.appendChild(docLink);\n",
              "        }\n",
              "      </script>\n",
              "    </div>\n",
              "  </div>\n",
              "  "
            ]
          },
          "metadata": {},
          "execution_count": 27
        }
      ]
    },
    {
      "cell_type": "markdown",
      "source": [
        "**Observations :-**  \n",
        "\n",
        "\n",
        "\n",
        "\n",
        "\n",
        "*   Credit card (Automatic) payment method has the Lowest_churn_score = 5.\n",
        "\n",
        "\n",
        "\n",
        "\n"
      ],
      "metadata": {
        "id": "Qw79gdpbxeOF"
      }
    },
    {
      "cell_type": "markdown",
      "source": [
        "# Q9: Please create an appropriate plot to check the count of payment methods and explain it.\n",
        "\n"
      ],
      "metadata": {
        "id": "Ceb-Hzrr4C7l"
      }
    },
    {
      "cell_type": "code",
      "source": [
        "hfig = plt.figure(figsize =(10, 7))\n",
        "ax=sns.countplot(x='Payment Method',data=df)\n",
        "for p in ax.patches:\n",
        "   ax.annotate('{:.0f}'.format(p.get_height()), (p.get_x()+0.25, p.get_height()+0.01))\n",
        "plt.show()"
      ],
      "metadata": {
        "colab": {
          "base_uri": "https://localhost:8080/",
          "height": 442
        },
        "id": "KBNn-_8Q4Rui",
        "outputId": "542265d2-ed8a-49a4-eee6-2689ee2bf347"
      },
      "execution_count": null,
      "outputs": [
        {
          "output_type": "display_data",
          "data": {
            "text/plain": [
              "<Figure size 720x504 with 1 Axes>"
            ],
            "image/png": "[encoded data removed]"
          },
          "metadata": {
            "needs_background": "light"
          }
        }
      ]
    },
    {
      "cell_type": "markdown",
      "source": [
        "**Observations:-**   \n",
        "\n",
        "\n",
        "\n",
        "*   From above Count_plot we can understand that 'Electronic check' payment method is adopted by more customers with 2,365 transactions.\n",
        "*   Other than 'Electronic check'-payment method, customers opted other 3(Mailed check, Bank Transfer, CRedit Card) payment methods approximatley equal.\n",
        "\n"
      ],
      "metadata": {
        "id": "6cS0GP4KvvTq"
      }
    },
    {
      "cell_type": "markdown",
      "source": [
        "# Q10: Please create an appropriate plot to see the relationship between monthly charges and total charges."
      ],
      "metadata": {
        "id": "m691Tryh4CmE"
      }
    },
    {
      "cell_type": "code",
      "source": [
        "hfig = plt.figure(figsize =(10, 10))\n",
        "sns.scatterplot(x='Monthly Charges',y='Total Charges',data=df)"
      ],
      "metadata": {
        "id": "a5D2oHjw4z6m",
        "colab": {
          "base_uri": "https://localhost:8080/",
          "height": 623
        },
        "outputId": "7f3e2594-592d-4ae0-f573-5d5c11b76306"
      },
      "execution_count": null,
      "outputs": [
        {
          "output_type": "execute_result",
          "data": {
            "text/plain": [
              "<matplotlib.axes._subplots.AxesSubplot at 0x7fdd72d44050>"
            ]
          },
          "metadata": {},
          "execution_count": 29
        },
        {
          "output_type": "display_data",
          "data": {
            "text/plain": [
              "<Figure size 720x720 with 1 Axes>"
            ],
            "image/png": "[encoded data removed]"
          },
          "metadata": {
            "needs_background": "light"
          }
        }
      ]
    },
    {
      "cell_type": "markdown",
      "source": [
        "Observations :-    \n",
        "\n",
        "\n",
        "\n",
        "*   To describe the relation between 2 variables(\"MOnthly Charges\" and \"Total Charges\"), most suited plot is Scatter plot.\n",
        "*   So, we can see a Positive Co-relation between the 2 variables\n"
      ],
      "metadata": {
        "id": "upD5tjLh1eOt"
      }
    }
  ]
}