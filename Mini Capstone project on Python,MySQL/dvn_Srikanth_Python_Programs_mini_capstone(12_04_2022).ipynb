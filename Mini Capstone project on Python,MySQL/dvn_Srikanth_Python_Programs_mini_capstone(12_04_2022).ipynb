{
  "nbformat": 4,
  "nbformat_minor": 0,
  "metadata": {
    "colab": {
      "name": "dvn_Srikanth_Python_Programs_mini_capstone(12_04_2022).ipynb",
      "provenance": [],
      "collapsed_sections": []
    },
    "kernelspec": {
      "name": "python3",
      "display_name": "Python 3"
    },
    "language_info": {
      "name": "python"
    }
  },
  "cells": [
    {
      "cell_type": "markdown",
      "source": [
        "Q1) Python Program to find the minimum difference of max and min values from all the possibile subsets having 5 elements in it from the main-set"
      ],
      "metadata": {
        "id": "__WMzQH0YIXN"
      }
    },
    {
      "cell_type": "code",
      "execution_count": null,
      "metadata": {
        "colab": {
          "base_uri": "https://localhost:8080/"
        },
        "id": "YRiOM4BRGwyO",
        "outputId": "908113a1-4275-4ec5-c054-d3dc24213ea5"
      },
      "outputs": [
        {
          "output_type": "stream",
          "name": "stdout",
          "text": [
            "[[3, 4, 1, 9, 56], [3, 4, 1, 9, 7], [3, 4, 1, 9, 9], [3, 4, 1, 9, 12], [3, 4, 1, 9, 13], [3, 4, 1, 56, 7], [3, 4, 1, 56, 9], [3, 4, 1, 56, 12], [3, 4, 1, 56, 13], [3, 4, 1, 7, 9], [3, 4, 1, 7, 12], [3, 4, 1, 7, 13], [3, 4, 1, 9, 12], [3, 4, 1, 9, 13], [3, 4, 1, 12, 13], [3, 4, 9, 56, 7], [3, 4, 9, 56, 9], [3, 4, 9, 56, 12], [3, 4, 9, 56, 13], [3, 4, 9, 7, 9], [3, 4, 9, 7, 12], [3, 4, 9, 7, 13], [3, 4, 9, 9, 12], [3, 4, 9, 9, 13], [3, 4, 9, 12, 13], [3, 4, 56, 7, 9], [3, 4, 56, 7, 12], [3, 4, 56, 7, 13], [3, 4, 56, 9, 12], [3, 4, 56, 9, 13], [3, 4, 56, 12, 13], [3, 4, 7, 9, 12], [3, 4, 7, 9, 13], [3, 4, 7, 12, 13], [3, 4, 9, 12, 13], [3, 1, 9, 56, 7], [3, 1, 9, 56, 9], [3, 1, 9, 56, 12], [3, 1, 9, 56, 13], [3, 1, 9, 7, 9], [3, 1, 9, 7, 12], [3, 1, 9, 7, 13], [3, 1, 9, 9, 12], [3, 1, 9, 9, 13], [3, 1, 9, 12, 13], [3, 1, 56, 7, 9], [3, 1, 56, 7, 12], [3, 1, 56, 7, 13], [3, 1, 56, 9, 12], [3, 1, 56, 9, 13], [3, 1, 56, 12, 13], [3, 1, 7, 9, 12], [3, 1, 7, 9, 13], [3, 1, 7, 12, 13], [3, 1, 9, 12, 13], [3, 9, 56, 7, 9], [3, 9, 56, 7, 12], [3, 9, 56, 7, 13], [3, 9, 56, 9, 12], [3, 9, 56, 9, 13], [3, 9, 56, 12, 13], [3, 9, 7, 9, 12], [3, 9, 7, 9, 13], [3, 9, 7, 12, 13], [3, 9, 9, 12, 13], [3, 56, 7, 9, 12], [3, 56, 7, 9, 13], [3, 56, 7, 12, 13], [3, 56, 9, 12, 13], [3, 7, 9, 12, 13], [4, 1, 9, 56, 7], [4, 1, 9, 56, 9], [4, 1, 9, 56, 12], [4, 1, 9, 56, 13], [4, 1, 9, 7, 9], [4, 1, 9, 7, 12], [4, 1, 9, 7, 13], [4, 1, 9, 9, 12], [4, 1, 9, 9, 13], [4, 1, 9, 12, 13], [4, 1, 56, 7, 9], [4, 1, 56, 7, 12], [4, 1, 56, 7, 13], [4, 1, 56, 9, 12], [4, 1, 56, 9, 13], [4, 1, 56, 12, 13], [4, 1, 7, 9, 12], [4, 1, 7, 9, 13], [4, 1, 7, 12, 13], [4, 1, 9, 12, 13], [4, 9, 56, 7, 9], [4, 9, 56, 7, 12], [4, 9, 56, 7, 13], [4, 9, 56, 9, 12], [4, 9, 56, 9, 13], [4, 9, 56, 12, 13], [4, 9, 7, 9, 12], [4, 9, 7, 9, 13], [4, 9, 7, 12, 13], [4, 9, 9, 12, 13], [4, 56, 7, 9, 12], [4, 56, 7, 9, 13], [4, 56, 7, 12, 13], [4, 56, 9, 12, 13], [4, 7, 9, 12, 13], [1, 9, 56, 7, 9], [1, 9, 56, 7, 12], [1, 9, 56, 7, 13], [1, 9, 56, 9, 12], [1, 9, 56, 9, 13], [1, 9, 56, 12, 13], [1, 9, 7, 9, 12], [1, 9, 7, 9, 13], [1, 9, 7, 12, 13], [1, 9, 9, 12, 13], [1, 56, 7, 9, 12], [1, 56, 7, 9, 13], [1, 56, 7, 12, 13], [1, 56, 9, 12, 13], [1, 7, 9, 12, 13], [9, 56, 7, 9, 12], [9, 56, 7, 9, 13], [9, 56, 7, 12, 13], [9, 56, 9, 12, 13], [9, 7, 9, 12, 13], [56, 7, 9, 12, 13]]\n",
            "No.of Combinations as lists from the Main set are = 126\n",
            "[55, 8, 8, 11, 12, 55, 55, 55, 55, 8, 11, 12, 11, 12, 12, 53, 53, 53, 53, 6, 9, 10, 9, 10, 10, 53, 53, 53, 53, 53, 53, 9, 10, 10, 10, 55, 55, 55, 55, 8, 11, 12, 11, 12, 12, 55, 55, 55, 55, 55, 55, 11, 12, 12, 12, 53, 53, 53, 53, 53, 53, 9, 10, 10, 10, 53, 53, 53, 53, 10, 55, 55, 55, 55, 8, 11, 12, 11, 12, 12, 55, 55, 55, 55, 55, 55, 11, 12, 12, 12, 52, 52, 52, 52, 52, 52, 8, 9, 9, 9, 52, 52, 52, 52, 9, 55, 55, 55, 55, 55, 55, 11, 12, 12, 12, 55, 55, 55, 55, 12, 49, 49, 49, 47, 6, 49]\n",
            "The differences count we got are = 126\n",
            "The minimum difference value among all the sub lists is = 6\n"
          ]
        }
      ],
      "source": [
        "def Find_Min_Difference(L,P):\n",
        "  from itertools import combinations  # To create the combination sets from main set I opted this library to take the combinations for iterations\n",
        "  new=[]                              # An empty set was taken to append the combinations as lists from the main set as subsets or sub lists\n",
        "  if len(L)>P:                        # I'm specifying a condition that always Set size is greater than the consdiering sub lists size\n",
        "    for i in combinations(L,P):\n",
        "      a=list(i)\n",
        "      new.append(a)\n",
        "    print(new)\n",
        "    Num_of_lists = len(new)\n",
        "    print(\"No.of Combinations as lists from the Main set are =\",Num_of_lists)\n",
        "    new_subset=[]                     #  An empty set('new_subset') was taken to append the minimum differnce value after some calcualtions as below.\n",
        "    for x in new:                     # (Here, I'm taking all the lists one by one from the varaible 'new' which contains a set of -\n",
        "                                      #  -values as lists where we appended above from the main set to find minimum difference result of all\n",
        "                                       # the lists by taking difference value of min and max element of the subset)\n",
        "      max=x[0]                        # Here, 'max' is a variable which stores maximum value of the sub list \n",
        "      min=x[0]                        # Here, 'min' is a variable which stores minimum value of the sub list\n",
        "      for j in x:                     # Here, I have taken the for loop to take the element individually from a sublist to check and store the values in its prescribed variable.\n",
        "        if j>max:\n",
        "          max=j                       # From here, we will get maximum value of a sub list which is stored for further claculations\n",
        "        if j<min:\n",
        "          min=j                       # From here, we will get minimum value of a sub list which is stored for further claculations\n",
        "        c=max-min                     # \"C\" is a variable to store the difference of max and min values of a subset or sub list\n",
        "      new_subset.append(c)            # Now, after getting the value at \"c\" then we will append all the value to the \"new_subset\" varaiable which was created above.\n",
        "    print(new_subset)\n",
        "    differences_list = len(new_subset)\n",
        "    print(\"The differences count we got are =\", differences_list)\n",
        "    for a in new_subset:              # After finding out all the sub lists difference values, now we have to check which is min of the result set (new_subset)\n",
        "      if a<min:                       # BY giving this condition we can compare each and every value for to get exact, minimum value of the \"new_subset\"\n",
        "        min=a\n",
        "    print(\"The minimum difference value among all the sub lists is =\",min)           # FINALLY WE WILL GET THE MINIMUM VALUE WHICH IS REQUIRED.\n",
        "    \n",
        "Find_Min_Difference([3,4,1,9,56,7,9,12,13],5)"
      ]
    },
    {
      "cell_type": "markdown",
      "source": [
        "Q2) A program based on GoldBach Conjecture theroy to get the sum of prime numbers for an even number"
      ],
      "metadata": {
        "id": "z1h_qyZyr4UL"
      }
    },
    {
      "cell_type": "code",
      "source": [
        "def Goldbach(n):\n",
        "  prime_list=[]\n",
        "  for i in range(1,n+1):\n",
        "    if i>1:\n",
        "        for j in range(2,i):\n",
        "            if i%j==0:\n",
        "                break\n",
        "        else:\n",
        "            prime_list.append(i)\n",
        "  print(prime_list)                                 # Up to here, the number (\"n\") is checked to obtain the prime numbers from the range of the given number(\"n\")\n",
        "  new_list=[]\n",
        "  count=0\n",
        "  for i in range (len(prime_list)):                 # for loop to give the range for selection\n",
        "    for j in range (i,len(prime_list)):             # for loop to take the prime numbers in the list\n",
        "      b=prime_list[i]                               # b variable created to compare the 1st prime value with 2nd pair prime value for addition, to check for the Main number\n",
        "      c=prime_list[j]                               # c variable created to compare the 2nd prime value with 1st pair prime value for addition, to check for the Main number\n",
        "      if b+c==n:\n",
        "        tup=(b,c)                                   # variable created tp store the values from b and c variables\n",
        "        new_list.append(tup)                        # Here, we appending the above variables to the tup variable as \"TUPLE\" \n",
        "        count = count+1                             # To know the count of pairs of prime numbers \n",
        "  print(\"Number of Pairs =\", count)\n",
        "  print(new_list)\n",
        "n=int(input())\n",
        "Goldbach(n)"
      ],
      "metadata": {
        "colab": {
          "base_uri": "https://localhost:8080/"
        },
        "id": "K6EOGW3fr3al",
        "outputId": "b42a5817-bd36-4e12-e312-62d752285e53"
      },
      "execution_count": 1,
      "outputs": [
        {
          "output_type": "stream",
          "name": "stdout",
          "text": [
            "36\n",
            "[2, 3, 5, 7, 11, 13, 17, 19, 23, 29, 31]\n",
            "Number of Pairs = 4\n",
            "[(5, 31), (7, 29), (13, 23), (17, 19)]\n"
          ]
        }
      ]
    },
    {
      "cell_type": "markdown",
      "source": [
        ""
      ],
      "metadata": {
        "id": "hxnv12t4r3O5"
      }
    },
    {
      "cell_type": "markdown",
      "source": [
        "Q3) TO get the Data type of odd item from the list"
      ],
      "metadata": {
        "id": "KHMp781yrgU1"
      }
    },
    {
      "cell_type": "code",
      "source": [
        "def odd_one(L):\n",
        "    intt = []                   # Taken an empty set to store \"Integer\" values from the List\n",
        "    flot = []                   # Taken an empty set to store \"Float\" values from the List\n",
        "    strng = []                  # Taken an empty set to store \"String\" values from the List\n",
        "    boolyn = []                 # Taken an empty set to store \"Boolean\" values from the List\n",
        "    for i in range(0,len(L)):                           # Taken for loop to define the range of \"i\" to take the values from the \"L\" list\n",
        "            if type(L[i]) == int:                           # Given a condition to check the value whether it is the specified data type or not.\n",
        "                intt.append(L[i])                           # If as per the condition the value is the same data type then it has to append to the defined Empty list.\n",
        "            elif type(L[i]) == float:                       # The same above conditions are given for each data type.\n",
        "                flot.append(L[i])\n",
        "            elif type(L[i]) == str:\n",
        "                strng.append(L[i])\n",
        "            elif type(L[i]) == bool:\n",
        "                boolyn.append(L[i])\n",
        "                                                            \n",
        "    if len(intt) == 1:                        # To get the odd one out from the list,this condition is written like, the length of the list should be 1. \n",
        "        return type(intt[0])                  # If the condition satisfies then the odd item data type should return \n",
        "    elif len(flot) == 1:\n",
        "        return type(flot[0])\n",
        "    elif len(strng) == 1:\n",
        "        return type(strng[0])\n",
        "    elif len(boolyn) == 1:\n",
        "        return type(boolyn[0])\n",
        "\n",
        "print(odd_one([12, 1, 9.5, 7]))\n",
        "print(odd_one([5, 7.5, 6.2,1.2]))\n",
        "print(odd_one(['Python', 'R', True, 'Java']))\n",
        "print(odd_one([True,\"start\",False,True]))"
      ],
      "metadata": {
        "colab": {
          "base_uri": "https://localhost:8080/"
        },
        "id": "whfJ5FKvHRpe",
        "outputId": "0829be94-3e4e-484d-8322-fee30b398040"
      },
      "execution_count": null,
      "outputs": [
        {
          "output_type": "stream",
          "name": "stdout",
          "text": [
            "<class 'float'>\n",
            "<class 'int'>\n",
            "<class 'bool'>\n",
            "<class 'str'>\n"
          ]
        }
      ]
    },
    {
      "cell_type": "code",
      "source": [
        ""
      ],
      "metadata": {
        "id": "TSYy0rPCHRes"
      },
      "execution_count": null,
      "outputs": []
    },
    {
      "cell_type": "code",
      "source": [
        ""
      ],
      "metadata": {
        "id": "j5nugN9GHRbq"
      },
      "execution_count": null,
      "outputs": []
    },
    {
      "cell_type": "code",
      "source": [
        ""
      ],
      "metadata": {
        "id": "WBF6JtJdHRZD"
      },
      "execution_count": null,
      "outputs": []
    },
    {
      "cell_type": "code",
      "source": [
        ""
      ],
      "metadata": {
        "id": "KbeUIs_xHRWD"
      },
      "execution_count": null,
      "outputs": []
    },
    {
      "cell_type": "code",
      "source": [
        ""
      ],
      "metadata": {
        "id": "yUMcaTXBHRSK"
      },
      "execution_count": null,
      "outputs": []
    }
  ]
}